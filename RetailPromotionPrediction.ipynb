{
 "cells": [
  {
   "attachments": {},
   "cell_type": "markdown",
   "metadata": {},
   "source": [
    "**Retail Promotion Classification-Prediction Problem**\n",
    "\n",
    "Through this project, we are aiming to use retail sales data to understand how the stores could run a promotional campaign targeting specific customer profiles.\n",
    "\n",
    "This project would allow retail stores, particularly one without a lot of resources dedicated to promotional material, to optimize their promotional campaigns by identifying the most effective customer profiles to target with their marketing efforts. This approach can save retailers significant resources and effort by avoiding a standarized approach to promotions, which can be less effective and less efficient. Instead, stores can target specific customer segments based on their preferences in shopping categories, past purchasing behaviors, and other factors to maximize the effectiveness of their promotions.\n",
    "\n",
    "Data Source: https://www.kaggle.com/datasets/mehmettahiraslan/customer-shopping-dataset"
   ]
  },
  {
   "attachments": {},
   "cell_type": "markdown",
   "metadata": {},
   "source": [
    "***Step 1: Data Cleaning and Preprocessing***"
   ]
  },
  {
   "attachments": {},
   "cell_type": "markdown",
   "metadata": {},
   "source": [
    "Imports"
   ]
  },
  {
   "cell_type": "code",
   "execution_count": 622,
   "metadata": {},
   "outputs": [],
   "source": [
    "import numpy as np\n",
    "import pandas as pd\n",
    "import seaborn as sns\n",
    "import matplotlib.pyplot as plt\n",
    "\n",
    "from sklearn.naive_bayes import GaussianNB\n",
    "\n",
    "from sklearn.model_selection import (\n",
    "    StratifiedKFold,\n",
    "    train_test_split, \n",
    "    cross_val_score,\n",
    ")\n",
    "from sklearn.metrics import (\n",
    "    accuracy_score,\n",
    "    confusion_matrix,\n",
    "    ConfusionMatrixDisplay,\n",
    "    f1_score,\n",
    "    r2_score,\n",
    "    mean_squared_error,\n",
    "    mean_absolute_error,\n",
    ")\n"
   ]
  },
  {
   "cell_type": "code",
   "execution_count": 623,
   "metadata": {},
   "outputs": [
    {
     "data": {
      "text/html": [
       "<div>\n",
       "<style scoped>\n",
       "    .dataframe tbody tr th:only-of-type {\n",
       "        vertical-align: middle;\n",
       "    }\n",
       "\n",
       "    .dataframe tbody tr th {\n",
       "        vertical-align: top;\n",
       "    }\n",
       "\n",
       "    .dataframe thead th {\n",
       "        text-align: right;\n",
       "    }\n",
       "</style>\n",
       "<table border=\"1\" class=\"dataframe\">\n",
       "  <thead>\n",
       "    <tr style=\"text-align: right;\">\n",
       "      <th></th>\n",
       "      <th>gender</th>\n",
       "      <th>age</th>\n",
       "      <th>category</th>\n",
       "      <th>total_price</th>\n",
       "    </tr>\n",
       "  </thead>\n",
       "  <tbody>\n",
       "    <tr>\n",
       "      <th>0</th>\n",
       "      <td>Female</td>\n",
       "      <td>28</td>\n",
       "      <td>Clothing</td>\n",
       "      <td>7502.00</td>\n",
       "    </tr>\n",
       "    <tr>\n",
       "      <th>2</th>\n",
       "      <td>Male</td>\n",
       "      <td>20</td>\n",
       "      <td>Clothing</td>\n",
       "      <td>300.08</td>\n",
       "    </tr>\n",
       "    <tr>\n",
       "      <th>5</th>\n",
       "      <td>Female</td>\n",
       "      <td>28</td>\n",
       "      <td>Clothing</td>\n",
       "      <td>7502.00</td>\n",
       "    </tr>\n",
       "    <tr>\n",
       "      <th>6</th>\n",
       "      <td>Female</td>\n",
       "      <td>49</td>\n",
       "      <td>Cosmetics</td>\n",
       "      <td>40.66</td>\n",
       "    </tr>\n",
       "    <tr>\n",
       "      <th>7</th>\n",
       "      <td>Female</td>\n",
       "      <td>32</td>\n",
       "      <td>Clothing</td>\n",
       "      <td>1200.32</td>\n",
       "    </tr>\n",
       "  </tbody>\n",
       "</table>\n",
       "</div>"
      ],
      "text/plain": [
       "   gender  age   category  total_price\n",
       "0  Female   28   Clothing      7502.00\n",
       "2    Male   20   Clothing       300.08\n",
       "5  Female   28   Clothing      7502.00\n",
       "6  Female   49  Cosmetics        40.66\n",
       "7  Female   32   Clothing      1200.32"
      ]
     },
     "execution_count": 623,
     "metadata": {},
     "output_type": "execute_result"
    }
   ],
   "source": [
    "df = pd.read_csv('customer_shopping_data.csv')\n",
    "# grabbing columns that are useful and dropping all else\n",
    "df.drop(['invoice_no', 'customer_id', 'payment_method', 'invoice_date', 'shopping_mall'], axis=1, inplace=True)\n",
    "\n",
    "# dropping rows we dont care about, like toys\n",
    "df.drop(df[df['category'] == 'Toys'].index, inplace = True)\n",
    "df.drop(df[df['category'] == 'Souvenir'].index, inplace = True)\n",
    "df.drop(df[df['category'] == 'Books'].index, inplace = True)\n",
    "df.drop(df[df['category'] == 'Shoes'].index, inplace = True)\n",
    "\n",
    "# recalculating price column to include totals\n",
    "df['total_price'] = (df['price'] * df['quantity'])\n",
    "df.drop(['quantity', 'price'], axis=1, inplace=True)\n",
    "df.head()"
   ]
  },
  {
   "cell_type": "code",
   "execution_count": 624,
   "metadata": {},
   "outputs": [
    {
     "data": {
      "image/png": "[encoded data removed]",
      "text/plain": [
       "<Figure size 1000x600 with 1 Axes>"
      ]
     },
     "metadata": {},
     "output_type": "display_data"
    }
   ],
   "source": [
    "# plotting some statistics\n",
    "plt.figure(figsize=(10,6))\n",
    "sns.barplot(df,x='gender',y='total_price',hue = 'gender',estimator = sum)\n",
    "plt.ylabel('Total amount spent')\n",
    "plt.title('Total Amount spent by males vs. females ')\n",
    "plt.ticklabel_format(style='plain',axis='y')\n",
    "plt.show()"
   ]
  },
  {
   "cell_type": "code",
   "execution_count": 625,
   "metadata": {},
   "outputs": [
    {
     "data": {
      "image/png": "[encoded data removed]",
      "text/plain": [
       "<Figure size 1000x600 with 1 Axes>"
      ]
     },
     "metadata": {},
     "output_type": "display_data"
    }
   ],
   "source": [
    "plt.figure(figsize=(10,6))\n",
    "sns.barplot(df,x='category',y='total_price',hue = 'gender',estimator = sum)\n",
    "plt.title('Category Wise Shopping')\n",
    "plt.show()"
   ]
  },
  {
   "cell_type": "code",
   "execution_count": 626,
   "metadata": {},
   "outputs": [
    {
     "name": "stdout",
     "output_type": "stream",
     "text": [
      "   gender         category   total_price\n",
      "0  Female         Clothing   3304.846775\n",
      "1  Female        Cosmetics    448.376245\n",
      "2  Female  Food & Beverage     57.396933\n",
      "3  Female       Technology  11630.308621\n",
      "4    Male         Clothing   3306.475999\n",
      "5    Male        Cosmetics    452.312985\n",
      "6    Male  Food & Beverage     57.637718\n",
      "7    Male       Technology  11509.875931\n",
      "\n",
      "    gender         category        age\n",
      "0  Female         Clothing  43.381948\n",
      "1  Female        Cosmetics  43.571665\n",
      "2  Female  Food & Beverage  43.489209\n",
      "3  Female       Technology  43.249581\n",
      "4    Male         Clothing  43.449946\n",
      "5    Male        Cosmetics  43.594160\n",
      "6    Male  Food & Beverage  43.155727\n",
      "7    Male       Technology  43.544417\n"
     ]
    }
   ],
   "source": [
    "# checking average price spent by gender per category\n",
    "avg_price_spent_per=df.groupby(['gender','category'], as_index=False)['total_price'].mean()\n",
    "avg_age_per=df.groupby(['gender','category'], as_index=False)['age'].mean()\n",
    "print(avg_price_spent_per)\n",
    "print(\"\\n\",avg_age_per)"
   ]
  },
  {
   "cell_type": "code",
   "execution_count": 627,
   "metadata": {},
   "outputs": [
    {
     "data": {
      "text/html": [
       "<div>\n",
       "<style scoped>\n",
       "    .dataframe tbody tr th:only-of-type {\n",
       "        vertical-align: middle;\n",
       "    }\n",
       "\n",
       "    .dataframe tbody tr th {\n",
       "        vertical-align: top;\n",
       "    }\n",
       "\n",
       "    .dataframe thead th {\n",
       "        text-align: right;\n",
       "    }\n",
       "</style>\n",
       "<table border=\"1\" class=\"dataframe\">\n",
       "  <thead>\n",
       "    <tr style=\"text-align: right;\">\n",
       "      <th></th>\n",
       "      <th>gender</th>\n",
       "      <th>category</th>\n",
       "      <th>count</th>\n",
       "      <th>mean</th>\n",
       "      <th>std</th>\n",
       "      <th>min</th>\n",
       "      <th>25%</th>\n",
       "      <th>50%</th>\n",
       "      <th>75%</th>\n",
       "      <th>max</th>\n",
       "    </tr>\n",
       "  </thead>\n",
       "  <tbody>\n",
       "    <tr>\n",
       "      <th>0</th>\n",
       "      <td>Female</td>\n",
       "      <td>Clothing</td>\n",
       "      <td>20652.0</td>\n",
       "      <td>3304.846775</td>\n",
       "      <td>2591.805146</td>\n",
       "      <td>300.08</td>\n",
       "      <td>1200.32</td>\n",
       "      <td>2700.72</td>\n",
       "      <td>4801.28</td>\n",
       "      <td>7502.00</td>\n",
       "    </tr>\n",
       "    <tr>\n",
       "      <th>1</th>\n",
       "      <td>Female</td>\n",
       "      <td>Cosmetics</td>\n",
       "      <td>9070.0</td>\n",
       "      <td>448.376245</td>\n",
       "      <td>351.210785</td>\n",
       "      <td>40.66</td>\n",
       "      <td>162.64</td>\n",
       "      <td>365.94</td>\n",
       "      <td>650.56</td>\n",
       "      <td>1016.50</td>\n",
       "    </tr>\n",
       "    <tr>\n",
       "      <th>2</th>\n",
       "      <td>Female</td>\n",
       "      <td>Food &amp; Beverage</td>\n",
       "      <td>8804.0</td>\n",
       "      <td>57.396933</td>\n",
       "      <td>45.211737</td>\n",
       "      <td>5.23</td>\n",
       "      <td>20.92</td>\n",
       "      <td>47.07</td>\n",
       "      <td>83.68</td>\n",
       "      <td>130.75</td>\n",
       "    </tr>\n",
       "    <tr>\n",
       "      <th>3</th>\n",
       "      <td>Female</td>\n",
       "      <td>Technology</td>\n",
       "      <td>2981.0</td>\n",
       "      <td>11630.308621</td>\n",
       "      <td>9126.822685</td>\n",
       "      <td>1050.00</td>\n",
       "      <td>4200.00</td>\n",
       "      <td>9450.00</td>\n",
       "      <td>16800.00</td>\n",
       "      <td>26250.00</td>\n",
       "    </tr>\n",
       "    <tr>\n",
       "      <th>4</th>\n",
       "      <td>Male</td>\n",
       "      <td>Clothing</td>\n",
       "      <td>13835.0</td>\n",
       "      <td>3306.475999</td>\n",
       "      <td>2605.834237</td>\n",
       "      <td>300.08</td>\n",
       "      <td>1200.32</td>\n",
       "      <td>2700.72</td>\n",
       "      <td>4801.28</td>\n",
       "      <td>7502.00</td>\n",
       "    </tr>\n",
       "    <tr>\n",
       "      <th>5</th>\n",
       "      <td>Male</td>\n",
       "      <td>Cosmetics</td>\n",
       "      <td>6027.0</td>\n",
       "      <td>452.312985</td>\n",
       "      <td>352.884728</td>\n",
       "      <td>40.66</td>\n",
       "      <td>162.64</td>\n",
       "      <td>365.94</td>\n",
       "      <td>650.56</td>\n",
       "      <td>1016.50</td>\n",
       "    </tr>\n",
       "    <tr>\n",
       "      <th>6</th>\n",
       "      <td>Male</td>\n",
       "      <td>Food &amp; Beverage</td>\n",
       "      <td>5972.0</td>\n",
       "      <td>57.637718</td>\n",
       "      <td>45.644014</td>\n",
       "      <td>5.23</td>\n",
       "      <td>20.92</td>\n",
       "      <td>47.07</td>\n",
       "      <td>83.68</td>\n",
       "      <td>130.75</td>\n",
       "    </tr>\n",
       "    <tr>\n",
       "      <th>7</th>\n",
       "      <td>Male</td>\n",
       "      <td>Technology</td>\n",
       "      <td>2015.0</td>\n",
       "      <td>11509.875931</td>\n",
       "      <td>8988.335801</td>\n",
       "      <td>1050.00</td>\n",
       "      <td>4200.00</td>\n",
       "      <td>9450.00</td>\n",
       "      <td>16800.00</td>\n",
       "      <td>26250.00</td>\n",
       "    </tr>\n",
       "  </tbody>\n",
       "</table>\n",
       "</div>"
      ],
      "text/plain": [
       "   gender         category    count          mean          std      min   \n",
       "0  Female         Clothing  20652.0   3304.846775  2591.805146   300.08  \\\n",
       "1  Female        Cosmetics   9070.0    448.376245   351.210785    40.66   \n",
       "2  Female  Food & Beverage   8804.0     57.396933    45.211737     5.23   \n",
       "3  Female       Technology   2981.0  11630.308621  9126.822685  1050.00   \n",
       "4    Male         Clothing  13835.0   3306.475999  2605.834237   300.08   \n",
       "5    Male        Cosmetics   6027.0    452.312985   352.884728    40.66   \n",
       "6    Male  Food & Beverage   5972.0     57.637718    45.644014     5.23   \n",
       "7    Male       Technology   2015.0  11509.875931  8988.335801  1050.00   \n",
       "\n",
       "       25%      50%       75%       max  \n",
       "0  1200.32  2700.72   4801.28   7502.00  \n",
       "1   162.64   365.94    650.56   1016.50  \n",
       "2    20.92    47.07     83.68    130.75  \n",
       "3  4200.00  9450.00  16800.00  26250.00  \n",
       "4  1200.32  2700.72   4801.28   7502.00  \n",
       "5   162.64   365.94    650.56   1016.50  \n",
       "6    20.92    47.07     83.68    130.75  \n",
       "7  4200.00  9450.00  16800.00  26250.00  "
      ]
     },
     "execution_count": 627,
     "metadata": {},
     "output_type": "execute_result"
    }
   ],
   "source": [
    "df.groupby(['gender','category'], as_index=False)['total_price'].describe()"
   ]
  },
  {
   "cell_type": "code",
   "execution_count": 628,
   "metadata": {},
   "outputs": [
    {
     "data": {
      "text/html": [
       "<div>\n",
       "<style scoped>\n",
       "    .dataframe tbody tr th:only-of-type {\n",
       "        vertical-align: middle;\n",
       "    }\n",
       "\n",
       "    .dataframe tbody tr th {\n",
       "        vertical-align: top;\n",
       "    }\n",
       "\n",
       "    .dataframe thead th {\n",
       "        text-align: right;\n",
       "    }\n",
       "</style>\n",
       "<table border=\"1\" class=\"dataframe\">\n",
       "  <thead>\n",
       "    <tr style=\"text-align: right;\">\n",
       "      <th></th>\n",
       "      <th>gender</th>\n",
       "      <th>category</th>\n",
       "      <th>count</th>\n",
       "      <th>mean</th>\n",
       "      <th>std</th>\n",
       "      <th>min</th>\n",
       "      <th>25%</th>\n",
       "      <th>50%</th>\n",
       "      <th>75%</th>\n",
       "      <th>max</th>\n",
       "    </tr>\n",
       "  </thead>\n",
       "  <tbody>\n",
       "    <tr>\n",
       "      <th>0</th>\n",
       "      <td>Female</td>\n",
       "      <td>Clothing</td>\n",
       "      <td>20652.0</td>\n",
       "      <td>43.381948</td>\n",
       "      <td>14.979862</td>\n",
       "      <td>18.0</td>\n",
       "      <td>30.0</td>\n",
       "      <td>43.0</td>\n",
       "      <td>56.0</td>\n",
       "      <td>69.0</td>\n",
       "    </tr>\n",
       "    <tr>\n",
       "      <th>1</th>\n",
       "      <td>Female</td>\n",
       "      <td>Cosmetics</td>\n",
       "      <td>9070.0</td>\n",
       "      <td>43.571665</td>\n",
       "      <td>14.966309</td>\n",
       "      <td>18.0</td>\n",
       "      <td>31.0</td>\n",
       "      <td>44.0</td>\n",
       "      <td>56.0</td>\n",
       "      <td>69.0</td>\n",
       "    </tr>\n",
       "    <tr>\n",
       "      <th>2</th>\n",
       "      <td>Female</td>\n",
       "      <td>Food &amp; Beverage</td>\n",
       "      <td>8804.0</td>\n",
       "      <td>43.489209</td>\n",
       "      <td>14.970409</td>\n",
       "      <td>18.0</td>\n",
       "      <td>31.0</td>\n",
       "      <td>43.0</td>\n",
       "      <td>56.0</td>\n",
       "      <td>69.0</td>\n",
       "    </tr>\n",
       "    <tr>\n",
       "      <th>3</th>\n",
       "      <td>Female</td>\n",
       "      <td>Technology</td>\n",
       "      <td>2981.0</td>\n",
       "      <td>43.249581</td>\n",
       "      <td>14.825544</td>\n",
       "      <td>18.0</td>\n",
       "      <td>30.0</td>\n",
       "      <td>43.0</td>\n",
       "      <td>56.0</td>\n",
       "      <td>69.0</td>\n",
       "    </tr>\n",
       "    <tr>\n",
       "      <th>4</th>\n",
       "      <td>Male</td>\n",
       "      <td>Clothing</td>\n",
       "      <td>13835.0</td>\n",
       "      <td>43.449946</td>\n",
       "      <td>15.025515</td>\n",
       "      <td>18.0</td>\n",
       "      <td>30.0</td>\n",
       "      <td>43.0</td>\n",
       "      <td>56.0</td>\n",
       "      <td>69.0</td>\n",
       "    </tr>\n",
       "    <tr>\n",
       "      <th>5</th>\n",
       "      <td>Male</td>\n",
       "      <td>Cosmetics</td>\n",
       "      <td>6027.0</td>\n",
       "      <td>43.594160</td>\n",
       "      <td>14.892899</td>\n",
       "      <td>18.0</td>\n",
       "      <td>31.0</td>\n",
       "      <td>44.0</td>\n",
       "      <td>57.0</td>\n",
       "      <td>69.0</td>\n",
       "    </tr>\n",
       "    <tr>\n",
       "      <th>6</th>\n",
       "      <td>Male</td>\n",
       "      <td>Food &amp; Beverage</td>\n",
       "      <td>5972.0</td>\n",
       "      <td>43.155727</td>\n",
       "      <td>14.996070</td>\n",
       "      <td>18.0</td>\n",
       "      <td>30.0</td>\n",
       "      <td>43.0</td>\n",
       "      <td>56.0</td>\n",
       "      <td>69.0</td>\n",
       "    </tr>\n",
       "    <tr>\n",
       "      <th>7</th>\n",
       "      <td>Male</td>\n",
       "      <td>Technology</td>\n",
       "      <td>2015.0</td>\n",
       "      <td>43.544417</td>\n",
       "      <td>14.851730</td>\n",
       "      <td>18.0</td>\n",
       "      <td>31.0</td>\n",
       "      <td>43.0</td>\n",
       "      <td>56.0</td>\n",
       "      <td>69.0</td>\n",
       "    </tr>\n",
       "  </tbody>\n",
       "</table>\n",
       "</div>"
      ],
      "text/plain": [
       "   gender         category    count       mean        std   min   25%   50%   \n",
       "0  Female         Clothing  20652.0  43.381948  14.979862  18.0  30.0  43.0  \\\n",
       "1  Female        Cosmetics   9070.0  43.571665  14.966309  18.0  31.0  44.0   \n",
       "2  Female  Food & Beverage   8804.0  43.489209  14.970409  18.0  31.0  43.0   \n",
       "3  Female       Technology   2981.0  43.249581  14.825544  18.0  30.0  43.0   \n",
       "4    Male         Clothing  13835.0  43.449946  15.025515  18.0  30.0  43.0   \n",
       "5    Male        Cosmetics   6027.0  43.594160  14.892899  18.0  31.0  44.0   \n",
       "6    Male  Food & Beverage   5972.0  43.155727  14.996070  18.0  30.0  43.0   \n",
       "7    Male       Technology   2015.0  43.544417  14.851730  18.0  31.0  43.0   \n",
       "\n",
       "    75%   max  \n",
       "0  56.0  69.0  \n",
       "1  56.0  69.0  \n",
       "2  56.0  69.0  \n",
       "3  56.0  69.0  \n",
       "4  56.0  69.0  \n",
       "5  57.0  69.0  \n",
       "6  56.0  69.0  \n",
       "7  56.0  69.0  "
      ]
     },
     "execution_count": 628,
     "metadata": {},
     "output_type": "execute_result"
    }
   ],
   "source": [
    "df.groupby(['gender','category'], as_index=False)['age'].describe()"
   ]
  },
  {
   "cell_type": "code",
   "execution_count": 629,
   "metadata": {},
   "outputs": [],
   "source": [
    "# creating the class label\n",
    "# label -> ['maybe', 'no', 'yes']\n",
    "def assignNewLabels(row):\n",
    "    # for book shoppers\n",
    "    if row['category'] == \"Technology\" and row[\"total_price\"] > 16800:\n",
    "        return \"yes\"\n",
    "    elif row['category'] == \"Technology\" and row[\"total_price\"] <= 4200:\n",
    "        return \"no\"\n",
    "    elif row['category'] == \"Technology\" and row[\"total_price\"] > 4200.0 and row[\"total_price\"] <= 16800:\n",
    "        return \"maybe\"\n",
    "    \n",
    "    # for clothing\n",
    "    elif row['category'] == \"Clothing\" and row[\"total_price\"] > 4801.28:\n",
    "        return \"yes\"\n",
    "    elif row['category'] == \"Clothing\" and row[\"total_price\"] <= 1200.32:\n",
    "        return \"no\"\n",
    "    elif row['category'] == \"Clothing\" and row[\"total_price\"] > 1200.32 and row[\"total_price\"] <= 4801.28:\n",
    "        return \"maybe\"\n",
    "    \n",
    "    # for clothing\n",
    "    elif row['category'] == \"Cosmetics\" and row[\"total_price\"] > 650.56:\n",
    "        return \"yes\"\n",
    "    elif row['category'] == \"Cosmetics\" and row[\"total_price\"] <= 162.64:\n",
    "        return \"no\"\n",
    "    elif row['category'] == \"Cosmetics\" and row[\"total_price\"] > 162.64 and row[\"total_price\"] <= 650.56:\n",
    "        return \"maybe\"\n",
    "    \n",
    "    # for clothing\n",
    "    elif row['category'] == \"Food & Beverage\" and row[\"total_price\"] > 83.68:\n",
    "        return \"yes\"\n",
    "    elif row['category'] == \"Food & Beverage\" and row[\"total_price\"] <= 20.92:\n",
    "        return \"no\"\n",
    "    elif row['category'] == \"Food & Beverage\" and row[\"total_price\"] > 20.92 and row[\"total_price\"] <= 83.68:\n",
    "        return \"maybe\""
   ]
  },
  {
   "cell_type": "code",
   "execution_count": 630,
   "metadata": {},
   "outputs": [
    {
     "data": {
      "text/html": [
       "<div>\n",
       "<style scoped>\n",
       "    .dataframe tbody tr th:only-of-type {\n",
       "        vertical-align: middle;\n",
       "    }\n",
       "\n",
       "    .dataframe tbody tr th {\n",
       "        vertical-align: top;\n",
       "    }\n",
       "\n",
       "    .dataframe thead th {\n",
       "        text-align: right;\n",
       "    }\n",
       "</style>\n",
       "<table border=\"1\" class=\"dataframe\">\n",
       "  <thead>\n",
       "    <tr style=\"text-align: right;\">\n",
       "      <th></th>\n",
       "      <th>gender</th>\n",
       "      <th>age</th>\n",
       "      <th>category</th>\n",
       "      <th>total_price</th>\n",
       "      <th>Should_We_Market</th>\n",
       "    </tr>\n",
       "  </thead>\n",
       "  <tbody>\n",
       "    <tr>\n",
       "      <th>0</th>\n",
       "      <td>Female</td>\n",
       "      <td>28</td>\n",
       "      <td>Clothing</td>\n",
       "      <td>7502.00</td>\n",
       "      <td>yes</td>\n",
       "    </tr>\n",
       "    <tr>\n",
       "      <th>2</th>\n",
       "      <td>Male</td>\n",
       "      <td>20</td>\n",
       "      <td>Clothing</td>\n",
       "      <td>300.08</td>\n",
       "      <td>no</td>\n",
       "    </tr>\n",
       "    <tr>\n",
       "      <th>5</th>\n",
       "      <td>Female</td>\n",
       "      <td>28</td>\n",
       "      <td>Clothing</td>\n",
       "      <td>7502.00</td>\n",
       "      <td>yes</td>\n",
       "    </tr>\n",
       "    <tr>\n",
       "      <th>6</th>\n",
       "      <td>Female</td>\n",
       "      <td>49</td>\n",
       "      <td>Cosmetics</td>\n",
       "      <td>40.66</td>\n",
       "      <td>no</td>\n",
       "    </tr>\n",
       "    <tr>\n",
       "      <th>7</th>\n",
       "      <td>Female</td>\n",
       "      <td>32</td>\n",
       "      <td>Clothing</td>\n",
       "      <td>1200.32</td>\n",
       "      <td>no</td>\n",
       "    </tr>\n",
       "  </tbody>\n",
       "</table>\n",
       "</div>"
      ],
      "text/plain": [
       "   gender  age   category  total_price Should_We_Market\n",
       "0  Female   28   Clothing      7502.00              yes\n",
       "2    Male   20   Clothing       300.08               no\n",
       "5  Female   28   Clothing      7502.00              yes\n",
       "6  Female   49  Cosmetics        40.66               no\n",
       "7  Female   32   Clothing      1200.32               no"
      ]
     },
     "execution_count": 630,
     "metadata": {},
     "output_type": "execute_result"
    }
   ],
   "source": [
    "df['Should_We_Market'] = df.apply(lambda row: assignNewLabels(row), axis=1)\n",
    "df.head()"
   ]
  },
  {
   "attachments": {},
   "cell_type": "markdown",
   "metadata": {},
   "source": [
    "Starting the Machine Learning Process "
   ]
  },
  {
   "cell_type": "code",
   "execution_count": 631,
   "metadata": {},
   "outputs": [
    {
     "data": {
      "text/html": [
       "<div>\n",
       "<style scoped>\n",
       "    .dataframe tbody tr th:only-of-type {\n",
       "        vertical-align: middle;\n",
       "    }\n",
       "\n",
       "    .dataframe tbody tr th {\n",
       "        vertical-align: top;\n",
       "    }\n",
       "\n",
       "    .dataframe thead th {\n",
       "        text-align: right;\n",
       "    }\n",
       "</style>\n",
       "<table border=\"1\" class=\"dataframe\">\n",
       "  <thead>\n",
       "    <tr style=\"text-align: right;\">\n",
       "      <th></th>\n",
       "      <th>age</th>\n",
       "      <th>total_price</th>\n",
       "      <th>gender_Female</th>\n",
       "      <th>gender_Male</th>\n",
       "      <th>category_Clothing</th>\n",
       "      <th>category_Cosmetics</th>\n",
       "      <th>category_Food &amp; Beverage</th>\n",
       "      <th>category_Technology</th>\n",
       "    </tr>\n",
       "  </thead>\n",
       "  <tbody>\n",
       "    <tr>\n",
       "      <th>0</th>\n",
       "      <td>28</td>\n",
       "      <td>7502.00</td>\n",
       "      <td>True</td>\n",
       "      <td>False</td>\n",
       "      <td>True</td>\n",
       "      <td>False</td>\n",
       "      <td>False</td>\n",
       "      <td>False</td>\n",
       "    </tr>\n",
       "    <tr>\n",
       "      <th>2</th>\n",
       "      <td>20</td>\n",
       "      <td>300.08</td>\n",
       "      <td>False</td>\n",
       "      <td>True</td>\n",
       "      <td>True</td>\n",
       "      <td>False</td>\n",
       "      <td>False</td>\n",
       "      <td>False</td>\n",
       "    </tr>\n",
       "    <tr>\n",
       "      <th>5</th>\n",
       "      <td>28</td>\n",
       "      <td>7502.00</td>\n",
       "      <td>True</td>\n",
       "      <td>False</td>\n",
       "      <td>True</td>\n",
       "      <td>False</td>\n",
       "      <td>False</td>\n",
       "      <td>False</td>\n",
       "    </tr>\n",
       "    <tr>\n",
       "      <th>6</th>\n",
       "      <td>49</td>\n",
       "      <td>40.66</td>\n",
       "      <td>True</td>\n",
       "      <td>False</td>\n",
       "      <td>False</td>\n",
       "      <td>True</td>\n",
       "      <td>False</td>\n",
       "      <td>False</td>\n",
       "    </tr>\n",
       "    <tr>\n",
       "      <th>7</th>\n",
       "      <td>32</td>\n",
       "      <td>1200.32</td>\n",
       "      <td>True</td>\n",
       "      <td>False</td>\n",
       "      <td>True</td>\n",
       "      <td>False</td>\n",
       "      <td>False</td>\n",
       "      <td>False</td>\n",
       "    </tr>\n",
       "  </tbody>\n",
       "</table>\n",
       "</div>"
      ],
      "text/plain": [
       "   age  total_price  gender_Female  gender_Male  category_Clothing   \n",
       "0   28      7502.00           True        False               True  \\\n",
       "2   20       300.08          False         True               True   \n",
       "5   28      7502.00           True        False               True   \n",
       "6   49        40.66           True        False              False   \n",
       "7   32      1200.32           True        False               True   \n",
       "\n",
       "   category_Cosmetics  category_Food & Beverage  category_Technology  \n",
       "0               False                     False                False  \n",
       "2               False                     False                False  \n",
       "5               False                     False                False  \n",
       "6                True                     False                False  \n",
       "7               False                     False                False  "
      ]
     },
     "execution_count": 631,
     "metadata": {},
     "output_type": "execute_result"
    }
   ],
   "source": [
    "df_dummy = pd.get_dummies(df[['gender', 'category', 'age', 'total_price']])\n",
    "df_dummy.head()\n"
   ]
  },
  {
   "cell_type": "code",
   "execution_count": 646,
   "metadata": {},
   "outputs": [
    {
     "data": {
      "text/html": [
       "<div>\n",
       "<style scoped>\n",
       "    .dataframe tbody tr th:only-of-type {\n",
       "        vertical-align: middle;\n",
       "    }\n",
       "\n",
       "    .dataframe tbody tr th {\n",
       "        vertical-align: top;\n",
       "    }\n",
       "\n",
       "    .dataframe thead th {\n",
       "        text-align: right;\n",
       "    }\n",
       "</style>\n",
       "<table border=\"1\" class=\"dataframe\">\n",
       "  <thead>\n",
       "    <tr style=\"text-align: right;\">\n",
       "      <th></th>\n",
       "      <th>age</th>\n",
       "      <th>total_price</th>\n",
       "      <th>gender_Female</th>\n",
       "      <th>gender_Male</th>\n",
       "      <th>category_Clothing</th>\n",
       "      <th>category_Cosmetics</th>\n",
       "      <th>category_Food &amp; Beverage</th>\n",
       "      <th>category_Technology</th>\n",
       "    </tr>\n",
       "  </thead>\n",
       "  <tbody>\n",
       "    <tr>\n",
       "      <th>0</th>\n",
       "      <td>28</td>\n",
       "      <td>7502.00</td>\n",
       "      <td>True</td>\n",
       "      <td>False</td>\n",
       "      <td>True</td>\n",
       "      <td>False</td>\n",
       "      <td>False</td>\n",
       "      <td>False</td>\n",
       "    </tr>\n",
       "    <tr>\n",
       "      <th>2</th>\n",
       "      <td>20</td>\n",
       "      <td>300.08</td>\n",
       "      <td>False</td>\n",
       "      <td>True</td>\n",
       "      <td>True</td>\n",
       "      <td>False</td>\n",
       "      <td>False</td>\n",
       "      <td>False</td>\n",
       "    </tr>\n",
       "    <tr>\n",
       "      <th>5</th>\n",
       "      <td>28</td>\n",
       "      <td>7502.00</td>\n",
       "      <td>True</td>\n",
       "      <td>False</td>\n",
       "      <td>True</td>\n",
       "      <td>False</td>\n",
       "      <td>False</td>\n",
       "      <td>False</td>\n",
       "    </tr>\n",
       "    <tr>\n",
       "      <th>6</th>\n",
       "      <td>49</td>\n",
       "      <td>40.66</td>\n",
       "      <td>True</td>\n",
       "      <td>False</td>\n",
       "      <td>False</td>\n",
       "      <td>True</td>\n",
       "      <td>False</td>\n",
       "      <td>False</td>\n",
       "    </tr>\n",
       "    <tr>\n",
       "      <th>7</th>\n",
       "      <td>32</td>\n",
       "      <td>1200.32</td>\n",
       "      <td>True</td>\n",
       "      <td>False</td>\n",
       "      <td>True</td>\n",
       "      <td>False</td>\n",
       "      <td>False</td>\n",
       "      <td>False</td>\n",
       "    </tr>\n",
       "  </tbody>\n",
       "</table>\n",
       "</div>"
      ],
      "text/plain": [
       "   age  total_price  gender_Female  gender_Male  category_Clothing   \n",
       "0   28      7502.00           True        False               True  \\\n",
       "2   20       300.08          False         True               True   \n",
       "5   28      7502.00           True        False               True   \n",
       "6   49        40.66           True        False              False   \n",
       "7   32      1200.32           True        False               True   \n",
       "\n",
       "   category_Cosmetics  category_Food & Beverage  category_Technology  \n",
       "0               False                     False                False  \n",
       "2               False                     False                False  \n",
       "5               False                     False                False  \n",
       "6                True                     False                False  \n",
       "7               False                     False                False  "
      ]
     },
     "execution_count": 646,
     "metadata": {},
     "output_type": "execute_result"
    }
   ],
   "source": [
    "df_dummy.head()"
   ]
  },
  {
   "cell_type": "code",
   "execution_count": 634,
   "metadata": {},
   "outputs": [
    {
     "name": "stdout",
     "output_type": "stream",
     "text": [
      "(69356, 8) (69356,)\n"
     ]
    }
   ],
   "source": [
    "X = df_dummy\n",
    "#y = mlb.fit_transform(df.Should_We_Market)\n",
    "y = df.Should_We_Market\n",
    "\n",
    "print(X.shape, y.shape)\n",
    "X_train, X_test, y_train, y_test = train_test_split(\n",
    "    X, y, test_size=0.25, random_state=125\n",
    ")"
   ]
  },
  {
   "cell_type": "code",
   "execution_count": 635,
   "metadata": {},
   "outputs": [
    {
     "name": "stdout",
     "output_type": "stream",
     "text": [
      "Accuracy: 0.6015341138473961\n",
      "F1 Score: 0.6578611995943382\n"
     ]
    },
    {
     "data": {
      "image/png": "[encoded data removed]",
      "text/plain": [
       "<Figure size 640x480 with 2 Axes>"
      ]
     },
     "metadata": {},
     "output_type": "display_data"
    }
   ],
   "source": [
    "# Build a Gaussian Classifier\n",
    "model = GaussianNB()\n",
    "\n",
    "# Model training\n",
    "model.fit(X_train, y_train)\n",
    "\n",
    "y_pred = model.predict(X_test)\n",
    "accuracy = accuracy_score(y_pred, y_test)\n",
    "f1 = f1_score(y_pred, y_test, average=\"weighted\")\n",
    "\n",
    "print(\"Accuracy:\", accuracy)\n",
    "print(\"F1 Score:\", f1)\n",
    "\n",
    "\n",
    "cm = confusion_matrix(y_test, y_pred, labels=[\"maybe\", \"no\", \"yes\"])\n",
    "disp = ConfusionMatrixDisplay(confusion_matrix=cm, display_labels=[\"maybe\", \"no\", \"yes\"])\n",
    "disp.plot();\n",
    "\n",
    "# interpret results in writeup using https://www.v7labs.com/blog/confusion-matrix-guide"
   ]
  },
  {
   "cell_type": "code",
   "execution_count": 636,
   "metadata": {},
   "outputs": [],
   "source": [
    "#%pip install imbalanced-learn\n",
    "import imblearn\n",
    "from collections import Counter\n",
    "from numpy import *\n",
    "import matplotlib.pyplot as plt"
   ]
  },
  {
   "cell_type": "code",
   "execution_count": 637,
   "metadata": {},
   "outputs": [
    {
     "name": "stdout",
     "output_type": "stream",
     "text": [
      "Counter({'maybe': 27724, 'no': 27647, 'yes': 13985})\n"
     ]
    }
   ],
   "source": [
    "counter = Counter(y)\n",
    "print(counter)"
   ]
  },
  {
   "attachments": {},
   "cell_type": "markdown",
   "metadata": {},
   "source": [
    "We can see that accuracy is low, however, yes is the minoirty class which could be causing us to have misaligned weights in the model. \n",
    "We will try fixing this using random oversampling techiques. "
   ]
  },
  {
   "cell_type": "code",
   "execution_count": 638,
   "metadata": {},
   "outputs": [],
   "source": [
    "from sklearn.utils import resample\n",
    "\n",
    "# Separate samples by class label\n",
    "class_labels = df['Should_We_Market'].unique()\n",
    "class_data = {}\n",
    "for label in class_labels:\n",
    "    class_data[label] = df[df['Should_We_Market'] == label]\n",
    "\n",
    "# Determine the class with the most samples\n",
    "majority_class = max(class_labels, key=lambda x: len(class_data[x]))\n",
    "\n",
    "# Oversample the minority class to match the number of samples in the majority class\n",
    "oversampled_data = []\n",
    "for label in class_labels:\n",
    "    if label != majority_class:\n",
    "        oversampled_data.append(resample(class_data[label], replace=True, n_samples=len(class_data[majority_class])))\n",
    "\n",
    "# Combine the oversampled data\n",
    "oversampled_df = pd.concat([class_data[majority_class]] + oversampled_data)"
   ]
  },
  {
   "cell_type": "code",
   "execution_count": 639,
   "metadata": {},
   "outputs": [
    {
     "name": "stdout",
     "output_type": "stream",
     "text": [
      "Counter({'maybe': 27724, 'yes': 27724, 'no': 27724})\n"
     ]
    }
   ],
   "source": [
    "oversampled_df.head()\n",
    "counter = Counter(oversampled_df[\"Should_We_Market\"])\n",
    "print(counter)"
   ]
  },
  {
   "cell_type": "code",
   "execution_count": 640,
   "metadata": {},
   "outputs": [
    {
     "data": {
      "text/html": [
       "<div>\n",
       "<style scoped>\n",
       "    .dataframe tbody tr th:only-of-type {\n",
       "        vertical-align: middle;\n",
       "    }\n",
       "\n",
       "    .dataframe tbody tr th {\n",
       "        vertical-align: top;\n",
       "    }\n",
       "\n",
       "    .dataframe thead th {\n",
       "        text-align: right;\n",
       "    }\n",
       "</style>\n",
       "<table border=\"1\" class=\"dataframe\">\n",
       "  <thead>\n",
       "    <tr style=\"text-align: right;\">\n",
       "      <th></th>\n",
       "      <th>age</th>\n",
       "      <th>total_price</th>\n",
       "      <th>gender_Female</th>\n",
       "      <th>gender_Male</th>\n",
       "      <th>category_Clothing</th>\n",
       "      <th>category_Cosmetics</th>\n",
       "      <th>category_Food &amp; Beverage</th>\n",
       "      <th>category_Technology</th>\n",
       "    </tr>\n",
       "  </thead>\n",
       "  <tbody>\n",
       "    <tr>\n",
       "      <th>8</th>\n",
       "      <td>69</td>\n",
       "      <td>2700.72</td>\n",
       "      <td>False</td>\n",
       "      <td>True</td>\n",
       "      <td>True</td>\n",
       "      <td>False</td>\n",
       "      <td>False</td>\n",
       "      <td>False</td>\n",
       "    </tr>\n",
       "    <tr>\n",
       "      <th>17</th>\n",
       "      <td>42</td>\n",
       "      <td>47.07</td>\n",
       "      <td>True</td>\n",
       "      <td>False</td>\n",
       "      <td>False</td>\n",
       "      <td>False</td>\n",
       "      <td>True</td>\n",
       "      <td>False</td>\n",
       "    </tr>\n",
       "    <tr>\n",
       "      <th>29</th>\n",
       "      <td>29</td>\n",
       "      <td>365.94</td>\n",
       "      <td>False</td>\n",
       "      <td>True</td>\n",
       "      <td>False</td>\n",
       "      <td>True</td>\n",
       "      <td>False</td>\n",
       "      <td>False</td>\n",
       "    </tr>\n",
       "    <tr>\n",
       "      <th>33</th>\n",
       "      <td>51</td>\n",
       "      <td>4801.28</td>\n",
       "      <td>False</td>\n",
       "      <td>True</td>\n",
       "      <td>True</td>\n",
       "      <td>False</td>\n",
       "      <td>False</td>\n",
       "      <td>False</td>\n",
       "    </tr>\n",
       "    <tr>\n",
       "      <th>40</th>\n",
       "      <td>49</td>\n",
       "      <td>47.07</td>\n",
       "      <td>True</td>\n",
       "      <td>False</td>\n",
       "      <td>False</td>\n",
       "      <td>False</td>\n",
       "      <td>True</td>\n",
       "      <td>False</td>\n",
       "    </tr>\n",
       "  </tbody>\n",
       "</table>\n",
       "</div>"
      ],
      "text/plain": [
       "    age  total_price  gender_Female  gender_Male  category_Clothing   \n",
       "8    69      2700.72          False         True               True  \\\n",
       "17   42        47.07           True        False              False   \n",
       "29   29       365.94          False         True              False   \n",
       "33   51      4801.28          False         True               True   \n",
       "40   49        47.07           True        False              False   \n",
       "\n",
       "    category_Cosmetics  category_Food & Beverage  category_Technology  \n",
       "8                False                     False                False  \n",
       "17               False                      True                False  \n",
       "29                True                     False                False  \n",
       "33               False                     False                False  \n",
       "40               False                      True                False  "
      ]
     },
     "execution_count": 640,
     "metadata": {},
     "output_type": "execute_result"
    }
   ],
   "source": [
    "over_df_dummy = pd.get_dummies(oversampled_df[['gender', 'category', 'age', 'total_price']])\n",
    "over_df_dummy.head()\n"
   ]
  },
  {
   "cell_type": "code",
   "execution_count": 641,
   "metadata": {},
   "outputs": [
    {
     "name": "stdout",
     "output_type": "stream",
     "text": [
      "(83172, 8) (83172,)\n"
     ]
    }
   ],
   "source": [
    "X = over_df_dummy\n",
    "#y = mlb.fit_transform(df.Should_We_Market)\n",
    "y = oversampled_df.Should_We_Market\n",
    "\n",
    "print(X.shape, y.shape)\n",
    "X_train, X_test, y_train, y_test = train_test_split(\n",
    "    X, y, test_size=0.25, random_state=125\n",
    ")"
   ]
  },
  {
   "cell_type": "code",
   "execution_count": 642,
   "metadata": {},
   "outputs": [
    {
     "name": "stdout",
     "output_type": "stream",
     "text": [
      "Accuracy: 0.6733997018227288\n",
      "F1 Score: 0.6757882008181127\n"
     ]
    },
    {
     "data": {
      "image/png": "[encoded data removed]",
      "text/plain": [
       "<Figure size 640x480 with 2 Axes>"
      ]
     },
     "metadata": {},
     "output_type": "display_data"
    }
   ],
   "source": [
    "# Build a Gaussian Classifier\n",
    "model = GaussianNB()\n",
    "\n",
    "# Model training\n",
    "model.fit(X_train, y_train)\n",
    "\n",
    "y_pred = model.predict(X_test)\n",
    "accuracy = accuracy_score(y_pred, y_test)\n",
    "f1 = f1_score(y_pred, y_test, average=\"weighted\")\n",
    "\n",
    "print(\"Accuracy:\", accuracy)\n",
    "print(\"F1 Score:\", f1)\n",
    "\n",
    "\n",
    "cm = confusion_matrix(y_test, y_pred, labels=[\"maybe\", \"no\", \"yes\"])\n",
    "disp = ConfusionMatrixDisplay(confusion_matrix=cm, display_labels=[\"maybe\", \"no\", \"yes\"])\n",
    "disp.plot();\n",
    "\n",
    "# interpret results in writeup using https://www.v7labs.com/blog/confusion-matrix-guide"
   ]
  },
  {
   "attachments": {},
   "cell_type": "markdown",
   "metadata": {},
   "source": [
    "Accuracy went up by 6%! However, we want to fintune this a bit more. Let's run a random forest classifier to determine how important certain features are, and get rid of unimportant ones."
   ]
  },
  {
   "cell_type": "code",
   "execution_count": 643,
   "metadata": {},
   "outputs": [
    {
     "name": "stdout",
     "output_type": "stream",
     "text": [
      "Feature ranking:\n",
      "1. Feature total_price (0.9172738682068327)\n",
      "2. Feature category_Clothing (0.036898587989389796)\n",
      "3. Feature category_Technology (0.015477197408232918)\n",
      "4. Feature category_Cosmetics (0.014927651022876487)\n",
      "5. Feature category_Food & Beverage (0.01294925043943787)\n",
      "6. Feature age (0.0022888916727694456)\n",
      "7. Feature gender_Female (0.00010497477089891876)\n",
      "8. Feature gender_Male (7.957848956179556e-05)\n"
     ]
    }
   ],
   "source": [
    "from sklearn.ensemble import RandomForestClassifier\n",
    "from sklearn.model_selection import train_test_split\n",
    "\n",
    "X = over_df_dummy\n",
    "y = oversampled_df.Should_We_Market\n",
    "X_train, X_test, y_train, y_test = train_test_split(X, y, test_size=0.2, random_state=42)\n",
    "\n",
    "# Create a Random Forest classifier\n",
    "rf_classifier = RandomForestClassifier()\n",
    "\n",
    "rf_classifier.fit(X_train, y_train)\n",
    "\n",
    "# Get feature importances\n",
    "importances = rf_classifier.feature_importances_\n",
    "\n",
    "# Sort feature importances in descending order\n",
    "indices = importances.argsort()[::-1]\n",
    "print(\"Feature ranking:\")\n",
    "for f in range(X.shape[1]):\n",
    "    print(f\"{f + 1}. Feature {X.columns[indices[f]]} ({importances[indices[f]]})\")"
   ]
  },
  {
   "attachments": {},
   "cell_type": "markdown",
   "metadata": {},
   "source": [
    "Looks like Age and Gender don't do much for our model, lets retry without these features! (Still oversampling our original dataset)"
   ]
  },
  {
   "cell_type": "code",
   "execution_count": 644,
   "metadata": {},
   "outputs": [
    {
     "name": "stdout",
     "output_type": "stream",
     "text": [
      "(83172, 5) (83172,)\n"
     ]
    }
   ],
   "source": [
    "over_df_dummy = pd.get_dummies(oversampled_df[['total_price', 'category']])\n",
    "\n",
    "X = over_df_dummy\n",
    "#y = mlb.fit_transform(df.Should_We_Market)\n",
    "y = oversampled_df.Should_We_Market\n",
    "\n",
    "print(X.shape, y.shape)\n",
    "X_train, X_test, y_train, y_test = train_test_split(\n",
    "    X, y, test_size=0.25, random_state=125\n",
    ")"
   ]
  },
  {
   "cell_type": "code",
   "execution_count": 645,
   "metadata": {},
   "outputs": [
    {
     "name": "stdout",
     "output_type": "stream",
     "text": [
      "Accuracy: 0.6733997018227288\n",
      "F1 Score: 0.6757882008181127\n"
     ]
    },
    {
     "data": {
      "image/png": "[encoded data removed]",
      "text/plain": [
       "<Figure size 640x480 with 2 Axes>"
      ]
     },
     "metadata": {},
     "output_type": "display_data"
    }
   ],
   "source": [
    "# Build a Gaussian Classifier\n",
    "model = GaussianNB()\n",
    "\n",
    "# Model training\n",
    "model.fit(X_train, y_train)\n",
    "\n",
    "y_pred = model.predict(X_test)\n",
    "accuracy = accuracy_score(y_pred, y_test)\n",
    "f1 = f1_score(y_pred, y_test, average=\"weighted\")\n",
    "\n",
    "print(\"Accuracy:\", accuracy)\n",
    "print(\"F1 Score:\", f1)\n",
    "\n",
    "cm = confusion_matrix(y_test, y_pred, labels=[\"maybe\", \"no\", \"yes\"])\n",
    "disp = ConfusionMatrixDisplay(confusion_matrix=cm, display_labels=[\"maybe\", \"no\", \"yes\"])\n",
    "disp.plot();\n",
    "\n",
    "# interpret results in writeup using https://www.v7labs.com/blog/confusion-matrix-guide"
   ]
  },
  {
   "attachments": {},
   "cell_type": "markdown",
   "metadata": {},
   "source": [
    "Hmmm, seems like the age and gender features really did not matter in the long run. Lets try another classification technique instead!"
   ]
  },
  {
   "attachments": {},
   "cell_type": "markdown",
   "metadata": {},
   "source": [
    "Nueral Networks:"
   ]
  }
 ],
 "metadata": {
  "kernelspec": {
   "display_name": "Python 3",
   "language": "python",
   "name": "python3"
  },
  "language_info": {
   "codemirror_mode": {
    "name": "ipython",
    "version": 3
   },
   "file_extension": ".py",
   "mimetype": "text/x-python",
   "name": "python",
   "nbconvert_exporter": "python",
   "pygments_lexer": "ipython3",
   "version": "3.10.8"
  },
  "orig_nbformat": 4
 },
 "nbformat": 4,
 "nbformat_minor": 2
}
