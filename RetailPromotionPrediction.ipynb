{
 "cells": [
  {
   "attachments": {},
   "cell_type": "markdown",
   "metadata": {},
   "source": [
    "# Retail Promotion Classification-Prediction Problem\n",
    "## Vasundhara Bagchi, Elizabeth Slesarev, and Paul Beltran \n",
    "\n",
    "Through this project, we are aiming to use retail sales data to understand how the stores could run a promotional campaign targeting customers who spend a lot of money in a certain category. \n",
    "\n",
    "This project would allow retail stores, particularly one without a lot of resources dedicated to promotional material, to optimize their promotional campaigns by identifying the most effective customer profiles to target with their marketing efforts. This approach can save retailers significant resources and effort by avoiding a standarized approach to promotions, which can be less effective and less efficient. Instead, stores can target specific customer segments based on their preferences in shopping categories, past purchasing behaviors, and other factors to maximize the effectiveness of their promotions.\n",
    "\n",
    "This particular dataset contains data from various age groups and genders several categories from 10 shopping malls in Instanbul, Turkey. \n",
    "\n",
    "Data Source: https://www.kaggle.com/datasets/mehmettahiraslan/customer-shopping-dataset"
   ]
  },
  {
   "attachments": {},
   "cell_type": "markdown",
   "metadata": {},
   "source": [
    "### Step 1: Data Cleaning and Preprocessing"
   ]
  },
  {
   "attachments": {},
   "cell_type": "markdown",
   "metadata": {},
   "source": [
    "Imports"
   ]
  },
  {
   "cell_type": "code",
   "execution_count": 1417,
   "metadata": {},
   "outputs": [],
   "source": [
    "import numpy as np\n",
    "import pandas as pd\n",
    "import seaborn as sns\n",
    "import matplotlib.pyplot as plt\n",
    "\n",
    "from sklearn.naive_bayes import GaussianNB\n",
    "from sklearn.ensemble import RandomForestClassifier\n",
    "\n",
    "from sklearn.model_selection import (\n",
    "    StratifiedKFold,\n",
    "    train_test_split, \n",
    "    cross_val_score,\n",
    "    StratifiedKFold, \n",
    "    KFold\n",
    ")\n",
    "from sklearn.metrics import (\n",
    "    accuracy_score,\n",
    "    confusion_matrix,\n",
    "    ConfusionMatrixDisplay,\n",
    "    f1_score,\n",
    "    r2_score,\n",
    "    mean_squared_error,\n",
    "    mean_absolute_error,\n",
    ")\n"
   ]
  },
  {
   "attachments": {},
   "cell_type": "markdown",
   "metadata": {},
   "source": [
    "### Description of the columns: \n",
    "\n",
    "1. invoice_no: Invoice number. Nominal. A combination of the letter 'I' and a 6-digit integer uniquely assigned to each operation. <br><br>\n",
    "2. customer_id: Customer number. Nominal. A combination of the letter 'C' and a 6-digit integer uniquely assigned to each operation.<br><br>\n",
    "3. gender: String variable of the customer's gender.<br><br>\n",
    "4. age: Positive Integer variable of the customers age.<br><br>\n",
    "5. category: String variable of the category of the purchased product.<br><br>\n",
    "6. quantity: The quantities of each product (item) per transaction. Numeric.<br><br>\n",
    "7. price: Unit price. Numeric. Product price per unit in Turkish Liras (TL).<br><br>\n",
    "8. payment_method: String variable of the payment method (cash, credit card or debit card) used for the transaction.<br><br>\n",
    "9. invoice_date: Invoice date. The day when a transaction was generated.<br><br>\n",
    "10. shopping_mall: String variable of the name of the shopping mall where the transaction was made.<br><br>"
   ]
  },
  {
   "attachments": {},
   "cell_type": "markdown",
   "metadata": {},
   "source": [
    "### Reading in the data "
   ]
  },
  {
   "cell_type": "code",
   "execution_count": 1418,
   "metadata": {},
   "outputs": [],
   "source": [
    "df = pd.read_csv('customer_shopping_data.csv')"
   ]
  },
  {
   "attachments": {},
   "cell_type": "markdown",
   "metadata": {},
   "source": [
    "### Feature Engineering"
   ]
  },
  {
   "attachments": {},
   "cell_type": "markdown",
   "metadata": {},
   "source": [
    "For our purposes, we are not using 'invoice_no', 'customer_id', 'payment_method', 'invoice_date', 'shopping_mall' data attributes, and are therefore dropping \n",
    "it from the dataset. We also want to restrict this demonstration to a couple of the main categories, so we are dropping the other ones, including Toys, Souveniers, Books, Shoes. "
   ]
  },
  {
   "cell_type": "code",
   "execution_count": 1419,
   "metadata": {},
   "outputs": [],
   "source": [
    "# grabbing columns that are useful and dropping all else\n",
    "df.drop(['invoice_no', 'customer_id', 'payment_method', 'invoice_date', 'shopping_mall'], axis=1, inplace=True)\n",
    "\n",
    "# dropping rows we dont care about, like toys\n",
    "df.drop(df[df['category'] == 'Toys'].index, inplace = True)\n",
    "df.drop(df[df['category'] == 'Souvenir'].index, inplace = True)\n",
    "df.drop(df[df['category'] == 'Books'].index, inplace = True)\n",
    "df.drop(df[df['category'] == 'Shoes'].index, inplace = True)\n"
   ]
  },
  {
   "attachments": {},
   "cell_type": "markdown",
   "metadata": {},
   "source": [
    "We notice that there is a price column and a quantity column, but that is not as meaningful as a total price column which will be an useful feature in our problem. We are thus calculating the new feature, **total price**, by multiplying the price and quantity columns. Once we add in this new feature, we drop the price and quantity columns as they do not provide us any new information. "
   ]
  },
  {
   "cell_type": "code",
   "execution_count": 1420,
   "metadata": {},
   "outputs": [
    {
     "data": {
      "text/html": [
       "<div>\n",
       "<style scoped>\n",
       "    .dataframe tbody tr th:only-of-type {\n",
       "        vertical-align: middle;\n",
       "    }\n",
       "\n",
       "    .dataframe tbody tr th {\n",
       "        vertical-align: top;\n",
       "    }\n",
       "\n",
       "    .dataframe thead th {\n",
       "        text-align: right;\n",
       "    }\n",
       "</style>\n",
       "<table border=\"1\" class=\"dataframe\">\n",
       "  <thead>\n",
       "    <tr style=\"text-align: right;\">\n",
       "      <th></th>\n",
       "      <th>gender</th>\n",
       "      <th>age</th>\n",
       "      <th>category</th>\n",
       "      <th>total_price</th>\n",
       "    </tr>\n",
       "  </thead>\n",
       "  <tbody>\n",
       "    <tr>\n",
       "      <th>0</th>\n",
       "      <td>Female</td>\n",
       "      <td>28</td>\n",
       "      <td>Clothing</td>\n",
       "      <td>7502.00</td>\n",
       "    </tr>\n",
       "    <tr>\n",
       "      <th>2</th>\n",
       "      <td>Male</td>\n",
       "      <td>20</td>\n",
       "      <td>Clothing</td>\n",
       "      <td>300.08</td>\n",
       "    </tr>\n",
       "    <tr>\n",
       "      <th>5</th>\n",
       "      <td>Female</td>\n",
       "      <td>28</td>\n",
       "      <td>Clothing</td>\n",
       "      <td>7502.00</td>\n",
       "    </tr>\n",
       "    <tr>\n",
       "      <th>6</th>\n",
       "      <td>Female</td>\n",
       "      <td>49</td>\n",
       "      <td>Cosmetics</td>\n",
       "      <td>40.66</td>\n",
       "    </tr>\n",
       "    <tr>\n",
       "      <th>7</th>\n",
       "      <td>Female</td>\n",
       "      <td>32</td>\n",
       "      <td>Clothing</td>\n",
       "      <td>1200.32</td>\n",
       "    </tr>\n",
       "  </tbody>\n",
       "</table>\n",
       "</div>"
      ],
      "text/plain": [
       "   gender  age   category  total_price\n",
       "0  Female   28   Clothing      7502.00\n",
       "2    Male   20   Clothing       300.08\n",
       "5  Female   28   Clothing      7502.00\n",
       "6  Female   49  Cosmetics        40.66\n",
       "7  Female   32   Clothing      1200.32"
      ]
     },
     "execution_count": 1420,
     "metadata": {},
     "output_type": "execute_result"
    }
   ],
   "source": [
    "# recalculating price column to include totals\n",
    "df['total_price'] = (df['price'] * df['quantity'])\n",
    "df.drop(['quantity', 'price'], axis=1, inplace=True)\n",
    "df.head()"
   ]
  },
  {
   "attachments": {},
   "cell_type": "markdown",
   "metadata": {},
   "source": [
    "### Visualizing the cleaned data "
   ]
  },
  {
   "attachments": {},
   "cell_type": "markdown",
   "metadata": {},
   "source": [
    "One of the first pieces we want to visualize and compare is the total amount of money spent by females vs. men."
   ]
  },
  {
   "cell_type": "code",
   "execution_count": 1421,
   "metadata": {},
   "outputs": [
    {
     "data": {
      "image/png": "[encoded data removed]",
      "text/plain": [
       "<Figure size 1000x600 with 1 Axes>"
      ]
     },
     "metadata": {},
     "output_type": "display_data"
    }
   ],
   "source": [
    "plt.figure(figsize=(10,6))\n",
    "sns.barplot(df,x='gender',y='total_price',hue = 'gender',estimator = sum)\n",
    "plt.ylabel('Total amount spent')\n",
    "plt.title('Total Amount spent by males vs. females ')\n",
    "plt.ticklabel_format(style='plain',axis='y')\n",
    "plt.show()"
   ]
  },
  {
   "attachments": {},
   "cell_type": "markdown",
   "metadata": {},
   "source": [
    "It is evident that the overall total amount of money spent by females is considerably higher. "
   ]
  },
  {
   "attachments": {},
   "cell_type": "markdown",
   "metadata": {},
   "source": [
    "Next, we want to comapare the amount of money spent per category by males vs. females "
   ]
  },
  {
   "cell_type": "code",
   "execution_count": 1422,
   "metadata": {},
   "outputs": [
    {
     "data": {
      "image/png": "[encoded data removed]",
      "text/plain": [
       "<Figure size 1000x600 with 1 Axes>"
      ]
     },
     "metadata": {},
     "output_type": "display_data"
    }
   ],
   "source": [
    "plt.figure(figsize=(10,6))\n",
    "sns.barplot(df,x='category',y='total_price',hue = 'gender',estimator = sum)\n",
    "plt.title('Category Wise Shopping')\n",
    "plt.show()"
   ]
  },
  {
   "cell_type": "code",
   "execution_count": 1423,
   "metadata": {},
   "outputs": [
    {
     "name": "stdout",
     "output_type": "stream",
     "text": [
      "   gender         category   total_price\n",
      "0  Female         Clothing   3304.846775\n",
      "1  Female        Cosmetics    448.376245\n",
      "2  Female  Food & Beverage     57.396933\n",
      "3  Female       Technology  11630.308621\n",
      "4    Male         Clothing   3306.475999\n",
      "5    Male        Cosmetics    452.312985\n",
      "6    Male  Food & Beverage     57.637718\n",
      "7    Male       Technology  11509.875931\n",
      "\n",
      "    gender         category        age\n",
      "0  Female         Clothing  43.381948\n",
      "1  Female        Cosmetics  43.571665\n",
      "2  Female  Food & Beverage  43.489209\n",
      "3  Female       Technology  43.249581\n",
      "4    Male         Clothing  43.449946\n",
      "5    Male        Cosmetics  43.594160\n",
      "6    Male  Food & Beverage  43.155727\n",
      "7    Male       Technology  43.544417\n"
     ]
    }
   ],
   "source": [
    "# checking average price spent by gender per category\n",
    "avg_price_spent_per=df.groupby(['gender','category'], as_index=False)['total_price'].mean()\n",
    "avg_age_per=df.groupby(['gender','category'], as_index=False)['age'].mean()\n",
    "print(avg_price_spent_per)\n",
    "print(\"\\n\",avg_age_per)"
   ]
  },
  {
   "attachments": {},
   "cell_type": "markdown",
   "metadata": {},
   "source": [
    "We quickly find that although there is a lot of difference is total amount spent per category, there is very little difference in when comparing males vs. females within each category. For example, for the Technology category, Males spent an average of 11509.88 Lira wheras females spent 11630.31 Lira and in the Clothing category, males spent an average of 3306.48  Lira whereas females spent an average of 3304.85 Lira. "
   ]
  },
  {
   "attachments": {},
   "cell_type": "markdown",
   "metadata": {},
   "source": [
    "### Creating class labels for our dataset "
   ]
  },
  {
   "attachments": {},
   "cell_type": "markdown",
   "metadata": {},
   "source": [
    "After visualizing and understanding our dataset, we will now be creating class labels for our dataset. We want to have 3 labels - Yes, No, and Maybe which represent if we should market to this person based on their shopping habits - i.e amount of money spent in a particular category. \n",
    "\n",
    "Our cutoffs of creating each of these labels will be based on total cost percentiles per category - \n",
    "\n",
    "\n",
    "1. **Yes** - This person's total cost in a certain category is more than the 75 percentile of total money spent in that certain category, therfore, we will defintely want to market to these people. \n",
    "\n",
    "\n",
    "2. **Maybe** - This person's total cost in a certain category is less than the 75 percentile but more than the 25 percentile of total money spent in that certain category, therfore, we will may want to market to these people, but will want to give higher priority to people who have spent more money. \n",
    "\n",
    "\n",
    "3. **No** -  This person's total cost in a certain category is less than the 25 percentile but more than the median of total money spent in that certain category, therfore, we do not want to market to these people and conserve our resources instead. "
   ]
  },
  {
   "cell_type": "code",
   "execution_count": 1424,
   "metadata": {},
   "outputs": [
    {
     "data": {
      "text/html": [
       "<div>\n",
       "<style scoped>\n",
       "    .dataframe tbody tr th:only-of-type {\n",
       "        vertical-align: middle;\n",
       "    }\n",
       "\n",
       "    .dataframe tbody tr th {\n",
       "        vertical-align: top;\n",
       "    }\n",
       "\n",
       "    .dataframe thead th {\n",
       "        text-align: right;\n",
       "    }\n",
       "</style>\n",
       "<table border=\"1\" class=\"dataframe\">\n",
       "  <thead>\n",
       "    <tr style=\"text-align: right;\">\n",
       "      <th></th>\n",
       "      <th>gender</th>\n",
       "      <th>category</th>\n",
       "      <th>count</th>\n",
       "      <th>mean</th>\n",
       "      <th>std</th>\n",
       "      <th>min</th>\n",
       "      <th>25%</th>\n",
       "      <th>50%</th>\n",
       "      <th>75%</th>\n",
       "      <th>max</th>\n",
       "    </tr>\n",
       "  </thead>\n",
       "  <tbody>\n",
       "    <tr>\n",
       "      <th>0</th>\n",
       "      <td>Female</td>\n",
       "      <td>Clothing</td>\n",
       "      <td>20652.0</td>\n",
       "      <td>3304.846775</td>\n",
       "      <td>2591.805146</td>\n",
       "      <td>300.08</td>\n",
       "      <td>1200.32</td>\n",
       "      <td>2700.72</td>\n",
       "      <td>4801.28</td>\n",
       "      <td>7502.00</td>\n",
       "    </tr>\n",
       "    <tr>\n",
       "      <th>1</th>\n",
       "      <td>Female</td>\n",
       "      <td>Cosmetics</td>\n",
       "      <td>9070.0</td>\n",
       "      <td>448.376245</td>\n",
       "      <td>351.210785</td>\n",
       "      <td>40.66</td>\n",
       "      <td>162.64</td>\n",
       "      <td>365.94</td>\n",
       "      <td>650.56</td>\n",
       "      <td>1016.50</td>\n",
       "    </tr>\n",
       "    <tr>\n",
       "      <th>2</th>\n",
       "      <td>Female</td>\n",
       "      <td>Food &amp; Beverage</td>\n",
       "      <td>8804.0</td>\n",
       "      <td>57.396933</td>\n",
       "      <td>45.211737</td>\n",
       "      <td>5.23</td>\n",
       "      <td>20.92</td>\n",
       "      <td>47.07</td>\n",
       "      <td>83.68</td>\n",
       "      <td>130.75</td>\n",
       "    </tr>\n",
       "    <tr>\n",
       "      <th>3</th>\n",
       "      <td>Female</td>\n",
       "      <td>Technology</td>\n",
       "      <td>2981.0</td>\n",
       "      <td>11630.308621</td>\n",
       "      <td>9126.822685</td>\n",
       "      <td>1050.00</td>\n",
       "      <td>4200.00</td>\n",
       "      <td>9450.00</td>\n",
       "      <td>16800.00</td>\n",
       "      <td>26250.00</td>\n",
       "    </tr>\n",
       "    <tr>\n",
       "      <th>4</th>\n",
       "      <td>Male</td>\n",
       "      <td>Clothing</td>\n",
       "      <td>13835.0</td>\n",
       "      <td>3306.475999</td>\n",
       "      <td>2605.834237</td>\n",
       "      <td>300.08</td>\n",
       "      <td>1200.32</td>\n",
       "      <td>2700.72</td>\n",
       "      <td>4801.28</td>\n",
       "      <td>7502.00</td>\n",
       "    </tr>\n",
       "    <tr>\n",
       "      <th>5</th>\n",
       "      <td>Male</td>\n",
       "      <td>Cosmetics</td>\n",
       "      <td>6027.0</td>\n",
       "      <td>452.312985</td>\n",
       "      <td>352.884728</td>\n",
       "      <td>40.66</td>\n",
       "      <td>162.64</td>\n",
       "      <td>365.94</td>\n",
       "      <td>650.56</td>\n",
       "      <td>1016.50</td>\n",
       "    </tr>\n",
       "    <tr>\n",
       "      <th>6</th>\n",
       "      <td>Male</td>\n",
       "      <td>Food &amp; Beverage</td>\n",
       "      <td>5972.0</td>\n",
       "      <td>57.637718</td>\n",
       "      <td>45.644014</td>\n",
       "      <td>5.23</td>\n",
       "      <td>20.92</td>\n",
       "      <td>47.07</td>\n",
       "      <td>83.68</td>\n",
       "      <td>130.75</td>\n",
       "    </tr>\n",
       "    <tr>\n",
       "      <th>7</th>\n",
       "      <td>Male</td>\n",
       "      <td>Technology</td>\n",
       "      <td>2015.0</td>\n",
       "      <td>11509.875931</td>\n",
       "      <td>8988.335801</td>\n",
       "      <td>1050.00</td>\n",
       "      <td>4200.00</td>\n",
       "      <td>9450.00</td>\n",
       "      <td>16800.00</td>\n",
       "      <td>26250.00</td>\n",
       "    </tr>\n",
       "  </tbody>\n",
       "</table>\n",
       "</div>"
      ],
      "text/plain": [
       "   gender         category    count          mean          std      min   \n",
       "0  Female         Clothing  20652.0   3304.846775  2591.805146   300.08  \\\n",
       "1  Female        Cosmetics   9070.0    448.376245   351.210785    40.66   \n",
       "2  Female  Food & Beverage   8804.0     57.396933    45.211737     5.23   \n",
       "3  Female       Technology   2981.0  11630.308621  9126.822685  1050.00   \n",
       "4    Male         Clothing  13835.0   3306.475999  2605.834237   300.08   \n",
       "5    Male        Cosmetics   6027.0    452.312985   352.884728    40.66   \n",
       "6    Male  Food & Beverage   5972.0     57.637718    45.644014     5.23   \n",
       "7    Male       Technology   2015.0  11509.875931  8988.335801  1050.00   \n",
       "\n",
       "       25%      50%       75%       max  \n",
       "0  1200.32  2700.72   4801.28   7502.00  \n",
       "1   162.64   365.94    650.56   1016.50  \n",
       "2    20.92    47.07     83.68    130.75  \n",
       "3  4200.00  9450.00  16800.00  26250.00  \n",
       "4  1200.32  2700.72   4801.28   7502.00  \n",
       "5   162.64   365.94    650.56   1016.50  \n",
       "6    20.92    47.07     83.68    130.75  \n",
       "7  4200.00  9450.00  16800.00  26250.00  "
      ]
     },
     "execution_count": 1424,
     "metadata": {},
     "output_type": "execute_result"
    }
   ],
   "source": [
    "df.groupby(['gender','category'], as_index=False)['total_price'].describe()"
   ]
  },
  {
   "cell_type": "code",
   "execution_count": 1425,
   "metadata": {},
   "outputs": [
    {
     "data": {
      "text/html": [
       "<div>\n",
       "<style scoped>\n",
       "    .dataframe tbody tr th:only-of-type {\n",
       "        vertical-align: middle;\n",
       "    }\n",
       "\n",
       "    .dataframe tbody tr th {\n",
       "        vertical-align: top;\n",
       "    }\n",
       "\n",
       "    .dataframe thead th {\n",
       "        text-align: right;\n",
       "    }\n",
       "</style>\n",
       "<table border=\"1\" class=\"dataframe\">\n",
       "  <thead>\n",
       "    <tr style=\"text-align: right;\">\n",
       "      <th></th>\n",
       "      <th>gender</th>\n",
       "      <th>category</th>\n",
       "      <th>count</th>\n",
       "      <th>mean</th>\n",
       "      <th>std</th>\n",
       "      <th>min</th>\n",
       "      <th>25%</th>\n",
       "      <th>50%</th>\n",
       "      <th>75%</th>\n",
       "      <th>max</th>\n",
       "    </tr>\n",
       "  </thead>\n",
       "  <tbody>\n",
       "    <tr>\n",
       "      <th>0</th>\n",
       "      <td>Female</td>\n",
       "      <td>Clothing</td>\n",
       "      <td>20652.0</td>\n",
       "      <td>43.381948</td>\n",
       "      <td>14.979862</td>\n",
       "      <td>18.0</td>\n",
       "      <td>30.0</td>\n",
       "      <td>43.0</td>\n",
       "      <td>56.0</td>\n",
       "      <td>69.0</td>\n",
       "    </tr>\n",
       "    <tr>\n",
       "      <th>1</th>\n",
       "      <td>Female</td>\n",
       "      <td>Cosmetics</td>\n",
       "      <td>9070.0</td>\n",
       "      <td>43.571665</td>\n",
       "      <td>14.966309</td>\n",
       "      <td>18.0</td>\n",
       "      <td>31.0</td>\n",
       "      <td>44.0</td>\n",
       "      <td>56.0</td>\n",
       "      <td>69.0</td>\n",
       "    </tr>\n",
       "    <tr>\n",
       "      <th>2</th>\n",
       "      <td>Female</td>\n",
       "      <td>Food &amp; Beverage</td>\n",
       "      <td>8804.0</td>\n",
       "      <td>43.489209</td>\n",
       "      <td>14.970409</td>\n",
       "      <td>18.0</td>\n",
       "      <td>31.0</td>\n",
       "      <td>43.0</td>\n",
       "      <td>56.0</td>\n",
       "      <td>69.0</td>\n",
       "    </tr>\n",
       "    <tr>\n",
       "      <th>3</th>\n",
       "      <td>Female</td>\n",
       "      <td>Technology</td>\n",
       "      <td>2981.0</td>\n",
       "      <td>43.249581</td>\n",
       "      <td>14.825544</td>\n",
       "      <td>18.0</td>\n",
       "      <td>30.0</td>\n",
       "      <td>43.0</td>\n",
       "      <td>56.0</td>\n",
       "      <td>69.0</td>\n",
       "    </tr>\n",
       "    <tr>\n",
       "      <th>4</th>\n",
       "      <td>Male</td>\n",
       "      <td>Clothing</td>\n",
       "      <td>13835.0</td>\n",
       "      <td>43.449946</td>\n",
       "      <td>15.025515</td>\n",
       "      <td>18.0</td>\n",
       "      <td>30.0</td>\n",
       "      <td>43.0</td>\n",
       "      <td>56.0</td>\n",
       "      <td>69.0</td>\n",
       "    </tr>\n",
       "    <tr>\n",
       "      <th>5</th>\n",
       "      <td>Male</td>\n",
       "      <td>Cosmetics</td>\n",
       "      <td>6027.0</td>\n",
       "      <td>43.594160</td>\n",
       "      <td>14.892899</td>\n",
       "      <td>18.0</td>\n",
       "      <td>31.0</td>\n",
       "      <td>44.0</td>\n",
       "      <td>57.0</td>\n",
       "      <td>69.0</td>\n",
       "    </tr>\n",
       "    <tr>\n",
       "      <th>6</th>\n",
       "      <td>Male</td>\n",
       "      <td>Food &amp; Beverage</td>\n",
       "      <td>5972.0</td>\n",
       "      <td>43.155727</td>\n",
       "      <td>14.996070</td>\n",
       "      <td>18.0</td>\n",
       "      <td>30.0</td>\n",
       "      <td>43.0</td>\n",
       "      <td>56.0</td>\n",
       "      <td>69.0</td>\n",
       "    </tr>\n",
       "    <tr>\n",
       "      <th>7</th>\n",
       "      <td>Male</td>\n",
       "      <td>Technology</td>\n",
       "      <td>2015.0</td>\n",
       "      <td>43.544417</td>\n",
       "      <td>14.851730</td>\n",
       "      <td>18.0</td>\n",
       "      <td>31.0</td>\n",
       "      <td>43.0</td>\n",
       "      <td>56.0</td>\n",
       "      <td>69.0</td>\n",
       "    </tr>\n",
       "  </tbody>\n",
       "</table>\n",
       "</div>"
      ],
      "text/plain": [
       "   gender         category    count       mean        std   min   25%   50%   \n",
       "0  Female         Clothing  20652.0  43.381948  14.979862  18.0  30.0  43.0  \\\n",
       "1  Female        Cosmetics   9070.0  43.571665  14.966309  18.0  31.0  44.0   \n",
       "2  Female  Food & Beverage   8804.0  43.489209  14.970409  18.0  31.0  43.0   \n",
       "3  Female       Technology   2981.0  43.249581  14.825544  18.0  30.0  43.0   \n",
       "4    Male         Clothing  13835.0  43.449946  15.025515  18.0  30.0  43.0   \n",
       "5    Male        Cosmetics   6027.0  43.594160  14.892899  18.0  31.0  44.0   \n",
       "6    Male  Food & Beverage   5972.0  43.155727  14.996070  18.0  30.0  43.0   \n",
       "7    Male       Technology   2015.0  43.544417  14.851730  18.0  31.0  43.0   \n",
       "\n",
       "    75%   max  \n",
       "0  56.0  69.0  \n",
       "1  56.0  69.0  \n",
       "2  56.0  69.0  \n",
       "3  56.0  69.0  \n",
       "4  56.0  69.0  \n",
       "5  57.0  69.0  \n",
       "6  56.0  69.0  \n",
       "7  56.0  69.0  "
      ]
     },
     "execution_count": 1425,
     "metadata": {},
     "output_type": "execute_result"
    }
   ],
   "source": [
    "df.groupby(['gender','category'], as_index=False)['age'].describe()"
   ]
  },
  {
   "cell_type": "code",
   "execution_count": 1426,
   "metadata": {},
   "outputs": [],
   "source": [
    "# creating the class label\n",
    "# label -> ['maybe', 'no', 'yes']\n",
    "def assignNewLabels(row):\n",
    "    # for book shoppers\n",
    "    if row['category'] == \"Technology\" and row[\"total_price\"] > 16800:\n",
    "        return \"yes\"\n",
    "    elif row['category'] == \"Technology\" and row[\"total_price\"] <= 4200:\n",
    "        return \"no\"\n",
    "    elif row['category'] == \"Technology\" and row[\"total_price\"] > 4200.0 and row[\"total_price\"] <= 16800:\n",
    "        return \"maybe\"\n",
    "    \n",
    "    # for clothing\n",
    "    elif row['category'] == \"Clothing\" and row[\"total_price\"] > 4801.28:\n",
    "        return \"yes\"\n",
    "    elif row['category'] == \"Clothing\" and row[\"total_price\"] <= 1200.32:\n",
    "        return \"no\"\n",
    "    elif row['category'] == \"Clothing\" and row[\"total_price\"] > 1200.32 and row[\"total_price\"] <= 4801.28:\n",
    "        return \"maybe\"\n",
    "    \n",
    "    # for clothing\n",
    "    elif row['category'] == \"Cosmetics\" and row[\"total_price\"] > 650.56:\n",
    "        return \"yes\"\n",
    "    elif row['category'] == \"Cosmetics\" and row[\"total_price\"] <= 162.64:\n",
    "        return \"no\"\n",
    "    elif row['category'] == \"Cosmetics\" and row[\"total_price\"] > 162.64 and row[\"total_price\"] <= 650.56:\n",
    "        return \"maybe\"\n",
    "    \n",
    "    # for clothing\n",
    "    elif row['category'] == \"Food & Beverage\" and row[\"total_price\"] > 83.68:\n",
    "        return \"yes\"\n",
    "    elif row['category'] == \"Food & Beverage\" and row[\"total_price\"] <= 20.92:\n",
    "        return \"no\"\n",
    "    elif row['category'] == \"Food & Beverage\" and row[\"total_price\"] > 20.92 and row[\"total_price\"] <= 83.68:\n",
    "        return \"maybe\""
   ]
  },
  {
   "cell_type": "code",
   "execution_count": 1427,
   "metadata": {},
   "outputs": [
    {
     "data": {
      "text/html": [
       "<div>\n",
       "<style scoped>\n",
       "    .dataframe tbody tr th:only-of-type {\n",
       "        vertical-align: middle;\n",
       "    }\n",
       "\n",
       "    .dataframe tbody tr th {\n",
       "        vertical-align: top;\n",
       "    }\n",
       "\n",
       "    .dataframe thead th {\n",
       "        text-align: right;\n",
       "    }\n",
       "</style>\n",
       "<table border=\"1\" class=\"dataframe\">\n",
       "  <thead>\n",
       "    <tr style=\"text-align: right;\">\n",
       "      <th></th>\n",
       "      <th>gender</th>\n",
       "      <th>age</th>\n",
       "      <th>category</th>\n",
       "      <th>total_price</th>\n",
       "      <th>Should_We_Market</th>\n",
       "    </tr>\n",
       "  </thead>\n",
       "  <tbody>\n",
       "    <tr>\n",
       "      <th>0</th>\n",
       "      <td>Female</td>\n",
       "      <td>28</td>\n",
       "      <td>Clothing</td>\n",
       "      <td>7502.00</td>\n",
       "      <td>yes</td>\n",
       "    </tr>\n",
       "    <tr>\n",
       "      <th>2</th>\n",
       "      <td>Male</td>\n",
       "      <td>20</td>\n",
       "      <td>Clothing</td>\n",
       "      <td>300.08</td>\n",
       "      <td>no</td>\n",
       "    </tr>\n",
       "    <tr>\n",
       "      <th>5</th>\n",
       "      <td>Female</td>\n",
       "      <td>28</td>\n",
       "      <td>Clothing</td>\n",
       "      <td>7502.00</td>\n",
       "      <td>yes</td>\n",
       "    </tr>\n",
       "    <tr>\n",
       "      <th>6</th>\n",
       "      <td>Female</td>\n",
       "      <td>49</td>\n",
       "      <td>Cosmetics</td>\n",
       "      <td>40.66</td>\n",
       "      <td>no</td>\n",
       "    </tr>\n",
       "    <tr>\n",
       "      <th>7</th>\n",
       "      <td>Female</td>\n",
       "      <td>32</td>\n",
       "      <td>Clothing</td>\n",
       "      <td>1200.32</td>\n",
       "      <td>no</td>\n",
       "    </tr>\n",
       "  </tbody>\n",
       "</table>\n",
       "</div>"
      ],
      "text/plain": [
       "   gender  age   category  total_price Should_We_Market\n",
       "0  Female   28   Clothing      7502.00              yes\n",
       "2    Male   20   Clothing       300.08               no\n",
       "5  Female   28   Clothing      7502.00              yes\n",
       "6  Female   49  Cosmetics        40.66               no\n",
       "7  Female   32   Clothing      1200.32               no"
      ]
     },
     "execution_count": 1427,
     "metadata": {},
     "output_type": "execute_result"
    }
   ],
   "source": [
    "df['Should_We_Market'] = df.apply(lambda row: assignNewLabels(row), axis=1)\n",
    "#df = df[df['category'] == 'Clothing']\n",
    "df.head()"
   ]
  },
  {
   "attachments": {},
   "cell_type": "markdown",
   "metadata": {},
   "source": [
    "### Starting the Machine Learning Process "
   ]
  },
  {
   "attachments": {},
   "cell_type": "markdown",
   "metadata": {},
   "source": [
    "We are creating one hot encoded labels for each gender and category features as we are doing multilclass classification. "
   ]
  },
  {
   "cell_type": "code",
   "execution_count": 1428,
   "metadata": {},
   "outputs": [
    {
     "data": {
      "text/html": [
       "<div>\n",
       "<style scoped>\n",
       "    .dataframe tbody tr th:only-of-type {\n",
       "        vertical-align: middle;\n",
       "    }\n",
       "\n",
       "    .dataframe tbody tr th {\n",
       "        vertical-align: top;\n",
       "    }\n",
       "\n",
       "    .dataframe thead th {\n",
       "        text-align: right;\n",
       "    }\n",
       "</style>\n",
       "<table border=\"1\" class=\"dataframe\">\n",
       "  <thead>\n",
       "    <tr style=\"text-align: right;\">\n",
       "      <th></th>\n",
       "      <th>age</th>\n",
       "      <th>total_price</th>\n",
       "      <th>gender_Female</th>\n",
       "      <th>gender_Male</th>\n",
       "      <th>category_Clothing</th>\n",
       "      <th>category_Cosmetics</th>\n",
       "      <th>category_Food &amp; Beverage</th>\n",
       "      <th>category_Technology</th>\n",
       "    </tr>\n",
       "  </thead>\n",
       "  <tbody>\n",
       "    <tr>\n",
       "      <th>0</th>\n",
       "      <td>28</td>\n",
       "      <td>7502.00</td>\n",
       "      <td>True</td>\n",
       "      <td>False</td>\n",
       "      <td>True</td>\n",
       "      <td>False</td>\n",
       "      <td>False</td>\n",
       "      <td>False</td>\n",
       "    </tr>\n",
       "    <tr>\n",
       "      <th>2</th>\n",
       "      <td>20</td>\n",
       "      <td>300.08</td>\n",
       "      <td>False</td>\n",
       "      <td>True</td>\n",
       "      <td>True</td>\n",
       "      <td>False</td>\n",
       "      <td>False</td>\n",
       "      <td>False</td>\n",
       "    </tr>\n",
       "    <tr>\n",
       "      <th>5</th>\n",
       "      <td>28</td>\n",
       "      <td>7502.00</td>\n",
       "      <td>True</td>\n",
       "      <td>False</td>\n",
       "      <td>True</td>\n",
       "      <td>False</td>\n",
       "      <td>False</td>\n",
       "      <td>False</td>\n",
       "    </tr>\n",
       "    <tr>\n",
       "      <th>6</th>\n",
       "      <td>49</td>\n",
       "      <td>40.66</td>\n",
       "      <td>True</td>\n",
       "      <td>False</td>\n",
       "      <td>False</td>\n",
       "      <td>True</td>\n",
       "      <td>False</td>\n",
       "      <td>False</td>\n",
       "    </tr>\n",
       "    <tr>\n",
       "      <th>7</th>\n",
       "      <td>32</td>\n",
       "      <td>1200.32</td>\n",
       "      <td>True</td>\n",
       "      <td>False</td>\n",
       "      <td>True</td>\n",
       "      <td>False</td>\n",
       "      <td>False</td>\n",
       "      <td>False</td>\n",
       "    </tr>\n",
       "  </tbody>\n",
       "</table>\n",
       "</div>"
      ],
      "text/plain": [
       "   age  total_price  gender_Female  gender_Male  category_Clothing   \n",
       "0   28      7502.00           True        False               True  \\\n",
       "2   20       300.08          False         True               True   \n",
       "5   28      7502.00           True        False               True   \n",
       "6   49        40.66           True        False              False   \n",
       "7   32      1200.32           True        False               True   \n",
       "\n",
       "   category_Cosmetics  category_Food & Beverage  category_Technology  \n",
       "0               False                     False                False  \n",
       "2               False                     False                False  \n",
       "5               False                     False                False  \n",
       "6                True                     False                False  \n",
       "7               False                     False                False  "
      ]
     },
     "execution_count": 1428,
     "metadata": {},
     "output_type": "execute_result"
    }
   ],
   "source": [
    "df_dummy = pd.get_dummies(df[['gender', 'category', 'age', 'total_price']])\n",
    "df_dummy.head()\n"
   ]
  },
  {
   "cell_type": "code",
   "execution_count": 1429,
   "metadata": {},
   "outputs": [],
   "source": [
    "# Normalizing the ages\n",
    "min_age = df_dummy['age'].min()\n",
    "max_age = df_dummy['age'].max()\n",
    "\n",
    "# Apply min-max normalization to the 'age' column\n",
    "df_dummy['normalized_age'] = (df_dummy['age'] - min_age) / (max_age - min_age)\n",
    "df_dummy.drop(['age'], axis=1, inplace=True)"
   ]
  },
  {
   "cell_type": "code",
   "execution_count": 1430,
   "metadata": {},
   "outputs": [],
   "source": [
    "# Normalize the prices\n",
    "min_price = df_dummy['total_price'].min()\n",
    "max_price = df_dummy['total_price'].max()\n",
    "\n",
    "# Apply min-max normalization to the 'price' column\n",
    "df_dummy['normalized_price'] = (df_dummy['total_price'] - min_price) / (max_price - min_price)\n",
    "df_dummy.drop(['total_price'], axis=1, inplace=True)\n"
   ]
  },
  {
   "cell_type": "code",
   "execution_count": 1431,
   "metadata": {},
   "outputs": [
    {
     "data": {
      "text/html": [
       "<div>\n",
       "<style scoped>\n",
       "    .dataframe tbody tr th:only-of-type {\n",
       "        vertical-align: middle;\n",
       "    }\n",
       "\n",
       "    .dataframe tbody tr th {\n",
       "        vertical-align: top;\n",
       "    }\n",
       "\n",
       "    .dataframe thead th {\n",
       "        text-align: right;\n",
       "    }\n",
       "</style>\n",
       "<table border=\"1\" class=\"dataframe\">\n",
       "  <thead>\n",
       "    <tr style=\"text-align: right;\">\n",
       "      <th></th>\n",
       "      <th>gender_Female</th>\n",
       "      <th>gender_Male</th>\n",
       "      <th>category_Clothing</th>\n",
       "      <th>category_Cosmetics</th>\n",
       "      <th>category_Food &amp; Beverage</th>\n",
       "      <th>category_Technology</th>\n",
       "      <th>normalized_age</th>\n",
       "      <th>normalized_price</th>\n",
       "    </tr>\n",
       "  </thead>\n",
       "  <tbody>\n",
       "    <tr>\n",
       "      <th>0</th>\n",
       "      <td>True</td>\n",
       "      <td>False</td>\n",
       "      <td>True</td>\n",
       "      <td>False</td>\n",
       "      <td>False</td>\n",
       "      <td>False</td>\n",
       "      <td>0.196078</td>\n",
       "      <td>0.285648</td>\n",
       "    </tr>\n",
       "    <tr>\n",
       "      <th>2</th>\n",
       "      <td>False</td>\n",
       "      <td>True</td>\n",
       "      <td>True</td>\n",
       "      <td>False</td>\n",
       "      <td>False</td>\n",
       "      <td>False</td>\n",
       "      <td>0.039216</td>\n",
       "      <td>0.011235</td>\n",
       "    </tr>\n",
       "    <tr>\n",
       "      <th>5</th>\n",
       "      <td>True</td>\n",
       "      <td>False</td>\n",
       "      <td>True</td>\n",
       "      <td>False</td>\n",
       "      <td>False</td>\n",
       "      <td>False</td>\n",
       "      <td>0.196078</td>\n",
       "      <td>0.285648</td>\n",
       "    </tr>\n",
       "    <tr>\n",
       "      <th>6</th>\n",
       "      <td>True</td>\n",
       "      <td>False</td>\n",
       "      <td>False</td>\n",
       "      <td>True</td>\n",
       "      <td>False</td>\n",
       "      <td>False</td>\n",
       "      <td>0.607843</td>\n",
       "      <td>0.001350</td>\n",
       "    </tr>\n",
       "    <tr>\n",
       "      <th>7</th>\n",
       "      <td>True</td>\n",
       "      <td>False</td>\n",
       "      <td>True</td>\n",
       "      <td>False</td>\n",
       "      <td>False</td>\n",
       "      <td>False</td>\n",
       "      <td>0.274510</td>\n",
       "      <td>0.045536</td>\n",
       "    </tr>\n",
       "  </tbody>\n",
       "</table>\n",
       "</div>"
      ],
      "text/plain": [
       "   gender_Female  gender_Male  category_Clothing  category_Cosmetics   \n",
       "0           True        False               True               False  \\\n",
       "2          False         True               True               False   \n",
       "5           True        False               True               False   \n",
       "6           True        False              False                True   \n",
       "7           True        False               True               False   \n",
       "\n",
       "   category_Food & Beverage  category_Technology  normalized_age   \n",
       "0                     False                False        0.196078  \\\n",
       "2                     False                False        0.039216   \n",
       "5                     False                False        0.196078   \n",
       "6                     False                False        0.607843   \n",
       "7                     False                False        0.274510   \n",
       "\n",
       "   normalized_price  \n",
       "0          0.285648  \n",
       "2          0.011235  \n",
       "5          0.285648  \n",
       "6          0.001350  \n",
       "7          0.045536  "
      ]
     },
     "execution_count": 1431,
     "metadata": {},
     "output_type": "execute_result"
    }
   ],
   "source": [
    "df_dummy.head()"
   ]
  },
  {
   "attachments": {},
   "cell_type": "markdown",
   "metadata": {},
   "source": [
    "### Gaussian Naive Bayes with labels = yes or no or maybe"
   ]
  },
  {
   "cell_type": "code",
   "execution_count": 1432,
   "metadata": {},
   "outputs": [
    {
     "name": "stdout",
     "output_type": "stream",
     "text": [
      "(69356, 8) (69356,)\n"
     ]
    }
   ],
   "source": [
    "X = df_dummy\n",
    "y = df.Should_We_Market\n",
    "\n",
    "print(X.shape, y.shape)\n",
    "X_train, X_test, y_train, y_test = train_test_split(\n",
    "    X, y, test_size=0.25, random_state=125\n",
    ")"
   ]
  },
  {
   "cell_type": "code",
   "execution_count": 1433,
   "metadata": {},
   "outputs": [
    {
     "name": "stdout",
     "output_type": "stream",
     "text": [
      "Accuracy: 0.6019378280177634\n",
      "F1 Score: 0.6583024746746252\n"
     ]
    },
    {
     "data": {
      "image/png": "[encoded data removed]",
      "text/plain": [
       "<Figure size 640x480 with 2 Axes>"
      ]
     },
     "metadata": {},
     "output_type": "display_data"
    }
   ],
   "source": [
    "# Build a Gaussian Classifier\n",
    "model = GaussianNB()\n",
    "\n",
    "# Model training\n",
    "model.fit(X_train, y_train)\n",
    "\n",
    "y_pred = model.predict(X_test)\n",
    "accuracy = accuracy_score(y_pred, y_test)\n",
    "f1 = f1_score(y_pred, y_test, average=\"weighted\")\n",
    "\n",
    "print(\"Accuracy:\", accuracy)\n",
    "print(\"F1 Score:\", f1)\n",
    "\n",
    "\n",
    "cm = confusion_matrix(y_test, y_pred, labels=[\"maybe\", \"no\", \"yes\"])\n",
    "disp = ConfusionMatrixDisplay(confusion_matrix=cm, display_labels=[\"maybe\", \"no\", \"yes\"])\n",
    "disp.plot();\n",
    "\n",
    "# interpret results in writeup using https://www.v7labs.com/blog/confusion-matrix-guide"
   ]
  },
  {
   "attachments": {},
   "cell_type": "markdown",
   "metadata": {},
   "source": [
    "We can see that accuracy is low, and we realize further that this is wrong.\n",
    "List reasons here: \n",
    "Now we will repurpose our statement to classify shopper's spending categories based on spending habits and gender and age."
   ]
  },
  {
   "attachments": {},
   "cell_type": "markdown",
   "metadata": {},
   "source": [
    "## Random Forrest Classification for Feature Selection"
   ]
  },
  {
   "cell_type": "code",
   "execution_count": 1434,
   "metadata": {},
   "outputs": [
    {
     "data": {
      "text/html": [
       "<div>\n",
       "<style scoped>\n",
       "    .dataframe tbody tr th:only-of-type {\n",
       "        vertical-align: middle;\n",
       "    }\n",
       "\n",
       "    .dataframe tbody tr th {\n",
       "        vertical-align: top;\n",
       "    }\n",
       "\n",
       "    .dataframe thead th {\n",
       "        text-align: right;\n",
       "    }\n",
       "</style>\n",
       "<table border=\"1\" class=\"dataframe\">\n",
       "  <thead>\n",
       "    <tr style=\"text-align: right;\">\n",
       "      <th></th>\n",
       "      <th>age</th>\n",
       "      <th>total_price</th>\n",
       "      <th>gender_Female</th>\n",
       "      <th>gender_Male</th>\n",
       "    </tr>\n",
       "  </thead>\n",
       "  <tbody>\n",
       "    <tr>\n",
       "      <th>0</th>\n",
       "      <td>28</td>\n",
       "      <td>7502.00</td>\n",
       "      <td>True</td>\n",
       "      <td>False</td>\n",
       "    </tr>\n",
       "    <tr>\n",
       "      <th>2</th>\n",
       "      <td>20</td>\n",
       "      <td>300.08</td>\n",
       "      <td>False</td>\n",
       "      <td>True</td>\n",
       "    </tr>\n",
       "    <tr>\n",
       "      <th>5</th>\n",
       "      <td>28</td>\n",
       "      <td>7502.00</td>\n",
       "      <td>True</td>\n",
       "      <td>False</td>\n",
       "    </tr>\n",
       "    <tr>\n",
       "      <th>6</th>\n",
       "      <td>49</td>\n",
       "      <td>40.66</td>\n",
       "      <td>True</td>\n",
       "      <td>False</td>\n",
       "    </tr>\n",
       "    <tr>\n",
       "      <th>7</th>\n",
       "      <td>32</td>\n",
       "      <td>1200.32</td>\n",
       "      <td>True</td>\n",
       "      <td>False</td>\n",
       "    </tr>\n",
       "  </tbody>\n",
       "</table>\n",
       "</div>"
      ],
      "text/plain": [
       "   age  total_price  gender_Female  gender_Male\n",
       "0   28      7502.00           True        False\n",
       "2   20       300.08          False         True\n",
       "5   28      7502.00           True        False\n",
       "6   49        40.66           True        False\n",
       "7   32      1200.32           True        False"
      ]
     },
     "execution_count": 1434,
     "metadata": {},
     "output_type": "execute_result"
    }
   ],
   "source": [
    "df_dummy = pd.get_dummies(df[['gender', 'age', 'total_price']])\n",
    "df_dummy.head()"
   ]
  },
  {
   "cell_type": "code",
   "execution_count": 1435,
   "metadata": {},
   "outputs": [
    {
     "data": {
      "text/html": [
       "<div>\n",
       "<style scoped>\n",
       "    .dataframe tbody tr th:only-of-type {\n",
       "        vertical-align: middle;\n",
       "    }\n",
       "\n",
       "    .dataframe tbody tr th {\n",
       "        vertical-align: top;\n",
       "    }\n",
       "\n",
       "    .dataframe thead th {\n",
       "        text-align: right;\n",
       "    }\n",
       "</style>\n",
       "<table border=\"1\" class=\"dataframe\">\n",
       "  <thead>\n",
       "    <tr style=\"text-align: right;\">\n",
       "      <th></th>\n",
       "      <th>gender_Female</th>\n",
       "      <th>gender_Male</th>\n",
       "      <th>normalized_age</th>\n",
       "      <th>normalized_price</th>\n",
       "    </tr>\n",
       "  </thead>\n",
       "  <tbody>\n",
       "    <tr>\n",
       "      <th>0</th>\n",
       "      <td>True</td>\n",
       "      <td>False</td>\n",
       "      <td>0.196078</td>\n",
       "      <td>0.285648</td>\n",
       "    </tr>\n",
       "    <tr>\n",
       "      <th>2</th>\n",
       "      <td>False</td>\n",
       "      <td>True</td>\n",
       "      <td>0.039216</td>\n",
       "      <td>0.011235</td>\n",
       "    </tr>\n",
       "    <tr>\n",
       "      <th>5</th>\n",
       "      <td>True</td>\n",
       "      <td>False</td>\n",
       "      <td>0.196078</td>\n",
       "      <td>0.285648</td>\n",
       "    </tr>\n",
       "    <tr>\n",
       "      <th>6</th>\n",
       "      <td>True</td>\n",
       "      <td>False</td>\n",
       "      <td>0.607843</td>\n",
       "      <td>0.001350</td>\n",
       "    </tr>\n",
       "    <tr>\n",
       "      <th>7</th>\n",
       "      <td>True</td>\n",
       "      <td>False</td>\n",
       "      <td>0.274510</td>\n",
       "      <td>0.045536</td>\n",
       "    </tr>\n",
       "  </tbody>\n",
       "</table>\n",
       "</div>"
      ],
      "text/plain": [
       "   gender_Female  gender_Male  normalized_age  normalized_price\n",
       "0           True        False        0.196078          0.285648\n",
       "2          False         True        0.039216          0.011235\n",
       "5           True        False        0.196078          0.285648\n",
       "6           True        False        0.607843          0.001350\n",
       "7           True        False        0.274510          0.045536"
      ]
     },
     "execution_count": 1435,
     "metadata": {},
     "output_type": "execute_result"
    }
   ],
   "source": [
    "# Normalizing the ages\n",
    "min_age = df_dummy['age'].min()\n",
    "max_age = df_dummy['age'].max()\n",
    "\n",
    "# Apply min-max normalization to the 'age' column\n",
    "df_dummy['normalized_age'] = (df_dummy['age'] - min_age) / (max_age - min_age)\n",
    "\n",
    "# Normalize the prices\n",
    "min_price = df_dummy['total_price'].min()\n",
    "max_price = df_dummy['total_price'].max()\n",
    "\n",
    "# Apply min-max normalization to the 'price' column\n",
    "df_dummy['normalized_price'] = (df_dummy['total_price'] - min_price) / (max_price - min_price)\n",
    "df_dummy.drop(['total_price', 'age'], axis=1, inplace=True)\n",
    "df_dummy.head()\n"
   ]
  },
  {
   "cell_type": "code",
   "execution_count": 1436,
   "metadata": {},
   "outputs": [
    {
     "name": "stdout",
     "output_type": "stream",
     "text": [
      "Feature ranking:\n",
      "1. Feature normalized_price (0.9985466898349611)\n",
      "2. Feature normalized_age (0.001331384171407747)\n",
      "3. Feature gender_Male (6.17249589897382e-05)\n",
      "4. Feature gender_Female (6.020103464146276e-05)\n"
     ]
    }
   ],
   "source": [
    "X = df_dummy\n",
    "y = df.category\n",
    "\n",
    "X_train, X_test, y_train, y_test = train_test_split(X, y, test_size=0.25, random_state=42)\n",
    "\n",
    "# Create a Random Forest classifier\n",
    "rf_classifier = RandomForestClassifier()\n",
    "\n",
    "rf_classifier.fit(X_train, y_train)\n",
    "\n",
    "# Get feature importances\n",
    "importances = rf_classifier.feature_importances_\n",
    "\n",
    "# Sort feature importances in descending order\n",
    "indices = importances.argsort()[::-1]\n",
    "print(\"Feature ranking:\")\n",
    "for f in range(X.shape[1]):\n",
    "    print(f\"{f + 1}. Feature {X.columns[indices[f]]} ({importances[indices[f]]})\")"
   ]
  },
  {
   "attachments": {},
   "cell_type": "markdown",
   "metadata": {},
   "source": [
    "According to this dataset, gender doesnt make a big difference in classififcation whcih lines up with our earlier observations..."
   ]
  },
  {
   "attachments": {},
   "cell_type": "markdown",
   "metadata": {},
   "source": [
    "### Gaussian Naive Bayes with new labels based on categories"
   ]
  },
  {
   "cell_type": "code",
   "execution_count": 1437,
   "metadata": {},
   "outputs": [],
   "source": [
    "# dropping useless features according to Random Forest\n",
    "df_dummy.drop(['gender_Female', 'gender_Male'], axis=1, inplace=True)"
   ]
  },
  {
   "cell_type": "code",
   "execution_count": 1438,
   "metadata": {},
   "outputs": [
    {
     "name": "stdout",
     "output_type": "stream",
     "text": [
      "(69356, 2) (69356,)\n"
     ]
    }
   ],
   "source": [
    "X = df_dummy\n",
    "y = df.category\n",
    "\n",
    "print(X.shape, y.shape)\n",
    "X_train, X_test, y_train, y_test = train_test_split(\n",
    "    X, y, test_size=0.25, random_state=125\n",
    ")"
   ]
  },
  {
   "cell_type": "code",
   "execution_count": 1439,
   "metadata": {},
   "outputs": [
    {
     "name": "stdout",
     "output_type": "stream",
     "text": [
      "Accuracy: 0.8121575638733491\n",
      "F1 Score: 0.8137622111213028\n"
     ]
    },
    {
     "data": {
      "image/png": "[encoded data removed]",
      "text/plain": [
       "<Figure size 640x480 with 2 Axes>"
      ]
     },
     "metadata": {},
     "output_type": "display_data"
    }
   ],
   "source": [
    "# Build a Gaussian Classifier\n",
    "model = GaussianNB()\n",
    "\n",
    "# Model training\n",
    "model.fit(X_train, y_train)\n",
    "\n",
    "y_pred = model.predict(X_test)\n",
    "accuracy = accuracy_score(y_pred, y_test)\n",
    "f1 = f1_score(y_pred, y_test, average=\"weighted\")\n",
    "\n",
    "print(\"Accuracy:\", accuracy)\n",
    "print(\"F1 Score:\", f1)\n",
    "\n",
    "\n",
    "cm = confusion_matrix(y_test, y_pred, labels=[\"Clothing\", \"Cosmetics\", \"Food & Beverage\", \"Technology\"])\n",
    "disp = ConfusionMatrixDisplay(confusion_matrix=cm, display_labels=[\"Clothing\", \"Cosmetics\", \"Food & Beverage\", \"Technology\"])\n",
    "disp.plot();\n",
    "\n",
    "# interpret results in writeup using https://www.v7labs.com/blog/confusion-matrix-guide"
   ]
  },
  {
   "attachments": {},
   "cell_type": "markdown",
   "metadata": {},
   "source": [
    "Accuracy is a lot better because of .... "
   ]
  },
  {
   "attachments": {},
   "cell_type": "markdown",
   "metadata": {},
   "source": [
    "### Stratified K-fold cross validation for Naive Bayes without Gender features"
   ]
  },
  {
   "cell_type": "code",
   "execution_count": 1440,
   "metadata": {},
   "outputs": [
    {
     "name": "stdout",
     "output_type": "stream",
     "text": [
      "Accuracy from each fold using Naive Bayes without Gender features = \n",
      "[0.81199538638985, 0.8184832756632064, 0.8171856978085352, 0.8114186851211073, 0.8124279123414071, 0.828719723183391, 0.8152847873107426, 0.8116798846431147, 0.8108147080028839, 0.813410237923576]\n",
      "\n",
      "Average accuracy using Naive Bayes without Gender features = \n",
      "0.8151420298387814\n",
      "\n"
     ]
    }
   ],
   "source": [
    "kf = StratifiedKFold(n_splits=10, random_state=40, shuffle=True) \n",
    "accscore = []\n",
    "classifier2 = GaussianNB()\n",
    "\n",
    "\n",
    "for train_index , test_index in kf.split(X, y):\n",
    "    X_train , X_test = X.iloc[train_index],X.iloc[test_index]\n",
    "    y_train , y_test = y.iloc[train_index] , y.iloc[test_index]\n",
    "     \n",
    "    classifier2.fit(X_train, y_train.values.ravel())\n",
    "    Y_pred = classifier2.predict(X_test)\n",
    "\n",
    "     \n",
    "    acc2 = accuracy_score(y_test, Y_pred)\n",
    "    accscore.append(acc2)\n",
    "     \n",
    "avgscore = sum(accscore)/10\n",
    " \n",
    "print(\"Accuracy from each fold using Naive Bayes without Gender features = \\n\" + str(accscore))\n",
    "print(\"\\nAverage accuracy using Naive Bayes without Gender features = \\n\" + str(avgscore))\n",
    "print()\n"
   ]
  },
  {
   "attachments": {},
   "cell_type": "markdown",
   "metadata": {},
   "source": [
    "Hmmm, seems like the gender feature really did not matter in the long run. Lets try another classification technique instead!"
   ]
  },
  {
   "attachments": {},
   "cell_type": "markdown",
   "metadata": {},
   "source": [
    "### Neural Networks:"
   ]
  },
  {
   "cell_type": "code",
   "execution_count": 1441,
   "metadata": {},
   "outputs": [],
   "source": [
    "from sklearn.neural_network import MLPClassifier"
   ]
  },
  {
   "attachments": {},
   "cell_type": "markdown",
   "metadata": {},
   "source": [
    "## Conclusion"
   ]
  },
  {
   "attachments": {},
   "cell_type": "markdown",
   "metadata": {},
   "source": [
    "## Policy Recommendation \n",
    "The performance of these models could be improved by: "
   ]
  }
 ],
 "metadata": {
  "kernelspec": {
   "display_name": "Python 3",
   "language": "python",
   "name": "python3"
  },
  "language_info": {
   "codemirror_mode": {
    "name": "ipython",
    "version": 3
   },
   "file_extension": ".py",
   "mimetype": "text/x-python",
   "name": "python",
   "nbconvert_exporter": "python",
   "pygments_lexer": "ipython3",
   "version": "3.9.6"
  },
  "orig_nbformat": 4
 },
 "nbformat": 4,
 "nbformat_minor": 2
}
