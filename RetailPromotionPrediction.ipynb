{
 "cells": [
  {
   "attachments": {},
   "cell_type": "markdown",
   "metadata": {},
   "source": [
    "# Retail Promotion Classification-Prediction Problem\n",
    "## Vasundhara Bagchi, Elizabeth Slesarev, and Paul Beltran \n",
    "\n",
    "Through this project, we are aiming to use retail sales data to understand how the stores could run a personalized and targeted promotional campaigns based on customers' purchasing patterns in different categories. \n",
    "\n",
    "This project would allow retail stores, particularly one without a lot of resources dedicated to promotional material, to optimize their promotional campaigns by identifying the most effective customer profiles to target with their marketing efforts. This approach can save retailers significant resources and effort by avoiding a standarized approach to promotions, which can be less effective and less efficient. Instead, stores can target specific customer segments based on their preferences in shopping categories, past purchasing behaviors, and other factors to maximize the effectiveness of their promotions.\n",
    "\n",
    "**Part 1:**\n",
    "\n",
    "Our initial problem statement focuses on predicting whether or not we should market to a customer based on the amount of money they spent in a certain category when focusing on promotional material for that category. However, we soon run into issues regarding [] and have to take a different approach to tackling this overall task. \n",
    "\n",
    "**Part 2:**\n",
    "\n",
    "Our updated problem statement now focuses on a predictive model for shopper segmentation, where shoppers are grouped into distinct categories based on their preferences and purchase patterns. Eg: Technology enthusiasts, food connoisseurs, fashion-conscious individuals, and beauty enthusiasts.\n",
    "This segmentation would help businesses optimize marketing strategies through targeted promotional campaigns and personalized recommendations to ultimately increase customer retention while optimizing their resources.\n",
    "\n",
    "### About the dataset \n",
    "This particular dataset contains data from various age groups and genders several categories from 10 shopping malls in Istanbul, Turkey. \n",
    "\n",
    "Data Source: https://www.kaggle.com/datasets/mehmettahiraslan/customer-shopping-dataset"
   ]
  },
  {
   "attachments": {},
   "cell_type": "markdown",
   "metadata": {},
   "source": [
    "### Step 1: Data Cleaning and Preprocessing"
   ]
  },
  {
   "attachments": {},
   "cell_type": "markdown",
   "metadata": {},
   "source": [
    "Imports"
   ]
  },
  {
   "cell_type": "code",
   "execution_count": 105,
   "metadata": {},
   "outputs": [],
   "source": [
    "import numpy as np\n",
    "import pandas as pd\n",
    "import seaborn as sns\n",
    "import matplotlib.pyplot as plt\n",
    "\n",
    "from sklearn.naive_bayes import GaussianNB\n",
    "from sklearn.ensemble import RandomForestClassifier\n",
    "\n",
    "from sklearn.model_selection import (\n",
    "    StratifiedKFold,\n",
    "    train_test_split, \n",
    "    cross_val_score,\n",
    "    StratifiedKFold, \n",
    "    KFold\n",
    ")\n",
    "from sklearn.metrics import (\n",
    "    accuracy_score,\n",
    "    confusion_matrix,\n",
    "    ConfusionMatrixDisplay,\n",
    "    f1_score,\n",
    "    r2_score,\n",
    "    mean_squared_error,\n",
    "    mean_absolute_error,\n",
    ")\n",
    "\n",
    "from sklearn.preprocessing import LabelEncoder, StandardScaler\n",
    "from sklearn.neural_network import MLPClassifier\n"
   ]
  },
  {
   "attachments": {},
   "cell_type": "markdown",
   "metadata": {},
   "source": [
    "### Description of the features: \n",
    "\n",
    "1. invoice_no: Invoice number. Nominal. A combination of the letter 'I' and a 6-digit integer uniquely assigned to each operation. <br><br>\n",
    "2. customer_id: Customer number. Nominal. A combination of the letter 'C' and a 6-digit integer uniquely assigned to each operation.<br><br>\n",
    "3. gender: String variable of the customer's gender.<br><br>\n",
    "4. age: Positive Integer variable of the customers age.<br><br>\n",
    "5. category: String variable of the category of the purchased product.<br><br>\n",
    "6. quantity: The quantities of each product (item) per transaction. Numeric.<br><br>\n",
    "7. price: Unit price. Numeric. Product price per unit in Turkish Liras (TL).<br><br>\n",
    "8. payment_method: String variable of the payment method (cash, credit card or debit card) used for the transaction.<br><br>\n",
    "9. invoice_date: Invoice date. The day when a transaction was generated.<br><br>\n",
    "10. shopping_mall: String variable of the name of the shopping mall where the transaction was made.<br><br>"
   ]
  },
  {
   "attachments": {},
   "cell_type": "markdown",
   "metadata": {},
   "source": [
    "### Reading in the data \n",
    "We read in the data source via pandas and visualize it to see the columns present and determine which ones will be useful for our purposes. "
   ]
  },
  {
   "cell_type": "code",
   "execution_count": 106,
   "metadata": {},
   "outputs": [
    {
     "data": {
      "text/html": [
       "<div>\n",
       "<style scoped>\n",
       "    .dataframe tbody tr th:only-of-type {\n",
       "        vertical-align: middle;\n",
       "    }\n",
       "\n",
       "    .dataframe tbody tr th {\n",
       "        vertical-align: top;\n",
       "    }\n",
       "\n",
       "    .dataframe thead th {\n",
       "        text-align: right;\n",
       "    }\n",
       "</style>\n",
       "<table border=\"1\" class=\"dataframe\">\n",
       "  <thead>\n",
       "    <tr style=\"text-align: right;\">\n",
       "      <th></th>\n",
       "      <th>invoice_no</th>\n",
       "      <th>customer_id</th>\n",
       "      <th>gender</th>\n",
       "      <th>age</th>\n",
       "      <th>category</th>\n",
       "      <th>quantity</th>\n",
       "      <th>price</th>\n",
       "      <th>payment_method</th>\n",
       "      <th>invoice_date</th>\n",
       "      <th>shopping_mall</th>\n",
       "    </tr>\n",
       "  </thead>\n",
       "  <tbody>\n",
       "    <tr>\n",
       "      <th>0</th>\n",
       "      <td>I138884</td>\n",
       "      <td>C241288</td>\n",
       "      <td>Female</td>\n",
       "      <td>28</td>\n",
       "      <td>Clothing</td>\n",
       "      <td>5</td>\n",
       "      <td>1500.40</td>\n",
       "      <td>Credit Card</td>\n",
       "      <td>5/8/2022</td>\n",
       "      <td>Kanyon</td>\n",
       "    </tr>\n",
       "    <tr>\n",
       "      <th>1</th>\n",
       "      <td>I317333</td>\n",
       "      <td>C111565</td>\n",
       "      <td>Male</td>\n",
       "      <td>21</td>\n",
       "      <td>Shoes</td>\n",
       "      <td>3</td>\n",
       "      <td>1800.51</td>\n",
       "      <td>Debit Card</td>\n",
       "      <td>12/12/2021</td>\n",
       "      <td>Forum Istanbul</td>\n",
       "    </tr>\n",
       "    <tr>\n",
       "      <th>2</th>\n",
       "      <td>I127801</td>\n",
       "      <td>C266599</td>\n",
       "      <td>Male</td>\n",
       "      <td>20</td>\n",
       "      <td>Clothing</td>\n",
       "      <td>1</td>\n",
       "      <td>300.08</td>\n",
       "      <td>Cash</td>\n",
       "      <td>9/11/2021</td>\n",
       "      <td>Metrocity</td>\n",
       "    </tr>\n",
       "    <tr>\n",
       "      <th>3</th>\n",
       "      <td>I173702</td>\n",
       "      <td>C988172</td>\n",
       "      <td>Female</td>\n",
       "      <td>66</td>\n",
       "      <td>Shoes</td>\n",
       "      <td>5</td>\n",
       "      <td>3000.85</td>\n",
       "      <td>Credit Card</td>\n",
       "      <td>16/05/2021</td>\n",
       "      <td>Metropol AVM</td>\n",
       "    </tr>\n",
       "    <tr>\n",
       "      <th>4</th>\n",
       "      <td>I337046</td>\n",
       "      <td>C189076</td>\n",
       "      <td>Female</td>\n",
       "      <td>53</td>\n",
       "      <td>Books</td>\n",
       "      <td>4</td>\n",
       "      <td>60.60</td>\n",
       "      <td>Cash</td>\n",
       "      <td>24/10/2021</td>\n",
       "      <td>Kanyon</td>\n",
       "    </tr>\n",
       "  </tbody>\n",
       "</table>\n",
       "</div>"
      ],
      "text/plain": [
       "  invoice_no customer_id  gender  age  category  quantity    price  \\\n",
       "0    I138884     C241288  Female   28  Clothing         5  1500.40   \n",
       "1    I317333     C111565    Male   21     Shoes         3  1800.51   \n",
       "2    I127801     C266599    Male   20  Clothing         1   300.08   \n",
       "3    I173702     C988172  Female   66     Shoes         5  3000.85   \n",
       "4    I337046     C189076  Female   53     Books         4    60.60   \n",
       "\n",
       "  payment_method invoice_date   shopping_mall  \n",
       "0    Credit Card     5/8/2022          Kanyon  \n",
       "1     Debit Card   12/12/2021  Forum Istanbul  \n",
       "2           Cash    9/11/2021       Metrocity  \n",
       "3    Credit Card   16/05/2021    Metropol AVM  \n",
       "4           Cash   24/10/2021          Kanyon  "
      ]
     },
     "execution_count": 106,
     "metadata": {},
     "output_type": "execute_result"
    }
   ],
   "source": [
    "df = pd.read_csv('customer_shopping_data.csv')\n",
    "df.head()"
   ]
  },
  {
   "attachments": {},
   "cell_type": "markdown",
   "metadata": {},
   "source": [
    "### Feature Engineering"
   ]
  },
  {
   "attachments": {},
   "cell_type": "markdown",
   "metadata": {},
   "source": [
    "After looking over the data, we use domain knowledge to recognize that there were certain features that would not have any real impact on shopper's shopping patterns. We therefore drop these columns.\n",
    "For our purposes in this problem, we are not using 'invoice_no', 'customer_id', 'payment_method', 'invoice_date', data attributes from the dataset. \n",
    "\n",
    "We also want to restrict this demonstration to a couple of the main categories, so we are dropping the other categories, including Toys, Souveniers, Books, Shoes. "
   ]
  },
  {
   "cell_type": "code",
   "execution_count": 107,
   "metadata": {},
   "outputs": [],
   "source": [
    "# grabbing columns that are useful and dropping all else\n",
    "df.drop(['invoice_no', 'customer_id', 'payment_method', 'invoice_date'], axis=1, inplace=True)\n",
    "\n",
    "# dropping rows we dont care about, like toys\n",
    "\n",
    "df.drop(df[df['category'] == 'Toys'].index, inplace = True)\n",
    "df.drop(df[df['category'] == 'Souvenir'].index, inplace = True)\n",
    "df.drop(df[df['category'] == 'Books'].index, inplace = True)\n",
    "df.drop(df[df['category'] == 'Shoes'].index, inplace = True)\n",
    "\n"
   ]
  },
  {
   "attachments": {},
   "cell_type": "markdown",
   "metadata": {},
   "source": [
    "We notice that there is a price column and a quantity column, but that is not as meaningful as a total price column which will be an useful feature in our problem. We are thus calculating the new feature, **total price**, by multiplying the price and quantity columns. Once we add in this new feature, we drop the price and quantity columns as they do not provide us any new information. "
   ]
  },
  {
   "cell_type": "code",
   "execution_count": 108,
   "metadata": {},
   "outputs": [
    {
     "data": {
      "text/html": [
       "<div>\n",
       "<style scoped>\n",
       "    .dataframe tbody tr th:only-of-type {\n",
       "        vertical-align: middle;\n",
       "    }\n",
       "\n",
       "    .dataframe tbody tr th {\n",
       "        vertical-align: top;\n",
       "    }\n",
       "\n",
       "    .dataframe thead th {\n",
       "        text-align: right;\n",
       "    }\n",
       "</style>\n",
       "<table border=\"1\" class=\"dataframe\">\n",
       "  <thead>\n",
       "    <tr style=\"text-align: right;\">\n",
       "      <th></th>\n",
       "      <th>gender</th>\n",
       "      <th>age</th>\n",
       "      <th>category</th>\n",
       "      <th>shopping_mall</th>\n",
       "      <th>total_price</th>\n",
       "    </tr>\n",
       "  </thead>\n",
       "  <tbody>\n",
       "    <tr>\n",
       "      <th>0</th>\n",
       "      <td>Female</td>\n",
       "      <td>28</td>\n",
       "      <td>Clothing</td>\n",
       "      <td>Kanyon</td>\n",
       "      <td>7502.00</td>\n",
       "    </tr>\n",
       "    <tr>\n",
       "      <th>2</th>\n",
       "      <td>Male</td>\n",
       "      <td>20</td>\n",
       "      <td>Clothing</td>\n",
       "      <td>Metrocity</td>\n",
       "      <td>300.08</td>\n",
       "    </tr>\n",
       "    <tr>\n",
       "      <th>5</th>\n",
       "      <td>Female</td>\n",
       "      <td>28</td>\n",
       "      <td>Clothing</td>\n",
       "      <td>Forum Istanbul</td>\n",
       "      <td>7502.00</td>\n",
       "    </tr>\n",
       "    <tr>\n",
       "      <th>6</th>\n",
       "      <td>Female</td>\n",
       "      <td>49</td>\n",
       "      <td>Cosmetics</td>\n",
       "      <td>Istinye Park</td>\n",
       "      <td>40.66</td>\n",
       "    </tr>\n",
       "    <tr>\n",
       "      <th>7</th>\n",
       "      <td>Female</td>\n",
       "      <td>32</td>\n",
       "      <td>Clothing</td>\n",
       "      <td>Mall of Istanbul</td>\n",
       "      <td>1200.32</td>\n",
       "    </tr>\n",
       "  </tbody>\n",
       "</table>\n",
       "</div>"
      ],
      "text/plain": [
       "   gender  age   category     shopping_mall  total_price\n",
       "0  Female   28   Clothing            Kanyon      7502.00\n",
       "2    Male   20   Clothing         Metrocity       300.08\n",
       "5  Female   28   Clothing    Forum Istanbul      7502.00\n",
       "6  Female   49  Cosmetics      Istinye Park        40.66\n",
       "7  Female   32   Clothing  Mall of Istanbul      1200.32"
      ]
     },
     "execution_count": 108,
     "metadata": {},
     "output_type": "execute_result"
    }
   ],
   "source": [
    "# recalculating price column to include totals\n",
    "df['total_price'] = (df['price'] * df['quantity'])\n",
    "df.drop(['quantity', 'price'], axis=1, inplace=True)\n",
    "df.head()"
   ]
  },
  {
   "attachments": {},
   "cell_type": "markdown",
   "metadata": {},
   "source": [
    "Finally, we also want to know how many data points there are for each category to get a better sense of the spread of our dataset."
   ]
  },
  {
   "cell_type": "code",
   "execution_count": 109,
   "metadata": {},
   "outputs": [
    {
     "data": {
      "text/plain": [
       "Clothing           34487\n",
       "Cosmetics          15097\n",
       "Food & Beverage    14776\n",
       "Technology          4996\n",
       "Name: category, dtype: int64"
      ]
     },
     "execution_count": 109,
     "metadata": {},
     "output_type": "execute_result"
    }
   ],
   "source": [
    "df['category'].value_counts()"
   ]
  },
  {
   "attachments": {},
   "cell_type": "markdown",
   "metadata": {},
   "source": [
    "It looks like clothing is the majority class whereas Technology is the minority class. "
   ]
  },
  {
   "attachments": {},
   "cell_type": "markdown",
   "metadata": {},
   "source": [
    "### Visualizing the cleaned data "
   ]
  },
  {
   "attachments": {},
   "cell_type": "markdown",
   "metadata": {},
   "source": [
    "One of the first pieces we want to visualize and compare is the total amount of money spent by females vs. men."
   ]
  },
  {
   "cell_type": "code",
   "execution_count": 110,
   "metadata": {},
   "outputs": [
    {
     "data": {
      "image/png": "[encoded data removed]",
      "text/plain": [
       "<Figure size 720x432 with 1 Axes>"
      ]
     },
     "metadata": {
      "needs_background": "light"
     },
     "output_type": "display_data"
    }
   ],
   "source": [
    "plt.figure(figsize=(10,6))\n",
    "sns.barplot(df,x='gender',y='total_price',hue = 'gender',estimator = sum)\n",
    "plt.ylabel('Total amount spent')\n",
    "plt.title('Total Amount spent by males vs. females ')\n",
    "plt.ticklabel_format(style='plain',axis='y')\n",
    "plt.show()"
   ]
  },
  {
   "attachments": {},
   "cell_type": "markdown",
   "metadata": {},
   "source": [
    "It is evident that the overall total amount of money spent by females is considerably higher. "
   ]
  },
  {
   "attachments": {},
   "cell_type": "markdown",
   "metadata": {},
   "source": [
    "Next, we want to comapare the amount of money spent per category by males vs. females "
   ]
  },
  {
   "cell_type": "code",
   "execution_count": 111,
   "metadata": {},
   "outputs": [
    {
     "data": {
      "image/png": "[encoded data removed]",
      "text/plain": [
       "<Figure size 720x432 with 1 Axes>"
      ]
     },
     "metadata": {
      "needs_background": "light"
     },
     "output_type": "display_data"
    }
   ],
   "source": [
    "plt.figure(figsize=(10,6))\n",
    "sns.barplot(df,x='category',y='total_price',hue = 'gender',estimator = sum)\n",
    "plt.title('Category Wise Shopping')\n",
    "plt.show()"
   ]
  },
  {
   "attachments": {},
   "cell_type": "markdown",
   "metadata": {},
   "source": [
    "It looks like the total amount of money spent in clothing, cosmetics, and technology by females is considerably higher than the total amount of money spent by men in those categories, but we want to see if this same trend follows for the average amount of money spent by females vs. males in each of these categories. \n",
    "\n",
    "**Calculating average amount of money spent by females vs. males in each of these categories:**"
   ]
  },
  {
   "cell_type": "code",
   "execution_count": 112,
   "metadata": {},
   "outputs": [
    {
     "data": {
      "image/png": "[encoded data removed]",
      "text/plain": [
       "<Figure size 720x432 with 1 Axes>"
      ]
     },
     "metadata": {
      "needs_background": "light"
     },
     "output_type": "display_data"
    }
   ],
   "source": [
    "plt.figure(figsize=(10,6))\n",
    "ax = sns.barplot(df,x='category',y='total_price',hue = 'gender',estimator = 'mean')\n",
    "ax.set(xlabel='Category',\n",
    "       ylabel='Average amount of money spent',\n",
    "       title='Category Wise Shopping by Gender')\n",
    "plt.show()"
   ]
  },
  {
   "cell_type": "code",
   "execution_count": 113,
   "metadata": {},
   "outputs": [
    {
     "name": "stdout",
     "output_type": "stream",
     "text": [
      "   gender         category   total_price\n",
      "0  Female         Clothing   3304.846775\n",
      "1  Female        Cosmetics    448.376245\n",
      "2  Female  Food & Beverage     57.396933\n",
      "3  Female       Technology  11630.308621\n",
      "4    Male         Clothing   3306.475999\n",
      "5    Male        Cosmetics    452.312985\n",
      "6    Male  Food & Beverage     57.637718\n",
      "7    Male       Technology  11509.875931\n",
      "\n",
      "    gender         category        age\n",
      "0  Female         Clothing  43.381948\n",
      "1  Female        Cosmetics  43.571665\n",
      "2  Female  Food & Beverage  43.489209\n",
      "3  Female       Technology  43.249581\n",
      "4    Male         Clothing  43.449946\n",
      "5    Male        Cosmetics  43.594160\n",
      "6    Male  Food & Beverage  43.155727\n",
      "7    Male       Technology  43.544417\n"
     ]
    }
   ],
   "source": [
    "# checking average price spent by gender per category\n",
    "avg_price_spent_per=df.groupby(['gender','category'], as_index=False)['total_price'].mean()\n",
    "avg_age_per=df.groupby(['gender','category'], as_index=False)['age'].mean()\n",
    "print(avg_price_spent_per)\n",
    "print(\"\\n\",avg_age_per)"
   ]
  },
  {
   "attachments": {},
   "cell_type": "markdown",
   "metadata": {},
   "source": [
    "We quickly find a couple of things: \n",
    "1.  There is a noticeable amount of difference between males and females in total amount spent per category\n",
    "2. There is a noticeable amount of difference between average spending from category to category \n",
    "3. There is very little difference in when comparing males vs. females **within** each category. For example, for the Technology category, Males spent an average of 11509.88 Lira wheras females spent 11630.31 Lira and in the Clothing category, males spent an average of 3306.48  Lira whereas females spent an average of 3304.85 Lira. \n",
    "\n",
    "There lack of variation in our data will become a problem as we will find out later "
   ]
  },
  {
   "cell_type": "code",
   "execution_count": 143,
   "metadata": {},
   "outputs": [
    {
     "data": {
      "image/png": "[encoded data removed]",
      "text/plain": [
       "<Figure size 1440x432 with 1 Axes>"
      ]
     },
     "metadata": {
      "needs_background": "light"
     },
     "output_type": "display_data"
    }
   ],
   "source": [
    "plt.figure(figsize=(20,6))\n",
    "ax = sns.barplot(df,x='shopping_mall',y='total_price',hue = 'gender',estimator = 'mean')\n",
    "ax.set(xlabel='Shopping mall',\n",
    "       ylabel='Average amount of money spent',\n",
    "       title='Shopping Mall Wise Shopping by Gender')\n",
    "plt.show()"
   ]
  },
  {
   "cell_type": "code",
   "execution_count": 142,
   "metadata": {},
   "outputs": [
    {
     "name": "stdout",
     "output_type": "stream",
     "text": [
      "    gender      shopping_mall  total_price\n",
      "0   Female        Cevahir AVM  2578.274630\n",
      "1   Female  Emaar Square Mall  2721.922403\n",
      "2   Female     Forum Istanbul  2498.865477\n",
      "3   Female       Istinye Park  2601.940877\n",
      "4   Female             Kanyon  2652.917047\n",
      "5   Female   Mall of Istanbul  2588.465487\n",
      "6   Female          Metrocity  2565.397838\n",
      "7   Female       Metropol AVM  2399.639890\n",
      "8   Female     Viaport Outlet  2723.107971\n",
      "9   Female       Zorlu Center  2628.558746\n",
      "10    Male        Cevahir AVM  2666.947484\n",
      "11    Male  Emaar Square Mall  2652.309208\n",
      "12    Male     Forum Istanbul  2567.935761\n",
      "13    Male       Istinye Park  2516.635455\n",
      "14    Male             Kanyon  2572.807329\n",
      "15    Male   Mall of Istanbul  2626.392354\n",
      "16    Male          Metrocity  2540.795903\n",
      "17    Male       Metropol AVM  2670.127212\n",
      "18    Male     Viaport Outlet  2517.975887\n",
      "19    Male       Zorlu Center  2509.945500\n"
     ]
    }
   ],
   "source": [
    "avg_price_spent_per=df.groupby(['gender','shopping_mall'], as_index=False)['total_price'].mean()\n",
    "print(avg_price_spent_per)"
   ]
  },
  {
   "attachments": {},
   "cell_type": "markdown",
   "metadata": {},
   "source": [
    "There is very little difference in when comparing males vs. females **within** for each shopping mall as well.  "
   ]
  },
  {
   "attachments": {},
   "cell_type": "markdown",
   "metadata": {},
   "source": [
    "# Part 1: Tackling the Initial Problem Statement "
   ]
  },
  {
   "attachments": {},
   "cell_type": "markdown",
   "metadata": {},
   "source": [
    "### Creating class labels for our dataset "
   ]
  },
  {
   "attachments": {},
   "cell_type": "markdown",
   "metadata": {},
   "source": [
    "After visualizing and understanding our dataset, we will now be creating class labels for our dataset. We want to have 3 labels - Yes, No, and Maybe which represent if we should market to this person based on their shopping habits - i.e amount of money spent in a particular category. \n",
    "\n",
    "Our cutoffs of creating each of these labels will be based on total cost percentiles per category - \n",
    "\n",
    "\n",
    "1. **Yes** - This person's total cost in a certain category is more than the 75 percentile of total money spent in that certain category, therfore, we will defintely want to market to these people. \n",
    "\n",
    "\n",
    "2. **Maybe** - This person's total cost in a certain category is less than the 75 percentile but more than the 25 percentile of total money spent in that certain category, therfore, we will may want to market to these people, but will want to give higher priority to people who have spent more money. \n",
    "\n",
    "\n",
    "3. **No** -  This person's total cost in a certain category is less than the 25 percentile but more than the median of total money spent in that certain category, therfore, we do not want to market to these people and conserve our resources instead. "
   ]
  },
  {
   "cell_type": "code",
   "execution_count": 114,
   "metadata": {},
   "outputs": [
    {
     "data": {
      "text/plain": [
       "gender  0     Female\n",
       "        1     Female\n",
       "        2     Female\n",
       "        3     Female\n",
       "        4       Male\n",
       "              ...   \n",
       "max     3    26250.0\n",
       "        4     7502.0\n",
       "        5     1016.5\n",
       "        6     130.75\n",
       "        7    26250.0\n",
       "Length: 80, dtype: object"
      ]
     },
     "execution_count": 114,
     "metadata": {},
     "output_type": "execute_result"
    }
   ],
   "source": [
    "df.groupby(['gender','category'], as_index=False)['total_price'].describe()"
   ]
  },
  {
   "cell_type": "code",
   "execution_count": 115,
   "metadata": {},
   "outputs": [
    {
     "data": {
      "text/plain": [
       "gender  0    Female\n",
       "        1    Female\n",
       "        2    Female\n",
       "        3    Female\n",
       "        4      Male\n",
       "              ...  \n",
       "max     3      69.0\n",
       "        4      69.0\n",
       "        5      69.0\n",
       "        6      69.0\n",
       "        7      69.0\n",
       "Length: 80, dtype: object"
      ]
     },
     "execution_count": 115,
     "metadata": {},
     "output_type": "execute_result"
    }
   ],
   "source": [
    "df.groupby(['gender','category'], as_index=False)['age'].describe()"
   ]
  },
  {
   "attachments": {},
   "cell_type": "markdown",
   "metadata": {},
   "source": [
    "Now that we have found the 25th, 50th, and 75th percentiles. We use the rules above to assign class labels. "
   ]
  },
  {
   "cell_type": "code",
   "execution_count": 116,
   "metadata": {},
   "outputs": [],
   "source": [
    "# creating the class label\n",
    "# label -> ['maybe', 'no', 'yes']\n",
    "def assignNewLabels(row):\n",
    "    # for book shoppers\n",
    "    if row['category'] == \"Technology\" and row[\"total_price\"] > 16800:\n",
    "        return \"yes\"\n",
    "    elif row['category'] == \"Technology\" and row[\"total_price\"] <= 4200:\n",
    "        return \"no\"\n",
    "    elif row['category'] == \"Technology\" and row[\"total_price\"] > 4200.0 and row[\"total_price\"] <= 16800:\n",
    "        return \"maybe\"\n",
    "    \n",
    "    # for clothing\n",
    "    elif row['category'] == \"Clothing\" and row[\"total_price\"] > 4801.28:\n",
    "        return \"yes\"\n",
    "    elif row['category'] == \"Clothing\" and row[\"total_price\"] <= 1200.32:\n",
    "        return \"no\"\n",
    "    elif row['category'] == \"Clothing\" and row[\"total_price\"] > 1200.32 and row[\"total_price\"] <= 4801.28:\n",
    "        return \"maybe\"\n",
    "    \n",
    "    # for clothing\n",
    "    elif row['category'] == \"Cosmetics\" and row[\"total_price\"] > 650.56:\n",
    "        return \"yes\"\n",
    "    elif row['category'] == \"Cosmetics\" and row[\"total_price\"] <= 162.64:\n",
    "        return \"no\"\n",
    "    elif row['category'] == \"Cosmetics\" and row[\"total_price\"] > 162.64 and row[\"total_price\"] <= 650.56:\n",
    "        return \"maybe\"\n",
    "    \n",
    "    # for clothing\n",
    "    elif row['category'] == \"Food & Beverage\" and row[\"total_price\"] > 83.68:\n",
    "        return \"yes\"\n",
    "    elif row['category'] == \"Food & Beverage\" and row[\"total_price\"] <= 20.92:\n",
    "        return \"no\"\n",
    "    elif row['category'] == \"Food & Beverage\" and row[\"total_price\"] > 20.92 and row[\"total_price\"] <= 83.68:\n",
    "        return \"maybe\""
   ]
  },
  {
   "cell_type": "code",
   "execution_count": 117,
   "metadata": {},
   "outputs": [
    {
     "data": {
      "text/html": [
       "<div>\n",
       "<style scoped>\n",
       "    .dataframe tbody tr th:only-of-type {\n",
       "        vertical-align: middle;\n",
       "    }\n",
       "\n",
       "    .dataframe tbody tr th {\n",
       "        vertical-align: top;\n",
       "    }\n",
       "\n",
       "    .dataframe thead th {\n",
       "        text-align: right;\n",
       "    }\n",
       "</style>\n",
       "<table border=\"1\" class=\"dataframe\">\n",
       "  <thead>\n",
       "    <tr style=\"text-align: right;\">\n",
       "      <th></th>\n",
       "      <th>gender</th>\n",
       "      <th>age</th>\n",
       "      <th>category</th>\n",
       "      <th>shopping_mall</th>\n",
       "      <th>total_price</th>\n",
       "      <th>Should_We_Market</th>\n",
       "    </tr>\n",
       "  </thead>\n",
       "  <tbody>\n",
       "    <tr>\n",
       "      <th>0</th>\n",
       "      <td>Female</td>\n",
       "      <td>28</td>\n",
       "      <td>Clothing</td>\n",
       "      <td>Kanyon</td>\n",
       "      <td>7502.00</td>\n",
       "      <td>yes</td>\n",
       "    </tr>\n",
       "    <tr>\n",
       "      <th>2</th>\n",
       "      <td>Male</td>\n",
       "      <td>20</td>\n",
       "      <td>Clothing</td>\n",
       "      <td>Metrocity</td>\n",
       "      <td>300.08</td>\n",
       "      <td>no</td>\n",
       "    </tr>\n",
       "    <tr>\n",
       "      <th>5</th>\n",
       "      <td>Female</td>\n",
       "      <td>28</td>\n",
       "      <td>Clothing</td>\n",
       "      <td>Forum Istanbul</td>\n",
       "      <td>7502.00</td>\n",
       "      <td>yes</td>\n",
       "    </tr>\n",
       "    <tr>\n",
       "      <th>6</th>\n",
       "      <td>Female</td>\n",
       "      <td>49</td>\n",
       "      <td>Cosmetics</td>\n",
       "      <td>Istinye Park</td>\n",
       "      <td>40.66</td>\n",
       "      <td>no</td>\n",
       "    </tr>\n",
       "    <tr>\n",
       "      <th>7</th>\n",
       "      <td>Female</td>\n",
       "      <td>32</td>\n",
       "      <td>Clothing</td>\n",
       "      <td>Mall of Istanbul</td>\n",
       "      <td>1200.32</td>\n",
       "      <td>no</td>\n",
       "    </tr>\n",
       "  </tbody>\n",
       "</table>\n",
       "</div>"
      ],
      "text/plain": [
       "   gender  age   category     shopping_mall  total_price Should_We_Market\n",
       "0  Female   28   Clothing            Kanyon      7502.00              yes\n",
       "2    Male   20   Clothing         Metrocity       300.08               no\n",
       "5  Female   28   Clothing    Forum Istanbul      7502.00              yes\n",
       "6  Female   49  Cosmetics      Istinye Park        40.66               no\n",
       "7  Female   32   Clothing  Mall of Istanbul      1200.32               no"
      ]
     },
     "execution_count": 117,
     "metadata": {},
     "output_type": "execute_result"
    }
   ],
   "source": [
    "df['Should_We_Market'] = df.apply(lambda row: assignNewLabels(row), axis=1)\n",
    "df.head()"
   ]
  },
  {
   "attachments": {},
   "cell_type": "markdown",
   "metadata": {},
   "source": [
    "We now have our new class labels that our models will now try to predict. "
   ]
  },
  {
   "attachments": {},
   "cell_type": "markdown",
   "metadata": {},
   "source": [
    "### Starting the Machine Learning Process \n",
    "**One Hot Encoding**"
   ]
  },
  {
   "attachments": {},
   "cell_type": "markdown",
   "metadata": {},
   "source": [
    "We are creating one hot encoded labels for each gender and category features as we are doing multilclass classification. We chose to opt in for this as opposed to just integer labels like 1, 2, 3, 4 corresponding to each category because we do not want there to be assumed ordinal relationship between the categories. "
   ]
  },
  {
   "cell_type": "code",
   "execution_count": 118,
   "metadata": {},
   "outputs": [
    {
     "data": {
      "text/html": [
       "<div>\n",
       "<style scoped>\n",
       "    .dataframe tbody tr th:only-of-type {\n",
       "        vertical-align: middle;\n",
       "    }\n",
       "\n",
       "    .dataframe tbody tr th {\n",
       "        vertical-align: top;\n",
       "    }\n",
       "\n",
       "    .dataframe thead th {\n",
       "        text-align: right;\n",
       "    }\n",
       "</style>\n",
       "<table border=\"1\" class=\"dataframe\">\n",
       "  <thead>\n",
       "    <tr style=\"text-align: right;\">\n",
       "      <th></th>\n",
       "      <th>age</th>\n",
       "      <th>total_price</th>\n",
       "      <th>gender_Female</th>\n",
       "      <th>gender_Male</th>\n",
       "      <th>category_Clothing</th>\n",
       "      <th>category_Cosmetics</th>\n",
       "      <th>category_Food &amp; Beverage</th>\n",
       "      <th>category_Technology</th>\n",
       "      <th>shopping_mall_Cevahir AVM</th>\n",
       "      <th>shopping_mall_Emaar Square Mall</th>\n",
       "      <th>shopping_mall_Forum Istanbul</th>\n",
       "      <th>shopping_mall_Istinye Park</th>\n",
       "      <th>shopping_mall_Kanyon</th>\n",
       "      <th>shopping_mall_Mall of Istanbul</th>\n",
       "      <th>shopping_mall_Metrocity</th>\n",
       "      <th>shopping_mall_Metropol AVM</th>\n",
       "      <th>shopping_mall_Viaport Outlet</th>\n",
       "      <th>shopping_mall_Zorlu Center</th>\n",
       "    </tr>\n",
       "  </thead>\n",
       "  <tbody>\n",
       "    <tr>\n",
       "      <th>0</th>\n",
       "      <td>28</td>\n",
       "      <td>7502.00</td>\n",
       "      <td>1</td>\n",
       "      <td>0</td>\n",
       "      <td>1</td>\n",
       "      <td>0</td>\n",
       "      <td>0</td>\n",
       "      <td>0</td>\n",
       "      <td>0</td>\n",
       "      <td>0</td>\n",
       "      <td>0</td>\n",
       "      <td>0</td>\n",
       "      <td>1</td>\n",
       "      <td>0</td>\n",
       "      <td>0</td>\n",
       "      <td>0</td>\n",
       "      <td>0</td>\n",
       "      <td>0</td>\n",
       "    </tr>\n",
       "    <tr>\n",
       "      <th>2</th>\n",
       "      <td>20</td>\n",
       "      <td>300.08</td>\n",
       "      <td>0</td>\n",
       "      <td>1</td>\n",
       "      <td>1</td>\n",
       "      <td>0</td>\n",
       "      <td>0</td>\n",
       "      <td>0</td>\n",
       "      <td>0</td>\n",
       "      <td>0</td>\n",
       "      <td>0</td>\n",
       "      <td>0</td>\n",
       "      <td>0</td>\n",
       "      <td>0</td>\n",
       "      <td>1</td>\n",
       "      <td>0</td>\n",
       "      <td>0</td>\n",
       "      <td>0</td>\n",
       "    </tr>\n",
       "    <tr>\n",
       "      <th>5</th>\n",
       "      <td>28</td>\n",
       "      <td>7502.00</td>\n",
       "      <td>1</td>\n",
       "      <td>0</td>\n",
       "      <td>1</td>\n",
       "      <td>0</td>\n",
       "      <td>0</td>\n",
       "      <td>0</td>\n",
       "      <td>0</td>\n",
       "      <td>0</td>\n",
       "      <td>1</td>\n",
       "      <td>0</td>\n",
       "      <td>0</td>\n",
       "      <td>0</td>\n",
       "      <td>0</td>\n",
       "      <td>0</td>\n",
       "      <td>0</td>\n",
       "      <td>0</td>\n",
       "    </tr>\n",
       "    <tr>\n",
       "      <th>6</th>\n",
       "      <td>49</td>\n",
       "      <td>40.66</td>\n",
       "      <td>1</td>\n",
       "      <td>0</td>\n",
       "      <td>0</td>\n",
       "      <td>1</td>\n",
       "      <td>0</td>\n",
       "      <td>0</td>\n",
       "      <td>0</td>\n",
       "      <td>0</td>\n",
       "      <td>0</td>\n",
       "      <td>1</td>\n",
       "      <td>0</td>\n",
       "      <td>0</td>\n",
       "      <td>0</td>\n",
       "      <td>0</td>\n",
       "      <td>0</td>\n",
       "      <td>0</td>\n",
       "    </tr>\n",
       "    <tr>\n",
       "      <th>7</th>\n",
       "      <td>32</td>\n",
       "      <td>1200.32</td>\n",
       "      <td>1</td>\n",
       "      <td>0</td>\n",
       "      <td>1</td>\n",
       "      <td>0</td>\n",
       "      <td>0</td>\n",
       "      <td>0</td>\n",
       "      <td>0</td>\n",
       "      <td>0</td>\n",
       "      <td>0</td>\n",
       "      <td>0</td>\n",
       "      <td>0</td>\n",
       "      <td>1</td>\n",
       "      <td>0</td>\n",
       "      <td>0</td>\n",
       "      <td>0</td>\n",
       "      <td>0</td>\n",
       "    </tr>\n",
       "  </tbody>\n",
       "</table>\n",
       "</div>"
      ],
      "text/plain": [
       "   age  total_price  gender_Female  gender_Male  category_Clothing  \\\n",
       "0   28      7502.00              1            0                  1   \n",
       "2   20       300.08              0            1                  1   \n",
       "5   28      7502.00              1            0                  1   \n",
       "6   49        40.66              1            0                  0   \n",
       "7   32      1200.32              1            0                  1   \n",
       "\n",
       "   category_Cosmetics  category_Food & Beverage  category_Technology  \\\n",
       "0                   0                         0                    0   \n",
       "2                   0                         0                    0   \n",
       "5                   0                         0                    0   \n",
       "6                   1                         0                    0   \n",
       "7                   0                         0                    0   \n",
       "\n",
       "   shopping_mall_Cevahir AVM  shopping_mall_Emaar Square Mall  \\\n",
       "0                          0                                0   \n",
       "2                          0                                0   \n",
       "5                          0                                0   \n",
       "6                          0                                0   \n",
       "7                          0                                0   \n",
       "\n",
       "   shopping_mall_Forum Istanbul  shopping_mall_Istinye Park  \\\n",
       "0                             0                           0   \n",
       "2                             0                           0   \n",
       "5                             1                           0   \n",
       "6                             0                           1   \n",
       "7                             0                           0   \n",
       "\n",
       "   shopping_mall_Kanyon  shopping_mall_Mall of Istanbul  \\\n",
       "0                     1                               0   \n",
       "2                     0                               0   \n",
       "5                     0                               0   \n",
       "6                     0                               0   \n",
       "7                     0                               1   \n",
       "\n",
       "   shopping_mall_Metrocity  shopping_mall_Metropol AVM  \\\n",
       "0                        0                           0   \n",
       "2                        1                           0   \n",
       "5                        0                           0   \n",
       "6                        0                           0   \n",
       "7                        0                           0   \n",
       "\n",
       "   shopping_mall_Viaport Outlet  shopping_mall_Zorlu Center  \n",
       "0                             0                           0  \n",
       "2                             0                           0  \n",
       "5                             0                           0  \n",
       "6                             0                           0  \n",
       "7                             0                           0  "
      ]
     },
     "execution_count": 118,
     "metadata": {},
     "output_type": "execute_result"
    }
   ],
   "source": [
    "df_dummy = pd.get_dummies(df[['gender', 'category', 'age', 'total_price', 'shopping_mall']])\n",
    "df_dummy.head()\n"
   ]
  },
  {
   "attachments": {},
   "cell_type": "markdown",
   "metadata": {},
   "source": [
    "**Min-max normalization**\n",
    "\n",
    "We normalize our age and price features to ensure uniformity and ensure that they are all within the same range, [0,1]\n"
   ]
  },
  {
   "cell_type": "code",
   "execution_count": 119,
   "metadata": {},
   "outputs": [],
   "source": [
    "\n",
    "# Normalizing the ages\n",
    "min_age = df_dummy['age'].min()\n",
    "max_age = df_dummy['age'].max()\n",
    "\n",
    "# Apply min-max normalization to the 'age' column\n",
    "df_dummy['normalized_age'] = (df_dummy['age'] - min_age) / (max_age - min_age)\n",
    "df_dummy.drop(['age'], axis=1, inplace=True)\n",
    "\n"
   ]
  },
  {
   "cell_type": "code",
   "execution_count": 120,
   "metadata": {},
   "outputs": [],
   "source": [
    "# Normalize the prices\n",
    "\n",
    "min_price = df_dummy['total_price'].min()\n",
    "max_price = df_dummy['total_price'].max()\n",
    "\n",
    "# Apply min-max normalization to the 'price' column\n",
    "df_dummy['normalized_price'] = (df_dummy['total_price'] - min_price) / (max_price - min_price)\n",
    "df_dummy.drop(['total_price'], axis=1, inplace=True)\n",
    "\n"
   ]
  },
  {
   "cell_type": "code",
   "execution_count": 121,
   "metadata": {},
   "outputs": [
    {
     "data": {
      "text/html": [
       "<div>\n",
       "<style scoped>\n",
       "    .dataframe tbody tr th:only-of-type {\n",
       "        vertical-align: middle;\n",
       "    }\n",
       "\n",
       "    .dataframe tbody tr th {\n",
       "        vertical-align: top;\n",
       "    }\n",
       "\n",
       "    .dataframe thead th {\n",
       "        text-align: right;\n",
       "    }\n",
       "</style>\n",
       "<table border=\"1\" class=\"dataframe\">\n",
       "  <thead>\n",
       "    <tr style=\"text-align: right;\">\n",
       "      <th></th>\n",
       "      <th>gender_Female</th>\n",
       "      <th>gender_Male</th>\n",
       "      <th>category_Clothing</th>\n",
       "      <th>category_Cosmetics</th>\n",
       "      <th>category_Food &amp; Beverage</th>\n",
       "      <th>category_Technology</th>\n",
       "      <th>shopping_mall_Cevahir AVM</th>\n",
       "      <th>shopping_mall_Emaar Square Mall</th>\n",
       "      <th>shopping_mall_Forum Istanbul</th>\n",
       "      <th>shopping_mall_Istinye Park</th>\n",
       "      <th>shopping_mall_Kanyon</th>\n",
       "      <th>shopping_mall_Mall of Istanbul</th>\n",
       "      <th>shopping_mall_Metrocity</th>\n",
       "      <th>shopping_mall_Metropol AVM</th>\n",
       "      <th>shopping_mall_Viaport Outlet</th>\n",
       "      <th>shopping_mall_Zorlu Center</th>\n",
       "      <th>normalized_age</th>\n",
       "      <th>normalized_price</th>\n",
       "    </tr>\n",
       "  </thead>\n",
       "  <tbody>\n",
       "    <tr>\n",
       "      <th>0</th>\n",
       "      <td>1</td>\n",
       "      <td>0</td>\n",
       "      <td>1</td>\n",
       "      <td>0</td>\n",
       "      <td>0</td>\n",
       "      <td>0</td>\n",
       "      <td>0</td>\n",
       "      <td>0</td>\n",
       "      <td>0</td>\n",
       "      <td>0</td>\n",
       "      <td>1</td>\n",
       "      <td>0</td>\n",
       "      <td>0</td>\n",
       "      <td>0</td>\n",
       "      <td>0</td>\n",
       "      <td>0</td>\n",
       "      <td>0.196078</td>\n",
       "      <td>0.285648</td>\n",
       "    </tr>\n",
       "    <tr>\n",
       "      <th>2</th>\n",
       "      <td>0</td>\n",
       "      <td>1</td>\n",
       "      <td>1</td>\n",
       "      <td>0</td>\n",
       "      <td>0</td>\n",
       "      <td>0</td>\n",
       "      <td>0</td>\n",
       "      <td>0</td>\n",
       "      <td>0</td>\n",
       "      <td>0</td>\n",
       "      <td>0</td>\n",
       "      <td>0</td>\n",
       "      <td>1</td>\n",
       "      <td>0</td>\n",
       "      <td>0</td>\n",
       "      <td>0</td>\n",
       "      <td>0.039216</td>\n",
       "      <td>0.011235</td>\n",
       "    </tr>\n",
       "    <tr>\n",
       "      <th>5</th>\n",
       "      <td>1</td>\n",
       "      <td>0</td>\n",
       "      <td>1</td>\n",
       "      <td>0</td>\n",
       "      <td>0</td>\n",
       "      <td>0</td>\n",
       "      <td>0</td>\n",
       "      <td>0</td>\n",
       "      <td>1</td>\n",
       "      <td>0</td>\n",
       "      <td>0</td>\n",
       "      <td>0</td>\n",
       "      <td>0</td>\n",
       "      <td>0</td>\n",
       "      <td>0</td>\n",
       "      <td>0</td>\n",
       "      <td>0.196078</td>\n",
       "      <td>0.285648</td>\n",
       "    </tr>\n",
       "    <tr>\n",
       "      <th>6</th>\n",
       "      <td>1</td>\n",
       "      <td>0</td>\n",
       "      <td>0</td>\n",
       "      <td>1</td>\n",
       "      <td>0</td>\n",
       "      <td>0</td>\n",
       "      <td>0</td>\n",
       "      <td>0</td>\n",
       "      <td>0</td>\n",
       "      <td>1</td>\n",
       "      <td>0</td>\n",
       "      <td>0</td>\n",
       "      <td>0</td>\n",
       "      <td>0</td>\n",
       "      <td>0</td>\n",
       "      <td>0</td>\n",
       "      <td>0.607843</td>\n",
       "      <td>0.001350</td>\n",
       "    </tr>\n",
       "    <tr>\n",
       "      <th>7</th>\n",
       "      <td>1</td>\n",
       "      <td>0</td>\n",
       "      <td>1</td>\n",
       "      <td>0</td>\n",
       "      <td>0</td>\n",
       "      <td>0</td>\n",
       "      <td>0</td>\n",
       "      <td>0</td>\n",
       "      <td>0</td>\n",
       "      <td>0</td>\n",
       "      <td>0</td>\n",
       "      <td>1</td>\n",
       "      <td>0</td>\n",
       "      <td>0</td>\n",
       "      <td>0</td>\n",
       "      <td>0</td>\n",
       "      <td>0.274510</td>\n",
       "      <td>0.045536</td>\n",
       "    </tr>\n",
       "  </tbody>\n",
       "</table>\n",
       "</div>"
      ],
      "text/plain": [
       "   gender_Female  gender_Male  category_Clothing  category_Cosmetics  \\\n",
       "0              1            0                  1                   0   \n",
       "2              0            1                  1                   0   \n",
       "5              1            0                  1                   0   \n",
       "6              1            0                  0                   1   \n",
       "7              1            0                  1                   0   \n",
       "\n",
       "   category_Food & Beverage  category_Technology  shopping_mall_Cevahir AVM  \\\n",
       "0                         0                    0                          0   \n",
       "2                         0                    0                          0   \n",
       "5                         0                    0                          0   \n",
       "6                         0                    0                          0   \n",
       "7                         0                    0                          0   \n",
       "\n",
       "   shopping_mall_Emaar Square Mall  shopping_mall_Forum Istanbul  \\\n",
       "0                                0                             0   \n",
       "2                                0                             0   \n",
       "5                                0                             1   \n",
       "6                                0                             0   \n",
       "7                                0                             0   \n",
       "\n",
       "   shopping_mall_Istinye Park  shopping_mall_Kanyon  \\\n",
       "0                           0                     1   \n",
       "2                           0                     0   \n",
       "5                           0                     0   \n",
       "6                           1                     0   \n",
       "7                           0                     0   \n",
       "\n",
       "   shopping_mall_Mall of Istanbul  shopping_mall_Metrocity  \\\n",
       "0                               0                        0   \n",
       "2                               0                        1   \n",
       "5                               0                        0   \n",
       "6                               0                        0   \n",
       "7                               1                        0   \n",
       "\n",
       "   shopping_mall_Metropol AVM  shopping_mall_Viaport Outlet  \\\n",
       "0                           0                             0   \n",
       "2                           0                             0   \n",
       "5                           0                             0   \n",
       "6                           0                             0   \n",
       "7                           0                             0   \n",
       "\n",
       "   shopping_mall_Zorlu Center  normalized_age  normalized_price  \n",
       "0                           0        0.196078          0.285648  \n",
       "2                           0        0.039216          0.011235  \n",
       "5                           0        0.196078          0.285648  \n",
       "6                           0        0.607843          0.001350  \n",
       "7                           0        0.274510          0.045536  "
      ]
     },
     "execution_count": 121,
     "metadata": {},
     "output_type": "execute_result"
    }
   ],
   "source": [
    "df_dummy.head()"
   ]
  },
  {
   "attachments": {},
   "cell_type": "markdown",
   "metadata": {},
   "source": [
    "## Running the Models\n",
    "\n",
    "We are working with a 80/20 train test split for all of our models. \n",
    "\n",
    "We start with a Gaussian Naive Bayes. We chose this model because []"
   ]
  },
  {
   "attachments": {},
   "cell_type": "markdown",
   "metadata": {},
   "source": [
    "### Gaussian Naive Bayes with labels = yes or no or maybe"
   ]
  },
  {
   "cell_type": "code",
   "execution_count": 122,
   "metadata": {},
   "outputs": [
    {
     "name": "stdout",
     "output_type": "stream",
     "text": [
      "(69356, 18) (69356,)\n"
     ]
    }
   ],
   "source": [
    "X = df_dummy\n",
    "y = df.Should_We_Market\n",
    "\n",
    "print(X.shape, y.shape)\n",
    "X_train, X_test, y_train, y_test = train_test_split(\n",
    "    X, y, test_size=0.20, random_state=125\n",
    ")"
   ]
  },
  {
   "cell_type": "code",
   "execution_count": 123,
   "metadata": {},
   "outputs": [
    {
     "name": "stdout",
     "output_type": "stream",
     "text": [
      "Accuracy: 0.6008506343713956\n",
      "F1 Score: 0.6575598917743605\n"
     ]
    },
    {
     "data": {
      "image/png": "[encoded data removed]",
      "text/plain": [
       "<Figure size 432x288 with 2 Axes>"
      ]
     },
     "metadata": {
      "needs_background": "light"
     },
     "output_type": "display_data"
    }
   ],
   "source": [
    "# Build a Gaussian Classifier\n",
    "model = GaussianNB()\n",
    "\n",
    "# Model training\n",
    "model.fit(X_train, y_train)\n",
    "\n",
    "y_pred = model.predict(X_test)\n",
    "accuracy = accuracy_score(y_pred, y_test)\n",
    "f1 = f1_score(y_pred, y_test, average=\"weighted\")\n",
    "\n",
    "print(\"Accuracy:\", accuracy)\n",
    "print(\"F1 Score:\", f1)\n",
    "\n",
    "\n",
    "cm = confusion_matrix(y_test, y_pred, labels=[\"maybe\", \"no\", \"yes\"])\n",
    "disp = ConfusionMatrixDisplay(confusion_matrix=cm, display_labels=[\"maybe\", \"no\", \"yes\"])\n",
    "disp.plot();\n",
    "\n",
    "# interpret results in writeup using https://www.v7labs.com/blog/confusion-matrix-guide"
   ]
  },
  {
   "attachments": {},
   "cell_type": "markdown",
   "metadata": {},
   "source": [
    "We can see that accuracy is low, and we realize further that this is wrong for the following reasons.\n",
    "\n",
    "List reasons here: \n",
    "Now we will repurpose our statement to classify shopper's spending categories based on spending habits and gender and age."
   ]
  },
  {
   "cell_type": "markdown",
   "metadata": {},
   "source": [
    "# Part 2: Updated Problem Statement "
   ]
  },
  {
   "attachments": {},
   "cell_type": "markdown",
   "metadata": {},
   "source": [
    "## Random Forest Classification for Feature Selection"
   ]
  },
  {
   "attachments": {},
   "cell_type": "markdown",
   "metadata": {},
   "source": [
    "We first take a step back and create one hot-encodings with the features we want once more. "
   ]
  },
  {
   "cell_type": "code",
   "execution_count": 124,
   "metadata": {},
   "outputs": [
    {
     "data": {
      "text/html": [
       "<div>\n",
       "<style scoped>\n",
       "    .dataframe tbody tr th:only-of-type {\n",
       "        vertical-align: middle;\n",
       "    }\n",
       "\n",
       "    .dataframe tbody tr th {\n",
       "        vertical-align: top;\n",
       "    }\n",
       "\n",
       "    .dataframe thead th {\n",
       "        text-align: right;\n",
       "    }\n",
       "</style>\n",
       "<table border=\"1\" class=\"dataframe\">\n",
       "  <thead>\n",
       "    <tr style=\"text-align: right;\">\n",
       "      <th></th>\n",
       "      <th>age</th>\n",
       "      <th>total_price</th>\n",
       "      <th>gender_Female</th>\n",
       "      <th>gender_Male</th>\n",
       "      <th>shopping_mall_Cevahir AVM</th>\n",
       "      <th>shopping_mall_Emaar Square Mall</th>\n",
       "      <th>shopping_mall_Forum Istanbul</th>\n",
       "      <th>shopping_mall_Istinye Park</th>\n",
       "      <th>shopping_mall_Kanyon</th>\n",
       "      <th>shopping_mall_Mall of Istanbul</th>\n",
       "      <th>shopping_mall_Metrocity</th>\n",
       "      <th>shopping_mall_Metropol AVM</th>\n",
       "      <th>shopping_mall_Viaport Outlet</th>\n",
       "      <th>shopping_mall_Zorlu Center</th>\n",
       "    </tr>\n",
       "  </thead>\n",
       "  <tbody>\n",
       "    <tr>\n",
       "      <th>0</th>\n",
       "      <td>28</td>\n",
       "      <td>7502.00</td>\n",
       "      <td>1</td>\n",
       "      <td>0</td>\n",
       "      <td>0</td>\n",
       "      <td>0</td>\n",
       "      <td>0</td>\n",
       "      <td>0</td>\n",
       "      <td>1</td>\n",
       "      <td>0</td>\n",
       "      <td>0</td>\n",
       "      <td>0</td>\n",
       "      <td>0</td>\n",
       "      <td>0</td>\n",
       "    </tr>\n",
       "    <tr>\n",
       "      <th>2</th>\n",
       "      <td>20</td>\n",
       "      <td>300.08</td>\n",
       "      <td>0</td>\n",
       "      <td>1</td>\n",
       "      <td>0</td>\n",
       "      <td>0</td>\n",
       "      <td>0</td>\n",
       "      <td>0</td>\n",
       "      <td>0</td>\n",
       "      <td>0</td>\n",
       "      <td>1</td>\n",
       "      <td>0</td>\n",
       "      <td>0</td>\n",
       "      <td>0</td>\n",
       "    </tr>\n",
       "    <tr>\n",
       "      <th>5</th>\n",
       "      <td>28</td>\n",
       "      <td>7502.00</td>\n",
       "      <td>1</td>\n",
       "      <td>0</td>\n",
       "      <td>0</td>\n",
       "      <td>0</td>\n",
       "      <td>1</td>\n",
       "      <td>0</td>\n",
       "      <td>0</td>\n",
       "      <td>0</td>\n",
       "      <td>0</td>\n",
       "      <td>0</td>\n",
       "      <td>0</td>\n",
       "      <td>0</td>\n",
       "    </tr>\n",
       "    <tr>\n",
       "      <th>6</th>\n",
       "      <td>49</td>\n",
       "      <td>40.66</td>\n",
       "      <td>1</td>\n",
       "      <td>0</td>\n",
       "      <td>0</td>\n",
       "      <td>0</td>\n",
       "      <td>0</td>\n",
       "      <td>1</td>\n",
       "      <td>0</td>\n",
       "      <td>0</td>\n",
       "      <td>0</td>\n",
       "      <td>0</td>\n",
       "      <td>0</td>\n",
       "      <td>0</td>\n",
       "    </tr>\n",
       "    <tr>\n",
       "      <th>7</th>\n",
       "      <td>32</td>\n",
       "      <td>1200.32</td>\n",
       "      <td>1</td>\n",
       "      <td>0</td>\n",
       "      <td>0</td>\n",
       "      <td>0</td>\n",
       "      <td>0</td>\n",
       "      <td>0</td>\n",
       "      <td>0</td>\n",
       "      <td>1</td>\n",
       "      <td>0</td>\n",
       "      <td>0</td>\n",
       "      <td>0</td>\n",
       "      <td>0</td>\n",
       "    </tr>\n",
       "  </tbody>\n",
       "</table>\n",
       "</div>"
      ],
      "text/plain": [
       "   age  total_price  gender_Female  gender_Male  shopping_mall_Cevahir AVM  \\\n",
       "0   28      7502.00              1            0                          0   \n",
       "2   20       300.08              0            1                          0   \n",
       "5   28      7502.00              1            0                          0   \n",
       "6   49        40.66              1            0                          0   \n",
       "7   32      1200.32              1            0                          0   \n",
       "\n",
       "   shopping_mall_Emaar Square Mall  shopping_mall_Forum Istanbul  \\\n",
       "0                                0                             0   \n",
       "2                                0                             0   \n",
       "5                                0                             1   \n",
       "6                                0                             0   \n",
       "7                                0                             0   \n",
       "\n",
       "   shopping_mall_Istinye Park  shopping_mall_Kanyon  \\\n",
       "0                           0                     1   \n",
       "2                           0                     0   \n",
       "5                           0                     0   \n",
       "6                           1                     0   \n",
       "7                           0                     0   \n",
       "\n",
       "   shopping_mall_Mall of Istanbul  shopping_mall_Metrocity  \\\n",
       "0                               0                        0   \n",
       "2                               0                        1   \n",
       "5                               0                        0   \n",
       "6                               0                        0   \n",
       "7                               1                        0   \n",
       "\n",
       "   shopping_mall_Metropol AVM  shopping_mall_Viaport Outlet  \\\n",
       "0                           0                             0   \n",
       "2                           0                             0   \n",
       "5                           0                             0   \n",
       "6                           0                             0   \n",
       "7                           0                             0   \n",
       "\n",
       "   shopping_mall_Zorlu Center  \n",
       "0                           0  \n",
       "2                           0  \n",
       "5                           0  \n",
       "6                           0  \n",
       "7                           0  "
      ]
     },
     "execution_count": 124,
     "metadata": {},
     "output_type": "execute_result"
    }
   ],
   "source": [
    "df_dummy = pd.get_dummies(df[['gender', 'age', 'total_price', 'shopping_mall']])\n",
    "df_dummy.head()"
   ]
  },
  {
   "attachments": {},
   "cell_type": "markdown",
   "metadata": {},
   "source": [
    "Normalizing the ages to ensure uniformity and bring them to the same range, [0,1] "
   ]
  },
  {
   "cell_type": "code",
   "execution_count": 125,
   "metadata": {},
   "outputs": [
    {
     "data": {
      "text/html": [
       "<div>\n",
       "<style scoped>\n",
       "    .dataframe tbody tr th:only-of-type {\n",
       "        vertical-align: middle;\n",
       "    }\n",
       "\n",
       "    .dataframe tbody tr th {\n",
       "        vertical-align: top;\n",
       "    }\n",
       "\n",
       "    .dataframe thead th {\n",
       "        text-align: right;\n",
       "    }\n",
       "</style>\n",
       "<table border=\"1\" class=\"dataframe\">\n",
       "  <thead>\n",
       "    <tr style=\"text-align: right;\">\n",
       "      <th></th>\n",
       "      <th>gender_Female</th>\n",
       "      <th>gender_Male</th>\n",
       "      <th>shopping_mall_Cevahir AVM</th>\n",
       "      <th>shopping_mall_Emaar Square Mall</th>\n",
       "      <th>shopping_mall_Forum Istanbul</th>\n",
       "      <th>shopping_mall_Istinye Park</th>\n",
       "      <th>shopping_mall_Kanyon</th>\n",
       "      <th>shopping_mall_Mall of Istanbul</th>\n",
       "      <th>shopping_mall_Metrocity</th>\n",
       "      <th>shopping_mall_Metropol AVM</th>\n",
       "      <th>shopping_mall_Viaport Outlet</th>\n",
       "      <th>shopping_mall_Zorlu Center</th>\n",
       "      <th>normalized_age</th>\n",
       "      <th>normalized_price</th>\n",
       "    </tr>\n",
       "  </thead>\n",
       "  <tbody>\n",
       "    <tr>\n",
       "      <th>0</th>\n",
       "      <td>1</td>\n",
       "      <td>0</td>\n",
       "      <td>0</td>\n",
       "      <td>0</td>\n",
       "      <td>0</td>\n",
       "      <td>0</td>\n",
       "      <td>1</td>\n",
       "      <td>0</td>\n",
       "      <td>0</td>\n",
       "      <td>0</td>\n",
       "      <td>0</td>\n",
       "      <td>0</td>\n",
       "      <td>0.196078</td>\n",
       "      <td>0.285648</td>\n",
       "    </tr>\n",
       "    <tr>\n",
       "      <th>2</th>\n",
       "      <td>0</td>\n",
       "      <td>1</td>\n",
       "      <td>0</td>\n",
       "      <td>0</td>\n",
       "      <td>0</td>\n",
       "      <td>0</td>\n",
       "      <td>0</td>\n",
       "      <td>0</td>\n",
       "      <td>1</td>\n",
       "      <td>0</td>\n",
       "      <td>0</td>\n",
       "      <td>0</td>\n",
       "      <td>0.039216</td>\n",
       "      <td>0.011235</td>\n",
       "    </tr>\n",
       "    <tr>\n",
       "      <th>5</th>\n",
       "      <td>1</td>\n",
       "      <td>0</td>\n",
       "      <td>0</td>\n",
       "      <td>0</td>\n",
       "      <td>1</td>\n",
       "      <td>0</td>\n",
       "      <td>0</td>\n",
       "      <td>0</td>\n",
       "      <td>0</td>\n",
       "      <td>0</td>\n",
       "      <td>0</td>\n",
       "      <td>0</td>\n",
       "      <td>0.196078</td>\n",
       "      <td>0.285648</td>\n",
       "    </tr>\n",
       "    <tr>\n",
       "      <th>6</th>\n",
       "      <td>1</td>\n",
       "      <td>0</td>\n",
       "      <td>0</td>\n",
       "      <td>0</td>\n",
       "      <td>0</td>\n",
       "      <td>1</td>\n",
       "      <td>0</td>\n",
       "      <td>0</td>\n",
       "      <td>0</td>\n",
       "      <td>0</td>\n",
       "      <td>0</td>\n",
       "      <td>0</td>\n",
       "      <td>0.607843</td>\n",
       "      <td>0.001350</td>\n",
       "    </tr>\n",
       "    <tr>\n",
       "      <th>7</th>\n",
       "      <td>1</td>\n",
       "      <td>0</td>\n",
       "      <td>0</td>\n",
       "      <td>0</td>\n",
       "      <td>0</td>\n",
       "      <td>0</td>\n",
       "      <td>0</td>\n",
       "      <td>1</td>\n",
       "      <td>0</td>\n",
       "      <td>0</td>\n",
       "      <td>0</td>\n",
       "      <td>0</td>\n",
       "      <td>0.274510</td>\n",
       "      <td>0.045536</td>\n",
       "    </tr>\n",
       "  </tbody>\n",
       "</table>\n",
       "</div>"
      ],
      "text/plain": [
       "   gender_Female  gender_Male  shopping_mall_Cevahir AVM  \\\n",
       "0              1            0                          0   \n",
       "2              0            1                          0   \n",
       "5              1            0                          0   \n",
       "6              1            0                          0   \n",
       "7              1            0                          0   \n",
       "\n",
       "   shopping_mall_Emaar Square Mall  shopping_mall_Forum Istanbul  \\\n",
       "0                                0                             0   \n",
       "2                                0                             0   \n",
       "5                                0                             1   \n",
       "6                                0                             0   \n",
       "7                                0                             0   \n",
       "\n",
       "   shopping_mall_Istinye Park  shopping_mall_Kanyon  \\\n",
       "0                           0                     1   \n",
       "2                           0                     0   \n",
       "5                           0                     0   \n",
       "6                           1                     0   \n",
       "7                           0                     0   \n",
       "\n",
       "   shopping_mall_Mall of Istanbul  shopping_mall_Metrocity  \\\n",
       "0                               0                        0   \n",
       "2                               0                        1   \n",
       "5                               0                        0   \n",
       "6                               0                        0   \n",
       "7                               1                        0   \n",
       "\n",
       "   shopping_mall_Metropol AVM  shopping_mall_Viaport Outlet  \\\n",
       "0                           0                             0   \n",
       "2                           0                             0   \n",
       "5                           0                             0   \n",
       "6                           0                             0   \n",
       "7                           0                             0   \n",
       "\n",
       "   shopping_mall_Zorlu Center  normalized_age  normalized_price  \n",
       "0                           0        0.196078          0.285648  \n",
       "2                           0        0.039216          0.011235  \n",
       "5                           0        0.196078          0.285648  \n",
       "6                           0        0.607843          0.001350  \n",
       "7                           0        0.274510          0.045536  "
      ]
     },
     "execution_count": 125,
     "metadata": {},
     "output_type": "execute_result"
    }
   ],
   "source": [
    "# Normalizing the ages\n",
    "min_age = df_dummy['age'].min()\n",
    "max_age = df_dummy['age'].max()\n",
    "\n",
    "# Apply min-max normalization to the 'age' column\n",
    "df_dummy['normalized_age'] = (df_dummy['age'] - min_age) / (max_age - min_age)\n",
    "\n",
    "# Normalize the prices\n",
    "min_price = df_dummy['total_price'].min()\n",
    "max_price = df_dummy['total_price'].max()\n",
    "\n",
    "# Apply min-max normalization to the 'price' column\n",
    "df_dummy['normalized_price'] = (df_dummy['total_price'] - min_price) / (max_price - min_price)\n",
    "df_dummy.drop(['total_price', 'age'], axis=1, inplace=True)\n",
    "df_dummy.head()\n",
    "\n",
    "\n"
   ]
  },
  {
   "cell_type": "code",
   "execution_count": 126,
   "metadata": {},
   "outputs": [
    {
     "name": "stdout",
     "output_type": "stream",
     "text": [
      "Feature ranking:\n",
      "1. Feature normalized_price (0.9843110372549524)\n",
      "2. Feature normalized_age (0.013057406927066535)\n",
      "3. Feature gender_Female (0.00028952688955515276)\n",
      "4. Feature gender_Male (0.0002840372816461375)\n",
      "5. Feature shopping_mall_Cevahir AVM (0.00022172243648007261)\n",
      "6. Feature shopping_mall_Metrocity (0.0002194576151020334)\n",
      "7. Feature shopping_mall_Viaport Outlet (0.00021654143372355403)\n",
      "8. Feature shopping_mall_Forum Istanbul (0.00021630071080814048)\n",
      "9. Feature shopping_mall_Istinye Park (0.00021088526966657361)\n",
      "10. Feature shopping_mall_Metropol AVM (0.00020296630653846877)\n",
      "11. Feature shopping_mall_Mall of Istanbul (0.00020091088418423866)\n",
      "12. Feature shopping_mall_Zorlu Center (0.00019412166764470903)\n",
      "13. Feature shopping_mall_Emaar Square Mall (0.0001933424455714976)\n",
      "14. Feature shopping_mall_Kanyon (0.00018174287706040137)\n"
     ]
    }
   ],
   "source": [
    "X = df_dummy\n",
    "y = df.category\n",
    "\n",
    "X_train, X_test, y_train, y_test = train_test_split(X, y, test_size=0.25, random_state=42)\n",
    "\n",
    "# Create a Random Forest classifier\n",
    "rf_classifier = RandomForestClassifier()\n",
    "\n",
    "rf_classifier.fit(X_train, y_train)\n",
    "\n",
    "# Get feature importances\n",
    "importances = rf_classifier.feature_importances_\n",
    "\n",
    "# Sort feature importances in descending order\n",
    "indices = importances.argsort()[::-1]\n",
    "print(\"Feature ranking:\")\n",
    "for f in range(X.shape[1]):\n",
    "    print(f\"{f + 1}. Feature {X.columns[indices[f]]} ({importances[indices[f]]})\")"
   ]
  },
  {
   "attachments": {},
   "cell_type": "markdown",
   "metadata": {},
   "source": [
    "According to this dataset, gender and shopping mall dont make a big difference in classififcation whcih lines up with our earlier observations (mean spending is the same per category for males and females), so let’s drop these and try Naive Bayes again\n"
   ]
  },
  {
   "attachments": {},
   "cell_type": "markdown",
   "metadata": {},
   "source": [
    "### Gaussian Naive Bayes with new labels based on categories"
   ]
  },
  {
   "cell_type": "code",
   "execution_count": 127,
   "metadata": {},
   "outputs": [],
   "source": [
    "# dropping useless features according to Random Forest\n",
    "df_dummy.drop(['gender_Female', 'gender_Male', 'shopping_mall_Mall of Istanbul',\n",
    "               'shopping_mall_Metrocity', 'shopping_mall_Forum Istanbul', 'shopping_mall_Viaport Outlet',\n",
    "               'shopping_mall_Emaar Square Mall', 'shopping_mall_Kanyon', 'shopping_mall_Istinye Park',\n",
    "               'shopping_mall_Zorlu Center', 'shopping_mall_Cevahir AVM', 'shopping_mall_Metropol AVM'], axis=1, inplace=True)"
   ]
  },
  {
   "cell_type": "code",
   "execution_count": 128,
   "metadata": {},
   "outputs": [
    {
     "name": "stdout",
     "output_type": "stream",
     "text": [
      "(69356, 2) (69356,)\n"
     ]
    }
   ],
   "source": [
    "X = df_dummy\n",
    "y = df.category\n",
    "\n",
    "print(X.shape, y.shape)\n",
    "X_train, X_test, y_train, y_test = train_test_split(\n",
    "    X, y, test_size=0.25, random_state=125\n",
    ")"
   ]
  },
  {
   "cell_type": "code",
   "execution_count": 129,
   "metadata": {},
   "outputs": [
    {
     "name": "stdout",
     "output_type": "stream",
     "text": [
      "Accuracy: 0.8121575638733491\n",
      "F1 Score: 0.8137622111213028\n"
     ]
    },
    {
     "data": {
      "text/plain": [
       "<sklearn.metrics._plot.confusion_matrix.ConfusionMatrixDisplay at 0x15924ea10>"
      ]
     },
     "execution_count": 129,
     "metadata": {},
     "output_type": "execute_result"
    },
    {
     "data": {
      "image/png": "[encoded data removed]",
      "text/plain": [
       "<Figure size 432x288 with 2 Axes>"
      ]
     },
     "metadata": {
      "needs_background": "light"
     },
     "output_type": "display_data"
    }
   ],
   "source": [
    "# Build a Gaussian Classifier\n",
    "model = GaussianNB()\n",
    "\n",
    "# Model training\n",
    "model.fit(X_train, y_train)\n",
    "\n",
    "y_pred = model.predict(X_test)\n",
    "accuracy = accuracy_score(y_pred, y_test)\n",
    "f1 = f1_score(y_pred, y_test, average=\"weighted\")\n",
    "\n",
    "print(\"Accuracy:\", accuracy)\n",
    "print(\"F1 Score:\", f1)\n",
    "\n",
    "\n",
    "cm = confusion_matrix(y_test, y_pred, labels=[\"Clothing\", \"Cosmetics\", \"Food & Beverage\", \"Technology\"])\n",
    "disp = ConfusionMatrixDisplay(confusion_matrix=cm, display_labels=[\"Clothing\", \"Cosmetics\", \"Food & Beverage\", \"Technology\"])\n",
    "disp.plot()\n",
    "\n",
    "\n",
    "\n",
    "# interpret results in writeup using https://www.v7labs.com/blog/confusion-matrix-guide"
   ]
  },
  {
   "attachments": {},
   "cell_type": "markdown",
   "metadata": {},
   "source": [
    "Accuracy is a lot better because of .... "
   ]
  },
  {
   "attachments": {},
   "cell_type": "markdown",
   "metadata": {},
   "source": [
    "### Stratified K-fold cross validation for Naive Bayes without Gender and Shopping Mall features"
   ]
  },
  {
   "cell_type": "code",
   "execution_count": 130,
   "metadata": {},
   "outputs": [
    {
     "name": "stdout",
     "output_type": "stream",
     "text": [
      "Accuracy from each fold = \n",
      "[0.81199538638985, 0.8184832756632064, 0.8171856978085352, 0.8114186851211073, 0.8124279123414071, 0.828719723183391, 0.8152847873107426, 0.8116798846431147, 0.8108147080028839, 0.813410237923576]\n",
      "\n",
      "Average accuracy = \n",
      "0.8151420298387814\n",
      "\n"
     ]
    }
   ],
   "source": [
    "kf = StratifiedKFold(n_splits=10, random_state=40, shuffle=True) \n",
    "accscore = []\n",
    "classifier2 = GaussianNB()\n",
    "\n",
    "\n",
    "for train_index , test_index in kf.split(X, y):\n",
    "    X_train , X_test = X.iloc[train_index],X.iloc[test_index]\n",
    "    y_train , y_test = y.iloc[train_index] , y.iloc[test_index]\n",
    "     \n",
    "    classifier2.fit(X_train, y_train.values.ravel())\n",
    "    Y_pred = classifier2.predict(X_test)\n",
    "\n",
    "     \n",
    "    acc2 = accuracy_score(y_test, Y_pred)\n",
    "    accscore.append(acc2)\n",
    "     \n",
    "avgscore = sum(accscore)/10\n",
    " \n",
    "print(\"Accuracy from each fold = \\n\" + str(accscore))\n",
    "print(\"\\nAverage accuracy = \\n\" + str(avgscore))\n",
    "print()\n"
   ]
  },
  {
   "attachments": {},
   "cell_type": "markdown",
   "metadata": {},
   "source": [
    "Hmmm, seems like the gender and shopping mall features really did not matter in the long run. Lets try another classification technique instead!\n",
    "(To learn more about stratified k-fold cross validation, visit here for more info: https://www.geeksforgeeks.org/stratified-k-fold-cross-validation/)"
   ]
  },
  {
   "attachments": {},
   "cell_type": "markdown",
   "metadata": {},
   "source": [
    "### Neural Networks:"
   ]
  },
  {
   "cell_type": "code",
   "execution_count": 131,
   "metadata": {},
   "outputs": [
    {
     "data": {
      "text/html": [
       "<div>\n",
       "<style scoped>\n",
       "    .dataframe tbody tr th:only-of-type {\n",
       "        vertical-align: middle;\n",
       "    }\n",
       "\n",
       "    .dataframe tbody tr th {\n",
       "        vertical-align: top;\n",
       "    }\n",
       "\n",
       "    .dataframe thead th {\n",
       "        text-align: right;\n",
       "    }\n",
       "</style>\n",
       "<table border=\"1\" class=\"dataframe\">\n",
       "  <thead>\n",
       "    <tr style=\"text-align: right;\">\n",
       "      <th></th>\n",
       "      <th>category_Clothing</th>\n",
       "      <th>category_Cosmetics</th>\n",
       "      <th>category_Food &amp; Beverage</th>\n",
       "      <th>category_Technology</th>\n",
       "    </tr>\n",
       "  </thead>\n",
       "  <tbody>\n",
       "    <tr>\n",
       "      <th>0</th>\n",
       "      <td>1</td>\n",
       "      <td>0</td>\n",
       "      <td>0</td>\n",
       "      <td>0</td>\n",
       "    </tr>\n",
       "    <tr>\n",
       "      <th>2</th>\n",
       "      <td>1</td>\n",
       "      <td>0</td>\n",
       "      <td>0</td>\n",
       "      <td>0</td>\n",
       "    </tr>\n",
       "    <tr>\n",
       "      <th>5</th>\n",
       "      <td>1</td>\n",
       "      <td>0</td>\n",
       "      <td>0</td>\n",
       "      <td>0</td>\n",
       "    </tr>\n",
       "    <tr>\n",
       "      <th>6</th>\n",
       "      <td>0</td>\n",
       "      <td>1</td>\n",
       "      <td>0</td>\n",
       "      <td>0</td>\n",
       "    </tr>\n",
       "    <tr>\n",
       "      <th>7</th>\n",
       "      <td>1</td>\n",
       "      <td>0</td>\n",
       "      <td>0</td>\n",
       "      <td>0</td>\n",
       "    </tr>\n",
       "  </tbody>\n",
       "</table>\n",
       "</div>"
      ],
      "text/plain": [
       "   category_Clothing  category_Cosmetics  category_Food & Beverage  \\\n",
       "0                  1                   0                         0   \n",
       "2                  1                   0                         0   \n",
       "5                  1                   0                         0   \n",
       "6                  0                   1                         0   \n",
       "7                  1                   0                         0   \n",
       "\n",
       "   category_Technology  \n",
       "0                    0  \n",
       "2                    0  \n",
       "5                    0  \n",
       "6                    0  \n",
       "7                    0  "
      ]
     },
     "execution_count": 131,
     "metadata": {},
     "output_type": "execute_result"
    }
   ],
   "source": [
    "# one hot encode the category classes\n",
    "df_dummy = pd.get_dummies(df[['gender', 'age', 'total_price']])\n",
    "df_y_dummy = pd.get_dummies(df[['category']])\n",
    "df_y_dummy.head()"
   ]
  },
  {
   "cell_type": "code",
   "execution_count": 132,
   "metadata": {},
   "outputs": [
    {
     "data": {
      "text/html": [
       "<div>\n",
       "<style scoped>\n",
       "    .dataframe tbody tr th:only-of-type {\n",
       "        vertical-align: middle;\n",
       "    }\n",
       "\n",
       "    .dataframe tbody tr th {\n",
       "        vertical-align: top;\n",
       "    }\n",
       "\n",
       "    .dataframe thead th {\n",
       "        text-align: right;\n",
       "    }\n",
       "</style>\n",
       "<table border=\"1\" class=\"dataframe\">\n",
       "  <thead>\n",
       "    <tr style=\"text-align: right;\">\n",
       "      <th></th>\n",
       "      <th>age</th>\n",
       "      <th>total_price</th>\n",
       "      <th>gender_Female</th>\n",
       "      <th>gender_Male</th>\n",
       "    </tr>\n",
       "  </thead>\n",
       "  <tbody>\n",
       "    <tr>\n",
       "      <th>0</th>\n",
       "      <td>28</td>\n",
       "      <td>7502.00</td>\n",
       "      <td>1</td>\n",
       "      <td>0</td>\n",
       "    </tr>\n",
       "    <tr>\n",
       "      <th>2</th>\n",
       "      <td>20</td>\n",
       "      <td>300.08</td>\n",
       "      <td>0</td>\n",
       "      <td>1</td>\n",
       "    </tr>\n",
       "    <tr>\n",
       "      <th>5</th>\n",
       "      <td>28</td>\n",
       "      <td>7502.00</td>\n",
       "      <td>1</td>\n",
       "      <td>0</td>\n",
       "    </tr>\n",
       "    <tr>\n",
       "      <th>6</th>\n",
       "      <td>49</td>\n",
       "      <td>40.66</td>\n",
       "      <td>1</td>\n",
       "      <td>0</td>\n",
       "    </tr>\n",
       "    <tr>\n",
       "      <th>7</th>\n",
       "      <td>32</td>\n",
       "      <td>1200.32</td>\n",
       "      <td>1</td>\n",
       "      <td>0</td>\n",
       "    </tr>\n",
       "  </tbody>\n",
       "</table>\n",
       "</div>"
      ],
      "text/plain": [
       "   age  total_price  gender_Female  gender_Male\n",
       "0   28      7502.00              1            0\n",
       "2   20       300.08              0            1\n",
       "5   28      7502.00              1            0\n",
       "6   49        40.66              1            0\n",
       "7   32      1200.32              1            0"
      ]
     },
     "execution_count": 132,
     "metadata": {},
     "output_type": "execute_result"
    }
   ],
   "source": [
    "# Normalizing the ages\n",
    "'''\n",
    "min_age = df_dummy['age'].min()\n",
    "max_age = df_dummy['age'].max()\n",
    "\n",
    "# Apply min-max normalization to the 'age' column\n",
    "df_dummy['normalized_age'] = (df_dummy['age'] - min_age) / (max_age - min_age)\n",
    "\n",
    "# Normalize the prices\n",
    "min_price = df_dummy['total_price'].min()\n",
    "max_price = df_dummy['total_price'].max()\n",
    "\n",
    "# Apply min-max normalization to the 'price' column\n",
    "df_dummy['normalized_price'] = (df_dummy['total_price'] - min_price) / (max_price - min_price)\n",
    "\n",
    "# drop converted columns\n",
    "df_dummy.drop(['total_price', 'age'], axis=1, inplace=True)\n",
    "'''\n",
    "df_dummy.head()\n"
   ]
  },
  {
   "cell_type": "code",
   "execution_count": 133,
   "metadata": {},
   "outputs": [],
   "source": [
    "# Split the data into features and target\n",
    "X = df_dummy\n",
    "y = df['category']\n",
    "\n",
    "# Split the data into training and testing sets\n",
    "X_train, X_test, y_train, y_test = train_test_split(X, y, test_size=0.2, random_state=42)"
   ]
  },
  {
   "cell_type": "code",
   "execution_count": 134,
   "metadata": {},
   "outputs": [
    {
     "name": "stdout",
     "output_type": "stream",
     "text": [
      "Test accuracy: 0.9562\n"
     ]
    }
   ],
   "source": [
    "model = MLPClassifier(hidden_layer_sizes=(16, 8), activation='relu', solver='adam', max_iter=1500, random_state=42)\n",
    "model.fit(X_train, y_train)\n",
    "\n",
    "accuracy = model.score(X_test, y_test)\n",
    "print(f'Test accuracy: {accuracy:.4f}')"
   ]
  },
  {
   "attachments": {},
   "cell_type": "markdown",
   "metadata": {},
   "source": [
    "As you can see, the neural network performed very well, with a test accuracy of 89.65%. Compare this to the accuracy of the Naive Bayes classifier of 81.5% and a massive difference is evident.\n",
    "\n",
    "To learn more about Neural Networks, I highly recommend 3b1b's video series: https://www.youtube.com/watch?v=aircAruvnKk"
   ]
  },
  {
   "cell_type": "code",
   "execution_count": 135,
   "metadata": {},
   "outputs": [
    {
     "data": {
      "image/png": "[encoded data removed]",
      "text/plain": [
       "<Figure size 432x288 with 2 Axes>"
      ]
     },
     "metadata": {
      "needs_background": "light"
     },
     "output_type": "display_data"
    }
   ],
   "source": [
    "y_pred = model.predict(X_test)\n",
    "cm2 = confusion_matrix(y_test, y_pred, labels=[\"Clothing\", \"Cosmetics\", \"Food & Beverage\", \"Technology\"])\n",
    "disp2 = ConfusionMatrixDisplay(confusion_matrix=cm2, display_labels=[\"Clothing\", \"Cosmetics\", \"Food & Beverage\", \"Technology\"])\n",
    "disp2.plot();"
   ]
  },
  {
   "attachments": {},
   "cell_type": "markdown",
   "metadata": {},
   "source": [
    "### KNN "
   ]
  },
  {
   "cell_type": "code",
   "execution_count": 136,
   "metadata": {},
   "outputs": [
    {
     "name": "stdout",
     "output_type": "stream",
     "text": [
      "Accuracy:1.0\n",
      "F1 score:1.0\n",
      "Confusion Matrix:\n"
     ]
    },
    {
     "data": {
      "text/plain": [
       "<sklearn.metrics._plot.confusion_matrix.ConfusionMatrixDisplay at 0x1590a7310>"
      ]
     },
     "execution_count": 136,
     "metadata": {},
     "output_type": "execute_result"
    },
    {
     "data": {
      "image/png": "[encoded data removed]",
      "text/plain": [
       "<Figure size 432x288 with 2 Axes>"
      ]
     },
     "metadata": {
      "needs_background": "light"
     },
     "output_type": "display_data"
    }
   ],
   "source": [
    "from sklearn.neighbors import KNeighborsClassifier\n",
    "classifier = KNeighborsClassifier(n_neighbors = 50, metric = 'minkowski', p = 2)\n",
    "classifier.fit(X_train, y_train)\n",
    "Y_pred = classifier.predict(X_test)\n",
    "\n",
    "acc = accuracy_score(y_test, Y_pred)\n",
    "print (\"Accuracy:\" + str(acc))\n",
    "f1 = f1_score(Y_pred, y_test, average=\"weighted\")\n",
    "print (\"F1 score:\" + str(f1))\n",
    "print(\"Confusion Matrix:\")\n",
    "\n",
    "\n",
    "cm = confusion_matrix(y_test, Y_pred, labels=[\"Clothing\", \"Cosmetics\", \"Food & Beverage\", \"Technology\"])\n",
    "disp = ConfusionMatrixDisplay(confusion_matrix=cm, display_labels=[\"Clothing\", \"Cosmetics\", \"Food & Beverage\", \"Technology\"])\n",
    "disp.plot()\n",
    "\n"
   ]
  },
  {
   "cell_type": "code",
   "execution_count": 137,
   "metadata": {},
   "outputs": [
    {
     "name": "stdout",
     "output_type": "stream",
     "text": [
      "Accuracy from each fold using KNN with 35 neighbors = [1.0, 1.0, 1.0, 1.0, 1.0, 1.0, 1.0, 1.0, 1.0, 1.0]\n",
      "Average accuracy using KNN with 35 neighbors = 1.0\n",
      "Average fscore using KNN with 35 neighbors = 1.0\n",
      "\n"
     ]
    }
   ],
   "source": [
    "#KNN - 10 fold validation \n",
    "\n",
    "kf = StratifiedKFold(n_splits=10,random_state=40, shuffle=True) \n",
    "accscore = []\n",
    "fscorearr = []\n",
    "classifier = KNeighborsClassifier(n_neighbors = 50, metric = 'minkowski', p = 2)\n",
    "\n",
    "for train_index , test_index in kf.split(X, y):\n",
    "    X_train , X_test = X.iloc[train_index],X.iloc[test_index]\n",
    "    y_train , y_test = y.iloc[train_index] , y.iloc[test_index]\n",
    "     \n",
    "    #classifier.fit(X_train,y_train)\n",
    "    classifier.fit(X_train, y_train)\n",
    "    y_pred = classifier.predict(X_test)\n",
    "     \n",
    "    acc = accuracy_score(y_test, y_pred)\n",
    "    accscore.append(acc)\n",
    "    fscore = f1_score(y_test, y_pred, average=None)\n",
    "    fscorearr.append(fscore)\n",
    "\n",
    "     \n",
    "avgscore = sum(accscore)/10\n",
    "avgfscore = sum(fscore)/10\n",
    " \n",
    "print(\"Accuracy from each fold using KNN with 35 neighbors = \" + str(accscore))\n",
    "print(\"Average accuracy using KNN with 35 neighbors = \" + str(avgscore))\n",
    "print(\"Average fscore using KNN with 35 neighbors = \" + str(avgscore))\n",
    "print()"
   ]
  },
  {
   "cell_type": "code",
   "execution_count": 138,
   "metadata": {},
   "outputs": [
    {
     "data": {
      "image/png": "[encoded data removed]",
      "text/plain": [
       "<Figure size 576x432 with 1 Axes>"
      ]
     },
     "metadata": {
      "needs_background": "light"
     },
     "output_type": "display_data"
    }
   ],
   "source": [
    "import matplotlib.pyplot as plt\n",
    "import pandas as pd\n",
    "\n",
    "# Create a dictionary to map class labels to colors\n",
    "class_colors = {'Clothing': 'red', 'Cosmetics': 'blue', 'Technology': 'green', 'Food & Beverage': 'purple'}\n",
    "\n",
    "# Plotting the scatter plot\n",
    "plt.figure(figsize=(8, 6))\n",
    "\n",
    "for category, color in class_colors.items():\n",
    "    class_data = df[df['category'] == category]\n",
    "    plt.scatter(class_data['age'], class_data['total_price'], color=color, label=category)\n",
    "\n",
    "plt.xlabel('Age')\n",
    "plt.ylabel('Total Price')\n",
    "plt.title('Scatter Plot of Data Points')\n",
    "plt.legend()\n",
    "plt.show()\n"
   ]
  },
  {
   "attachments": {},
   "cell_type": "markdown",
   "metadata": {},
   "source": [
    "Accuracy vs. K "
   ]
  },
  {
   "cell_type": "code",
   "execution_count": 139,
   "metadata": {},
   "outputs": [],
   "source": [
    "# Split the data into features and target\n",
    "X = df_dummy\n",
    "y = df['category']\n",
    "\n",
    "# Split the data into training and testing sets\n",
    "X_train, X_test, y_train, y_test = train_test_split(X, y, test_size=0.2, random_state=42)"
   ]
  },
  {
   "cell_type": "code",
   "execution_count": 140,
   "metadata": {},
   "outputs": [
    {
     "name": "stdout",
     "output_type": "stream",
     "text": [
      "Maximum accuracy:- 1.0 at K = 0\n"
     ]
    },
    {
     "data": {
      "image/png": "[encoded data removed]",
      "text/plain": [
       "<Figure size 720x432 with 1 Axes>"
      ]
     },
     "metadata": {
      "needs_background": "light"
     },
     "output_type": "display_data"
    }
   ],
   "source": [
    "acc = []\n",
    "# Will take some time\n",
    "for i in range(1,40):\n",
    "    neigh = KNeighborsClassifier(n_neighbors = i).fit(X_train,y_train)\n",
    "    yhat = neigh.predict(X_test)\n",
    "    acc.append(accuracy_score(y_test, yhat))\n",
    "    \n",
    "plt.figure(figsize=(10,6))\n",
    "plt.plot(range(1,40),acc,color = 'blue',linestyle='dashed', \n",
    "         marker='o',markerfacecolor='red', markersize=10)\n",
    "plt.title('accuracy vs. K Value')\n",
    "plt.xlabel('K')\n",
    "plt.ylabel('Accuracy')\n",
    "print(\"Maximum accuracy:-\",max(acc),\"at K =\",acc.index(max(acc)))"
   ]
  },
  {
   "cell_type": "code",
   "execution_count": null,
   "metadata": {},
   "outputs": [],
   "source": []
  },
  {
   "attachments": {},
   "cell_type": "markdown",
   "metadata": {},
   "source": [
    "## Conclusion"
   ]
  },
  {
   "attachments": {},
   "cell_type": "markdown",
   "metadata": {},
   "source": [
    "## Policy Recommendation \n",
    "The performance of these models could be improved by: "
   ]
  }
 ],
 "metadata": {
  "kernelspec": {
   "display_name": "Python 3",
   "language": "python",
   "name": "python3"
  },
  "language_info": {
   "codemirror_mode": {
    "name": "ipython",
    "version": 3
   },
   "file_extension": ".py",
   "mimetype": "text/x-python",
   "name": "python",
   "nbconvert_exporter": "python",
   "pygments_lexer": "ipython3",
   "version": "3.10.2"
  },
  "orig_nbformat": 4
 },
 "nbformat": 4,
 "nbformat_minor": 2
}
