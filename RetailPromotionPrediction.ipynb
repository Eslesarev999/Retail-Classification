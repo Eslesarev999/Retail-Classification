{
 "cells": [
  {
   "attachments": {},
   "cell_type": "markdown",
   "metadata": {},
   "source": [
    "# Retail Promotion Classification-Prediction Problem\n",
    "## Vasundhara Bagchi, Elizabeth Slesarev, and Paul Beltran \n",
    "\n",
    "Through this project, we are aiming to use retail sales data to understand how the stores could run a personalized and targeted promotional campaigns based on customers' purchasing patterns in different categories. \n",
    "\n",
    "This project would allow retail stores, particularly one without a lot of resources dedicated to promotional material, to optimize their promotional campaigns by identifying the most effective customer profiles to target with their marketing efforts. This approach can save retailers significant resources and effort by avoiding a standarized approach to promotions, which can be less effective and less efficient. Instead, stores can target specific customer segments based on their preferences in shopping categories, past purchasing behaviors, and other factors to maximize the effectiveness of their promotions.\n",
    "\n",
    "**Part 1:**\n",
    "\n",
    "Our initial problem statement focuses on predicting whether or not we should market to a customer based on the amount of money they spent in a certain category when focusing on promotional material for that category. However, we soon run into issues regarding [] and have to take a different approach to tackling this overall task. \n",
    "\n",
    "**Part 2:**\n",
    "\n",
    "Our updated problem statement now focuses on a predictive model for shopper segmentation, where shoppers are grouped into distinct categories based on their preferences and purchase patterns. Eg: Technology enthusiasts, food connoisseurs, fashion-conscious individuals, and beauty enthusiasts.\n",
    "This segmentation would help businesses optimize marketing strategies through targeted promotional campaigns and personalized recommendations to ultimately increase customer retention while optimizing their resources.\n",
    "\n",
    "### About the dataset \n",
    "This particular dataset contains data from various age groups and genders several categories from 10 shopping malls in Istanbul, Turkey. \n",
    "\n",
    "Data Source: https://www.kaggle.com/datasets/mehmettahiraslan/customer-shopping-dataset"
   ]
  },
  {
   "attachments": {},
   "cell_type": "markdown",
   "metadata": {},
   "source": [
    "### Step 1: Data Cleaning and Preprocessing"
   ]
  },
  {
   "attachments": {},
   "cell_type": "markdown",
   "metadata": {},
   "source": [
    "Imports"
   ]
  },
  {
   "cell_type": "code",
<<<<<<< HEAD
   "execution_count": 151,
=======
   "execution_count": 29,
>>>>>>> 78f0607001adc4064bb0b40ddcc0b66e7e93a313
   "metadata": {},
   "outputs": [],
   "source": [
    "import numpy as np\n",
    "import pandas as pd\n",
    "import seaborn as sns\n",
    "import matplotlib.pyplot as plt\n",
    "\n",
    "from sklearn.naive_bayes import GaussianNB\n",
    "from sklearn.ensemble import RandomForestClassifier\n",
    "\n",
    "from sklearn.model_selection import (\n",
    "    StratifiedKFold,\n",
    "    train_test_split, \n",
    "    cross_val_score,\n",
    "    StratifiedKFold, \n",
    "    KFold\n",
    ")\n",
    "from sklearn.metrics import (\n",
    "    accuracy_score,\n",
    "    confusion_matrix,\n",
    "    ConfusionMatrixDisplay,\n",
    "    f1_score,\n",
    "    r2_score,\n",
    "    mean_squared_error,\n",
    "    mean_absolute_error,\n",
    "    precision_score,\n",
    "    recall_score,\n",
    ")\n",
    "\n",
    "from sklearn.preprocessing import LabelEncoder, StandardScaler\n",
    "from sklearn.neural_network import MLPClassifier\n"
   ]
  },
  {
   "attachments": {},
   "cell_type": "markdown",
   "metadata": {},
   "source": [
    "### Description of the features: \n",
    "\n",
    "1. invoice_no: Invoice number. Nominal. A combination of the letter 'I' and a 6-digit integer uniquely assigned to each operation. <br><br>\n",
    "2. customer_id: Customer number. Nominal. A combination of the letter 'C' and a 6-digit integer uniquely assigned to each operation.<br><br>\n",
    "3. gender: String variable of the customer's gender.<br><br>\n",
    "4. age: Positive Integer variable of the customers age.<br><br>\n",
    "5. category: String variable of the category of the purchased product.<br><br>\n",
    "6. quantity: The quantities of each product (item) per transaction. Numeric.<br><br>\n",
    "7. price: Unit price. Numeric. Product price per unit in Turkish Liras (TL).<br><br>\n",
    "8. payment_method: String variable of the payment method (cash, credit card or debit card) used for the transaction.<br><br>\n",
    "9. invoice_date: Invoice date. The day when a transaction was generated.<br><br>\n",
    "10. shopping_mall: String variable of the name of the shopping mall where the transaction was made.<br><br>"
   ]
  },
  {
   "attachments": {},
   "cell_type": "markdown",
   "metadata": {},
   "source": [
    "### Reading in the data \n",
    "We read in the data source via pandas and visualize it to see the columns present and determine which ones will be useful for our purposes. "
   ]
  },
  {
   "cell_type": "code",
<<<<<<< HEAD
   "execution_count": 152,
=======
   "execution_count": 30,
>>>>>>> 78f0607001adc4064bb0b40ddcc0b66e7e93a313
   "metadata": {},
   "outputs": [
    {
     "data": {
      "text/html": [
       "<div>\n",
       "<style scoped>\n",
       "    .dataframe tbody tr th:only-of-type {\n",
       "        vertical-align: middle;\n",
       "    }\n",
       "\n",
       "    .dataframe tbody tr th {\n",
       "        vertical-align: top;\n",
       "    }\n",
       "\n",
       "    .dataframe thead th {\n",
       "        text-align: right;\n",
       "    }\n",
       "</style>\n",
       "<table border=\"1\" class=\"dataframe\">\n",
       "  <thead>\n",
       "    <tr style=\"text-align: right;\">\n",
       "      <th></th>\n",
       "      <th>invoice_no</th>\n",
       "      <th>customer_id</th>\n",
       "      <th>gender</th>\n",
       "      <th>age</th>\n",
       "      <th>category</th>\n",
       "      <th>quantity</th>\n",
       "      <th>price</th>\n",
       "      <th>payment_method</th>\n",
       "      <th>invoice_date</th>\n",
       "      <th>shopping_mall</th>\n",
       "    </tr>\n",
       "  </thead>\n",
       "  <tbody>\n",
       "    <tr>\n",
       "      <th>0</th>\n",
       "      <td>I138884</td>\n",
       "      <td>C241288</td>\n",
       "      <td>Female</td>\n",
       "      <td>28</td>\n",
       "      <td>Clothing</td>\n",
       "      <td>5</td>\n",
       "      <td>1500.40</td>\n",
       "      <td>Credit Card</td>\n",
       "      <td>5/8/2022</td>\n",
       "      <td>Kanyon</td>\n",
       "    </tr>\n",
       "    <tr>\n",
       "      <th>1</th>\n",
       "      <td>I317333</td>\n",
       "      <td>C111565</td>\n",
       "      <td>Male</td>\n",
       "      <td>21</td>\n",
       "      <td>Shoes</td>\n",
       "      <td>3</td>\n",
       "      <td>1800.51</td>\n",
       "      <td>Debit Card</td>\n",
       "      <td>12/12/2021</td>\n",
       "      <td>Forum Istanbul</td>\n",
       "    </tr>\n",
       "    <tr>\n",
       "      <th>2</th>\n",
       "      <td>I127801</td>\n",
       "      <td>C266599</td>\n",
       "      <td>Male</td>\n",
       "      <td>20</td>\n",
       "      <td>Clothing</td>\n",
       "      <td>1</td>\n",
       "      <td>300.08</td>\n",
       "      <td>Cash</td>\n",
       "      <td>9/11/2021</td>\n",
       "      <td>Metrocity</td>\n",
       "    </tr>\n",
       "    <tr>\n",
       "      <th>3</th>\n",
       "      <td>I173702</td>\n",
       "      <td>C988172</td>\n",
       "      <td>Female</td>\n",
       "      <td>66</td>\n",
       "      <td>Shoes</td>\n",
       "      <td>5</td>\n",
       "      <td>3000.85</td>\n",
       "      <td>Credit Card</td>\n",
       "      <td>16/05/2021</td>\n",
       "      <td>Metropol AVM</td>\n",
       "    </tr>\n",
       "    <tr>\n",
       "      <th>4</th>\n",
       "      <td>I337046</td>\n",
       "      <td>C189076</td>\n",
       "      <td>Female</td>\n",
       "      <td>53</td>\n",
       "      <td>Books</td>\n",
       "      <td>4</td>\n",
       "      <td>60.60</td>\n",
       "      <td>Cash</td>\n",
       "      <td>24/10/2021</td>\n",
       "      <td>Kanyon</td>\n",
       "    </tr>\n",
       "  </tbody>\n",
       "</table>\n",
       "</div>"
      ],
      "text/plain": [
       "  invoice_no customer_id  gender  age  category  quantity    price   \n",
       "0    I138884     C241288  Female   28  Clothing         5  1500.40  \\\n",
       "1    I317333     C111565    Male   21     Shoes         3  1800.51   \n",
       "2    I127801     C266599    Male   20  Clothing         1   300.08   \n",
       "3    I173702     C988172  Female   66     Shoes         5  3000.85   \n",
       "4    I337046     C189076  Female   53     Books         4    60.60   \n",
       "\n",
       "  payment_method invoice_date   shopping_mall  \n",
       "0    Credit Card     5/8/2022          Kanyon  \n",
       "1     Debit Card   12/12/2021  Forum Istanbul  \n",
       "2           Cash    9/11/2021       Metrocity  \n",
       "3    Credit Card   16/05/2021    Metropol AVM  \n",
       "4           Cash   24/10/2021          Kanyon  "
      ]
     },
<<<<<<< HEAD
     "execution_count": 152,
=======
     "execution_count": 30,
>>>>>>> 78f0607001adc4064bb0b40ddcc0b66e7e93a313
     "metadata": {},
     "output_type": "execute_result"
    }
   ],
   "source": [
    "df = pd.read_csv('customer_shopping_data.csv')\n",
    "df.head()"
   ]
  },
  {
   "attachments": {},
   "cell_type": "markdown",
   "metadata": {},
   "source": [
    "### Feature Engineering"
   ]
  },
  {
   "attachments": {},
   "cell_type": "markdown",
   "metadata": {},
   "source": [
    "After looking over the data, we use domain knowledge to recognize that there were certain features that would not have any real impact on shopper's shopping patterns. We therefore drop these columns.\n",
    "For our purposes in this problem, we are not using 'invoice_no', 'customer_id', 'payment_method', 'invoice_date', data attributes from the dataset. \n",
    "\n",
    "We also want to restrict this demonstration to a couple of the main categories, so we are dropping the other categories, including Toys, Souveniers, Books, Shoes. "
   ]
  },
  {
   "cell_type": "code",
<<<<<<< HEAD
   "execution_count": 153,
=======
   "execution_count": 31,
>>>>>>> 78f0607001adc4064bb0b40ddcc0b66e7e93a313
   "metadata": {},
   "outputs": [],
   "source": [
    "# grabbing columns that are useful and dropping all else\n",
    "df.drop(['invoice_no', 'customer_id', 'payment_method', 'invoice_date'], axis=1, inplace=True)\n",
    "\n",
    "# dropping rows we dont care about, like toys\n",
    "\n",
    "df.drop(df[df['category'] == 'Toys'].index, inplace = True)\n",
    "df.drop(df[df['category'] == 'Souvenir'].index, inplace = True)\n",
    "df.drop(df[df['category'] == 'Books'].index, inplace = True)\n",
    "df.drop(df[df['category'] == 'Shoes'].index, inplace = True)\n",
    "\n"
   ]
  },
  {
   "attachments": {},
   "cell_type": "markdown",
   "metadata": {},
   "source": [
    "We notice that there is a price column and a quantity column, but that is not as meaningful as a total price column which will be an useful feature in our problem. We are thus calculating the new feature, **total price**, by multiplying the price and quantity columns. Once we add in this new feature, we drop the price and quantity columns as they do not provide us any new information. "
   ]
  },
  {
   "cell_type": "code",
<<<<<<< HEAD
   "execution_count": 154,
=======
   "execution_count": 32,
>>>>>>> 78f0607001adc4064bb0b40ddcc0b66e7e93a313
   "metadata": {},
   "outputs": [
    {
     "data": {
      "text/html": [
       "<div>\n",
       "<style scoped>\n",
       "    .dataframe tbody tr th:only-of-type {\n",
       "        vertical-align: middle;\n",
       "    }\n",
       "\n",
       "    .dataframe tbody tr th {\n",
       "        vertical-align: top;\n",
       "    }\n",
       "\n",
       "    .dataframe thead th {\n",
       "        text-align: right;\n",
       "    }\n",
       "</style>\n",
       "<table border=\"1\" class=\"dataframe\">\n",
       "  <thead>\n",
       "    <tr style=\"text-align: right;\">\n",
       "      <th></th>\n",
       "      <th>gender</th>\n",
       "      <th>age</th>\n",
       "      <th>category</th>\n",
       "      <th>shopping_mall</th>\n",
       "      <th>total_price</th>\n",
       "    </tr>\n",
       "  </thead>\n",
       "  <tbody>\n",
       "    <tr>\n",
       "      <th>0</th>\n",
       "      <td>Female</td>\n",
       "      <td>28</td>\n",
       "      <td>Clothing</td>\n",
       "      <td>Kanyon</td>\n",
       "      <td>7502.00</td>\n",
       "    </tr>\n",
       "    <tr>\n",
       "      <th>2</th>\n",
       "      <td>Male</td>\n",
       "      <td>20</td>\n",
       "      <td>Clothing</td>\n",
       "      <td>Metrocity</td>\n",
       "      <td>300.08</td>\n",
       "    </tr>\n",
       "    <tr>\n",
       "      <th>5</th>\n",
       "      <td>Female</td>\n",
       "      <td>28</td>\n",
       "      <td>Clothing</td>\n",
       "      <td>Forum Istanbul</td>\n",
       "      <td>7502.00</td>\n",
       "    </tr>\n",
       "    <tr>\n",
       "      <th>6</th>\n",
       "      <td>Female</td>\n",
       "      <td>49</td>\n",
       "      <td>Cosmetics</td>\n",
       "      <td>Istinye Park</td>\n",
       "      <td>40.66</td>\n",
       "    </tr>\n",
       "    <tr>\n",
       "      <th>7</th>\n",
       "      <td>Female</td>\n",
       "      <td>32</td>\n",
       "      <td>Clothing</td>\n",
       "      <td>Mall of Istanbul</td>\n",
       "      <td>1200.32</td>\n",
       "    </tr>\n",
       "  </tbody>\n",
       "</table>\n",
       "</div>"
      ],
      "text/plain": [
       "   gender  age   category     shopping_mall  total_price\n",
       "0  Female   28   Clothing            Kanyon      7502.00\n",
       "2    Male   20   Clothing         Metrocity       300.08\n",
       "5  Female   28   Clothing    Forum Istanbul      7502.00\n",
       "6  Female   49  Cosmetics      Istinye Park        40.66\n",
       "7  Female   32   Clothing  Mall of Istanbul      1200.32"
      ]
     },
<<<<<<< HEAD
     "execution_count": 154,
=======
     "execution_count": 32,
>>>>>>> 78f0607001adc4064bb0b40ddcc0b66e7e93a313
     "metadata": {},
     "output_type": "execute_result"
    }
   ],
   "source": [
    "# recalculating price column to include totals\n",
    "df['total_price'] = (df['price'] * df['quantity'])\n",
    "df.drop(['quantity', 'price'], axis=1, inplace=True)\n",
    "df.head()"
   ]
  },
  {
   "attachments": {},
   "cell_type": "markdown",
   "metadata": {},
   "source": [
    "Finally, we also want to know how many data points there are for each category to get a better sense of the spread of our dataset."
   ]
  },
  {
   "cell_type": "code",
<<<<<<< HEAD
   "execution_count": 155,
=======
   "execution_count": 33,
>>>>>>> 78f0607001adc4064bb0b40ddcc0b66e7e93a313
   "metadata": {},
   "outputs": [
    {
     "data": {
      "text/plain": [
       "category\n",
       "Clothing           34487\n",
       "Cosmetics          15097\n",
       "Food & Beverage    14776\n",
       "Technology          4996\n",
       "Name: count, dtype: int64"
      ]
     },
<<<<<<< HEAD
     "execution_count": 155,
=======
     "execution_count": 33,
>>>>>>> 78f0607001adc4064bb0b40ddcc0b66e7e93a313
     "metadata": {},
     "output_type": "execute_result"
    }
   ],
   "source": [
    "df['category'].value_counts()"
   ]
  },
  {
   "attachments": {},
   "cell_type": "markdown",
   "metadata": {},
   "source": [
    "It looks like clothing is the majority class whereas Technology is the minority class. "
   ]
  },
  {
   "attachments": {},
   "cell_type": "markdown",
   "metadata": {},
   "source": [
    "### Visualizing the cleaned data "
   ]
  },
  {
   "attachments": {},
   "cell_type": "markdown",
   "metadata": {},
   "source": [
    "One of the first pieces we want to visualize and compare is the total amount of money spent by females vs. men."
   ]
  },
  {
   "cell_type": "code",
<<<<<<< HEAD
   "execution_count": 156,
=======
   "execution_count": 34,
>>>>>>> 78f0607001adc4064bb0b40ddcc0b66e7e93a313
   "metadata": {},
   "outputs": [
    {
     "data": {
<<<<<<< HEAD
      "image/png": "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",
=======
      "image/png": "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",
>>>>>>> 78f0607001adc4064bb0b40ddcc0b66e7e93a313
      "text/plain": [
       "<Figure size 1000x600 with 1 Axes>"
      ]
     },
     "metadata": {},
     "output_type": "display_data"
    }
   ],
   "source": [
    "plt.figure(figsize=(10,6))\n",
    "sns.barplot(df,x='gender',y='total_price',hue = 'gender',estimator = sum)\n",
    "plt.ylabel('Total amount spent')\n",
    "plt.title('Total Amount spent by males vs. females ')\n",
    "plt.ticklabel_format(style='plain',axis='y')\n",
    "plt.show()"
   ]
  },
  {
   "attachments": {},
   "cell_type": "markdown",
   "metadata": {},
   "source": [
    "It is evident that the overall total amount of money spent by females is considerably higher. "
   ]
  },
  {
   "attachments": {},
   "cell_type": "markdown",
   "metadata": {},
   "source": [
    "Next, we want to comapare the amount of money spent per category by males vs. females "
   ]
  },
  {
   "cell_type": "code",
<<<<<<< HEAD
   "execution_count": 157,
=======
   "execution_count": 35,
>>>>>>> 78f0607001adc4064bb0b40ddcc0b66e7e93a313
   "metadata": {},
   "outputs": [
    {
     "data": {
<<<<<<< HEAD
      "image/png": "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",
=======
      "image/png": "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",
>>>>>>> 78f0607001adc4064bb0b40ddcc0b66e7e93a313
      "text/plain": [
       "<Figure size 1000x600 with 1 Axes>"
      ]
     },
     "metadata": {},
     "output_type": "display_data"
    }
   ],
   "source": [
    "plt.figure(figsize=(10,6))\n",
    "sns.barplot(df,x='category',y='total_price',hue = 'gender',estimator = sum)\n",
    "plt.title('Category Wise Shopping')\n",
    "plt.show()"
   ]
  },
  {
   "attachments": {},
   "cell_type": "markdown",
   "metadata": {},
   "source": [
    "It looks like the total amount of money spent in clothing, cosmetics, and technology by females is considerably higher than the total amount of money spent by men in those categories, but we want to see if this same trend follows for the average amount of money spent by females vs. males in each of these categories. \n",
    "\n",
    "**Calculating average amount of money spent by females vs. males in each of these categories:**"
   ]
  },
  {
   "cell_type": "code",
<<<<<<< HEAD
   "execution_count": 158,
=======
   "execution_count": 36,
>>>>>>> 78f0607001adc4064bb0b40ddcc0b66e7e93a313
   "metadata": {},
   "outputs": [
    {
     "data": {
<<<<<<< HEAD
      "image/png": "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",
=======
      "image/png": "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",
>>>>>>> 78f0607001adc4064bb0b40ddcc0b66e7e93a313
      "text/plain": [
       "<Figure size 1000x600 with 1 Axes>"
      ]
     },
     "metadata": {},
     "output_type": "display_data"
    }
   ],
   "source": [
    "plt.figure(figsize=(10,6))\n",
    "ax = sns.barplot(df,x='category',y='total_price',hue = 'gender',estimator = 'mean')\n",
    "ax.set(xlabel='Category',\n",
    "       ylabel='Average amount of money spent',\n",
    "       title='Category Wise Shopping by Gender')\n",
    "plt.show()"
   ]
  },
  {
   "cell_type": "code",
<<<<<<< HEAD
   "execution_count": 159,
=======
   "execution_count": 37,
>>>>>>> 78f0607001adc4064bb0b40ddcc0b66e7e93a313
   "metadata": {},
   "outputs": [
    {
     "name": "stdout",
     "output_type": "stream",
     "text": [
      "   gender         category   total_price\n",
      "0  Female         Clothing   3304.846775\n",
      "1  Female        Cosmetics    448.376245\n",
      "2  Female  Food & Beverage     57.396933\n",
      "3  Female       Technology  11630.308621\n",
      "4    Male         Clothing   3306.475999\n",
      "5    Male        Cosmetics    452.312985\n",
      "6    Male  Food & Beverage     57.637718\n",
      "7    Male       Technology  11509.875931\n",
      "\n",
      "    gender         category        age\n",
      "0  Female         Clothing  43.381948\n",
      "1  Female        Cosmetics  43.571665\n",
      "2  Female  Food & Beverage  43.489209\n",
      "3  Female       Technology  43.249581\n",
      "4    Male         Clothing  43.449946\n",
      "5    Male        Cosmetics  43.594160\n",
      "6    Male  Food & Beverage  43.155727\n",
      "7    Male       Technology  43.544417\n"
     ]
    }
   ],
   "source": [
    "# checking average price spent by gender per category\n",
    "avg_price_spent_per=df.groupby(['gender','category'], as_index=False)['total_price'].mean()\n",
    "avg_age_per=df.groupby(['gender','category'], as_index=False)['age'].mean()\n",
    "print(avg_price_spent_per)\n",
    "print(\"\\n\",avg_age_per)"
   ]
  },
  {
   "attachments": {},
   "cell_type": "markdown",
   "metadata": {},
   "source": [
    "We quickly find a couple of things: \n",
    "1.  There is a noticeable amount of difference between males and females in total amount spent per category\n",
    "2. There is a noticeable amount of difference between average spending from category to category \n",
    "3. There is very little difference in when comparing males vs. females **within** each category. For example, for the Technology category, Males spent an average of 11509.88 Lira wheras females spent 11630.31 Lira and in the Clothing category, males spent an average of 3306.48  Lira whereas females spent an average of 3304.85 Lira. \n",
    "\n",
    "There lack of variation in our data will become a problem as we will find out later "
   ]
  },
  {
   "cell_type": "code",
<<<<<<< HEAD
   "execution_count": 160,
=======
   "execution_count": 38,
>>>>>>> 78f0607001adc4064bb0b40ddcc0b66e7e93a313
   "metadata": {},
   "outputs": [
    {
     "data": {
<<<<<<< HEAD
      "image/png": "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",
=======
      "image/png": "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",
>>>>>>> 78f0607001adc4064bb0b40ddcc0b66e7e93a313
      "text/plain": [
       "<Figure size 2000x600 with 1 Axes>"
      ]
     },
     "metadata": {},
     "output_type": "display_data"
    }
   ],
   "source": [
    "plt.figure(figsize=(20,6))\n",
    "ax = sns.barplot(df,x='shopping_mall',y='total_price',hue = 'gender',estimator = 'mean')\n",
    "ax.set(xlabel='Shopping mall',\n",
    "       ylabel='Average amount of money spent',\n",
    "       title='Shopping Mall Wise Shopping by Gender')\n",
    "plt.show()"
   ]
  },
  {
   "cell_type": "code",
<<<<<<< HEAD
   "execution_count": 161,
=======
   "execution_count": 39,
>>>>>>> 78f0607001adc4064bb0b40ddcc0b66e7e93a313
   "metadata": {},
   "outputs": [
    {
     "name": "stdout",
     "output_type": "stream",
     "text": [
      "    gender      shopping_mall  total_price\n",
      "0   Female        Cevahir AVM  2578.274630\n",
      "1   Female  Emaar Square Mall  2721.922403\n",
      "2   Female     Forum Istanbul  2498.865477\n",
      "3   Female       Istinye Park  2601.940877\n",
      "4   Female             Kanyon  2652.917047\n",
      "5   Female   Mall of Istanbul  2588.465487\n",
      "6   Female          Metrocity  2565.397838\n",
      "7   Female       Metropol AVM  2399.639890\n",
      "8   Female     Viaport Outlet  2723.107971\n",
      "9   Female       Zorlu Center  2628.558746\n",
      "10    Male        Cevahir AVM  2666.947484\n",
      "11    Male  Emaar Square Mall  2652.309208\n",
      "12    Male     Forum Istanbul  2567.935761\n",
      "13    Male       Istinye Park  2516.635455\n",
      "14    Male             Kanyon  2572.807329\n",
      "15    Male   Mall of Istanbul  2626.392354\n",
      "16    Male          Metrocity  2540.795903\n",
      "17    Male       Metropol AVM  2670.127212\n",
      "18    Male     Viaport Outlet  2517.975887\n",
      "19    Male       Zorlu Center  2509.945500\n"
     ]
    }
   ],
   "source": [
    "avg_price_spent_per=df.groupby(['gender','shopping_mall'], as_index=False)['total_price'].mean()\n",
    "print(avg_price_spent_per)"
   ]
  },
  {
   "attachments": {},
   "cell_type": "markdown",
   "metadata": {},
   "source": [
    "There is very little difference in when comparing males vs. females **within** for each shopping mall as well.  "
   ]
  },
  {
   "attachments": {},
   "cell_type": "markdown",
   "metadata": {},
   "source": [
    "# Part 1: Tackling the Initial Problem Statement "
   ]
  },
  {
   "attachments": {},
   "cell_type": "markdown",
   "metadata": {},
   "source": [
    "### Creating class labels for our dataset "
   ]
  },
  {
   "attachments": {},
   "cell_type": "markdown",
   "metadata": {},
   "source": [
    "After visualizing and understanding our dataset, we will now be creating class labels for our dataset. We want to have 3 labels - Yes, No, and Maybe which represent if we should market to this person based on their shopping habits - i.e amount of money spent in a particular category. \n",
    "\n",
    "Our cutoffs of creating each of these labels will be based on total cost percentiles per category - \n",
    "\n",
    "\n",
    "1. **Yes** - This person's total cost in a certain category is more than the 75 percentile of total money spent in that certain category, therfore, we will defintely want to market to these people. \n",
    "\n",
    "\n",
    "2. **Maybe** - This person's total cost in a certain category is less than the 75 percentile but more than the 25 percentile of total money spent in that certain category, therfore, we will may want to market to these people, but will want to give higher priority to people who have spent more money. \n",
    "\n",
    "\n",
    "3. **No** -  This person's total cost in a certain category is less than the 25 percentile but more than the median of total money spent in that certain category, therfore, we do not want to market to these people and conserve our resources instead. "
   ]
  },
  {
   "cell_type": "code",
<<<<<<< HEAD
   "execution_count": 162,
=======
   "execution_count": 40,
>>>>>>> 78f0607001adc4064bb0b40ddcc0b66e7e93a313
   "metadata": {},
   "outputs": [
    {
     "data": {
      "text/html": [
       "<div>\n",
       "<style scoped>\n",
       "    .dataframe tbody tr th:only-of-type {\n",
       "        vertical-align: middle;\n",
       "    }\n",
       "\n",
       "    .dataframe tbody tr th {\n",
       "        vertical-align: top;\n",
       "    }\n",
       "\n",
       "    .dataframe thead th {\n",
       "        text-align: right;\n",
       "    }\n",
       "</style>\n",
       "<table border=\"1\" class=\"dataframe\">\n",
       "  <thead>\n",
       "    <tr style=\"text-align: right;\">\n",
       "      <th></th>\n",
       "      <th>gender</th>\n",
       "      <th>category</th>\n",
       "      <th>count</th>\n",
       "      <th>mean</th>\n",
       "      <th>std</th>\n",
       "      <th>min</th>\n",
       "      <th>25%</th>\n",
       "      <th>50%</th>\n",
       "      <th>75%</th>\n",
       "      <th>max</th>\n",
       "    </tr>\n",
       "  </thead>\n",
       "  <tbody>\n",
       "    <tr>\n",
       "      <th>0</th>\n",
       "      <td>Female</td>\n",
       "      <td>Clothing</td>\n",
       "      <td>20652.0</td>\n",
       "      <td>3304.846775</td>\n",
       "      <td>2591.805146</td>\n",
       "      <td>300.08</td>\n",
       "      <td>1200.32</td>\n",
       "      <td>2700.72</td>\n",
       "      <td>4801.28</td>\n",
       "      <td>7502.00</td>\n",
       "    </tr>\n",
       "    <tr>\n",
       "      <th>1</th>\n",
       "      <td>Female</td>\n",
       "      <td>Cosmetics</td>\n",
       "      <td>9070.0</td>\n",
       "      <td>448.376245</td>\n",
       "      <td>351.210785</td>\n",
       "      <td>40.66</td>\n",
       "      <td>162.64</td>\n",
       "      <td>365.94</td>\n",
       "      <td>650.56</td>\n",
       "      <td>1016.50</td>\n",
       "    </tr>\n",
       "    <tr>\n",
       "      <th>2</th>\n",
       "      <td>Female</td>\n",
       "      <td>Food &amp; Beverage</td>\n",
       "      <td>8804.0</td>\n",
       "      <td>57.396933</td>\n",
       "      <td>45.211737</td>\n",
       "      <td>5.23</td>\n",
       "      <td>20.92</td>\n",
       "      <td>47.07</td>\n",
       "      <td>83.68</td>\n",
       "      <td>130.75</td>\n",
       "    </tr>\n",
       "    <tr>\n",
       "      <th>3</th>\n",
       "      <td>Female</td>\n",
       "      <td>Technology</td>\n",
       "      <td>2981.0</td>\n",
       "      <td>11630.308621</td>\n",
       "      <td>9126.822685</td>\n",
       "      <td>1050.00</td>\n",
       "      <td>4200.00</td>\n",
       "      <td>9450.00</td>\n",
       "      <td>16800.00</td>\n",
       "      <td>26250.00</td>\n",
       "    </tr>\n",
       "    <tr>\n",
       "      <th>4</th>\n",
       "      <td>Male</td>\n",
       "      <td>Clothing</td>\n",
       "      <td>13835.0</td>\n",
       "      <td>3306.475999</td>\n",
       "      <td>2605.834237</td>\n",
       "      <td>300.08</td>\n",
       "      <td>1200.32</td>\n",
       "      <td>2700.72</td>\n",
       "      <td>4801.28</td>\n",
       "      <td>7502.00</td>\n",
       "    </tr>\n",
       "    <tr>\n",
       "      <th>5</th>\n",
       "      <td>Male</td>\n",
       "      <td>Cosmetics</td>\n",
       "      <td>6027.0</td>\n",
       "      <td>452.312985</td>\n",
       "      <td>352.884728</td>\n",
       "      <td>40.66</td>\n",
       "      <td>162.64</td>\n",
       "      <td>365.94</td>\n",
       "      <td>650.56</td>\n",
       "      <td>1016.50</td>\n",
       "    </tr>\n",
       "    <tr>\n",
       "      <th>6</th>\n",
       "      <td>Male</td>\n",
       "      <td>Food &amp; Beverage</td>\n",
       "      <td>5972.0</td>\n",
       "      <td>57.637718</td>\n",
       "      <td>45.644014</td>\n",
       "      <td>5.23</td>\n",
       "      <td>20.92</td>\n",
       "      <td>47.07</td>\n",
       "      <td>83.68</td>\n",
       "      <td>130.75</td>\n",
       "    </tr>\n",
       "    <tr>\n",
       "      <th>7</th>\n",
       "      <td>Male</td>\n",
       "      <td>Technology</td>\n",
       "      <td>2015.0</td>\n",
       "      <td>11509.875931</td>\n",
       "      <td>8988.335801</td>\n",
       "      <td>1050.00</td>\n",
       "      <td>4200.00</td>\n",
       "      <td>9450.00</td>\n",
       "      <td>16800.00</td>\n",
       "      <td>26250.00</td>\n",
       "    </tr>\n",
       "  </tbody>\n",
       "</table>\n",
       "</div>"
      ],
      "text/plain": [
       "   gender         category    count          mean          std      min   \n",
       "0  Female         Clothing  20652.0   3304.846775  2591.805146   300.08  \\\n",
       "1  Female        Cosmetics   9070.0    448.376245   351.210785    40.66   \n",
       "2  Female  Food & Beverage   8804.0     57.396933    45.211737     5.23   \n",
       "3  Female       Technology   2981.0  11630.308621  9126.822685  1050.00   \n",
       "4    Male         Clothing  13835.0   3306.475999  2605.834237   300.08   \n",
       "5    Male        Cosmetics   6027.0    452.312985   352.884728    40.66   \n",
       "6    Male  Food & Beverage   5972.0     57.637718    45.644014     5.23   \n",
       "7    Male       Technology   2015.0  11509.875931  8988.335801  1050.00   \n",
       "\n",
       "       25%      50%       75%       max  \n",
       "0  1200.32  2700.72   4801.28   7502.00  \n",
       "1   162.64   365.94    650.56   1016.50  \n",
       "2    20.92    47.07     83.68    130.75  \n",
       "3  4200.00  9450.00  16800.00  26250.00  \n",
       "4  1200.32  2700.72   4801.28   7502.00  \n",
       "5   162.64   365.94    650.56   1016.50  \n",
       "6    20.92    47.07     83.68    130.75  \n",
       "7  4200.00  9450.00  16800.00  26250.00  "
      ]
     },
<<<<<<< HEAD
     "execution_count": 162,
=======
     "execution_count": 40,
>>>>>>> 78f0607001adc4064bb0b40ddcc0b66e7e93a313
     "metadata": {},
     "output_type": "execute_result"
    }
   ],
   "source": [
    "df.groupby(['gender','category'], as_index=False)['total_price'].describe()"
   ]
  },
  {
   "cell_type": "code",
<<<<<<< HEAD
   "execution_count": 163,
=======
   "execution_count": 41,
>>>>>>> 78f0607001adc4064bb0b40ddcc0b66e7e93a313
   "metadata": {},
   "outputs": [
    {
     "data": {
      "text/html": [
       "<div>\n",
       "<style scoped>\n",
       "    .dataframe tbody tr th:only-of-type {\n",
       "        vertical-align: middle;\n",
       "    }\n",
       "\n",
       "    .dataframe tbody tr th {\n",
       "        vertical-align: top;\n",
       "    }\n",
       "\n",
       "    .dataframe thead th {\n",
       "        text-align: right;\n",
       "    }\n",
       "</style>\n",
       "<table border=\"1\" class=\"dataframe\">\n",
       "  <thead>\n",
       "    <tr style=\"text-align: right;\">\n",
       "      <th></th>\n",
       "      <th>gender</th>\n",
       "      <th>category</th>\n",
       "      <th>count</th>\n",
       "      <th>mean</th>\n",
       "      <th>std</th>\n",
       "      <th>min</th>\n",
       "      <th>25%</th>\n",
       "      <th>50%</th>\n",
       "      <th>75%</th>\n",
       "      <th>max</th>\n",
       "    </tr>\n",
       "  </thead>\n",
       "  <tbody>\n",
       "    <tr>\n",
       "      <th>0</th>\n",
       "      <td>Female</td>\n",
       "      <td>Clothing</td>\n",
       "      <td>20652.0</td>\n",
       "      <td>43.381948</td>\n",
       "      <td>14.979862</td>\n",
       "      <td>18.0</td>\n",
       "      <td>30.0</td>\n",
       "      <td>43.0</td>\n",
       "      <td>56.0</td>\n",
       "      <td>69.0</td>\n",
       "    </tr>\n",
       "    <tr>\n",
       "      <th>1</th>\n",
       "      <td>Female</td>\n",
       "      <td>Cosmetics</td>\n",
       "      <td>9070.0</td>\n",
       "      <td>43.571665</td>\n",
       "      <td>14.966309</td>\n",
       "      <td>18.0</td>\n",
       "      <td>31.0</td>\n",
       "      <td>44.0</td>\n",
       "      <td>56.0</td>\n",
       "      <td>69.0</td>\n",
       "    </tr>\n",
       "    <tr>\n",
       "      <th>2</th>\n",
       "      <td>Female</td>\n",
       "      <td>Food &amp; Beverage</td>\n",
       "      <td>8804.0</td>\n",
       "      <td>43.489209</td>\n",
       "      <td>14.970409</td>\n",
       "      <td>18.0</td>\n",
       "      <td>31.0</td>\n",
       "      <td>43.0</td>\n",
       "      <td>56.0</td>\n",
       "      <td>69.0</td>\n",
       "    </tr>\n",
       "    <tr>\n",
       "      <th>3</th>\n",
       "      <td>Female</td>\n",
       "      <td>Technology</td>\n",
       "      <td>2981.0</td>\n",
       "      <td>43.249581</td>\n",
       "      <td>14.825544</td>\n",
       "      <td>18.0</td>\n",
       "      <td>30.0</td>\n",
       "      <td>43.0</td>\n",
       "      <td>56.0</td>\n",
       "      <td>69.0</td>\n",
       "    </tr>\n",
       "    <tr>\n",
       "      <th>4</th>\n",
       "      <td>Male</td>\n",
       "      <td>Clothing</td>\n",
       "      <td>13835.0</td>\n",
       "      <td>43.449946</td>\n",
       "      <td>15.025515</td>\n",
       "      <td>18.0</td>\n",
       "      <td>30.0</td>\n",
       "      <td>43.0</td>\n",
       "      <td>56.0</td>\n",
       "      <td>69.0</td>\n",
       "    </tr>\n",
       "    <tr>\n",
       "      <th>5</th>\n",
       "      <td>Male</td>\n",
       "      <td>Cosmetics</td>\n",
       "      <td>6027.0</td>\n",
       "      <td>43.594160</td>\n",
       "      <td>14.892899</td>\n",
       "      <td>18.0</td>\n",
       "      <td>31.0</td>\n",
       "      <td>44.0</td>\n",
       "      <td>57.0</td>\n",
       "      <td>69.0</td>\n",
       "    </tr>\n",
       "    <tr>\n",
       "      <th>6</th>\n",
       "      <td>Male</td>\n",
       "      <td>Food &amp; Beverage</td>\n",
       "      <td>5972.0</td>\n",
       "      <td>43.155727</td>\n",
       "      <td>14.996070</td>\n",
       "      <td>18.0</td>\n",
       "      <td>30.0</td>\n",
       "      <td>43.0</td>\n",
       "      <td>56.0</td>\n",
       "      <td>69.0</td>\n",
       "    </tr>\n",
       "    <tr>\n",
       "      <th>7</th>\n",
       "      <td>Male</td>\n",
       "      <td>Technology</td>\n",
       "      <td>2015.0</td>\n",
       "      <td>43.544417</td>\n",
       "      <td>14.851730</td>\n",
       "      <td>18.0</td>\n",
       "      <td>31.0</td>\n",
       "      <td>43.0</td>\n",
       "      <td>56.0</td>\n",
       "      <td>69.0</td>\n",
       "    </tr>\n",
       "  </tbody>\n",
       "</table>\n",
       "</div>"
      ],
      "text/plain": [
       "   gender         category    count       mean        std   min   25%   50%   \n",
       "0  Female         Clothing  20652.0  43.381948  14.979862  18.0  30.0  43.0  \\\n",
       "1  Female        Cosmetics   9070.0  43.571665  14.966309  18.0  31.0  44.0   \n",
       "2  Female  Food & Beverage   8804.0  43.489209  14.970409  18.0  31.0  43.0   \n",
       "3  Female       Technology   2981.0  43.249581  14.825544  18.0  30.0  43.0   \n",
       "4    Male         Clothing  13835.0  43.449946  15.025515  18.0  30.0  43.0   \n",
       "5    Male        Cosmetics   6027.0  43.594160  14.892899  18.0  31.0  44.0   \n",
       "6    Male  Food & Beverage   5972.0  43.155727  14.996070  18.0  30.0  43.0   \n",
       "7    Male       Technology   2015.0  43.544417  14.851730  18.0  31.0  43.0   \n",
       "\n",
       "    75%   max  \n",
       "0  56.0  69.0  \n",
       "1  56.0  69.0  \n",
       "2  56.0  69.0  \n",
       "3  56.0  69.0  \n",
       "4  56.0  69.0  \n",
       "5  57.0  69.0  \n",
       "6  56.0  69.0  \n",
       "7  56.0  69.0  "
      ]
     },
<<<<<<< HEAD
     "execution_count": 163,
=======
     "execution_count": 41,
>>>>>>> 78f0607001adc4064bb0b40ddcc0b66e7e93a313
     "metadata": {},
     "output_type": "execute_result"
    }
   ],
   "source": [
    "df.groupby(['gender','category'], as_index=False)['age'].describe()"
   ]
  },
  {
   "attachments": {},
   "cell_type": "markdown",
   "metadata": {},
   "source": [
    "Now that we have found the 25th, 50th, and 75th percentiles. We use the rules above to assign class labels. "
   ]
  },
  {
   "cell_type": "code",
<<<<<<< HEAD
   "execution_count": 164,
=======
   "execution_count": 42,
>>>>>>> 78f0607001adc4064bb0b40ddcc0b66e7e93a313
   "metadata": {},
   "outputs": [],
   "source": [
    "# creating the class label\n",
    "# label -> ['maybe', 'no', 'yes']\n",
    "def assignNewLabels(row):\n",
    "    # for book shoppers\n",
    "    if row['category'] == \"Technology\" and row[\"total_price\"] > 16800:\n",
    "        return \"yes\"\n",
    "    elif row['category'] == \"Technology\" and row[\"total_price\"] <= 4200:\n",
    "        return \"no\"\n",
    "    elif row['category'] == \"Technology\" and row[\"total_price\"] > 4200.0 and row[\"total_price\"] <= 16800:\n",
    "        return \"maybe\"\n",
    "    \n",
    "    # for clothing\n",
    "    elif row['category'] == \"Clothing\" and row[\"total_price\"] > 4801.28:\n",
    "        return \"yes\"\n",
    "    elif row['category'] == \"Clothing\" and row[\"total_price\"] <= 1200.32:\n",
    "        return \"no\"\n",
    "    elif row['category'] == \"Clothing\" and row[\"total_price\"] > 1200.32 and row[\"total_price\"] <= 4801.28:\n",
    "        return \"maybe\"\n",
    "    \n",
    "    # for clothing\n",
    "    elif row['category'] == \"Cosmetics\" and row[\"total_price\"] > 650.56:\n",
    "        return \"yes\"\n",
    "    elif row['category'] == \"Cosmetics\" and row[\"total_price\"] <= 162.64:\n",
    "        return \"no\"\n",
    "    elif row['category'] == \"Cosmetics\" and row[\"total_price\"] > 162.64 and row[\"total_price\"] <= 650.56:\n",
    "        return \"maybe\"\n",
    "    \n",
    "    # for clothing\n",
    "    elif row['category'] == \"Food & Beverage\" and row[\"total_price\"] > 83.68:\n",
    "        return \"yes\"\n",
    "    elif row['category'] == \"Food & Beverage\" and row[\"total_price\"] <= 20.92:\n",
    "        return \"no\"\n",
    "    elif row['category'] == \"Food & Beverage\" and row[\"total_price\"] > 20.92 and row[\"total_price\"] <= 83.68:\n",
    "        return \"maybe\""
   ]
  },
  {
   "cell_type": "code",
<<<<<<< HEAD
   "execution_count": 165,
=======
   "execution_count": 43,
>>>>>>> 78f0607001adc4064bb0b40ddcc0b66e7e93a313
   "metadata": {},
   "outputs": [
    {
     "data": {
      "text/html": [
       "<div>\n",
       "<style scoped>\n",
       "    .dataframe tbody tr th:only-of-type {\n",
       "        vertical-align: middle;\n",
       "    }\n",
       "\n",
       "    .dataframe tbody tr th {\n",
       "        vertical-align: top;\n",
       "    }\n",
       "\n",
       "    .dataframe thead th {\n",
       "        text-align: right;\n",
       "    }\n",
       "</style>\n",
       "<table border=\"1\" class=\"dataframe\">\n",
       "  <thead>\n",
       "    <tr style=\"text-align: right;\">\n",
       "      <th></th>\n",
       "      <th>gender</th>\n",
       "      <th>age</th>\n",
       "      <th>category</th>\n",
       "      <th>shopping_mall</th>\n",
       "      <th>total_price</th>\n",
       "      <th>Should_We_Market</th>\n",
       "    </tr>\n",
       "  </thead>\n",
       "  <tbody>\n",
       "    <tr>\n",
       "      <th>0</th>\n",
       "      <td>Female</td>\n",
       "      <td>28</td>\n",
       "      <td>Clothing</td>\n",
       "      <td>Kanyon</td>\n",
       "      <td>7502.00</td>\n",
       "      <td>yes</td>\n",
       "    </tr>\n",
       "    <tr>\n",
       "      <th>2</th>\n",
       "      <td>Male</td>\n",
       "      <td>20</td>\n",
       "      <td>Clothing</td>\n",
       "      <td>Metrocity</td>\n",
       "      <td>300.08</td>\n",
       "      <td>no</td>\n",
       "    </tr>\n",
       "    <tr>\n",
       "      <th>5</th>\n",
       "      <td>Female</td>\n",
       "      <td>28</td>\n",
       "      <td>Clothing</td>\n",
       "      <td>Forum Istanbul</td>\n",
       "      <td>7502.00</td>\n",
       "      <td>yes</td>\n",
       "    </tr>\n",
       "    <tr>\n",
       "      <th>6</th>\n",
       "      <td>Female</td>\n",
       "      <td>49</td>\n",
       "      <td>Cosmetics</td>\n",
       "      <td>Istinye Park</td>\n",
       "      <td>40.66</td>\n",
       "      <td>no</td>\n",
       "    </tr>\n",
       "    <tr>\n",
       "      <th>7</th>\n",
       "      <td>Female</td>\n",
       "      <td>32</td>\n",
       "      <td>Clothing</td>\n",
       "      <td>Mall of Istanbul</td>\n",
       "      <td>1200.32</td>\n",
       "      <td>no</td>\n",
       "    </tr>\n",
       "  </tbody>\n",
       "</table>\n",
       "</div>"
      ],
      "text/plain": [
       "   gender  age   category     shopping_mall  total_price Should_We_Market\n",
       "0  Female   28   Clothing            Kanyon      7502.00              yes\n",
       "2    Male   20   Clothing         Metrocity       300.08               no\n",
       "5  Female   28   Clothing    Forum Istanbul      7502.00              yes\n",
       "6  Female   49  Cosmetics      Istinye Park        40.66               no\n",
       "7  Female   32   Clothing  Mall of Istanbul      1200.32               no"
      ]
     },
<<<<<<< HEAD
     "execution_count": 165,
=======
     "execution_count": 43,
>>>>>>> 78f0607001adc4064bb0b40ddcc0b66e7e93a313
     "metadata": {},
     "output_type": "execute_result"
    }
   ],
   "source": [
    "df['Should_We_Market'] = df.apply(lambda row: assignNewLabels(row), axis=1)\n",
    "df.head()"
   ]
  },
  {
   "attachments": {},
   "cell_type": "markdown",
   "metadata": {},
   "source": [
    "We now have our new class labels that our models will now try to predict. "
   ]
  },
  {
   "attachments": {},
   "cell_type": "markdown",
   "metadata": {},
   "source": [
    "### Starting the Machine Learning Process \n",
    "**One Hot Encoding**"
   ]
  },
  {
   "attachments": {},
   "cell_type": "markdown",
   "metadata": {},
   "source": [
    "We are creating one hot encoded labels for each gender and category features as we are doing multilclass classification. We chose to opt in for this as opposed to just integer labels like 1, 2, 3, 4 corresponding to each category because we do not want there to be assumed ordinal relationship between the categories. "
   ]
  },
  {
   "cell_type": "code",
<<<<<<< HEAD
   "execution_count": 166,
=======
   "execution_count": 44,
>>>>>>> 78f0607001adc4064bb0b40ddcc0b66e7e93a313
   "metadata": {},
   "outputs": [
    {
     "data": {
      "text/html": [
       "<div>\n",
       "<style scoped>\n",
       "    .dataframe tbody tr th:only-of-type {\n",
       "        vertical-align: middle;\n",
       "    }\n",
       "\n",
       "    .dataframe tbody tr th {\n",
       "        vertical-align: top;\n",
       "    }\n",
       "\n",
       "    .dataframe thead th {\n",
       "        text-align: right;\n",
       "    }\n",
       "</style>\n",
       "<table border=\"1\" class=\"dataframe\">\n",
       "  <thead>\n",
       "    <tr style=\"text-align: right;\">\n",
       "      <th></th>\n",
       "      <th>age</th>\n",
       "      <th>total_price</th>\n",
       "      <th>gender_Female</th>\n",
       "      <th>gender_Male</th>\n",
       "      <th>category_Clothing</th>\n",
       "      <th>category_Cosmetics</th>\n",
       "      <th>category_Food &amp; Beverage</th>\n",
       "      <th>category_Technology</th>\n",
       "      <th>shopping_mall_Cevahir AVM</th>\n",
       "      <th>shopping_mall_Emaar Square Mall</th>\n",
       "      <th>shopping_mall_Forum Istanbul</th>\n",
       "      <th>shopping_mall_Istinye Park</th>\n",
       "      <th>shopping_mall_Kanyon</th>\n",
       "      <th>shopping_mall_Mall of Istanbul</th>\n",
       "      <th>shopping_mall_Metrocity</th>\n",
       "      <th>shopping_mall_Metropol AVM</th>\n",
       "      <th>shopping_mall_Viaport Outlet</th>\n",
       "      <th>shopping_mall_Zorlu Center</th>\n",
       "    </tr>\n",
       "  </thead>\n",
       "  <tbody>\n",
       "    <tr>\n",
       "      <th>0</th>\n",
       "      <td>28</td>\n",
       "      <td>7502.00</td>\n",
       "      <td>True</td>\n",
       "      <td>False</td>\n",
       "      <td>True</td>\n",
       "      <td>False</td>\n",
       "      <td>False</td>\n",
       "      <td>False</td>\n",
       "      <td>False</td>\n",
       "      <td>False</td>\n",
       "      <td>False</td>\n",
       "      <td>False</td>\n",
       "      <td>True</td>\n",
       "      <td>False</td>\n",
       "      <td>False</td>\n",
       "      <td>False</td>\n",
       "      <td>False</td>\n",
       "      <td>False</td>\n",
       "    </tr>\n",
       "    <tr>\n",
       "      <th>2</th>\n",
       "      <td>20</td>\n",
       "      <td>300.08</td>\n",
       "      <td>False</td>\n",
       "      <td>True</td>\n",
       "      <td>True</td>\n",
       "      <td>False</td>\n",
       "      <td>False</td>\n",
       "      <td>False</td>\n",
       "      <td>False</td>\n",
       "      <td>False</td>\n",
       "      <td>False</td>\n",
       "      <td>False</td>\n",
       "      <td>False</td>\n",
       "      <td>False</td>\n",
       "      <td>True</td>\n",
       "      <td>False</td>\n",
       "      <td>False</td>\n",
       "      <td>False</td>\n",
       "    </tr>\n",
       "    <tr>\n",
       "      <th>5</th>\n",
       "      <td>28</td>\n",
       "      <td>7502.00</td>\n",
       "      <td>True</td>\n",
       "      <td>False</td>\n",
       "      <td>True</td>\n",
       "      <td>False</td>\n",
       "      <td>False</td>\n",
       "      <td>False</td>\n",
       "      <td>False</td>\n",
       "      <td>False</td>\n",
       "      <td>True</td>\n",
       "      <td>False</td>\n",
       "      <td>False</td>\n",
       "      <td>False</td>\n",
       "      <td>False</td>\n",
       "      <td>False</td>\n",
       "      <td>False</td>\n",
       "      <td>False</td>\n",
       "    </tr>\n",
       "    <tr>\n",
       "      <th>6</th>\n",
       "      <td>49</td>\n",
       "      <td>40.66</td>\n",
       "      <td>True</td>\n",
       "      <td>False</td>\n",
       "      <td>False</td>\n",
       "      <td>True</td>\n",
       "      <td>False</td>\n",
       "      <td>False</td>\n",
       "      <td>False</td>\n",
       "      <td>False</td>\n",
       "      <td>False</td>\n",
       "      <td>True</td>\n",
       "      <td>False</td>\n",
       "      <td>False</td>\n",
       "      <td>False</td>\n",
       "      <td>False</td>\n",
       "      <td>False</td>\n",
       "      <td>False</td>\n",
       "    </tr>\n",
       "    <tr>\n",
       "      <th>7</th>\n",
       "      <td>32</td>\n",
       "      <td>1200.32</td>\n",
       "      <td>True</td>\n",
       "      <td>False</td>\n",
       "      <td>True</td>\n",
       "      <td>False</td>\n",
       "      <td>False</td>\n",
       "      <td>False</td>\n",
       "      <td>False</td>\n",
       "      <td>False</td>\n",
       "      <td>False</td>\n",
       "      <td>False</td>\n",
       "      <td>False</td>\n",
       "      <td>True</td>\n",
       "      <td>False</td>\n",
       "      <td>False</td>\n",
       "      <td>False</td>\n",
       "      <td>False</td>\n",
       "    </tr>\n",
       "  </tbody>\n",
       "</table>\n",
       "</div>"
      ],
      "text/plain": [
       "   age  total_price  gender_Female  gender_Male  category_Clothing   \n",
       "0   28      7502.00           True        False               True  \\\n",
       "2   20       300.08          False         True               True   \n",
       "5   28      7502.00           True        False               True   \n",
       "6   49        40.66           True        False              False   \n",
       "7   32      1200.32           True        False               True   \n",
       "\n",
       "   category_Cosmetics  category_Food & Beverage  category_Technology   \n",
       "0               False                     False                False  \\\n",
       "2               False                     False                False   \n",
       "5               False                     False                False   \n",
       "6                True                     False                False   \n",
       "7               False                     False                False   \n",
       "\n",
       "   shopping_mall_Cevahir AVM  shopping_mall_Emaar Square Mall   \n",
       "0                      False                            False  \\\n",
       "2                      False                            False   \n",
       "5                      False                            False   \n",
       "6                      False                            False   \n",
       "7                      False                            False   \n",
       "\n",
       "   shopping_mall_Forum Istanbul  shopping_mall_Istinye Park   \n",
       "0                         False                       False  \\\n",
       "2                         False                       False   \n",
       "5                          True                       False   \n",
       "6                         False                        True   \n",
       "7                         False                       False   \n",
       "\n",
       "   shopping_mall_Kanyon  shopping_mall_Mall of Istanbul   \n",
       "0                  True                           False  \\\n",
       "2                 False                           False   \n",
       "5                 False                           False   \n",
       "6                 False                           False   \n",
       "7                 False                            True   \n",
       "\n",
       "   shopping_mall_Metrocity  shopping_mall_Metropol AVM   \n",
       "0                    False                       False  \\\n",
       "2                     True                       False   \n",
       "5                    False                       False   \n",
       "6                    False                       False   \n",
       "7                    False                       False   \n",
       "\n",
       "   shopping_mall_Viaport Outlet  shopping_mall_Zorlu Center  \n",
       "0                         False                       False  \n",
       "2                         False                       False  \n",
       "5                         False                       False  \n",
       "6                         False                       False  \n",
       "7                         False                       False  "
      ]
     },
<<<<<<< HEAD
     "execution_count": 166,
=======
     "execution_count": 44,
>>>>>>> 78f0607001adc4064bb0b40ddcc0b66e7e93a313
     "metadata": {},
     "output_type": "execute_result"
    }
   ],
   "source": [
    "df_dummy = pd.get_dummies(df[['gender', 'category', 'age', 'total_price', 'shopping_mall']])\n",
    "df_dummy.head()\n"
   ]
  },
  {
   "attachments": {},
   "cell_type": "markdown",
   "metadata": {},
   "source": [
    "**Min-max normalization**\n",
    "\n",
    "We normalize our age and price features to ensure uniformity and ensure that they are all within the same range, [0,1]\n"
   ]
  },
  {
   "cell_type": "code",
<<<<<<< HEAD
   "execution_count": 167,
=======
   "execution_count": 45,
>>>>>>> 78f0607001adc4064bb0b40ddcc0b66e7e93a313
   "metadata": {},
   "outputs": [],
   "source": [
    "\n",
    "# Normalizing the ages\n",
    "min_age = df_dummy['age'].min()\n",
    "max_age = df_dummy['age'].max()\n",
    "\n",
    "# Apply min-max normalization to the 'age' column\n",
    "df_dummy['normalized_age'] = (df_dummy['age'] - min_age) / (max_age - min_age)\n",
    "df_dummy.drop(['age'], axis=1, inplace=True)\n",
    "\n"
   ]
  },
  {
   "cell_type": "code",
<<<<<<< HEAD
   "execution_count": 168,
=======
   "execution_count": 46,
>>>>>>> 78f0607001adc4064bb0b40ddcc0b66e7e93a313
   "metadata": {},
   "outputs": [],
   "source": [
    "# Normalize the prices\n",
    "\n",
    "min_price = df_dummy['total_price'].min()\n",
    "max_price = df_dummy['total_price'].max()\n",
    "\n",
    "# Apply min-max normalization to the 'price' column\n",
    "df_dummy['normalized_price'] = (df_dummy['total_price'] - min_price) / (max_price - min_price)\n",
    "df_dummy.drop(['total_price'], axis=1, inplace=True)\n",
    "\n"
   ]
  },
  {
   "cell_type": "code",
<<<<<<< HEAD
   "execution_count": 169,
=======
   "execution_count": 47,
>>>>>>> 78f0607001adc4064bb0b40ddcc0b66e7e93a313
   "metadata": {},
   "outputs": [
    {
     "data": {
      "text/html": [
       "<div>\n",
       "<style scoped>\n",
       "    .dataframe tbody tr th:only-of-type {\n",
       "        vertical-align: middle;\n",
       "    }\n",
       "\n",
       "    .dataframe tbody tr th {\n",
       "        vertical-align: top;\n",
       "    }\n",
       "\n",
       "    .dataframe thead th {\n",
       "        text-align: right;\n",
       "    }\n",
       "</style>\n",
       "<table border=\"1\" class=\"dataframe\">\n",
       "  <thead>\n",
       "    <tr style=\"text-align: right;\">\n",
       "      <th></th>\n",
       "      <th>gender_Female</th>\n",
       "      <th>gender_Male</th>\n",
       "      <th>category_Clothing</th>\n",
       "      <th>category_Cosmetics</th>\n",
       "      <th>category_Food &amp; Beverage</th>\n",
       "      <th>category_Technology</th>\n",
       "      <th>shopping_mall_Cevahir AVM</th>\n",
       "      <th>shopping_mall_Emaar Square Mall</th>\n",
       "      <th>shopping_mall_Forum Istanbul</th>\n",
       "      <th>shopping_mall_Istinye Park</th>\n",
       "      <th>shopping_mall_Kanyon</th>\n",
       "      <th>shopping_mall_Mall of Istanbul</th>\n",
       "      <th>shopping_mall_Metrocity</th>\n",
       "      <th>shopping_mall_Metropol AVM</th>\n",
       "      <th>shopping_mall_Viaport Outlet</th>\n",
       "      <th>shopping_mall_Zorlu Center</th>\n",
       "      <th>normalized_age</th>\n",
       "      <th>normalized_price</th>\n",
       "    </tr>\n",
       "  </thead>\n",
       "  <tbody>\n",
       "    <tr>\n",
       "      <th>0</th>\n",
       "      <td>True</td>\n",
       "      <td>False</td>\n",
       "      <td>True</td>\n",
       "      <td>False</td>\n",
       "      <td>False</td>\n",
       "      <td>False</td>\n",
       "      <td>False</td>\n",
       "      <td>False</td>\n",
       "      <td>False</td>\n",
       "      <td>False</td>\n",
       "      <td>True</td>\n",
       "      <td>False</td>\n",
       "      <td>False</td>\n",
       "      <td>False</td>\n",
       "      <td>False</td>\n",
       "      <td>False</td>\n",
       "      <td>0.196078</td>\n",
       "      <td>0.285648</td>\n",
       "    </tr>\n",
       "    <tr>\n",
       "      <th>2</th>\n",
       "      <td>False</td>\n",
       "      <td>True</td>\n",
       "      <td>True</td>\n",
       "      <td>False</td>\n",
       "      <td>False</td>\n",
       "      <td>False</td>\n",
       "      <td>False</td>\n",
       "      <td>False</td>\n",
       "      <td>False</td>\n",
       "      <td>False</td>\n",
       "      <td>False</td>\n",
       "      <td>False</td>\n",
       "      <td>True</td>\n",
       "      <td>False</td>\n",
       "      <td>False</td>\n",
       "      <td>False</td>\n",
       "      <td>0.039216</td>\n",
       "      <td>0.011235</td>\n",
       "    </tr>\n",
       "    <tr>\n",
       "      <th>5</th>\n",
       "      <td>True</td>\n",
       "      <td>False</td>\n",
       "      <td>True</td>\n",
       "      <td>False</td>\n",
       "      <td>False</td>\n",
       "      <td>False</td>\n",
       "      <td>False</td>\n",
       "      <td>False</td>\n",
       "      <td>True</td>\n",
       "      <td>False</td>\n",
       "      <td>False</td>\n",
       "      <td>False</td>\n",
       "      <td>False</td>\n",
       "      <td>False</td>\n",
       "      <td>False</td>\n",
       "      <td>False</td>\n",
       "      <td>0.196078</td>\n",
       "      <td>0.285648</td>\n",
       "    </tr>\n",
       "    <tr>\n",
       "      <th>6</th>\n",
       "      <td>True</td>\n",
       "      <td>False</td>\n",
       "      <td>False</td>\n",
       "      <td>True</td>\n",
       "      <td>False</td>\n",
       "      <td>False</td>\n",
       "      <td>False</td>\n",
       "      <td>False</td>\n",
       "      <td>False</td>\n",
       "      <td>True</td>\n",
       "      <td>False</td>\n",
       "      <td>False</td>\n",
       "      <td>False</td>\n",
       "      <td>False</td>\n",
       "      <td>False</td>\n",
       "      <td>False</td>\n",
       "      <td>0.607843</td>\n",
       "      <td>0.001350</td>\n",
       "    </tr>\n",
       "    <tr>\n",
       "      <th>7</th>\n",
       "      <td>True</td>\n",
       "      <td>False</td>\n",
       "      <td>True</td>\n",
       "      <td>False</td>\n",
       "      <td>False</td>\n",
       "      <td>False</td>\n",
       "      <td>False</td>\n",
       "      <td>False</td>\n",
       "      <td>False</td>\n",
       "      <td>False</td>\n",
       "      <td>False</td>\n",
       "      <td>True</td>\n",
       "      <td>False</td>\n",
       "      <td>False</td>\n",
       "      <td>False</td>\n",
       "      <td>False</td>\n",
       "      <td>0.274510</td>\n",
       "      <td>0.045536</td>\n",
       "    </tr>\n",
       "  </tbody>\n",
       "</table>\n",
       "</div>"
      ],
      "text/plain": [
       "   gender_Female  gender_Male  category_Clothing  category_Cosmetics   \n",
       "0           True        False               True               False  \\\n",
       "2          False         True               True               False   \n",
       "5           True        False               True               False   \n",
       "6           True        False              False                True   \n",
       "7           True        False               True               False   \n",
       "\n",
       "   category_Food & Beverage  category_Technology  shopping_mall_Cevahir AVM   \n",
       "0                     False                False                      False  \\\n",
       "2                     False                False                      False   \n",
       "5                     False                False                      False   \n",
       "6                     False                False                      False   \n",
       "7                     False                False                      False   \n",
       "\n",
       "   shopping_mall_Emaar Square Mall  shopping_mall_Forum Istanbul   \n",
       "0                            False                         False  \\\n",
       "2                            False                         False   \n",
       "5                            False                          True   \n",
       "6                            False                         False   \n",
       "7                            False                         False   \n",
       "\n",
       "   shopping_mall_Istinye Park  shopping_mall_Kanyon   \n",
       "0                       False                  True  \\\n",
       "2                       False                 False   \n",
       "5                       False                 False   \n",
       "6                        True                 False   \n",
       "7                       False                 False   \n",
       "\n",
       "   shopping_mall_Mall of Istanbul  shopping_mall_Metrocity   \n",
       "0                           False                    False  \\\n",
       "2                           False                     True   \n",
       "5                           False                    False   \n",
       "6                           False                    False   \n",
       "7                            True                    False   \n",
       "\n",
       "   shopping_mall_Metropol AVM  shopping_mall_Viaport Outlet   \n",
       "0                       False                         False  \\\n",
       "2                       False                         False   \n",
       "5                       False                         False   \n",
       "6                       False                         False   \n",
       "7                       False                         False   \n",
       "\n",
       "   shopping_mall_Zorlu Center  normalized_age  normalized_price  \n",
       "0                       False        0.196078          0.285648  \n",
       "2                       False        0.039216          0.011235  \n",
       "5                       False        0.196078          0.285648  \n",
       "6                       False        0.607843          0.001350  \n",
       "7                       False        0.274510          0.045536  "
      ]
     },
<<<<<<< HEAD
     "execution_count": 169,
=======
     "execution_count": 47,
>>>>>>> 78f0607001adc4064bb0b40ddcc0b66e7e93a313
     "metadata": {},
     "output_type": "execute_result"
    }
   ],
   "source": [
    "df_dummy.head()"
   ]
  },
  {
   "attachments": {},
   "cell_type": "markdown",
   "metadata": {},
   "source": [
    "We are now ready to run our models"
   ]
  },
  {
   "attachments": {},
   "cell_type": "markdown",
   "metadata": {},
   "source": [
    "## Running the Models\n",
    "\n",
    "We are working with a 80/20 train test split for all of our models. \n",
    "\n",
    "We start with a Gaussian Naive Bayes. We chose this model because []"
   ]
  },
  {
   "attachments": {},
   "cell_type": "markdown",
   "metadata": {},
   "source": [
    "### Gaussian Naive Bayes with labels = yes or no or maybe"
   ]
  },
  {
   "cell_type": "code",
<<<<<<< HEAD
   "execution_count": 170,
=======
   "execution_count": 48,
>>>>>>> 78f0607001adc4064bb0b40ddcc0b66e7e93a313
   "metadata": {},
   "outputs": [
    {
     "name": "stdout",
     "output_type": "stream",
     "text": [
      "(69356, 18) (69356,)\n"
     ]
    }
   ],
   "source": [
    "X = df_dummy\n",
    "y = df.Should_We_Market\n",
    "\n",
    "print(X.shape, y.shape)\n",
    "X_train, X_test, y_train, y_test = train_test_split(\n",
    "    X, y, test_size=0.20, random_state=125\n",
    ")"
   ]
  },
  {
   "cell_type": "code",
<<<<<<< HEAD
   "execution_count": 171,
=======
   "execution_count": 49,
>>>>>>> 78f0607001adc4064bb0b40ddcc0b66e7e93a313
   "metadata": {},
   "outputs": [
    {
     "name": "stdout",
     "output_type": "stream",
     "text": [
      "Accuracy: 0.6008506343713956\n",
      "F1 Score: 0.6575598917743605\n",
      "\n",
      "Precision for Label maybe : 0.6384685923888125\n",
      "Precision for Label no : 0.5991282968261064\n",
      "Precision for Label yes : 0.33629893238434166\n",
      "\n",
      "Recall for Label maybe : 0.49910394265232977\n",
      "Recall for Label no : 0.9643820831084727\n",
      "Recall for Label yes : 0.06915477497255763\n"
     ]
    },
    {
     "data": {
      "image/png": "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",
      "text/plain": [
       "<Figure size 640x480 with 2 Axes>"
      ]
     },
     "metadata": {},
     "output_type": "display_data"
    }
   ],
   "source": [
    "# Build a Gaussian Classifier\n",
    "model = GaussianNB()\n",
    "\n",
    "# Model training\n",
    "model.fit(X_train, y_train)\n",
    "\n",
    "y_pred = model.predict(X_test)\n",
    "accuracy = accuracy_score(y_pred, y_test)\n",
    "f1 = f1_score(y_pred, y_test, average=\"weighted\")\n",
    "\n",
    "print(\"Accuracy:\", accuracy)\n",
    "print(\"F1 Score:\", f1)\n",
    "print()\n",
    "\n",
    "cm = confusion_matrix(y_test, y_pred, labels=[\"maybe\", \"no\", \"yes\"])\n",
    "disp = ConfusionMatrixDisplay(confusion_matrix=cm, display_labels=[\"maybe\", \"no\", \"yes\"])\n",
    "disp.plot();\n",
    "\n",
    "# Calculate precision and recall per label\n",
    "precision = precision_score(y_test, y_pred, average=None)\n",
    "labels = sorted(set(y_test))\n",
    "\n",
    "for label, score in zip(labels, precision):\n",
    "    print(\"Precision for Label\", label, \":\", score)\n",
    "\n",
    "print()\n",
    "recall = recall_score(y_test, y_pred, average=None)\n",
    "for label, score in zip(labels, recall):\n",
    "    print(\"Recall for Label\", label, \":\", score)\n",
    "# interpret results in writeup using https://www.v7labs.com/blog/confusion-matrix-guide"
   ]
  },
  {
   "attachments": {},
   "cell_type": "markdown",
   "metadata": {},
   "source": [
    "We can see that accuracy is low, and we realize further that this is wrong for the following reasons.\n",
    "\n",
    "List reasons here: \n",
    "Now we will repurpose our statement to classify shopper's spending categories based on spending habits and gender and age."
   ]
  },
  {
   "attachments": {},
   "cell_type": "markdown",
   "metadata": {},
   "source": [
    "# Part 2: Updated Problem Statement \n",
    "\n",
    "We now want to move onto our updated problem statement of focusing on a predictive model for shopper segmentation, where shoppers are grouped into distinct categories based on their preferences and purchase patterns. We want to step away from the yes, maybe, no concept of the class label entirely due to the aforementioned reaons and pivot into something that is more applicable of an implementation. \n",
    "\n",
    "We are now predicting the Category label given the features of age, gender, shopping mall, and total price to start with to essentially utilize this demographic and past purchasing information to segment shoppers into categories, which can then be utilized for any future targeted marketing campaigns Eg: Aiming to focus on technology enthusiasts for a technology sale.  "
   ]
  },
  {
   "attachments": {},
   "cell_type": "markdown",
   "metadata": {},
   "source": [
    "## Random Forest Classification for Feature Selection"
   ]
  },
  {
   "attachments": {},
   "cell_type": "markdown",
   "metadata": {},
   "source": [
    "We first take a step back and create one hot-encodings with the features we want once more. "
   ]
  },
  {
   "cell_type": "code",
<<<<<<< HEAD
   "execution_count": 172,
=======
   "execution_count": 50,
>>>>>>> 78f0607001adc4064bb0b40ddcc0b66e7e93a313
   "metadata": {},
   "outputs": [
    {
     "data": {
      "text/html": [
       "<div>\n",
       "<style scoped>\n",
       "    .dataframe tbody tr th:only-of-type {\n",
       "        vertical-align: middle;\n",
       "    }\n",
       "\n",
       "    .dataframe tbody tr th {\n",
       "        vertical-align: top;\n",
       "    }\n",
       "\n",
       "    .dataframe thead th {\n",
       "        text-align: right;\n",
       "    }\n",
       "</style>\n",
       "<table border=\"1\" class=\"dataframe\">\n",
       "  <thead>\n",
       "    <tr style=\"text-align: right;\">\n",
       "      <th></th>\n",
       "      <th>age</th>\n",
       "      <th>total_price</th>\n",
       "      <th>gender_Female</th>\n",
       "      <th>gender_Male</th>\n",
       "      <th>shopping_mall_Cevahir AVM</th>\n",
       "      <th>shopping_mall_Emaar Square Mall</th>\n",
       "      <th>shopping_mall_Forum Istanbul</th>\n",
       "      <th>shopping_mall_Istinye Park</th>\n",
       "      <th>shopping_mall_Kanyon</th>\n",
       "      <th>shopping_mall_Mall of Istanbul</th>\n",
       "      <th>shopping_mall_Metrocity</th>\n",
       "      <th>shopping_mall_Metropol AVM</th>\n",
       "      <th>shopping_mall_Viaport Outlet</th>\n",
       "      <th>shopping_mall_Zorlu Center</th>\n",
       "    </tr>\n",
       "  </thead>\n",
       "  <tbody>\n",
       "    <tr>\n",
       "      <th>0</th>\n",
       "      <td>28</td>\n",
       "      <td>7502.00</td>\n",
       "      <td>True</td>\n",
       "      <td>False</td>\n",
       "      <td>False</td>\n",
       "      <td>False</td>\n",
       "      <td>False</td>\n",
       "      <td>False</td>\n",
       "      <td>True</td>\n",
       "      <td>False</td>\n",
       "      <td>False</td>\n",
       "      <td>False</td>\n",
       "      <td>False</td>\n",
       "      <td>False</td>\n",
       "    </tr>\n",
       "    <tr>\n",
       "      <th>2</th>\n",
       "      <td>20</td>\n",
       "      <td>300.08</td>\n",
       "      <td>False</td>\n",
       "      <td>True</td>\n",
       "      <td>False</td>\n",
       "      <td>False</td>\n",
       "      <td>False</td>\n",
       "      <td>False</td>\n",
       "      <td>False</td>\n",
       "      <td>False</td>\n",
       "      <td>True</td>\n",
       "      <td>False</td>\n",
       "      <td>False</td>\n",
       "      <td>False</td>\n",
       "    </tr>\n",
       "    <tr>\n",
       "      <th>5</th>\n",
       "      <td>28</td>\n",
       "      <td>7502.00</td>\n",
       "      <td>True</td>\n",
       "      <td>False</td>\n",
       "      <td>False</td>\n",
       "      <td>False</td>\n",
       "      <td>True</td>\n",
       "      <td>False</td>\n",
       "      <td>False</td>\n",
       "      <td>False</td>\n",
       "      <td>False</td>\n",
       "      <td>False</td>\n",
       "      <td>False</td>\n",
       "      <td>False</td>\n",
       "    </tr>\n",
       "    <tr>\n",
       "      <th>6</th>\n",
       "      <td>49</td>\n",
       "      <td>40.66</td>\n",
       "      <td>True</td>\n",
       "      <td>False</td>\n",
       "      <td>False</td>\n",
       "      <td>False</td>\n",
       "      <td>False</td>\n",
       "      <td>True</td>\n",
       "      <td>False</td>\n",
       "      <td>False</td>\n",
       "      <td>False</td>\n",
       "      <td>False</td>\n",
       "      <td>False</td>\n",
       "      <td>False</td>\n",
       "    </tr>\n",
       "    <tr>\n",
       "      <th>7</th>\n",
       "      <td>32</td>\n",
       "      <td>1200.32</td>\n",
       "      <td>True</td>\n",
       "      <td>False</td>\n",
       "      <td>False</td>\n",
       "      <td>False</td>\n",
       "      <td>False</td>\n",
       "      <td>False</td>\n",
       "      <td>False</td>\n",
       "      <td>True</td>\n",
       "      <td>False</td>\n",
       "      <td>False</td>\n",
       "      <td>False</td>\n",
       "      <td>False</td>\n",
       "    </tr>\n",
       "  </tbody>\n",
       "</table>\n",
       "</div>"
      ],
      "text/plain": [
       "   age  total_price  gender_Female  gender_Male  shopping_mall_Cevahir AVM   \n",
       "0   28      7502.00           True        False                      False  \\\n",
       "2   20       300.08          False         True                      False   \n",
       "5   28      7502.00           True        False                      False   \n",
       "6   49        40.66           True        False                      False   \n",
       "7   32      1200.32           True        False                      False   \n",
       "\n",
       "   shopping_mall_Emaar Square Mall  shopping_mall_Forum Istanbul   \n",
       "0                            False                         False  \\\n",
       "2                            False                         False   \n",
       "5                            False                          True   \n",
       "6                            False                         False   \n",
       "7                            False                         False   \n",
       "\n",
       "   shopping_mall_Istinye Park  shopping_mall_Kanyon   \n",
       "0                       False                  True  \\\n",
       "2                       False                 False   \n",
       "5                       False                 False   \n",
       "6                        True                 False   \n",
       "7                       False                 False   \n",
       "\n",
       "   shopping_mall_Mall of Istanbul  shopping_mall_Metrocity   \n",
       "0                           False                    False  \\\n",
       "2                           False                     True   \n",
       "5                           False                    False   \n",
       "6                           False                    False   \n",
       "7                            True                    False   \n",
       "\n",
       "   shopping_mall_Metropol AVM  shopping_mall_Viaport Outlet   \n",
       "0                       False                         False  \\\n",
       "2                       False                         False   \n",
       "5                       False                         False   \n",
       "6                       False                         False   \n",
       "7                       False                         False   \n",
       "\n",
       "   shopping_mall_Zorlu Center  \n",
       "0                       False  \n",
       "2                       False  \n",
       "5                       False  \n",
       "6                       False  \n",
       "7                       False  "
      ]
     },
<<<<<<< HEAD
     "execution_count": 172,
=======
     "execution_count": 50,
>>>>>>> 78f0607001adc4064bb0b40ddcc0b66e7e93a313
     "metadata": {},
     "output_type": "execute_result"
    }
   ],
   "source": [
    "df_dummy = pd.get_dummies(df[['gender', 'age', 'total_price', 'shopping_mall']])\n",
    "df_dummy.head()"
   ]
  },
  {
   "attachments": {},
   "cell_type": "markdown",
   "metadata": {},
   "source": [
    "Normalizing the ages to ensure uniformity and bring them to the same range, [0,1] "
   ]
  },
  {
   "cell_type": "code",
<<<<<<< HEAD
   "execution_count": 173,
=======
   "execution_count": 51,
>>>>>>> 78f0607001adc4064bb0b40ddcc0b66e7e93a313
   "metadata": {},
   "outputs": [
    {
     "data": {
      "text/html": [
       "<div>\n",
       "<style scoped>\n",
       "    .dataframe tbody tr th:only-of-type {\n",
       "        vertical-align: middle;\n",
       "    }\n",
       "\n",
       "    .dataframe tbody tr th {\n",
       "        vertical-align: top;\n",
       "    }\n",
       "\n",
       "    .dataframe thead th {\n",
       "        text-align: right;\n",
       "    }\n",
       "</style>\n",
       "<table border=\"1\" class=\"dataframe\">\n",
       "  <thead>\n",
       "    <tr style=\"text-align: right;\">\n",
       "      <th></th>\n",
       "      <th>gender_Female</th>\n",
       "      <th>gender_Male</th>\n",
       "      <th>shopping_mall_Cevahir AVM</th>\n",
       "      <th>shopping_mall_Emaar Square Mall</th>\n",
       "      <th>shopping_mall_Forum Istanbul</th>\n",
       "      <th>shopping_mall_Istinye Park</th>\n",
       "      <th>shopping_mall_Kanyon</th>\n",
       "      <th>shopping_mall_Mall of Istanbul</th>\n",
       "      <th>shopping_mall_Metrocity</th>\n",
       "      <th>shopping_mall_Metropol AVM</th>\n",
       "      <th>shopping_mall_Viaport Outlet</th>\n",
       "      <th>shopping_mall_Zorlu Center</th>\n",
       "      <th>normalized_age</th>\n",
       "      <th>normalized_price</th>\n",
       "    </tr>\n",
       "  </thead>\n",
       "  <tbody>\n",
       "    <tr>\n",
       "      <th>0</th>\n",
       "      <td>True</td>\n",
       "      <td>False</td>\n",
       "      <td>False</td>\n",
       "      <td>False</td>\n",
       "      <td>False</td>\n",
       "      <td>False</td>\n",
       "      <td>True</td>\n",
       "      <td>False</td>\n",
       "      <td>False</td>\n",
       "      <td>False</td>\n",
       "      <td>False</td>\n",
       "      <td>False</td>\n",
       "      <td>0.196078</td>\n",
       "      <td>0.285648</td>\n",
       "    </tr>\n",
       "    <tr>\n",
       "      <th>2</th>\n",
       "      <td>False</td>\n",
       "      <td>True</td>\n",
       "      <td>False</td>\n",
       "      <td>False</td>\n",
       "      <td>False</td>\n",
       "      <td>False</td>\n",
       "      <td>False</td>\n",
       "      <td>False</td>\n",
       "      <td>True</td>\n",
       "      <td>False</td>\n",
       "      <td>False</td>\n",
       "      <td>False</td>\n",
       "      <td>0.039216</td>\n",
       "      <td>0.011235</td>\n",
       "    </tr>\n",
       "    <tr>\n",
       "      <th>5</th>\n",
       "      <td>True</td>\n",
       "      <td>False</td>\n",
       "      <td>False</td>\n",
       "      <td>False</td>\n",
       "      <td>True</td>\n",
       "      <td>False</td>\n",
       "      <td>False</td>\n",
       "      <td>False</td>\n",
       "      <td>False</td>\n",
       "      <td>False</td>\n",
       "      <td>False</td>\n",
       "      <td>False</td>\n",
       "      <td>0.196078</td>\n",
       "      <td>0.285648</td>\n",
       "    </tr>\n",
       "    <tr>\n",
       "      <th>6</th>\n",
       "      <td>True</td>\n",
       "      <td>False</td>\n",
       "      <td>False</td>\n",
       "      <td>False</td>\n",
       "      <td>False</td>\n",
       "      <td>True</td>\n",
       "      <td>False</td>\n",
       "      <td>False</td>\n",
       "      <td>False</td>\n",
       "      <td>False</td>\n",
       "      <td>False</td>\n",
       "      <td>False</td>\n",
       "      <td>0.607843</td>\n",
       "      <td>0.001350</td>\n",
       "    </tr>\n",
       "    <tr>\n",
       "      <th>7</th>\n",
       "      <td>True</td>\n",
       "      <td>False</td>\n",
       "      <td>False</td>\n",
       "      <td>False</td>\n",
       "      <td>False</td>\n",
       "      <td>False</td>\n",
       "      <td>False</td>\n",
       "      <td>True</td>\n",
       "      <td>False</td>\n",
       "      <td>False</td>\n",
       "      <td>False</td>\n",
       "      <td>False</td>\n",
       "      <td>0.274510</td>\n",
       "      <td>0.045536</td>\n",
       "    </tr>\n",
       "  </tbody>\n",
       "</table>\n",
       "</div>"
      ],
      "text/plain": [
       "   gender_Female  gender_Male  shopping_mall_Cevahir AVM   \n",
       "0           True        False                      False  \\\n",
       "2          False         True                      False   \n",
       "5           True        False                      False   \n",
       "6           True        False                      False   \n",
       "7           True        False                      False   \n",
       "\n",
       "   shopping_mall_Emaar Square Mall  shopping_mall_Forum Istanbul   \n",
       "0                            False                         False  \\\n",
       "2                            False                         False   \n",
       "5                            False                          True   \n",
       "6                            False                         False   \n",
       "7                            False                         False   \n",
       "\n",
       "   shopping_mall_Istinye Park  shopping_mall_Kanyon   \n",
       "0                       False                  True  \\\n",
       "2                       False                 False   \n",
       "5                       False                 False   \n",
       "6                        True                 False   \n",
       "7                       False                 False   \n",
       "\n",
       "   shopping_mall_Mall of Istanbul  shopping_mall_Metrocity   \n",
       "0                           False                    False  \\\n",
       "2                           False                     True   \n",
       "5                           False                    False   \n",
       "6                           False                    False   \n",
       "7                            True                    False   \n",
       "\n",
       "   shopping_mall_Metropol AVM  shopping_mall_Viaport Outlet   \n",
       "0                       False                         False  \\\n",
       "2                       False                         False   \n",
       "5                       False                         False   \n",
       "6                       False                         False   \n",
       "7                       False                         False   \n",
       "\n",
       "   shopping_mall_Zorlu Center  normalized_age  normalized_price  \n",
       "0                       False        0.196078          0.285648  \n",
       "2                       False        0.039216          0.011235  \n",
       "5                       False        0.196078          0.285648  \n",
       "6                       False        0.607843          0.001350  \n",
       "7                       False        0.274510          0.045536  "
      ]
     },
<<<<<<< HEAD
     "execution_count": 173,
=======
     "execution_count": 51,
>>>>>>> 78f0607001adc4064bb0b40ddcc0b66e7e93a313
     "metadata": {},
     "output_type": "execute_result"
    }
   ],
   "source": [
    "# Normalizing the ages\n",
    "min_age = df_dummy['age'].min()\n",
    "max_age = df_dummy['age'].max()\n",
    "\n",
    "# Apply min-max normalization to the 'age' column\n",
    "df_dummy['normalized_age'] = (df_dummy['age'] - min_age) / (max_age - min_age)\n",
    "\n",
    "# Normalize the prices\n",
    "min_price = df_dummy['total_price'].min()\n",
    "max_price = df_dummy['total_price'].max()\n",
    "\n",
    "# Apply min-max normalization to the 'price' column\n",
    "df_dummy['normalized_price'] = (df_dummy['total_price'] - min_price) / (max_price - min_price)\n",
    "df_dummy.drop(['total_price', 'age'], axis=1, inplace=True)\n",
    "df_dummy.head()\n",
    "\n",
    "\n"
   ]
  },
  {
   "attachments": {},
   "cell_type": "markdown",
   "metadata": {},
   "source": [
    "Finally, here we use we make use of sklearn’s Random Forest Classification to create a feature ranking \n"
   ]
  },
  {
   "cell_type": "code",
<<<<<<< HEAD
   "execution_count": 174,
=======
   "execution_count": 52,
>>>>>>> 78f0607001adc4064bb0b40ddcc0b66e7e93a313
   "metadata": {},
   "outputs": [
    {
     "name": "stdout",
     "output_type": "stream",
     "text": [
      "Feature ranking:\n",
<<<<<<< HEAD
      "1. Feature normalized_price (0.9841766720877971)\n",
      "2. Feature normalized_age (0.01315421734328879)\n",
      "3. Feature gender_Male (0.00032610252470682946)\n",
      "4. Feature gender_Female (0.00032587176710011773)\n",
      "5. Feature shopping_mall_Mall of Istanbul (0.00022040725579587753)\n",
      "6. Feature shopping_mall_Metropol AVM (0.00021801968511996392)\n",
      "7. Feature shopping_mall_Emaar Square Mall (0.0002150927548230938)\n",
      "8. Feature shopping_mall_Forum Istanbul (0.00021061241514390026)\n",
      "9. Feature shopping_mall_Metrocity (0.0002052031126270995)\n",
      "10. Feature shopping_mall_Viaport Outlet (0.00020186741213055516)\n",
      "11. Feature shopping_mall_Kanyon (0.0001942715342220746)\n",
      "12. Feature shopping_mall_Istinye Park (0.00019145139621936977)\n",
      "13. Feature shopping_mall_Zorlu Center (0.00018280842728395032)\n",
      "14. Feature shopping_mall_Cevahir AVM (0.00017740228374118442)\n"
=======
      "1. Feature normalized_price (0.9840530370790881)\n",
      "2. Feature normalized_age (0.013279365993948605)\n",
      "3. Feature gender_Female (0.00030129486690918833)\n",
      "4. Feature gender_Male (0.0002884013812017334)\n",
      "5. Feature shopping_mall_Cevahir AVM (0.00022754034859991495)\n",
      "6. Feature shopping_mall_Viaport Outlet (0.0002172734289837798)\n",
      "7. Feature shopping_mall_Metrocity (0.00021616929015144359)\n",
      "8. Feature shopping_mall_Mall of Istanbul (0.00021460908897346943)\n",
      "9. Feature shopping_mall_Forum Istanbul (0.00021198959023448395)\n",
      "10. Feature shopping_mall_Zorlu Center (0.00020762075580717457)\n",
      "11. Feature shopping_mall_Emaar Square Mall (0.00020312955959506305)\n",
      "12. Feature shopping_mall_Metropol AVM (0.00019938507277916017)\n",
      "13. Feature shopping_mall_Istinye Park (0.00019068174750900917)\n",
      "14. Feature shopping_mall_Kanyon (0.00018950179621885776)\n"
>>>>>>> 78f0607001adc4064bb0b40ddcc0b66e7e93a313
     ]
    }
   ],
   "source": [
    "X = df_dummy\n",
    "y = df.category\n",
    "\n",
    "X_train, X_test, y_train, y_test = train_test_split(X, y, test_size=0.25, random_state=42)\n",
    "\n",
    "# Create a Random Forest classifier\n",
    "rf_classifier = RandomForestClassifier()\n",
    "\n",
    "rf_classifier.fit(X_train, y_train)\n",
    "\n",
    "# Get feature importances\n",
    "importances = rf_classifier.feature_importances_\n",
    "\n",
    "# Sort feature importances in descending order\n",
    "indices = importances.argsort()[::-1]\n",
    "print(\"Feature ranking:\")\n",
    "for f in range(X.shape[1]):\n",
    "    print(f\"{f + 1}. Feature {X.columns[indices[f]]} ({importances[indices[f]]})\")"
   ]
  },
  {
   "attachments": {},
   "cell_type": "markdown",
   "metadata": {},
   "source": [
    "According to this dataset, gender and shopping mall dont make a big difference in classififcation which lines up with our earlier observations (mean spending is the same per category for males and females and mean spending is around the same in each shopping mall for males and females ), so let’s drop these and try Naive Bayes again\n"
   ]
  },
  {
   "attachments": {},
   "cell_type": "markdown",
   "metadata": {},
   "source": [
    "### Gaussian Naive Bayes with new labels based on categories"
   ]
  },
  {
   "cell_type": "code",
<<<<<<< HEAD
   "execution_count": 175,
=======
   "execution_count": 53,
>>>>>>> 78f0607001adc4064bb0b40ddcc0b66e7e93a313
   "metadata": {},
   "outputs": [],
   "source": [
    "# dropping useless features according to Random Forest\n",
    "df_dummy.drop(['gender_Female', 'gender_Male', 'shopping_mall_Mall of Istanbul',\n",
    "               'shopping_mall_Metrocity', 'shopping_mall_Forum Istanbul', 'shopping_mall_Viaport Outlet',\n",
    "               'shopping_mall_Emaar Square Mall', 'shopping_mall_Kanyon', 'shopping_mall_Istinye Park',\n",
    "               'shopping_mall_Zorlu Center', 'shopping_mall_Cevahir AVM', 'shopping_mall_Metropol AVM'], axis=1, inplace=True)"
   ]
  },
  {
   "cell_type": "code",
<<<<<<< HEAD
   "execution_count": 176,
=======
   "execution_count": 54,
>>>>>>> 78f0607001adc4064bb0b40ddcc0b66e7e93a313
   "metadata": {},
   "outputs": [
    {
     "name": "stdout",
     "output_type": "stream",
     "text": [
      "(69356, 2) (69356,)\n"
     ]
    }
   ],
   "source": [
    "X = df_dummy\n",
    "y = df.category\n",
    "\n",
    "print(X.shape, y.shape)\n",
    "X_train, X_test, y_train, y_test = train_test_split(\n",
    "    X, y, test_size=0.25, random_state=125\n",
    ")"
   ]
  },
  {
   "attachments": {},
   "cell_type": "markdown",
   "metadata": {},
   "source": [
    "We are now just working with the following features to predict the category"
   ]
  },
  {
   "cell_type": "code",
   "execution_count": 55,
   "metadata": {},
   "outputs": [
    {
     "data": {
      "text/html": [
       "<div>\n",
       "<style scoped>\n",
       "    .dataframe tbody tr th:only-of-type {\n",
       "        vertical-align: middle;\n",
       "    }\n",
       "\n",
       "    .dataframe tbody tr th {\n",
       "        vertical-align: top;\n",
       "    }\n",
       "\n",
       "    .dataframe thead th {\n",
       "        text-align: right;\n",
       "    }\n",
       "</style>\n",
       "<table border=\"1\" class=\"dataframe\">\n",
       "  <thead>\n",
       "    <tr style=\"text-align: right;\">\n",
       "      <th></th>\n",
       "      <th>normalized_age</th>\n",
       "      <th>normalized_price</th>\n",
       "    </tr>\n",
       "  </thead>\n",
       "  <tbody>\n",
       "    <tr>\n",
       "      <th>0</th>\n",
       "      <td>0.196078</td>\n",
       "      <td>0.285648</td>\n",
       "    </tr>\n",
       "    <tr>\n",
       "      <th>2</th>\n",
       "      <td>0.039216</td>\n",
       "      <td>0.011235</td>\n",
       "    </tr>\n",
       "    <tr>\n",
       "      <th>5</th>\n",
       "      <td>0.196078</td>\n",
       "      <td>0.285648</td>\n",
       "    </tr>\n",
       "    <tr>\n",
       "      <th>6</th>\n",
       "      <td>0.607843</td>\n",
       "      <td>0.001350</td>\n",
       "    </tr>\n",
       "    <tr>\n",
       "      <th>7</th>\n",
       "      <td>0.274510</td>\n",
       "      <td>0.045536</td>\n",
       "    </tr>\n",
       "    <tr>\n",
       "      <th>...</th>\n",
       "      <td>...</td>\n",
       "      <td>...</td>\n",
       "    </tr>\n",
       "    <tr>\n",
       "      <th>99446</th>\n",
       "      <td>0.274510</td>\n",
       "      <td>0.000000</td>\n",
       "    </tr>\n",
       "    <tr>\n",
       "      <th>99449</th>\n",
       "      <td>0.921569</td>\n",
       "      <td>0.011235</td>\n",
       "    </tr>\n",
       "    <tr>\n",
       "      <th>99453</th>\n",
       "      <td>0.176471</td>\n",
       "      <td>0.000598</td>\n",
       "    </tr>\n",
       "    <tr>\n",
       "      <th>99454</th>\n",
       "      <td>0.882353</td>\n",
       "      <td>0.000598</td>\n",
       "    </tr>\n",
       "    <tr>\n",
       "      <th>99455</th>\n",
       "      <td>0.745098</td>\n",
       "      <td>0.639928</td>\n",
       "    </tr>\n",
       "  </tbody>\n",
       "</table>\n",
       "<p>69356 rows × 2 columns</p>\n",
       "</div>"
      ],
      "text/plain": [
       "       normalized_age  normalized_price\n",
       "0            0.196078          0.285648\n",
       "2            0.039216          0.011235\n",
       "5            0.196078          0.285648\n",
       "6            0.607843          0.001350\n",
       "7            0.274510          0.045536\n",
       "...               ...               ...\n",
       "99446        0.274510          0.000000\n",
       "99449        0.921569          0.011235\n",
       "99453        0.176471          0.000598\n",
       "99454        0.882353          0.000598\n",
       "99455        0.745098          0.639928\n",
       "\n",
       "[69356 rows x 2 columns]"
      ]
     },
     "execution_count": 55,
     "metadata": {},
     "output_type": "execute_result"
    }
   ],
   "source": [
    "X"
   ]
  },
  {
   "attachments": {},
   "cell_type": "markdown",
   "metadata": {},
   "source": [
    "### Gaussian Naive Bayes: Round 2 \n",
    "\n",
    "\n",
    "Class labels - \n",
    "<Clothing, Cosmetics, Food & Beverage, Technology>\n",
    "\n",
    "Features - \n",
    "<normalized_Age, normalized_Total_Price> \n",
    "\n"
   ]
  },
  {
   "cell_type": "code",
<<<<<<< HEAD
   "execution_count": 177,
=======
   "execution_count": 56,
>>>>>>> 78f0607001adc4064bb0b40ddcc0b66e7e93a313
   "metadata": {},
   "outputs": [
    {
     "name": "stdout",
     "output_type": "stream",
     "text": [
      "Accuracy: 0.8121575638733491\n",
      "F1 Score: 0.8137622111213028\n",
      "\n",
      "Precision for Label Clothing : 0.9326949015376315\n",
      "Precision for Label Cosmetics : 0.6076938489280705\n",
      "Precision for Label Food & Beverage : 0.8206680116565792\n",
      "Precision for Label Technology : 1.0\n",
      "\n",
      "Recall for Label Clothing : 0.8017391304347826\n",
      "Recall for Label Cosmetics : 0.7912861987998956\n",
      "Recall for Label Food & Beverage : 1.0\n",
      "Recall for Label Technology : 0.3877049180327869\n"
     ]
    },
    {
     "data": {
      "image/png": "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",
      "text/plain": [
<<<<<<< HEAD
       "<Figure size 640x480 with 2 Axes>"
      ]
     },
=======
       "<sklearn.metrics._plot.confusion_matrix.ConfusionMatrixDisplay at 0x288137640>"
      ]
     },
     "execution_count": 56,
>>>>>>> 78f0607001adc4064bb0b40ddcc0b66e7e93a313
     "metadata": {},
     "output_type": "display_data"
    }
   ],
   "source": [
    "# Build a Gaussian Classifier\n",
    "model = GaussianNB()\n",
    "\n",
    "# Model training\n",
    "model.fit(X_train, y_train)\n",
    "\n",
    "y_pred = model.predict(X_test)\n",
    "accuracy = accuracy_score(y_pred, y_test)\n",
    "f1 = f1_score(y_pred, y_test, average=\"weighted\")\n",
    "\n",
    "print(\"Accuracy:\", accuracy)\n",
    "print(\"F1 Score:\", f1)\n",
    "print()\n",
    "\n",
    "cm = confusion_matrix(y_test, y_pred, labels=[\"Clothing\", \"Cosmetics\", \"Food & Beverage\", \"Technology\"])\n",
    "disp = ConfusionMatrixDisplay(confusion_matrix=cm, display_labels=[\"Clothing\", \"Cosmetics\", \"Food & Beverage\", \"Technology\"])\n",
    "disp.plot();\n",
    "\n",
    "# Calculate precision and recall per label\n",
    "precision = precision_score(y_test, y_pred, average=None)\n",
    "labels = sorted(set(y_test))\n",
    "\n",
    "for label, score in zip(labels, precision):\n",
    "    print(\"Precision for Label\", label, \":\", score)\n",
    "\n",
    "print()\n",
    "recall = recall_score(y_test, y_pred, average=None)\n",
    "for label, score in zip(labels, recall):\n",
    "    print(\"Recall for Label\", label, \":\", score)\n",
    "    \n",
    "# interpret results in writeup using https://www.v7labs.com/blog/confusion-matrix-guide"
   ]
  },
  {
   "attachments": {},
   "cell_type": "markdown",
   "metadata": {},
   "source": [
    "Accuracy is a lot better because of []"
   ]
  },
  {
   "attachments": {},
   "cell_type": "markdown",
   "metadata": {},
   "source": [
    "### Stratified K-fold cross validation for Naive Bayes without Gender and Shopping Mall features"
   ]
  },
  {
   "cell_type": "code",
<<<<<<< HEAD
   "execution_count": 178,
=======
   "execution_count": 57,
>>>>>>> 78f0607001adc4064bb0b40ddcc0b66e7e93a313
   "metadata": {},
   "outputs": [
    {
     "name": "stdout",
     "output_type": "stream",
     "text": [
      "Accuracy from each fold = \n",
      "[0.81199538638985, 0.8184832756632064, 0.8171856978085352, 0.8114186851211073, 0.8124279123414071, 0.828719723183391, 0.8152847873107426, 0.8116798846431147, 0.8108147080028839, 0.813410237923576]\n",
      "\n",
      "Average accuracy = \n",
      "0.8151420298387814\n",
      "\n"
     ]
    }
   ],
   "source": [
    "kf = StratifiedKFold(n_splits=10, random_state=40, shuffle=True) \n",
    "accscore = []\n",
    "classifier2 = GaussianNB()\n",
    "\n",
    "\n",
    "for train_index , test_index in kf.split(X, y):\n",
    "    X_train , X_test = X.iloc[train_index],X.iloc[test_index]\n",
    "    y_train , y_test = y.iloc[train_index] , y.iloc[test_index]\n",
    "     \n",
    "    classifier2.fit(X_train, y_train.values.ravel())\n",
    "    Y_pred = classifier2.predict(X_test)\n",
    "\n",
    "     \n",
    "    acc2 = accuracy_score(y_test, Y_pred)\n",
    "    accscore.append(acc2)\n",
    "     \n",
    "avgscore = sum(accscore)/10\n",
    " \n",
    "print(\"Accuracy from each fold = \\n\" + str(accscore))\n",
    "print(\"\\nAverage accuracy = \\n\" + str(avgscore))\n",
    "print()\n"
   ]
  },
  {
   "attachments": {},
   "cell_type": "markdown",
   "metadata": {},
   "source": [
    "Hmmm, seems like the gender and shopping mall features really did not matter in the long run. Lets try another classification technique instead!\n",
    "(To learn more about stratified k-fold cross validation, visit here for more info: https://www.geeksforgeeks.org/stratified-k-fold-cross-validation/)"
   ]
  },
  {
   "attachments": {},
   "cell_type": "markdown",
   "metadata": {},
   "source": [
    "### Neural Networks:"
   ]
  },
  {
   "cell_type": "code",
<<<<<<< HEAD
   "execution_count": 179,
=======
   "execution_count": 58,
>>>>>>> 78f0607001adc4064bb0b40ddcc0b66e7e93a313
   "metadata": {},
   "outputs": [
    {
     "data": {
      "text/html": [
       "<div>\n",
       "<style scoped>\n",
       "    .dataframe tbody tr th:only-of-type {\n",
       "        vertical-align: middle;\n",
       "    }\n",
       "\n",
       "    .dataframe tbody tr th {\n",
       "        vertical-align: top;\n",
       "    }\n",
       "\n",
       "    .dataframe thead th {\n",
       "        text-align: right;\n",
       "    }\n",
       "</style>\n",
       "<table border=\"1\" class=\"dataframe\">\n",
       "  <thead>\n",
       "    <tr style=\"text-align: right;\">\n",
       "      <th></th>\n",
       "      <th>category_Clothing</th>\n",
       "      <th>category_Cosmetics</th>\n",
       "      <th>category_Food &amp; Beverage</th>\n",
       "      <th>category_Technology</th>\n",
       "    </tr>\n",
       "  </thead>\n",
       "  <tbody>\n",
       "    <tr>\n",
       "      <th>0</th>\n",
       "      <td>True</td>\n",
       "      <td>False</td>\n",
       "      <td>False</td>\n",
       "      <td>False</td>\n",
       "    </tr>\n",
       "    <tr>\n",
       "      <th>2</th>\n",
       "      <td>True</td>\n",
       "      <td>False</td>\n",
       "      <td>False</td>\n",
       "      <td>False</td>\n",
       "    </tr>\n",
       "    <tr>\n",
       "      <th>5</th>\n",
       "      <td>True</td>\n",
       "      <td>False</td>\n",
       "      <td>False</td>\n",
       "      <td>False</td>\n",
       "    </tr>\n",
       "    <tr>\n",
       "      <th>6</th>\n",
       "      <td>False</td>\n",
       "      <td>True</td>\n",
       "      <td>False</td>\n",
       "      <td>False</td>\n",
       "    </tr>\n",
       "    <tr>\n",
       "      <th>7</th>\n",
       "      <td>True</td>\n",
       "      <td>False</td>\n",
       "      <td>False</td>\n",
       "      <td>False</td>\n",
       "    </tr>\n",
       "  </tbody>\n",
       "</table>\n",
       "</div>"
      ],
      "text/plain": [
       "   category_Clothing  category_Cosmetics  category_Food & Beverage   \n",
       "0               True               False                     False  \\\n",
       "2               True               False                     False   \n",
       "5               True               False                     False   \n",
       "6              False                True                     False   \n",
       "7               True               False                     False   \n",
       "\n",
       "   category_Technology  \n",
       "0                False  \n",
       "2                False  \n",
       "5                False  \n",
       "6                False  \n",
       "7                False  "
      ]
     },
<<<<<<< HEAD
     "execution_count": 179,
=======
     "execution_count": 58,
>>>>>>> 78f0607001adc4064bb0b40ddcc0b66e7e93a313
     "metadata": {},
     "output_type": "execute_result"
    }
   ],
   "source": [
    "# one hot encode the category classes\n",
    "df_dummy = pd.get_dummies(df[['gender', 'age', 'total_price']])\n",
    "df_y_dummy = pd.get_dummies(df[['category']])\n",
    "df_y_dummy.head()"
   ]
  },
  {
   "cell_type": "code",
<<<<<<< HEAD
   "execution_count": 180,
=======
   "execution_count": 59,
>>>>>>> 78f0607001adc4064bb0b40ddcc0b66e7e93a313
   "metadata": {},
   "outputs": [
    {
     "data": {
      "text/html": [
       "<div>\n",
       "<style scoped>\n",
       "    .dataframe tbody tr th:only-of-type {\n",
       "        vertical-align: middle;\n",
       "    }\n",
       "\n",
       "    .dataframe tbody tr th {\n",
       "        vertical-align: top;\n",
       "    }\n",
       "\n",
       "    .dataframe thead th {\n",
       "        text-align: right;\n",
       "    }\n",
       "</style>\n",
       "<table border=\"1\" class=\"dataframe\">\n",
       "  <thead>\n",
       "    <tr style=\"text-align: right;\">\n",
       "      <th></th>\n",
       "      <th>gender_Female</th>\n",
       "      <th>gender_Male</th>\n",
       "      <th>normalized_age</th>\n",
       "      <th>normalized_price</th>\n",
       "    </tr>\n",
       "  </thead>\n",
       "  <tbody>\n",
       "    <tr>\n",
       "      <th>0</th>\n",
<<<<<<< HEAD
       "      <td>True</td>\n",
       "      <td>False</td>\n",
=======
       "      <td>1</td>\n",
       "      <td>0</td>\n",
>>>>>>> 78f0607001adc4064bb0b40ddcc0b66e7e93a313
       "      <td>0.196078</td>\n",
       "      <td>0.285648</td>\n",
       "    </tr>\n",
       "    <tr>\n",
       "      <th>2</th>\n",
<<<<<<< HEAD
       "      <td>False</td>\n",
       "      <td>True</td>\n",
=======
       "      <td>0</td>\n",
       "      <td>1</td>\n",
>>>>>>> 78f0607001adc4064bb0b40ddcc0b66e7e93a313
       "      <td>0.039216</td>\n",
       "      <td>0.011235</td>\n",
       "    </tr>\n",
       "    <tr>\n",
       "      <th>5</th>\n",
<<<<<<< HEAD
       "      <td>True</td>\n",
       "      <td>False</td>\n",
=======
       "      <td>1</td>\n",
       "      <td>0</td>\n",
>>>>>>> 78f0607001adc4064bb0b40ddcc0b66e7e93a313
       "      <td>0.196078</td>\n",
       "      <td>0.285648</td>\n",
       "    </tr>\n",
       "    <tr>\n",
       "      <th>6</th>\n",
<<<<<<< HEAD
       "      <td>True</td>\n",
       "      <td>False</td>\n",
=======
       "      <td>1</td>\n",
       "      <td>0</td>\n",
>>>>>>> 78f0607001adc4064bb0b40ddcc0b66e7e93a313
       "      <td>0.607843</td>\n",
       "      <td>0.001350</td>\n",
       "    </tr>\n",
       "    <tr>\n",
       "      <th>7</th>\n",
<<<<<<< HEAD
       "      <td>True</td>\n",
       "      <td>False</td>\n",
=======
       "      <td>1</td>\n",
       "      <td>0</td>\n",
>>>>>>> 78f0607001adc4064bb0b40ddcc0b66e7e93a313
       "      <td>0.274510</td>\n",
       "      <td>0.045536</td>\n",
       "    </tr>\n",
       "  </tbody>\n",
       "</table>\n",
       "</div>"
      ],
      "text/plain": [
       "   gender_Female  gender_Male  normalized_age  normalized_price\n",
<<<<<<< HEAD
       "0           True        False        0.196078          0.285648\n",
       "2          False         True        0.039216          0.011235\n",
       "5           True        False        0.196078          0.285648\n",
       "6           True        False        0.607843          0.001350\n",
       "7           True        False        0.274510          0.045536"
      ]
     },
     "execution_count": 180,
=======
       "0              1            0        0.196078          0.285648\n",
       "2              0            1        0.039216          0.011235\n",
       "5              1            0        0.196078          0.285648\n",
       "6              1            0        0.607843          0.001350\n",
       "7              1            0        0.274510          0.045536"
      ]
     },
     "execution_count": 59,
>>>>>>> 78f0607001adc4064bb0b40ddcc0b66e7e93a313
     "metadata": {},
     "output_type": "execute_result"
    }
   ],
   "source": [
    "# Normalizing the ages\n",
<<<<<<< HEAD
    "\n",
=======
>>>>>>> 78f0607001adc4064bb0b40ddcc0b66e7e93a313
    "min_age = df_dummy['age'].min()\n",
    "max_age = df_dummy['age'].max()\n",
    "\n",
    "# Apply min-max normalization to the 'age' column\n",
    "df_dummy['normalized_age'] = (df_dummy['age'] - min_age) / (max_age - min_age)\n",
    "\n",
    "# Normalize the prices\n",
    "min_price = df_dummy['total_price'].min()\n",
    "max_price = df_dummy['total_price'].max()\n",
    "\n",
    "# Apply min-max normalization to the 'price' column\n",
    "df_dummy['normalized_price'] = (df_dummy['total_price'] - min_price) / (max_price - min_price)\n",
    "\n",
    "# drop converted columns\n",
    "df_dummy.drop(['total_price', 'age'], axis=1, inplace=True)\n",
<<<<<<< HEAD
    "\n",
=======
>>>>>>> 78f0607001adc4064bb0b40ddcc0b66e7e93a313
    "df_dummy.head()\n"
   ]
  },
  {
   "cell_type": "code",
<<<<<<< HEAD
   "execution_count": 181,
=======
   "execution_count": 60,
>>>>>>> 78f0607001adc4064bb0b40ddcc0b66e7e93a313
   "metadata": {},
   "outputs": [],
   "source": [
    "# Split the data into features and target\n",
    "X = df_dummy\n",
    "y = df['category']\n",
    "\n",
    "# Split the data into training and testing sets\n",
    "X_train, X_test, y_train, y_test = train_test_split(X, y, test_size=0.2, random_state=42)"
   ]
  },
  {
   "cell_type": "code",
<<<<<<< HEAD
   "execution_count": 182,
=======
   "execution_count": 61,
>>>>>>> 78f0607001adc4064bb0b40ddcc0b66e7e93a313
   "metadata": {},
   "outputs": [
    {
     "name": "stdout",
     "output_type": "stream",
     "text": [
      "Test accuracy: 0.8965\n"
     ]
    }
   ],
   "source": [
    "model = MLPClassifier(hidden_layer_sizes=(16, 8), activation='relu', solver='adam', max_iter=1500, random_state=42)\n",
    "model.fit(X_train, y_train)\n",
    "\n",
    "accuracy = model.score(X_test, y_test)\n",
    "print(f'Test accuracy: {accuracy:.4f}')"
   ]
  },
  {
   "attachments": {},
   "cell_type": "markdown",
   "metadata": {},
   "source": [
    "As you can see, the neural network performed very well, with a test accuracy of 89.65%. Compare this to the accuracy of the Naive Bayes classifier of 81.5% and a massive difference is evident.\n",
    "\n",
    "To learn more about Neural Networks, I highly recommend 3b1b's video series: https://www.youtube.com/watch?v=aircAruvnKk"
   ]
  },
  {
   "cell_type": "code",
<<<<<<< HEAD
   "execution_count": 183,
=======
   "execution_count": 62,
>>>>>>> 78f0607001adc4064bb0b40ddcc0b66e7e93a313
   "metadata": {},
   "outputs": [
    {
     "name": "stdout",
     "output_type": "stream",
     "text": [
      "\n",
      "Precision for Label Clothing : 0.8938223938223938\n",
      "Precision for Label Cosmetics : 1.0\n",
      "Precision for Label Food & Beverage : 0.8261240751280592\n",
      "Precision for Label Technology : 1.0\n",
      "\n",
      "Recall for Label Clothing : 1.0\n",
      "Recall for Label Cosmetics : 0.5886618325642716\n",
      "Recall for Label Food & Beverage : 1.0\n",
      "Recall for Label Technology : 0.8101010101010101\n"
     ]
    },
    {
     "data": {
<<<<<<< HEAD
      "image/png": "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",
=======
      "image/png": "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",
>>>>>>> 78f0607001adc4064bb0b40ddcc0b66e7e93a313
      "text/plain": [
       "<Figure size 640x480 with 2 Axes>"
      ]
     },
     "metadata": {},
     "output_type": "display_data"
    }
   ],
   "source": [
    "y_pred = model.predict(X_test)\n",
    "cm2 = confusion_matrix(y_test, y_pred, labels=[\"Clothing\", \"Cosmetics\", \"Food & Beverage\", \"Technology\"])\n",
    "disp2 = ConfusionMatrixDisplay(confusion_matrix=cm2, display_labels=[\"Clothing\", \"Cosmetics\", \"Food & Beverage\", \"Technology\"])\n",
    "disp2.plot();\n",
    "\n",
    "precision = precision_score(y_test, y_pred, average=None)\n",
    "labels = sorted(set(y_test))\n",
    "print()\n",
    "\n",
    "for label, score in zip(labels, precision):\n",
    "    print(\"Precision for Label\", label, \":\", score)\n",
    "\n",
    "print()\n",
    "recall = recall_score(y_test, y_pred, average=None)\n",
    "for label, score in zip(labels, recall):\n",
    "    print(\"Recall for Label\", label, \":\", score)"
   ]
  },
  {
   "attachments": {},
   "cell_type": "markdown",
   "metadata": {},
   "source": [
    "### KNN "
   ]
  },
  {
   "cell_type": "code",
<<<<<<< HEAD
   "execution_count": 184,
=======
   "execution_count": 63,
>>>>>>> 78f0607001adc4064bb0b40ddcc0b66e7e93a313
   "metadata": {},
   "outputs": [
    {
     "name": "stdout",
     "output_type": "stream",
     "text": [
      "Accuracy:0.8768021914648212\n",
      "F1 score:0.8843731485812386\n",
<<<<<<< HEAD
      "Confusion Matrix:\n",
      "Precision for Label Clothing : 0.9081992938407218\n",
      "Precision for Label Cosmetics : 0.8407120036513007\n",
      "Precision for Label Food & Beverage : 0.8038163387000596\n",
      "Precision for Label Technology : 1.0\n",
      "Recall for Label Clothing : 1.0\n",
      "Recall for Label Cosmetics : 0.6071193144363876\n",
      "Recall for Label Food & Beverage : 0.9286944540130899\n",
      "Recall for Label Technology : 0.6868686868686869\n"
=======
      "Confusion Matrix:\n"
>>>>>>> 78f0607001adc4064bb0b40ddcc0b66e7e93a313
     ]
    },
    {
     "data": {
      "image/png": "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",
      "text/plain": [
<<<<<<< HEAD
       "<Figure size 640x480 with 2 Axes>"
      ]
     },
     "metadata": {},
=======
       "<sklearn.metrics._plot.confusion_matrix.ConfusionMatrixDisplay at 0x28838beb0>"
      ]
     },
     "execution_count": 63,
     "metadata": {},
     "output_type": "execute_result"
    },
    {
     "data": {
      "image/png": "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",
      "text/plain": [
       "<Figure size 432x288 with 2 Axes>"
      ]
     },
     "metadata": {
      "needs_background": "light"
     },
>>>>>>> 78f0607001adc4064bb0b40ddcc0b66e7e93a313
     "output_type": "display_data"
    }
   ],
   "source": [
    "from sklearn.neighbors import KNeighborsClassifier\n",
    "classifier = KNeighborsClassifier(n_neighbors = 50, metric = 'minkowski', p = 2)\n",
    "classifier.fit(X_train, y_train)\n",
    "Y_pred = classifier.predict(X_test)\n",
    "\n",
    "acc = accuracy_score(y_test, Y_pred)\n",
    "print (\"Accuracy:\" + str(acc))\n",
    "f1 = f1_score(Y_pred, y_test, average=\"weighted\")\n",
    "print (\"F1 score:\" + str(f1))\n",
    "print(\"Confusion Matrix:\")\n",
    "\n",
    "print()\n",
    "cm = confusion_matrix(y_test, Y_pred, labels=[\"Clothing\", \"Cosmetics\", \"Food & Beverage\", \"Technology\"])\n",
    "disp = ConfusionMatrixDisplay(confusion_matrix=cm, display_labels=[\"Clothing\", \"Cosmetics\", \"Food & Beverage\", \"Technology\"])\n",
    "disp.plot();\n",
    "\n",
    "precision = precision_score(y_test, Y_pred, average=None)\n",
    "labels = sorted(set(y_test))\n",
    "print()\n",
    "for label, score in zip(labels, precision):\n",
    "    print(\"Precision for Label\", label, \":\", score)\n",
    "\n",
    "print()\n",
    "recall = recall_score(y_test, Y_pred, average=None)\n",
    "for label, score in zip(labels, recall):\n",
    "    print(\"Recall for Label\", label, \":\", score)\n"
   ]
  },
  {
   "cell_type": "code",
<<<<<<< HEAD
   "execution_count": 185,
=======
   "execution_count": 64,
>>>>>>> 78f0607001adc4064bb0b40ddcc0b66e7e93a313
   "metadata": {},
   "outputs": [
    {
     "name": "stdout",
     "output_type": "stream",
     "text": [
      "Accuracy from each fold using KNN with 35 neighbors = [0.901239907727797, 0.9057093425605537, 0.9028258362168397, 0.9047001153402537, 0.9042675893886967, 0.9068627450980392, 0.9058399423215573, 0.9088680605623648, 0.8986301369863013, 0.9029560201874549]\n",
      "Average accuracy using KNN with 35 neighbors = 0.9041899696389859\n",
      "Average fscore using KNN with 35 neighbors = 0.9041899696389859\n",
      "\n"
     ]
    }
   ],
   "source": [
    "#KNN - 10 fold validation \n",
    "\n",
    "kf = StratifiedKFold(n_splits=10,random_state=40, shuffle=True) \n",
    "accscore = []\n",
    "fscorearr = []\n",
    "classifier = KNeighborsClassifier(n_neighbors = 50, metric = 'minkowski', p = 2)\n",
    "\n",
    "for train_index , test_index in kf.split(X, y):\n",
    "    X_train , X_test = X.iloc[train_index],X.iloc[test_index]\n",
    "    y_train , y_test = y.iloc[train_index] , y.iloc[test_index]\n",
    "     \n",
    "    #classifier.fit(X_train,y_train)\n",
    "    classifier.fit(X_train, y_train)\n",
    "    y_pred = classifier.predict(X_test)\n",
    "     \n",
    "    acc = accuracy_score(y_test, y_pred)\n",
    "    accscore.append(acc)\n",
    "    fscore = f1_score(y_test, y_pred, average=None)\n",
    "    fscorearr.append(fscore)\n",
    "\n",
    "     \n",
    "avgscore = sum(accscore)/10\n",
    "avgfscore = sum(fscore)/10\n",
    " \n",
    "print(\"Accuracy from each fold using KNN with 35 neighbors = \" + str(accscore))\n",
    "print(\"Average accuracy using KNN with 35 neighbors = \" + str(avgscore))\n",
    "print(\"Average fscore using KNN with 35 neighbors = \" + str(avgscore))\n",
    "print()"
   ]
  },
  {
   "cell_type": "code",
<<<<<<< HEAD
   "execution_count": 186,
=======
   "execution_count": 65,
>>>>>>> 78f0607001adc4064bb0b40ddcc0b66e7e93a313
   "metadata": {},
   "outputs": [
    {
     "data": {
      "image/png": "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",
      "text/plain": [
       "<Figure size 800x600 with 1 Axes>"
      ]
     },
     "metadata": {},
     "output_type": "display_data"
    }
   ],
   "source": [
    "import matplotlib.pyplot as plt\n",
    "import pandas as pd\n",
    "\n",
    "# Create a dictionary to map class labels to colors\n",
    "class_colors = {'Clothing': 'red', 'Cosmetics': 'blue', 'Technology': 'green', 'Food & Beverage': 'purple'}\n",
    "\n",
    "# Plotting the scatter plot\n",
    "plt.figure(figsize=(8, 6))\n",
    "\n",
    "for category, color in class_colors.items():\n",
    "    class_data = df[df['category'] == category]\n",
    "    plt.scatter(class_data['age'], class_data['total_price'], color=color, label=category)\n",
    "\n",
    "plt.xlabel('Age')\n",
    "plt.ylabel('Total Price')\n",
    "plt.title('Scatter Plot of Data Points')\n",
    "plt.legend()\n",
    "plt.show()\n"
   ]
  },
  {
   "attachments": {},
   "cell_type": "markdown",
   "metadata": {},
   "source": [
    "Accuracy vs. K "
   ]
  },
  {
   "cell_type": "code",
<<<<<<< HEAD
   "execution_count": 187,
=======
   "execution_count": 66,
>>>>>>> 78f0607001adc4064bb0b40ddcc0b66e7e93a313
   "metadata": {},
   "outputs": [],
   "source": [
    "# Split the data into features and target\n",
    "X = df_dummy\n",
    "y = df['category']\n",
    "\n",
    "# Split the data into training and testing sets\n",
    "X_train, X_test, y_train, y_test = train_test_split(X, y, test_size=0.2, random_state=42)"
   ]
  },
  {
   "cell_type": "code",
<<<<<<< HEAD
   "execution_count": 188,
=======
   "execution_count": 67,
>>>>>>> 78f0607001adc4064bb0b40ddcc0b66e7e93a313
   "metadata": {},
   "outputs": [
    {
     "name": "stdout",
     "output_type": "stream",
     "text": [
      "Maximum accuracy:- 1.0 at K = 0\n"
     ]
    },
    {
     "data": {
<<<<<<< HEAD
      "image/png": "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",
=======
      "image/png": "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",
>>>>>>> 78f0607001adc4064bb0b40ddcc0b66e7e93a313
      "text/plain": [
       "<Figure size 1000x600 with 1 Axes>"
      ]
     },
     "metadata": {},
     "output_type": "display_data"
    }
   ],
   "source": [
    "acc = []\n",
    "# Will take some time\n",
    "for i in range(1,40):\n",
    "    neigh = KNeighborsClassifier(n_neighbors = i).fit(X_train,y_train)\n",
    "    yhat = neigh.predict(X_test)\n",
    "    acc.append(accuracy_score(y_test, yhat))\n",
    "    \n",
    "plt.figure(figsize=(10,6))\n",
    "plt.plot(range(1,40),acc,color = 'blue',linestyle='dashed', \n",
    "         marker='o',markerfacecolor='red', markersize=10)\n",
    "plt.title('accuracy vs. K Value')\n",
    "plt.xlabel('K')\n",
    "plt.ylabel('Accuracy')\n",
    "print(\"Maximum accuracy:-\",max(acc),\"at K =\",acc.index(max(acc)))"
   ]
  },
  {
   "attachments": {},
   "cell_type": "markdown",
   "metadata": {},
   "source": [
    "## Conclusion"
   ]
  },
  {
   "attachments": {},
   "cell_type": "markdown",
   "metadata": {},
   "source": [
    "## Policy Recommendation \n",
    "The performance of these models could be improved by: "
   ]
  }
 ],
 "metadata": {
  "kernelspec": {
   "display_name": "Python 3",
   "language": "python",
   "name": "python3"
  },
  "language_info": {
   "codemirror_mode": {
    "name": "ipython",
    "version": 3
   },
   "file_extension": ".py",
   "mimetype": "text/x-python",
   "name": "python",
   "nbconvert_exporter": "python",
   "pygments_lexer": "ipython3",
   "version": "3.10.2"
  },
  "orig_nbformat": 4
 },
 "nbformat": 4,
 "nbformat_minor": 2
}
