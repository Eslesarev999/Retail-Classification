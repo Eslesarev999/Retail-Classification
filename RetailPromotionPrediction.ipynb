{
 "cells": [
  {
   "attachments": {},
   "cell_type": "markdown",
   "metadata": {},
   "source": [
    "# Retail Promotion Classification-Prediction Problem\n",
    "## Vasundhara Bagchi, Elizabeth Slesarev, and Paul Beltran \n",
    "\n",
    "Through this project, we are aiming to use retail sales data to understand how the stores could run a promotional campaign targeting customers who spend a lot of money in a certain category. \n",
    "\n",
    "This project would allow retail stores, particularly one without a lot of resources dedicated to promotional material, to optimize their promotional campaigns by identifying the most effective customer profiles to target with their marketing efforts. This approach can save retailers significant resources and effort by avoiding a standarized approach to promotions, which can be less effective and less efficient. Instead, stores can target specific customer segments based on their preferences in shopping categories, past purchasing behaviors, and other factors to maximize the effectiveness of their promotions.\n",
    "\n",
    "This particular dataset contains data from various age groups and genders several categories from 10 shopping malls in Istanbul, Turkey. \n",
    "\n",
    "Data Source: https://www.kaggle.com/datasets/mehmettahiraslan/customer-shopping-dataset"
   ]
  },
  {
   "attachments": {},
   "cell_type": "markdown",
   "metadata": {},
   "source": [
    "### Step 1: Data Cleaning and Preprocessing"
   ]
  },
  {
   "attachments": {},
   "cell_type": "markdown",
   "metadata": {},
   "source": [
    "Imports"
   ]
  },
  {
   "cell_type": "code",
<<<<<<< HEAD
   "execution_count": 1,
=======
   "execution_count": 622,
>>>>>>> fff0fdb5bca090fd855f641c90f22d997e37c7ae
   "metadata": {},
   "outputs": [],
   "source": [
    "import numpy as np\n",
    "import pandas as pd\n",
    "import seaborn as sns\n",
    "import matplotlib.pyplot as plt\n",
    "\n",
    "from sklearn.naive_bayes import GaussianNB\n",
    "from sklearn.ensemble import RandomForestClassifier\n",
    "\n",
    "from sklearn.model_selection import (\n",
    "    StratifiedKFold,\n",
    "    train_test_split, \n",
    "    cross_val_score,\n",
    "    StratifiedKFold, \n",
    "    KFold\n",
    ")\n",
    "from sklearn.metrics import (\n",
    "    accuracy_score,\n",
    "    confusion_matrix,\n",
    "    ConfusionMatrixDisplay,\n",
    "    f1_score,\n",
    "    r2_score,\n",
    "    mean_squared_error,\n",
    "    mean_absolute_error,\n",
    ")\n",
    "\n",
    "from sklearn.preprocessing import LabelEncoder, StandardScaler\n",
    "from sklearn.neural_network import MLPClassifier\n"
   ]
  },
  {
   "attachments": {},
   "cell_type": "markdown",
   "metadata": {},
   "source": [
    "### Description of the columns: \n",
    "\n",
    "1. invoice_no: Invoice number. Nominal. A combination of the letter 'I' and a 6-digit integer uniquely assigned to each operation. <br><br>\n",
    "2. customer_id: Customer number. Nominal. A combination of the letter 'C' and a 6-digit integer uniquely assigned to each operation.<br><br>\n",
    "3. gender: String variable of the customer's gender.<br><br>\n",
    "4. age: Positive Integer variable of the customers age.<br><br>\n",
    "5. category: String variable of the category of the purchased product.<br><br>\n",
    "6. quantity: The quantities of each product (item) per transaction. Numeric.<br><br>\n",
    "7. price: Unit price. Numeric. Product price per unit in Turkish Liras (TL).<br><br>\n",
    "8. payment_method: String variable of the payment method (cash, credit card or debit card) used for the transaction.<br><br>\n",
    "9. invoice_date: Invoice date. The day when a transaction was generated.<br><br>\n",
    "10. shopping_mall: String variable of the name of the shopping mall where the transaction was made.<br><br>"
   ]
  },
  {
   "attachments": {},
   "cell_type": "markdown",
   "metadata": {},
   "source": [
    "### Reading in the data "
   ]
  },
  {
   "cell_type": "code",
   "execution_count": 2,
   "metadata": {},
   "outputs": [
    {
     "data": {
      "text/html": [
       "<div>\n",
       "<style scoped>\n",
       "    .dataframe tbody tr th:only-of-type {\n",
       "        vertical-align: middle;\n",
       "    }\n",
       "\n",
       "    .dataframe tbody tr th {\n",
       "        vertical-align: top;\n",
       "    }\n",
       "\n",
       "    .dataframe thead th {\n",
       "        text-align: right;\n",
       "    }\n",
       "</style>\n",
       "<table border=\"1\" class=\"dataframe\">\n",
       "  <thead>\n",
       "    <tr style=\"text-align: right;\">\n",
       "      <th></th>\n",
       "      <th>invoice_no</th>\n",
       "      <th>customer_id</th>\n",
       "      <th>gender</th>\n",
       "      <th>age</th>\n",
       "      <th>category</th>\n",
       "      <th>quantity</th>\n",
       "      <th>price</th>\n",
       "      <th>payment_method</th>\n",
       "      <th>invoice_date</th>\n",
       "      <th>shopping_mall</th>\n",
       "    </tr>\n",
       "  </thead>\n",
       "  <tbody>\n",
       "    <tr>\n",
       "      <th>0</th>\n",
       "      <td>I138884</td>\n",
       "      <td>C241288</td>\n",
       "      <td>Female</td>\n",
       "      <td>28</td>\n",
       "      <td>Clothing</td>\n",
       "      <td>5</td>\n",
       "      <td>1500.40</td>\n",
       "      <td>Credit Card</td>\n",
       "      <td>5/8/2022</td>\n",
       "      <td>Kanyon</td>\n",
       "    </tr>\n",
       "    <tr>\n",
       "      <th>1</th>\n",
       "      <td>I317333</td>\n",
       "      <td>C111565</td>\n",
       "      <td>Male</td>\n",
       "      <td>21</td>\n",
       "      <td>Shoes</td>\n",
       "      <td>3</td>\n",
       "      <td>1800.51</td>\n",
       "      <td>Debit Card</td>\n",
       "      <td>12/12/2021</td>\n",
       "      <td>Forum Istanbul</td>\n",
       "    </tr>\n",
       "    <tr>\n",
       "      <th>2</th>\n",
       "      <td>I127801</td>\n",
       "      <td>C266599</td>\n",
       "      <td>Male</td>\n",
       "      <td>20</td>\n",
       "      <td>Clothing</td>\n",
       "      <td>1</td>\n",
       "      <td>300.08</td>\n",
       "      <td>Cash</td>\n",
       "      <td>9/11/2021</td>\n",
       "      <td>Metrocity</td>\n",
       "    </tr>\n",
       "    <tr>\n",
       "      <th>3</th>\n",
       "      <td>I173702</td>\n",
       "      <td>C988172</td>\n",
       "      <td>Female</td>\n",
       "      <td>66</td>\n",
       "      <td>Shoes</td>\n",
       "      <td>5</td>\n",
       "      <td>3000.85</td>\n",
       "      <td>Credit Card</td>\n",
       "      <td>16/05/2021</td>\n",
       "      <td>Metropol AVM</td>\n",
       "    </tr>\n",
       "    <tr>\n",
       "      <th>4</th>\n",
       "      <td>I337046</td>\n",
       "      <td>C189076</td>\n",
       "      <td>Female</td>\n",
       "      <td>53</td>\n",
       "      <td>Books</td>\n",
       "      <td>4</td>\n",
       "      <td>60.60</td>\n",
       "      <td>Cash</td>\n",
       "      <td>24/10/2021</td>\n",
       "      <td>Kanyon</td>\n",
       "    </tr>\n",
       "  </tbody>\n",
       "</table>\n",
       "</div>"
      ],
      "text/plain": [
       "  invoice_no customer_id  gender  age  category  quantity    price  \\\n",
       "0    I138884     C241288  Female   28  Clothing         5  1500.40   \n",
       "1    I317333     C111565    Male   21     Shoes         3  1800.51   \n",
       "2    I127801     C266599    Male   20  Clothing         1   300.08   \n",
       "3    I173702     C988172  Female   66     Shoes         5  3000.85   \n",
       "4    I337046     C189076  Female   53     Books         4    60.60   \n",
       "\n",
       "  payment_method invoice_date   shopping_mall  \n",
       "0    Credit Card     5/8/2022          Kanyon  \n",
       "1     Debit Card   12/12/2021  Forum Istanbul  \n",
       "2           Cash    9/11/2021       Metrocity  \n",
       "3    Credit Card   16/05/2021    Metropol AVM  \n",
       "4           Cash   24/10/2021          Kanyon  "
      ]
     },
     "execution_count": 2,
     "metadata": {},
     "output_type": "execute_result"
    }
   ],
   "source": [
    "df = pd.read_csv('customer_shopping_data.csv')\n",
    "df.head()"
   ]
  },
  {
   "attachments": {},
   "cell_type": "markdown",
   "metadata": {},
   "source": [
    "### Feature Engineering"
   ]
  },
  {
   "attachments": {},
   "cell_type": "markdown",
   "metadata": {},
   "source": [
    "For our purposes, we are not using 'invoice_no', 'customer_id', 'payment_method', 'invoice_date', 'shopping_mall' data attributes, and are therefore dropping \n",
    "it from the dataset. We also want to restrict this demonstration to a couple of the main categories, so we are dropping the other ones, including Toys, Souveniers, Books, Shoes. "
   ]
  },
  {
   "cell_type": "code",
   "execution_count": 3,
   "metadata": {},
   "outputs": [],
   "source": [
    "# grabbing columns that are useful and dropping all else\n",
    "df.drop(['invoice_no', 'customer_id', 'payment_method', 'invoice_date', 'shopping_mall'], axis=1, inplace=True)\n",
    "\n",
    "# dropping rows we dont care about, like toys\n",
    "df.drop(df[df['category'] == 'Toys'].index, inplace = True)\n",
    "df.drop(df[df['category'] == 'Souvenir'].index, inplace = True)\n",
    "df.drop(df[df['category'] == 'Books'].index, inplace = True)\n",
    "df.drop(df[df['category'] == 'Shoes'].index, inplace = True)\n"
   ]
  },
  {
   "attachments": {},
   "cell_type": "markdown",
   "metadata": {},
   "source": [
    "We notice that there is a price column and a quantity column, but that is not as meaningful as a total price column which will be an useful feature in our problem. We are thus calculating the new feature, **total price**, by multiplying the price and quantity columns. Once we add in this new feature, we drop the price and quantity columns as they do not provide us any new information. "
   ]
  },
  {
   "cell_type": "code",
<<<<<<< HEAD
   "execution_count": 4,
=======
   "execution_count": 623,
>>>>>>> fff0fdb5bca090fd855f641c90f22d997e37c7ae
   "metadata": {},
   "outputs": [
    {
     "data": {
      "text/html": [
       "<div>\n",
       "<style scoped>\n",
       "    .dataframe tbody tr th:only-of-type {\n",
       "        vertical-align: middle;\n",
       "    }\n",
       "\n",
       "    .dataframe tbody tr th {\n",
       "        vertical-align: top;\n",
       "    }\n",
       "\n",
       "    .dataframe thead th {\n",
       "        text-align: right;\n",
       "    }\n",
       "</style>\n",
       "<table border=\"1\" class=\"dataframe\">\n",
       "  <thead>\n",
       "    <tr style=\"text-align: right;\">\n",
       "      <th></th>\n",
       "      <th>gender</th>\n",
       "      <th>age</th>\n",
       "      <th>category</th>\n",
       "      <th>total_price</th>\n",
       "    </tr>\n",
       "  </thead>\n",
       "  <tbody>\n",
       "    <tr>\n",
       "      <th>0</th>\n",
       "      <td>Female</td>\n",
       "      <td>28</td>\n",
       "      <td>Clothing</td>\n",
       "      <td>7502.00</td>\n",
       "    </tr>\n",
       "    <tr>\n",
       "      <th>2</th>\n",
       "      <td>Male</td>\n",
       "      <td>20</td>\n",
       "      <td>Clothing</td>\n",
       "      <td>300.08</td>\n",
       "    </tr>\n",
       "    <tr>\n",
       "      <th>5</th>\n",
       "      <td>Female</td>\n",
       "      <td>28</td>\n",
       "      <td>Clothing</td>\n",
       "      <td>7502.00</td>\n",
       "    </tr>\n",
       "    <tr>\n",
       "      <th>6</th>\n",
       "      <td>Female</td>\n",
       "      <td>49</td>\n",
       "      <td>Cosmetics</td>\n",
       "      <td>40.66</td>\n",
       "    </tr>\n",
       "    <tr>\n",
       "      <th>7</th>\n",
       "      <td>Female</td>\n",
       "      <td>32</td>\n",
       "      <td>Clothing</td>\n",
       "      <td>1200.32</td>\n",
       "    </tr>\n",
       "  </tbody>\n",
       "</table>\n",
       "</div>"
      ],
      "text/plain": [
       "   gender  age   category  total_price\n",
       "0  Female   28   Clothing      7502.00\n",
       "2    Male   20   Clothing       300.08\n",
       "5  Female   28   Clothing      7502.00\n",
       "6  Female   49  Cosmetics        40.66\n",
       "7  Female   32   Clothing      1200.32"
      ]
     },
<<<<<<< HEAD
     "execution_count": 4,
=======
     "execution_count": 623,
>>>>>>> fff0fdb5bca090fd855f641c90f22d997e37c7ae
     "metadata": {},
     "output_type": "execute_result"
    }
   ],
   "source": [
    "# recalculating price column to include totals\n",
    "df['total_price'] = (df['price'] * df['quantity'])\n",
    "df.drop(['quantity', 'price'], axis=1, inplace=True)\n",
    "df.head()"
   ]
  },
  {
   "cell_type": "code",
<<<<<<< HEAD
   "execution_count": 5,
=======
   "execution_count": 624,
>>>>>>> fff0fdb5bca090fd855f641c90f22d997e37c7ae
   "metadata": {},
   "outputs": [
    {
     "data": {
<<<<<<< HEAD
=======
      "image/png": "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",
>>>>>>> fff0fdb5bca090fd855f641c90f22d997e37c7ae
      "text/plain": [
       "Clothing           34487\n",
       "Cosmetics          15097\n",
       "Food & Beverage    14776\n",
       "Technology          4996\n",
       "Name: category, dtype: int64"
      ]
     },
     "execution_count": 5,
     "metadata": {},
     "output_type": "execute_result"
    }
   ],
   "source": [
    "df['category'].value_counts()"
   ]
  },
  {
   "attachments": {},
   "cell_type": "markdown",
   "metadata": {},
   "source": [
    "### Visualizing the cleaned data "
   ]
  },
  {
   "attachments": {},
   "cell_type": "markdown",
   "metadata": {},
   "source": [
    "One of the first pieces we want to visualize and compare is the total amount of money spent by females vs. men."
   ]
  },
  {
   "cell_type": "code",
   "execution_count": 6,
   "metadata": {},
   "outputs": [
    {
     "data": {
      "image/png": "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",
      "text/plain": [
       "<Figure size 720x432 with 1 Axes>"
      ]
     },
     "metadata": {
      "needs_background": "light"
     },
     "output_type": "display_data"
    }
   ],
   "source": [
    "plt.figure(figsize=(10,6))\n",
    "sns.barplot(df,x='gender',y='total_price',hue = 'gender',estimator = sum)\n",
    "plt.ylabel('Total amount spent')\n",
    "plt.title('Total Amount spent by males vs. females ')\n",
    "plt.ticklabel_format(style='plain',axis='y')\n",
    "plt.show()"
   ]
  },
  {
   "attachments": {},
   "cell_type": "markdown",
   "metadata": {},
   "source": [
    "It is evident that the overall total amount of money spent by females is considerably higher. "
   ]
  },
  {
   "attachments": {},
   "cell_type": "markdown",
   "metadata": {},
   "source": [
    "Next, we want to comapare the amount of money spent per category by males vs. females "
   ]
  },
  {
   "cell_type": "code",
<<<<<<< HEAD
   "execution_count": 7,
=======
   "execution_count": 625,
>>>>>>> fff0fdb5bca090fd855f641c90f22d997e37c7ae
   "metadata": {},
   "outputs": [
    {
     "data": {
<<<<<<< HEAD
      "image/png": "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",
=======
      "image/png": "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",
>>>>>>> fff0fdb5bca090fd855f641c90f22d997e37c7ae
      "text/plain": [
       "<Figure size 720x432 with 1 Axes>"
      ]
     },
     "metadata": {
      "needs_background": "light"
     },
     "output_type": "display_data"
    }
   ],
   "source": [
    "plt.figure(figsize=(10,6))\n",
    "sns.barplot(df,x='category',y='total_price',hue = 'gender',estimator = sum)\n",
    "plt.title('Category Wise Shopping')\n",
    "plt.show()"
   ]
  },
  {
   "cell_type": "code",
<<<<<<< HEAD
   "execution_count": 8,
   "metadata": {},
   "outputs": [
    {
     "data": {
      "image/png": "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",
      "text/plain": [
       "<Figure size 720x432 with 1 Axes>"
      ]
     },
     "metadata": {
      "needs_background": "light"
     },
     "output_type": "display_data"
    }
   ],
   "source": [
    "plt.figure(figsize=(10,6))\n",
    "ax = sns.barplot(df,x='category',y='total_price',hue = 'gender',estimator = 'mean')\n",
    "ax.set(xlabel='Category',\n",
    "       ylabel='Average amount of money spent',\n",
    "       title='Category Wise Shopping by Gender')\n",
    "plt.show()"
   ]
  },
  {
   "cell_type": "code",
   "execution_count": 9,
=======
   "execution_count": 626,
>>>>>>> fff0fdb5bca090fd855f641c90f22d997e37c7ae
   "metadata": {},
   "outputs": [
    {
     "name": "stdout",
     "output_type": "stream",
     "text": [
      "   gender         category   total_price\n",
      "0  Female         Clothing   3304.846775\n",
      "1  Female        Cosmetics    448.376245\n",
      "2  Female  Food & Beverage     57.396933\n",
      "3  Female       Technology  11630.308621\n",
      "4    Male         Clothing   3306.475999\n",
      "5    Male        Cosmetics    452.312985\n",
      "6    Male  Food & Beverage     57.637718\n",
      "7    Male       Technology  11509.875931\n",
      "\n",
      "    gender         category        age\n",
      "0  Female         Clothing  43.381948\n",
      "1  Female        Cosmetics  43.571665\n",
      "2  Female  Food & Beverage  43.489209\n",
      "3  Female       Technology  43.249581\n",
      "4    Male         Clothing  43.449946\n",
      "5    Male        Cosmetics  43.594160\n",
      "6    Male  Food & Beverage  43.155727\n",
      "7    Male       Technology  43.544417\n"
     ]
    }
   ],
   "source": [
    "# checking average price spent by gender per category\n",
    "avg_price_spent_per=df.groupby(['gender','category'], as_index=False)['total_price'].mean()\n",
    "avg_age_per=df.groupby(['gender','category'], as_index=False)['age'].mean()\n",
    "print(avg_price_spent_per)\n",
    "print(\"\\n\",avg_age_per)"
   ]
  },
  {
   "attachments": {},
   "cell_type": "markdown",
   "metadata": {},
   "source": [
    "We quickly find that although there is a lot of difference is total amount spent per category, there is very little difference in when comparing males vs. females within each category. For example, for the Technology category, Males spent an average of 11509.88 Lira wheras females spent 11630.31 Lira and in the Clothing category, males spent an average of 3306.48  Lira whereas females spent an average of 3304.85 Lira. "
   ]
  },
  {
   "attachments": {},
   "cell_type": "markdown",
   "metadata": {},
   "source": [
    "### Creating class labels for our dataset "
   ]
  },
  {
   "attachments": {},
   "cell_type": "markdown",
   "metadata": {},
   "source": [
    "After visualizing and understanding our dataset, we will now be creating class labels for our dataset. We want to have 3 labels - Yes, No, and Maybe which represent if we should market to this person based on their shopping habits - i.e amount of money spent in a particular category. \n",
    "\n",
    "Our cutoffs of creating each of these labels will be based on total cost percentiles per category - \n",
    "\n",
    "\n",
    "1. **Yes** - This person's total cost in a certain category is more than the 75 percentile of total money spent in that certain category, therfore, we will defintely want to market to these people. \n",
    "\n",
    "\n",
    "2. **Maybe** - This person's total cost in a certain category is less than the 75 percentile but more than the 25 percentile of total money spent in that certain category, therfore, we will may want to market to these people, but will want to give higher priority to people who have spent more money. \n",
    "\n",
    "\n",
    "3. **No** -  This person's total cost in a certain category is less than the 25 percentile but more than the median of total money spent in that certain category, therfore, we do not want to market to these people and conserve our resources instead. "
   ]
  },
  {
   "cell_type": "code",
<<<<<<< HEAD
   "execution_count": 10,
=======
   "execution_count": 627,
>>>>>>> fff0fdb5bca090fd855f641c90f22d997e37c7ae
   "metadata": {},
   "outputs": [
    {
     "data": {
      "text/plain": [
       "gender  0     Female\n",
       "        1     Female\n",
       "        2     Female\n",
       "        3     Female\n",
       "        4       Male\n",
       "              ...   \n",
       "max     3    26250.0\n",
       "        4     7502.0\n",
       "        5     1016.5\n",
       "        6     130.75\n",
       "        7    26250.0\n",
       "Length: 80, dtype: object"
      ]
     },
<<<<<<< HEAD
     "execution_count": 10,
=======
     "execution_count": 627,
>>>>>>> fff0fdb5bca090fd855f641c90f22d997e37c7ae
     "metadata": {},
     "output_type": "execute_result"
    }
   ],
   "source": [
    "df.groupby(['gender','category'], as_index=False)['total_price'].describe()"
   ]
  },
  {
   "cell_type": "code",
<<<<<<< HEAD
   "execution_count": 11,
=======
   "execution_count": 628,
>>>>>>> fff0fdb5bca090fd855f641c90f22d997e37c7ae
   "metadata": {},
   "outputs": [
    {
     "data": {
      "text/plain": [
       "gender  0    Female\n",
       "        1    Female\n",
       "        2    Female\n",
       "        3    Female\n",
       "        4      Male\n",
       "              ...  \n",
       "max     3      69.0\n",
       "        4      69.0\n",
       "        5      69.0\n",
       "        6      69.0\n",
       "        7      69.0\n",
       "Length: 80, dtype: object"
      ]
     },
<<<<<<< HEAD
     "execution_count": 11,
=======
     "execution_count": 628,
>>>>>>> fff0fdb5bca090fd855f641c90f22d997e37c7ae
     "metadata": {},
     "output_type": "execute_result"
    }
   ],
   "source": [
    "df.groupby(['gender','category'], as_index=False)['age'].describe()"
   ]
  },
  {
   "cell_type": "code",
<<<<<<< HEAD
   "execution_count": 12,
=======
   "execution_count": 629,
>>>>>>> fff0fdb5bca090fd855f641c90f22d997e37c7ae
   "metadata": {},
   "outputs": [],
   "source": [
    "# creating the class label\n",
    "# label -> ['maybe', 'no', 'yes']\n",
    "def assignNewLabels(row):\n",
    "    # for book shoppers\n",
    "    if row['category'] == \"Technology\" and row[\"total_price\"] > 16800:\n",
    "        return \"yes\"\n",
    "    elif row['category'] == \"Technology\" and row[\"total_price\"] <= 4200:\n",
    "        return \"no\"\n",
    "    elif row['category'] == \"Technology\" and row[\"total_price\"] > 4200.0 and row[\"total_price\"] <= 16800:\n",
    "        return \"maybe\"\n",
    "    \n",
    "    # for clothing\n",
    "    elif row['category'] == \"Clothing\" and row[\"total_price\"] > 4801.28:\n",
    "        return \"yes\"\n",
    "    elif row['category'] == \"Clothing\" and row[\"total_price\"] <= 1200.32:\n",
    "        return \"no\"\n",
    "    elif row['category'] == \"Clothing\" and row[\"total_price\"] > 1200.32 and row[\"total_price\"] <= 4801.28:\n",
    "        return \"maybe\"\n",
    "    \n",
    "    # for clothing\n",
    "    elif row['category'] == \"Cosmetics\" and row[\"total_price\"] > 650.56:\n",
    "        return \"yes\"\n",
    "    elif row['category'] == \"Cosmetics\" and row[\"total_price\"] <= 162.64:\n",
    "        return \"no\"\n",
    "    elif row['category'] == \"Cosmetics\" and row[\"total_price\"] > 162.64 and row[\"total_price\"] <= 650.56:\n",
    "        return \"maybe\"\n",
    "    \n",
    "    # for clothing\n",
    "    elif row['category'] == \"Food & Beverage\" and row[\"total_price\"] > 83.68:\n",
    "        return \"yes\"\n",
    "    elif row['category'] == \"Food & Beverage\" and row[\"total_price\"] <= 20.92:\n",
    "        return \"no\"\n",
    "    elif row['category'] == \"Food & Beverage\" and row[\"total_price\"] > 20.92 and row[\"total_price\"] <= 83.68:\n",
    "        return \"maybe\""
   ]
  },
  {
   "cell_type": "code",
<<<<<<< HEAD
   "execution_count": 13,
=======
   "execution_count": 630,
>>>>>>> fff0fdb5bca090fd855f641c90f22d997e37c7ae
   "metadata": {},
   "outputs": [
    {
     "data": {
      "text/html": [
       "<div>\n",
       "<style scoped>\n",
       "    .dataframe tbody tr th:only-of-type {\n",
       "        vertical-align: middle;\n",
       "    }\n",
       "\n",
       "    .dataframe tbody tr th {\n",
       "        vertical-align: top;\n",
       "    }\n",
       "\n",
       "    .dataframe thead th {\n",
       "        text-align: right;\n",
       "    }\n",
       "</style>\n",
       "<table border=\"1\" class=\"dataframe\">\n",
       "  <thead>\n",
       "    <tr style=\"text-align: right;\">\n",
       "      <th></th>\n",
       "      <th>gender</th>\n",
       "      <th>age</th>\n",
       "      <th>category</th>\n",
       "      <th>total_price</th>\n",
       "      <th>Should_We_Market</th>\n",
       "    </tr>\n",
       "  </thead>\n",
       "  <tbody>\n",
       "    <tr>\n",
       "      <th>0</th>\n",
       "      <td>Female</td>\n",
       "      <td>28</td>\n",
       "      <td>Clothing</td>\n",
       "      <td>7502.00</td>\n",
       "      <td>yes</td>\n",
       "    </tr>\n",
       "    <tr>\n",
       "      <th>2</th>\n",
       "      <td>Male</td>\n",
       "      <td>20</td>\n",
       "      <td>Clothing</td>\n",
       "      <td>300.08</td>\n",
       "      <td>no</td>\n",
       "    </tr>\n",
       "    <tr>\n",
       "      <th>5</th>\n",
       "      <td>Female</td>\n",
       "      <td>28</td>\n",
       "      <td>Clothing</td>\n",
       "      <td>7502.00</td>\n",
       "      <td>yes</td>\n",
       "    </tr>\n",
       "    <tr>\n",
       "      <th>6</th>\n",
       "      <td>Female</td>\n",
       "      <td>49</td>\n",
       "      <td>Cosmetics</td>\n",
       "      <td>40.66</td>\n",
       "      <td>no</td>\n",
       "    </tr>\n",
       "    <tr>\n",
       "      <th>7</th>\n",
       "      <td>Female</td>\n",
       "      <td>32</td>\n",
       "      <td>Clothing</td>\n",
       "      <td>1200.32</td>\n",
       "      <td>no</td>\n",
       "    </tr>\n",
       "  </tbody>\n",
       "</table>\n",
       "</div>"
      ],
      "text/plain": [
       "   gender  age   category  total_price Should_We_Market\n",
       "0  Female   28   Clothing      7502.00              yes\n",
       "2    Male   20   Clothing       300.08               no\n",
       "5  Female   28   Clothing      7502.00              yes\n",
       "6  Female   49  Cosmetics        40.66               no\n",
       "7  Female   32   Clothing      1200.32               no"
      ]
     },
<<<<<<< HEAD
     "execution_count": 13,
=======
     "execution_count": 630,
>>>>>>> fff0fdb5bca090fd855f641c90f22d997e37c7ae
     "metadata": {},
     "output_type": "execute_result"
    }
   ],
   "source": [
    "df['Should_We_Market'] = df.apply(lambda row: assignNewLabels(row), axis=1)\n",
    "#df = df[df['category'] == 'Clothing']\n",
    "df.head()"
   ]
  },
  {
   "attachments": {},
   "cell_type": "markdown",
   "metadata": {},
   "source": [
    "### Starting the Machine Learning Process "
   ]
  },
  {
   "attachments": {},
   "cell_type": "markdown",
   "metadata": {},
   "source": [
    "We are creating one hot encoded labels for each gender and category features as we are doing multilclass classification. "
   ]
  },
  {
   "cell_type": "code",
<<<<<<< HEAD
   "execution_count": 14,
=======
   "execution_count": 631,
>>>>>>> fff0fdb5bca090fd855f641c90f22d997e37c7ae
   "metadata": {},
   "outputs": [
    {
     "data": {
      "text/html": [
       "<div>\n",
       "<style scoped>\n",
       "    .dataframe tbody tr th:only-of-type {\n",
       "        vertical-align: middle;\n",
       "    }\n",
       "\n",
       "    .dataframe tbody tr th {\n",
       "        vertical-align: top;\n",
       "    }\n",
       "\n",
       "    .dataframe thead th {\n",
       "        text-align: right;\n",
       "    }\n",
       "</style>\n",
       "<table border=\"1\" class=\"dataframe\">\n",
       "  <thead>\n",
       "    <tr style=\"text-align: right;\">\n",
       "      <th></th>\n",
       "      <th>age</th>\n",
       "      <th>total_price</th>\n",
       "      <th>gender_Female</th>\n",
       "      <th>gender_Male</th>\n",
       "      <th>category_Clothing</th>\n",
       "      <th>category_Cosmetics</th>\n",
       "      <th>category_Food &amp; Beverage</th>\n",
       "      <th>category_Technology</th>\n",
       "    </tr>\n",
       "  </thead>\n",
       "  <tbody>\n",
       "    <tr>\n",
       "      <th>0</th>\n",
       "      <td>28</td>\n",
       "      <td>7502.00</td>\n",
       "      <td>1</td>\n",
       "      <td>0</td>\n",
       "      <td>1</td>\n",
       "      <td>0</td>\n",
       "      <td>0</td>\n",
       "      <td>0</td>\n",
       "    </tr>\n",
       "    <tr>\n",
       "      <th>2</th>\n",
       "      <td>20</td>\n",
       "      <td>300.08</td>\n",
       "      <td>0</td>\n",
       "      <td>1</td>\n",
       "      <td>1</td>\n",
       "      <td>0</td>\n",
       "      <td>0</td>\n",
       "      <td>0</td>\n",
       "    </tr>\n",
       "    <tr>\n",
       "      <th>5</th>\n",
       "      <td>28</td>\n",
       "      <td>7502.00</td>\n",
       "      <td>1</td>\n",
       "      <td>0</td>\n",
       "      <td>1</td>\n",
       "      <td>0</td>\n",
       "      <td>0</td>\n",
       "      <td>0</td>\n",
       "    </tr>\n",
       "    <tr>\n",
       "      <th>6</th>\n",
       "      <td>49</td>\n",
       "      <td>40.66</td>\n",
       "      <td>1</td>\n",
       "      <td>0</td>\n",
       "      <td>0</td>\n",
       "      <td>1</td>\n",
       "      <td>0</td>\n",
       "      <td>0</td>\n",
       "    </tr>\n",
       "    <tr>\n",
       "      <th>7</th>\n",
       "      <td>32</td>\n",
       "      <td>1200.32</td>\n",
       "      <td>1</td>\n",
       "      <td>0</td>\n",
       "      <td>1</td>\n",
       "      <td>0</td>\n",
       "      <td>0</td>\n",
       "      <td>0</td>\n",
       "    </tr>\n",
       "  </tbody>\n",
       "</table>\n",
       "</div>"
      ],
      "text/plain": [
       "   age  total_price  gender_Female  gender_Male  category_Clothing  \\\n",
       "0   28      7502.00              1            0                  1   \n",
       "2   20       300.08              0            1                  1   \n",
       "5   28      7502.00              1            0                  1   \n",
       "6   49        40.66              1            0                  0   \n",
       "7   32      1200.32              1            0                  1   \n",
       "\n",
       "   category_Cosmetics  category_Food & Beverage  category_Technology  \n",
       "0                   0                         0                    0  \n",
       "2                   0                         0                    0  \n",
       "5                   0                         0                    0  \n",
       "6                   1                         0                    0  \n",
       "7                   0                         0                    0  "
      ]
     },
<<<<<<< HEAD
     "execution_count": 14,
=======
     "execution_count": 631,
>>>>>>> fff0fdb5bca090fd855f641c90f22d997e37c7ae
     "metadata": {},
     "output_type": "execute_result"
    }
   ],
   "source": [
    "df_dummy = pd.get_dummies(df[['gender', 'category', 'age', 'total_price']])\n",
    "df_dummy.head()\n"
   ]
  },
  {
   "cell_type": "code",
<<<<<<< HEAD
   "execution_count": 15,
   "metadata": {},
   "outputs": [],
   "source": [
    "# Normalizing the ages\n",
    "min_age = df_dummy['age'].min()\n",
    "max_age = df_dummy['age'].max()\n",
    "\n",
    "# Apply min-max normalization to the 'age' column\n",
    "df_dummy['normalized_age'] = (df_dummy['age'] - min_age) / (max_age - min_age)\n",
    "df_dummy.drop(['age'], axis=1, inplace=True)"
   ]
  },
  {
   "cell_type": "code",
   "execution_count": 16,
   "metadata": {},
   "outputs": [],
   "source": [
    "# Normalize the prices\n",
    "min_price = df_dummy['total_price'].min()\n",
    "max_price = df_dummy['total_price'].max()\n",
    "\n",
    "# Apply min-max normalization to the 'price' column\n",
    "df_dummy['normalized_price'] = (df_dummy['total_price'] - min_price) / (max_price - min_price)\n",
    "df_dummy.drop(['total_price'], axis=1, inplace=True)\n"
   ]
  },
  {
   "cell_type": "code",
   "execution_count": 17,
   "metadata": {},
   "outputs": [
    {
     "data": {
      "text/html": [
       "<div>\n",
       "<style scoped>\n",
       "    .dataframe tbody tr th:only-of-type {\n",
       "        vertical-align: middle;\n",
       "    }\n",
       "\n",
       "    .dataframe tbody tr th {\n",
       "        vertical-align: top;\n",
       "    }\n",
       "\n",
       "    .dataframe thead th {\n",
       "        text-align: right;\n",
       "    }\n",
       "</style>\n",
       "<table border=\"1\" class=\"dataframe\">\n",
       "  <thead>\n",
       "    <tr style=\"text-align: right;\">\n",
       "      <th></th>\n",
       "      <th>gender_Female</th>\n",
       "      <th>gender_Male</th>\n",
       "      <th>category_Clothing</th>\n",
       "      <th>category_Cosmetics</th>\n",
       "      <th>category_Food &amp; Beverage</th>\n",
       "      <th>category_Technology</th>\n",
       "      <th>normalized_age</th>\n",
       "      <th>normalized_price</th>\n",
       "    </tr>\n",
       "  </thead>\n",
       "  <tbody>\n",
       "    <tr>\n",
       "      <th>0</th>\n",
       "      <td>1</td>\n",
       "      <td>0</td>\n",
       "      <td>1</td>\n",
       "      <td>0</td>\n",
       "      <td>0</td>\n",
       "      <td>0</td>\n",
       "      <td>0.196078</td>\n",
       "      <td>0.285648</td>\n",
       "    </tr>\n",
       "    <tr>\n",
       "      <th>2</th>\n",
       "      <td>0</td>\n",
       "      <td>1</td>\n",
       "      <td>1</td>\n",
       "      <td>0</td>\n",
       "      <td>0</td>\n",
       "      <td>0</td>\n",
       "      <td>0.039216</td>\n",
       "      <td>0.011235</td>\n",
       "    </tr>\n",
       "    <tr>\n",
       "      <th>5</th>\n",
       "      <td>1</td>\n",
       "      <td>0</td>\n",
       "      <td>1</td>\n",
       "      <td>0</td>\n",
       "      <td>0</td>\n",
       "      <td>0</td>\n",
       "      <td>0.196078</td>\n",
       "      <td>0.285648</td>\n",
       "    </tr>\n",
       "    <tr>\n",
       "      <th>6</th>\n",
       "      <td>1</td>\n",
       "      <td>0</td>\n",
       "      <td>0</td>\n",
       "      <td>1</td>\n",
       "      <td>0</td>\n",
       "      <td>0</td>\n",
       "      <td>0.607843</td>\n",
       "      <td>0.001350</td>\n",
       "    </tr>\n",
       "    <tr>\n",
       "      <th>7</th>\n",
       "      <td>1</td>\n",
       "      <td>0</td>\n",
       "      <td>1</td>\n",
       "      <td>0</td>\n",
       "      <td>0</td>\n",
       "      <td>0</td>\n",
       "      <td>0.274510</td>\n",
       "      <td>0.045536</td>\n",
       "    </tr>\n",
       "  </tbody>\n",
       "</table>\n",
       "</div>"
      ],
      "text/plain": [
       "   gender_Female  gender_Male  category_Clothing  category_Cosmetics  \\\n",
       "0              1            0                  1                   0   \n",
       "2              0            1                  1                   0   \n",
       "5              1            0                  1                   0   \n",
       "6              1            0                  0                   1   \n",
       "7              1            0                  1                   0   \n",
       "\n",
       "   category_Food & Beverage  category_Technology  normalized_age  \\\n",
       "0                         0                    0        0.196078   \n",
       "2                         0                    0        0.039216   \n",
       "5                         0                    0        0.196078   \n",
       "6                         0                    0        0.607843   \n",
       "7                         0                    0        0.274510   \n",
       "\n",
       "   normalized_price  \n",
       "0          0.285648  \n",
       "2          0.011235  \n",
       "5          0.285648  \n",
       "6          0.001350  \n",
       "7          0.045536  "
      ]
     },
     "execution_count": 17,
     "metadata": {},
     "output_type": "execute_result"
    }
   ],
   "source": [
    "df_dummy.head()"
   ]
  },
  {
   "attachments": {},
   "cell_type": "markdown",
   "metadata": {},
   "source": [
    "### Gaussian Naive Bayes with labels = yes or no or maybe"
   ]
  },
  {
   "cell_type": "code",
   "execution_count": 18,
   "metadata": {},
   "outputs": [
    {
     "name": "stdout",
     "output_type": "stream",
     "text": [
      "(69356, 8) (69356,)\n"
     ]
    }
   ],
   "source": [
    "X = df_dummy\n",
    "y = df.Should_We_Market\n",
    "\n",
    "print(X.shape, y.shape)\n",
    "X_train, X_test, y_train, y_test = train_test_split(\n",
    "    X, y, test_size=0.25, random_state=125\n",
    ")"
   ]
  },
  {
   "cell_type": "code",
   "execution_count": 19,
   "metadata": {},
   "outputs": [
    {
     "name": "stdout",
     "output_type": "stream",
     "text": [
      "Accuracy: 0.6019378280177634\n",
      "F1 Score: 0.6583024746746252\n"
     ]
    },
    {
     "data": {
      "image/png": "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",
      "text/plain": [
       "<Figure size 432x288 with 2 Axes>"
      ]
     },
     "metadata": {
      "needs_background": "light"
     },
     "output_type": "display_data"
    }
   ],
   "source": [
    "# Build a Gaussian Classifier\n",
    "model = GaussianNB()\n",
    "\n",
    "# Model training\n",
    "model.fit(X_train, y_train)\n",
    "\n",
    "y_pred = model.predict(X_test)\n",
    "accuracy = accuracy_score(y_pred, y_test)\n",
    "f1 = f1_score(y_pred, y_test, average=\"weighted\")\n",
    "\n",
    "print(\"Accuracy:\", accuracy)\n",
    "print(\"F1 Score:\", f1)\n",
    "\n",
    "\n",
    "cm = confusion_matrix(y_test, y_pred, labels=[\"maybe\", \"no\", \"yes\"])\n",
    "disp = ConfusionMatrixDisplay(confusion_matrix=cm, display_labels=[\"maybe\", \"no\", \"yes\"])\n",
    "disp.plot();\n",
    "\n",
    "# interpret results in writeup using https://www.v7labs.com/blog/confusion-matrix-guide"
   ]
  },
  {
   "attachments": {},
   "cell_type": "markdown",
   "metadata": {},
   "source": [
    "We can see that accuracy is low, and we realize further that this is wrong.\n",
    "List reasons here: \n",
    "Now we will repurpose our statement to classify shopper's spending categories based on spending habits and gender and age."
   ]
  },
  {
   "attachments": {},
   "cell_type": "markdown",
   "metadata": {},
   "source": [
    "## Random Forrest Classification for Feature Selection"
   ]
  },
  {
   "cell_type": "code",
   "execution_count": 20,
=======
   "execution_count": 646,
>>>>>>> fff0fdb5bca090fd855f641c90f22d997e37c7ae
   "metadata": {},
   "outputs": [
    {
     "data": {
      "text/html": [
       "<div>\n",
       "<style scoped>\n",
       "    .dataframe tbody tr th:only-of-type {\n",
       "        vertical-align: middle;\n",
       "    }\n",
       "\n",
       "    .dataframe tbody tr th {\n",
       "        vertical-align: top;\n",
       "    }\n",
       "\n",
       "    .dataframe thead th {\n",
       "        text-align: right;\n",
       "    }\n",
       "</style>\n",
       "<table border=\"1\" class=\"dataframe\">\n",
       "  <thead>\n",
       "    <tr style=\"text-align: right;\">\n",
       "      <th></th>\n",
       "      <th>age</th>\n",
       "      <th>total_price</th>\n",
       "      <th>gender_Female</th>\n",
       "      <th>gender_Male</th>\n",
<<<<<<< HEAD
=======
       "      <th>category_Clothing</th>\n",
       "      <th>category_Cosmetics</th>\n",
       "      <th>category_Food &amp; Beverage</th>\n",
       "      <th>category_Technology</th>\n",
>>>>>>> fff0fdb5bca090fd855f641c90f22d997e37c7ae
       "    </tr>\n",
       "  </thead>\n",
       "  <tbody>\n",
       "    <tr>\n",
       "      <th>0</th>\n",
       "      <td>28</td>\n",
       "      <td>7502.00</td>\n",
<<<<<<< HEAD
       "      <td>1</td>\n",
       "      <td>0</td>\n",
=======
       "      <td>True</td>\n",
       "      <td>False</td>\n",
       "      <td>True</td>\n",
       "      <td>False</td>\n",
       "      <td>False</td>\n",
       "      <td>False</td>\n",
>>>>>>> fff0fdb5bca090fd855f641c90f22d997e37c7ae
       "    </tr>\n",
       "    <tr>\n",
       "      <th>2</th>\n",
       "      <td>20</td>\n",
       "      <td>300.08</td>\n",
<<<<<<< HEAD
       "      <td>0</td>\n",
       "      <td>1</td>\n",
=======
       "      <td>False</td>\n",
       "      <td>True</td>\n",
       "      <td>True</td>\n",
       "      <td>False</td>\n",
       "      <td>False</td>\n",
       "      <td>False</td>\n",
>>>>>>> fff0fdb5bca090fd855f641c90f22d997e37c7ae
       "    </tr>\n",
       "    <tr>\n",
       "      <th>5</th>\n",
       "      <td>28</td>\n",
       "      <td>7502.00</td>\n",
<<<<<<< HEAD
       "      <td>1</td>\n",
       "      <td>0</td>\n",
=======
       "      <td>True</td>\n",
       "      <td>False</td>\n",
       "      <td>True</td>\n",
       "      <td>False</td>\n",
       "      <td>False</td>\n",
       "      <td>False</td>\n",
>>>>>>> fff0fdb5bca090fd855f641c90f22d997e37c7ae
       "    </tr>\n",
       "    <tr>\n",
       "      <th>6</th>\n",
       "      <td>49</td>\n",
       "      <td>40.66</td>\n",
<<<<<<< HEAD
       "      <td>1</td>\n",
       "      <td>0</td>\n",
=======
       "      <td>True</td>\n",
       "      <td>False</td>\n",
       "      <td>False</td>\n",
       "      <td>True</td>\n",
       "      <td>False</td>\n",
       "      <td>False</td>\n",
>>>>>>> fff0fdb5bca090fd855f641c90f22d997e37c7ae
       "    </tr>\n",
       "    <tr>\n",
       "      <th>7</th>\n",
       "      <td>32</td>\n",
       "      <td>1200.32</td>\n",
<<<<<<< HEAD
       "      <td>1</td>\n",
       "      <td>0</td>\n",
=======
       "      <td>True</td>\n",
       "      <td>False</td>\n",
       "      <td>True</td>\n",
       "      <td>False</td>\n",
       "      <td>False</td>\n",
       "      <td>False</td>\n",
>>>>>>> fff0fdb5bca090fd855f641c90f22d997e37c7ae
       "    </tr>\n",
       "  </tbody>\n",
       "</table>\n",
       "</div>"
      ],
      "text/plain": [
<<<<<<< HEAD
       "   age  total_price  gender_Female  gender_Male\n",
       "0   28      7502.00              1            0\n",
       "2   20       300.08              0            1\n",
       "5   28      7502.00              1            0\n",
       "6   49        40.66              1            0\n",
       "7   32      1200.32              1            0"
      ]
     },
     "execution_count": 20,
=======
       "   age  total_price  gender_Female  gender_Male  category_Clothing   \n",
       "0   28      7502.00           True        False               True  \\\n",
       "2   20       300.08          False         True               True   \n",
       "5   28      7502.00           True        False               True   \n",
       "6   49        40.66           True        False              False   \n",
       "7   32      1200.32           True        False               True   \n",
       "\n",
       "   category_Cosmetics  category_Food & Beverage  category_Technology  \n",
       "0               False                     False                False  \n",
       "2               False                     False                False  \n",
       "5               False                     False                False  \n",
       "6                True                     False                False  \n",
       "7               False                     False                False  "
      ]
     },
     "execution_count": 646,
>>>>>>> fff0fdb5bca090fd855f641c90f22d997e37c7ae
     "metadata": {},
     "output_type": "execute_result"
    }
   ],
   "source": [
<<<<<<< HEAD
    "df_dummy = pd.get_dummies(df[['gender', 'age', 'total_price']])\n",
    "df_dummy.head()"
   ]
  },
  {
   "cell_type": "code",
   "execution_count": 21,
   "metadata": {},
   "outputs": [
    {
     "data": {
      "text/html": [
       "<div>\n",
       "<style scoped>\n",
       "    .dataframe tbody tr th:only-of-type {\n",
       "        vertical-align: middle;\n",
       "    }\n",
       "\n",
       "    .dataframe tbody tr th {\n",
       "        vertical-align: top;\n",
       "    }\n",
       "\n",
       "    .dataframe thead th {\n",
       "        text-align: right;\n",
       "    }\n",
       "</style>\n",
       "<table border=\"1\" class=\"dataframe\">\n",
       "  <thead>\n",
       "    <tr style=\"text-align: right;\">\n",
       "      <th></th>\n",
       "      <th>gender_Female</th>\n",
       "      <th>gender_Male</th>\n",
       "      <th>normalized_age</th>\n",
       "      <th>normalized_price</th>\n",
       "    </tr>\n",
       "  </thead>\n",
       "  <tbody>\n",
       "    <tr>\n",
       "      <th>0</th>\n",
       "      <td>1</td>\n",
       "      <td>0</td>\n",
       "      <td>0.196078</td>\n",
       "      <td>0.285648</td>\n",
       "    </tr>\n",
       "    <tr>\n",
       "      <th>2</th>\n",
       "      <td>0</td>\n",
       "      <td>1</td>\n",
       "      <td>0.039216</td>\n",
       "      <td>0.011235</td>\n",
       "    </tr>\n",
       "    <tr>\n",
       "      <th>5</th>\n",
       "      <td>1</td>\n",
       "      <td>0</td>\n",
       "      <td>0.196078</td>\n",
       "      <td>0.285648</td>\n",
       "    </tr>\n",
       "    <tr>\n",
       "      <th>6</th>\n",
       "      <td>1</td>\n",
       "      <td>0</td>\n",
       "      <td>0.607843</td>\n",
       "      <td>0.001350</td>\n",
       "    </tr>\n",
       "    <tr>\n",
       "      <th>7</th>\n",
       "      <td>1</td>\n",
       "      <td>0</td>\n",
       "      <td>0.274510</td>\n",
       "      <td>0.045536</td>\n",
       "    </tr>\n",
       "  </tbody>\n",
       "</table>\n",
       "</div>"
      ],
      "text/plain": [
       "   gender_Female  gender_Male  normalized_age  normalized_price\n",
       "0              1            0        0.196078          0.285648\n",
       "2              0            1        0.039216          0.011235\n",
       "5              1            0        0.196078          0.285648\n",
       "6              1            0        0.607843          0.001350\n",
       "7              1            0        0.274510          0.045536"
      ]
     },
     "execution_count": 21,
     "metadata": {},
     "output_type": "execute_result"
    }
   ],
   "source": [
    "# Normalizing the ages\n",
    "min_age = df_dummy['age'].min()\n",
    "max_age = df_dummy['age'].max()\n",
    "\n",
    "# Apply min-max normalization to the 'age' column\n",
    "df_dummy['normalized_age'] = (df_dummy['age'] - min_age) / (max_age - min_age)\n",
    "\n",
    "# Normalize the prices\n",
    "min_price = df_dummy['total_price'].min()\n",
    "max_price = df_dummy['total_price'].max()\n",
    "\n",
    "# Apply min-max normalization to the 'price' column\n",
    "df_dummy['normalized_price'] = (df_dummy['total_price'] - min_price) / (max_price - min_price)\n",
    "df_dummy.drop(['total_price', 'age'], axis=1, inplace=True)\n",
    "df_dummy.head()\n"
   ]
  },
  {
   "cell_type": "code",
   "execution_count": 22,
   "metadata": {},
   "outputs": [
    {
     "name": "stdout",
     "output_type": "stream",
     "text": [
      "Feature ranking:\n",
      "1. Feature normalized_price (0.9984259067943809)\n",
      "2. Feature normalized_age (0.0014578279636322199)\n",
      "3. Feature gender_Female (6.142207555655352e-05)\n",
      "4. Feature gender_Male (5.484316643032354e-05)\n"
     ]
    }
   ],
   "source": [
    "X = df_dummy\n",
    "y = df.category\n",
    "\n",
    "X_train, X_test, y_train, y_test = train_test_split(X, y, test_size=0.25, random_state=42)\n",
    "\n",
    "# Create a Random Forest classifier\n",
    "rf_classifier = RandomForestClassifier()\n",
    "\n",
    "rf_classifier.fit(X_train, y_train)\n",
    "\n",
    "# Get feature importances\n",
    "importances = rf_classifier.feature_importances_\n",
    "\n",
    "# Sort feature importances in descending order\n",
    "indices = importances.argsort()[::-1]\n",
    "print(\"Feature ranking:\")\n",
    "for f in range(X.shape[1]):\n",
    "    print(f\"{f + 1}. Feature {X.columns[indices[f]]} ({importances[indices[f]]})\")"
   ]
  },
  {
   "attachments": {},
   "cell_type": "markdown",
   "metadata": {},
   "source": [
    "According to this dataset, gender doesnt make a big difference in classififcation whcih lines up with our earlier observations..."
   ]
  },
  {
   "attachments": {},
   "cell_type": "markdown",
   "metadata": {},
   "source": [
    "### Gaussian Naive Bayes with new labels based on categories"
   ]
  },
  {
   "cell_type": "code",
   "execution_count": 23,
   "metadata": {},
   "outputs": [],
   "source": [
    "# dropping useless features according to Random Forest\n",
    "df_dummy.drop(['gender_Female', 'gender_Male'], axis=1, inplace=True)"
=======
    "df_dummy.head()"
>>>>>>> fff0fdb5bca090fd855f641c90f22d997e37c7ae
   ]
  },
  {
   "cell_type": "code",
<<<<<<< HEAD
   "execution_count": 24,
=======
   "execution_count": 634,
>>>>>>> fff0fdb5bca090fd855f641c90f22d997e37c7ae
   "metadata": {},
   "outputs": [
    {
     "name": "stdout",
     "output_type": "stream",
     "text": [
      "(69356, 2) (69356,)\n"
     ]
    }
   ],
   "source": [
    "X = df_dummy\n",
    "y = df.category\n",
    "\n",
    "print(X.shape, y.shape)\n",
    "X_train, X_test, y_train, y_test = train_test_split(\n",
    "    X, y, test_size=0.25, random_state=125\n",
    ")"
   ]
  },
  {
   "cell_type": "code",
<<<<<<< HEAD
   "execution_count": 25,
=======
   "execution_count": 635,
>>>>>>> fff0fdb5bca090fd855f641c90f22d997e37c7ae
   "metadata": {},
   "outputs": [
    {
     "name": "stdout",
     "output_type": "stream",
     "text": [
      "Accuracy: 0.8121575638733491\n",
      "F1 Score: 0.8137622111213028\n"
     ]
    },
    {
     "data": {
      "text/plain": [
       "<sklearn.metrics._plot.confusion_matrix.ConfusionMatrixDisplay at 0x28225c790>"
      ]
     },
     "execution_count": 25,
     "metadata": {},
     "output_type": "execute_result"
    },
    {
     "data": {
      "image/png": "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",
      "text/plain": [
       "<Figure size 432x288 with 2 Axes>"
      ]
     },
     "metadata": {
      "needs_background": "light"
     },
     "output_type": "display_data"
    }
   ],
   "source": [
    "# Build a Gaussian Classifier\n",
    "model = GaussianNB()\n",
    "\n",
    "# Model training\n",
    "model.fit(X_train, y_train)\n",
    "\n",
    "y_pred = model.predict(X_test)\n",
    "accuracy = accuracy_score(y_pred, y_test)\n",
    "f1 = f1_score(y_pred, y_test, average=\"weighted\")\n",
    "\n",
    "print(\"Accuracy:\", accuracy)\n",
    "print(\"F1 Score:\", f1)\n",
    "\n",
    "\n",
    "cm = confusion_matrix(y_test, y_pred, labels=[\"Clothing\", \"Cosmetics\", \"Food & Beverage\", \"Technology\"])\n",
    "disp = ConfusionMatrixDisplay(confusion_matrix=cm, display_labels=[\"Clothing\", \"Cosmetics\", \"Food & Beverage\", \"Technology\"])\n",
    "disp.plot()\n",
    "\n",
    "\n",
    "\n",
    "# interpret results in writeup using https://www.v7labs.com/blog/confusion-matrix-guide"
   ]
  },
  {
<<<<<<< HEAD
   "attachments": {},
   "cell_type": "markdown",
   "metadata": {},
   "source": [
    "Accuracy is a lot better because of .... "
   ]
  },
  {
   "attachments": {},
   "cell_type": "markdown",
=======
   "cell_type": "code",
   "execution_count": 636,
>>>>>>> fff0fdb5bca090fd855f641c90f22d997e37c7ae
   "metadata": {},
   "source": [
    "### Stratified K-fold cross validation for Naive Bayes without Gender features"
   ]
  },
  {
   "cell_type": "code",
<<<<<<< HEAD
   "execution_count": 26,
=======
   "execution_count": 637,
>>>>>>> fff0fdb5bca090fd855f641c90f22d997e37c7ae
   "metadata": {},
   "outputs": [
    {
     "name": "stdout",
     "output_type": "stream",
     "text": [
      "Accuracy from each fold using Naive Bayes without Gender features = \n",
      "[0.81199538638985, 0.8184832756632064, 0.8171856978085352, 0.8114186851211073, 0.8124279123414071, 0.828719723183391, 0.8152847873107426, 0.8116798846431147, 0.8108147080028839, 0.813410237923576]\n",
      "\n",
      "Average accuracy using Naive Bayes without Gender features = \n",
      "0.8151420298387814\n",
      "\n"
     ]
    }
   ],
   "source": [
    "kf = StratifiedKFold(n_splits=10, random_state=40, shuffle=True) \n",
    "accscore = []\n",
    "classifier2 = GaussianNB()\n",
    "\n",
    "\n",
    "for train_index , test_index in kf.split(X, y):\n",
    "    X_train , X_test = X.iloc[train_index],X.iloc[test_index]\n",
    "    y_train , y_test = y.iloc[train_index] , y.iloc[test_index]\n",
    "     \n",
    "    classifier2.fit(X_train, y_train.values.ravel())\n",
    "    Y_pred = classifier2.predict(X_test)\n",
    "\n",
    "     \n",
    "    acc2 = accuracy_score(y_test, Y_pred)\n",
    "    accscore.append(acc2)\n",
    "     \n",
    "avgscore = sum(accscore)/10\n",
    " \n",
    "print(\"Accuracy from each fold using Naive Bayes without Gender features = \\n\" + str(accscore))\n",
    "print(\"\\nAverage accuracy using Naive Bayes without Gender features = \\n\" + str(avgscore))\n",
    "print()\n"
   ]
  },
  {
   "attachments": {},
   "cell_type": "markdown",
   "metadata": {},
   "source": [
    "Hmmm, seems like the gender feature really did not matter in the long run. Lets try another classification technique instead!\n",
    "(To learn more about stratified k-fold cross validation, visit here for more info: https://www.geeksforgeeks.org/stratified-k-fold-cross-validation/)"
   ]
  },
  {
<<<<<<< HEAD
   "attachments": {},
   "cell_type": "markdown",
=======
   "cell_type": "code",
   "execution_count": 638,
>>>>>>> fff0fdb5bca090fd855f641c90f22d997e37c7ae
   "metadata": {},
   "source": [
    "### Neural Networks:"
   ]
  },
  {
   "cell_type": "code",
<<<<<<< HEAD
   "execution_count": 27,
=======
   "execution_count": 639,
>>>>>>> fff0fdb5bca090fd855f641c90f22d997e37c7ae
   "metadata": {},
   "outputs": [
    {
     "data": {
      "text/html": [
       "<div>\n",
       "<style scoped>\n",
       "    .dataframe tbody tr th:only-of-type {\n",
       "        vertical-align: middle;\n",
       "    }\n",
       "\n",
       "    .dataframe tbody tr th {\n",
       "        vertical-align: top;\n",
       "    }\n",
       "\n",
       "    .dataframe thead th {\n",
       "        text-align: right;\n",
       "    }\n",
       "</style>\n",
       "<table border=\"1\" class=\"dataframe\">\n",
       "  <thead>\n",
       "    <tr style=\"text-align: right;\">\n",
       "      <th></th>\n",
       "      <th>category_Clothing</th>\n",
       "      <th>category_Cosmetics</th>\n",
       "      <th>category_Food &amp; Beverage</th>\n",
       "      <th>category_Technology</th>\n",
       "    </tr>\n",
       "  </thead>\n",
       "  <tbody>\n",
       "    <tr>\n",
       "      <th>0</th>\n",
       "      <td>1</td>\n",
       "      <td>0</td>\n",
       "      <td>0</td>\n",
       "      <td>0</td>\n",
       "    </tr>\n",
       "    <tr>\n",
       "      <th>2</th>\n",
       "      <td>1</td>\n",
       "      <td>0</td>\n",
       "      <td>0</td>\n",
       "      <td>0</td>\n",
       "    </tr>\n",
       "    <tr>\n",
       "      <th>5</th>\n",
       "      <td>1</td>\n",
       "      <td>0</td>\n",
       "      <td>0</td>\n",
       "      <td>0</td>\n",
       "    </tr>\n",
       "    <tr>\n",
       "      <th>6</th>\n",
       "      <td>0</td>\n",
       "      <td>1</td>\n",
       "      <td>0</td>\n",
       "      <td>0</td>\n",
       "    </tr>\n",
       "    <tr>\n",
       "      <th>7</th>\n",
       "      <td>1</td>\n",
       "      <td>0</td>\n",
       "      <td>0</td>\n",
       "      <td>0</td>\n",
       "    </tr>\n",
       "  </tbody>\n",
       "</table>\n",
       "</div>"
      ],
      "text/plain": [
       "   category_Clothing  category_Cosmetics  category_Food & Beverage  \\\n",
       "0                  1                   0                         0   \n",
       "2                  1                   0                         0   \n",
       "5                  1                   0                         0   \n",
       "6                  0                   1                         0   \n",
       "7                  1                   0                         0   \n",
       "\n",
       "   category_Technology  \n",
       "0                    0  \n",
       "2                    0  \n",
       "5                    0  \n",
       "6                    0  \n",
       "7                    0  "
      ]
     },
     "execution_count": 27,
     "metadata": {},
     "output_type": "execute_result"
    }
   ],
   "source": [
    "# one hot encode the category classes\n",
    "df_dummy = pd.get_dummies(df[['gender', 'age', 'total_price']])\n",
    "df_y_dummy = pd.get_dummies(df[['category']])\n",
    "df_y_dummy.head()"
   ]
  },
  {
   "cell_type": "code",
<<<<<<< HEAD
   "execution_count": 28,
=======
   "execution_count": 640,
>>>>>>> fff0fdb5bca090fd855f641c90f22d997e37c7ae
   "metadata": {},
   "outputs": [
    {
     "data": {
      "text/html": [
       "<div>\n",
       "<style scoped>\n",
       "    .dataframe tbody tr th:only-of-type {\n",
       "        vertical-align: middle;\n",
       "    }\n",
       "\n",
       "    .dataframe tbody tr th {\n",
       "        vertical-align: top;\n",
       "    }\n",
       "\n",
       "    .dataframe thead th {\n",
       "        text-align: right;\n",
       "    }\n",
       "</style>\n",
       "<table border=\"1\" class=\"dataframe\">\n",
       "  <thead>\n",
       "    <tr style=\"text-align: right;\">\n",
       "      <th></th>\n",
       "      <th>gender_Female</th>\n",
       "      <th>gender_Male</th>\n",
       "      <th>normalized_age</th>\n",
       "      <th>normalized_price</th>\n",
       "    </tr>\n",
       "  </thead>\n",
       "  <tbody>\n",
       "    <tr>\n",
       "      <th>0</th>\n",
       "      <td>1</td>\n",
       "      <td>0</td>\n",
       "      <td>0.196078</td>\n",
       "      <td>0.285648</td>\n",
       "    </tr>\n",
       "    <tr>\n",
       "      <th>2</th>\n",
       "      <td>0</td>\n",
       "      <td>1</td>\n",
       "      <td>0.039216</td>\n",
       "      <td>0.011235</td>\n",
       "    </tr>\n",
       "    <tr>\n",
       "      <th>5</th>\n",
       "      <td>1</td>\n",
       "      <td>0</td>\n",
       "      <td>0.196078</td>\n",
       "      <td>0.285648</td>\n",
       "    </tr>\n",
       "    <tr>\n",
       "      <th>6</th>\n",
       "      <td>1</td>\n",
       "      <td>0</td>\n",
       "      <td>0.607843</td>\n",
       "      <td>0.001350</td>\n",
       "    </tr>\n",
       "    <tr>\n",
       "      <th>7</th>\n",
       "      <td>1</td>\n",
       "      <td>0</td>\n",
       "      <td>0.274510</td>\n",
       "      <td>0.045536</td>\n",
       "    </tr>\n",
       "  </tbody>\n",
       "</table>\n",
       "</div>"
      ],
      "text/plain": [
       "   gender_Female  gender_Male  normalized_age  normalized_price\n",
       "0              1            0        0.196078          0.285648\n",
       "2              0            1        0.039216          0.011235\n",
       "5              1            0        0.196078          0.285648\n",
       "6              1            0        0.607843          0.001350\n",
       "7              1            0        0.274510          0.045536"
      ]
     },
<<<<<<< HEAD
     "execution_count": 28,
=======
     "execution_count": 640,
>>>>>>> fff0fdb5bca090fd855f641c90f22d997e37c7ae
     "metadata": {},
     "output_type": "execute_result"
    }
   ],
   "source": [
    "# Normalizing the ages\n",
    "min_age = df_dummy['age'].min()\n",
    "max_age = df_dummy['age'].max()\n",
    "\n",
    "# Apply min-max normalization to the 'age' column\n",
    "df_dummy['normalized_age'] = (df_dummy['age'] - min_age) / (max_age - min_age)\n",
    "\n",
    "# Normalize the prices\n",
    "min_price = df_dummy['total_price'].min()\n",
    "max_price = df_dummy['total_price'].max()\n",
    "\n",
    "# Apply min-max normalization to the 'price' column\n",
    "df_dummy['normalized_price'] = (df_dummy['total_price'] - min_price) / (max_price - min_price)\n",
    "\n",
    "# drop converted columns\n",
    "df_dummy.drop(['total_price', 'age'], axis=1, inplace=True)\n",
    "\n",
    "df_dummy.head()"
   ]
  },
  {
   "cell_type": "code",
<<<<<<< HEAD
   "execution_count": 29,
=======
   "execution_count": 641,
>>>>>>> fff0fdb5bca090fd855f641c90f22d997e37c7ae
   "metadata": {},
   "outputs": [],
   "source": [
    "# Split the data into features and target\n",
    "X = df_dummy\n",
    "y = df['category']\n",
    "\n",
    "# Split the data into training and testing sets\n",
    "X_train, X_test, y_train, y_test = train_test_split(X, y, test_size=0.2, random_state=42)"
   ]
  },
  {
   "cell_type": "code",
<<<<<<< HEAD
   "execution_count": 30,
=======
   "execution_count": 642,
>>>>>>> fff0fdb5bca090fd855f641c90f22d997e37c7ae
   "metadata": {},
   "outputs": [
    {
     "name": "stdout",
     "output_type": "stream",
     "text": [
<<<<<<< HEAD
      "Test accuracy: 0.8965\n"
     ]
=======
      "Accuracy: 0.6733997018227288\n",
      "F1 Score: 0.6757882008181127\n"
     ]
    },
    {
     "data": {
      "image/png": "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",
      "text/plain": [
       "<Figure size 640x480 with 2 Axes>"
      ]
     },
     "metadata": {},
     "output_type": "display_data"
>>>>>>> fff0fdb5bca090fd855f641c90f22d997e37c7ae
    }
   ],
   "source": [
    "model = MLPClassifier(hidden_layer_sizes=(16, 8), activation='relu', solver='adam', max_iter=1500, random_state=42)\n",
    "model.fit(X_train, y_train)\n",
    "\n",
    "accuracy = model.score(X_test, y_test)\n",
    "print(f'Test accuracy: {accuracy:.4f}')"
   ]
  },
  {
   "attachments": {},
   "cell_type": "markdown",
   "metadata": {},
   "source": [
    "As you can see, the neural network performed very well, with a test accuracy of 89.65%. Compare this to the accuracy of the Naive Bayes classifier of 81.5% and a massive difference is evident.\n",
    "\n",
    "To learn more about Neural Networks, I highly recommend 3b1b's video series: https://www.youtube.com/watch?v=aircAruvnKk"
   ]
  },
  {
   "cell_type": "code",
<<<<<<< HEAD
   "execution_count": 31,
   "metadata": {},
   "outputs": [
    {
     "data": {
      "image/png": "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",
      "text/plain": [
       "<Figure size 432x288 with 2 Axes>"
      ]
     },
     "metadata": {
      "needs_background": "light"
     },
     "output_type": "display_data"
=======
   "execution_count": 643,
   "metadata": {},
   "outputs": [
    {
     "name": "stdout",
     "output_type": "stream",
     "text": [
      "Feature ranking:\n",
      "1. Feature total_price (0.9172738682068327)\n",
      "2. Feature category_Clothing (0.036898587989389796)\n",
      "3. Feature category_Technology (0.015477197408232918)\n",
      "4. Feature category_Cosmetics (0.014927651022876487)\n",
      "5. Feature category_Food & Beverage (0.01294925043943787)\n",
      "6. Feature age (0.0022888916727694456)\n",
      "7. Feature gender_Female (0.00010497477089891876)\n",
      "8. Feature gender_Male (7.957848956179556e-05)\n"
     ]
>>>>>>> fff0fdb5bca090fd855f641c90f22d997e37c7ae
    }
   ],
   "source": [
    "y_pred = model.predict(X_test)\n",
    "cm2 = confusion_matrix(y_test, y_pred, labels=[\"Clothing\", \"Cosmetics\", \"Food & Beverage\", \"Technology\"])\n",
    "disp2 = ConfusionMatrixDisplay(confusion_matrix=cm2, display_labels=[\"Clothing\", \"Cosmetics\", \"Food & Beverage\", \"Technology\"])\n",
    "disp2.plot();"
   ]
  },
  {
   "attachments": {},
   "cell_type": "markdown",
   "metadata": {},
   "source": [
    "### KNN "
   ]
  },
  {
   "cell_type": "code",
<<<<<<< HEAD
   "execution_count": 32,
=======
   "execution_count": 644,
>>>>>>> fff0fdb5bca090fd855f641c90f22d997e37c7ae
   "metadata": {},
   "outputs": [
    {
     "name": "stdout",
     "output_type": "stream",
     "text": [
      "Accuracy:0.9669838523644751\n",
      "F1 score:0.9676311221987752\n",
      "Confusion Matrix:\n"
     ]
    },
    {
     "data": {
      "text/plain": [
       "<sklearn.metrics._plot.confusion_matrix.ConfusionMatrixDisplay at 0x17f4b1f30>"
      ]
     },
     "execution_count": 32,
     "metadata": {},
     "output_type": "execute_result"
    },
    {
     "data": {
      "image/png": "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",
      "text/plain": [
       "<Figure size 432x288 with 2 Axes>"
      ]
     },
     "metadata": {
      "needs_background": "light"
     },
     "output_type": "display_data"
    }
   ],
   "source": [
    "from sklearn.neighbors import KNeighborsClassifier\n",
    "classifier = KNeighborsClassifier(n_neighbors = 30, metric = 'minkowski', p = 2)\n",
    "classifier.fit(X_train, y_train)\n",
    "Y_pred = classifier.predict(X_test)\n",
    "\n",
    "acc = accuracy_score(y_test, Y_pred)\n",
    "print (\"Accuracy:\" + str(acc))\n",
    "f1 = f1_score(Y_pred, y_test, average=\"weighted\")\n",
    "print (\"F1 score:\" + str(f1))\n",
    "print(\"Confusion Matrix:\")\n",
    "\n",
    "\n",
    "cm = confusion_matrix(y_test, Y_pred, labels=[\"Clothing\", \"Cosmetics\", \"Food & Beverage\", \"Technology\"])\n",
    "disp = ConfusionMatrixDisplay(confusion_matrix=cm, display_labels=[\"Clothing\", \"Cosmetics\", \"Food & Beverage\", \"Technology\"])\n",
    "disp.plot()\n",
    "\n"
   ]
  },
  {
   "cell_type": "code",
<<<<<<< HEAD
   "execution_count": 39,
=======
   "execution_count": 645,
>>>>>>> fff0fdb5bca090fd855f641c90f22d997e37c7ae
   "metadata": {},
   "outputs": [
    {
     "name": "stdout",
     "output_type": "stream",
     "text": [
<<<<<<< HEAD
      "Accuracy from each fold using KNN with 35 neighbors = [0.9617935409457901, 0.9633794694348328, 0.9662629757785467, 0.9630911188004614, 0.96280276816609, 0.9688581314878892, 0.9679884643114636, 0.9656813266041817, 0.9665465032444124, 0.9627974044700793]\n",
      "Average accuracy using KNN with 35 neighbors = 0.9649201703243747\n",
      "Average fscore using KNN with 35 neighbors = 0.9649201703243747\n",
      "\n"
     ]
=======
      "Accuracy: 0.6733997018227288\n",
      "F1 Score: 0.6757882008181127\n"
     ]
    },
    {
     "data": {
      "image/png": "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",
      "text/plain": [
       "<Figure size 640x480 with 2 Axes>"
      ]
     },
     "metadata": {},
     "output_type": "display_data"
>>>>>>> fff0fdb5bca090fd855f641c90f22d997e37c7ae
    }
   ],
   "source": [
    "#KNN - 10 fold validation \n",
    "\n",
    "kf = StratifiedKFold(n_splits=10,random_state=40, shuffle=True) \n",
    "accscore = []\n",
    "fscorearr = []\n",
    "classifier = KNeighborsClassifier(n_neighbors = 35, metric = 'minkowski', p = 2)\n",
    "\n",
    "for train_index , test_index in kf.split(X, y):\n",
    "    X_train , X_test = X.iloc[train_index],X.iloc[test_index]\n",
    "    y_train , y_test = y.iloc[train_index] , y.iloc[test_index]\n",
    "     \n",
    "    #classifier.fit(X_train,y_train)\n",
    "    classifier.fit(X_train, y_train)\n",
    "    y_pred = classifier.predict(X_test)\n",
    "     \n",
    "    acc = accuracy_score(y_test, y_pred)\n",
    "    accscore.append(acc)\n",
    "    fscore = f1_score(y_test, y_pred, average=None)\n",
    "    fscorearr.append(fscore)\n",
    "\n",
    "     \n",
    "avgscore = sum(accscore)/10\n",
    "avgfscore = sum(fscore)/10\n",
    " \n",
    "print(\"Accuracy from each fold using KNN with 35 neighbors = \" + str(accscore))\n",
    "print(\"Average accuracy using KNN with 35 neighbors = \" + str(avgscore))\n",
    "print(\"Average fscore using KNN with 35 neighbors = \" + str(avgscore))\n",
    "print()"
   ]
  },
  {
   "cell_type": "code",
   "execution_count": null,
   "metadata": {},
   "outputs": [],
   "source": []
  },
  {
   "attachments": {},
   "cell_type": "markdown",
   "metadata": {},
   "source": [
    "## Conclusion"
   ]
  },
  {
   "attachments": {},
   "cell_type": "markdown",
   "metadata": {},
   "source": [
    "## Policy Recommendation \n",
    "The performance of these models could be improved by: "
   ]
  }
 ],
 "metadata": {
  "kernelspec": {
   "display_name": "Python 3",
   "language": "python",
   "name": "python3"
  },
  "language_info": {
   "codemirror_mode": {
    "name": "ipython",
    "version": 3
   },
   "file_extension": ".py",
   "mimetype": "text/x-python",
   "name": "python",
   "nbconvert_exporter": "python",
   "pygments_lexer": "ipython3",
   "version": "3.10.2"
  },
  "orig_nbformat": 4
 },
 "nbformat": 4,
 "nbformat_minor": 2
}
