{
 "cells": [
  {
   "attachments": {},
   "cell_type": "markdown",
   "metadata": {},
   "source": [
    "# Retail Promotion Classification-Prediction Problem\n",
    "## Vasundhara Bagchi, Elizabeth Slesarev, and Paul Beltran \n",
    "\n",
    "Through this project, we are aiming to use retail sales data to understand how the stores could run a promotional campaign targeting customers who spend a lot of money in a certain category. \n",
    "\n",
    "This project would allow retail stores, particularly one without a lot of resources dedicated to promotional material, to optimize their promotional campaigns by identifying the most effective customer profiles to target with their marketing efforts. This approach can save retailers significant resources and effort by avoiding a standarized approach to promotions, which can be less effective and less efficient. Instead, stores can target specific customer segments based on their preferences in shopping categories, past purchasing behaviors, and other factors to maximize the effectiveness of their promotions.\n",
    "\n",
    "This particular dataset contains data from various age groups and genders several categories from 10 shopping malls in Instanbul, Turkey. \n",
    "\n",
    "Data Source: https://www.kaggle.com/datasets/mehmettahiraslan/customer-shopping-dataset"
   ]
  },
  {
   "attachments": {},
   "cell_type": "markdown",
   "metadata": {},
   "source": [
    "### Step 1: Data Cleaning and Preprocessing"
   ]
  },
  {
   "attachments": {},
   "cell_type": "markdown",
   "metadata": {},
   "source": [
    "Imports"
   ]
  },
  {
   "cell_type": "code",
   "execution_count": 67,
   "metadata": {},
   "outputs": [],
   "source": [
    "import numpy as np\n",
    "import pandas as pd\n",
    "import seaborn as sns\n",
    "import matplotlib.pyplot as plt\n",
    "\n",
    "from sklearn.naive_bayes import GaussianNB\n",
    "\n",
    "from sklearn.model_selection import (\n",
    "    StratifiedKFold,\n",
    "    train_test_split, \n",
    "    cross_val_score,\n",
    "    StratifiedKFold, \n",
    "    KFold\n",
    ")\n",
    "from sklearn.metrics import (\n",
    "    accuracy_score,\n",
    "    confusion_matrix,\n",
    "    ConfusionMatrixDisplay,\n",
    "    f1_score,\n",
    "    r2_score,\n",
    "    mean_squared_error,\n",
    "    mean_absolute_error,\n",
    ")\n"
   ]
  },
  {
   "attachments": {},
   "cell_type": "markdown",
   "metadata": {},
   "source": [
    "### Description of the columns: \n",
    "\n",
    "1. invoice_no: Invoice number. Nominal. A combination of the letter 'I' and a 6-digit integer uniquely assigned to each operation. <br><br>\n",
    "2. customer_id: Customer number. Nominal. A combination of the letter 'C' and a 6-digit integer uniquely assigned to each operation.<br><br>\n",
    "3. gender: String variable of the customer's gender.<br><br>\n",
    "4. age: Positive Integer variable of the customers age.<br><br>\n",
    "5. category: String variable of the category of the purchased product.<br><br>\n",
    "6. quantity: The quantities of each product (item) per transaction. Numeric.<br><br>\n",
    "7. price: Unit price. Numeric. Product price per unit in Turkish Liras (TL).<br><br>\n",
    "8. payment_method: String variable of the payment method (cash, credit card or debit card) used for the transaction.<br><br>\n",
    "9. invoice_date: Invoice date. The day when a transaction was generated.<br><br>\n",
    "10. shopping_mall: String variable of the name of the shopping mall where the transaction was made.<br><br>"
   ]
  },
  {
   "attachments": {},
   "cell_type": "markdown",
   "metadata": {},
   "source": [
    "### Reading in the data "
   ]
  },
  {
   "cell_type": "code",
   "execution_count": 68,
   "metadata": {},
   "outputs": [],
   "source": [
    "df = pd.read_csv('customer_shopping_data.csv')"
   ]
  },
  {
   "attachments": {},
   "cell_type": "markdown",
   "metadata": {},
   "source": [
    "### Feature Engineering"
   ]
  },
  {
   "attachments": {},
   "cell_type": "markdown",
   "metadata": {},
   "source": [
    "For our purposes, we are not using 'invoice_no', 'customer_id', 'payment_method', 'invoice_date', 'shopping_mall' data attributes, and are therefore dropping \n",
    "it from the dataset. We also want to restrict this demonstration to a couple of the main categories, so we are dropping the other ones, including Toys, Souveniers, Books, Shoes. "
   ]
  },
  {
   "cell_type": "code",
   "execution_count": 69,
   "metadata": {},
   "outputs": [],
   "source": [
    "# grabbing columns that are useful and dropping all else\n",
    "df.drop(['invoice_no', 'customer_id', 'payment_method', 'invoice_date', 'shopping_mall'], axis=1, inplace=True)\n",
    "\n",
    "# dropping rows we dont care about, like toys\n",
    "df.drop(df[df['category'] == 'Toys'].index, inplace = True)\n",
    "df.drop(df[df['category'] == 'Souvenir'].index, inplace = True)\n",
    "df.drop(df[df['category'] == 'Books'].index, inplace = True)\n",
    "df.drop(df[df['category'] == 'Shoes'].index, inplace = True)\n"
   ]
  },
  {
   "attachments": {},
   "cell_type": "markdown",
   "metadata": {},
   "source": [
    "We notice that there is a price column and a quantity column, but that is not as meaningful as a total price column which will be an useful feature in our problem. We are thus calculating the new feature, **total price**, by multiplying the price and quantity columns. Once we add in this new feature, we drop the price and quantity columns as they do not provide us any new information. "
   ]
  },
  {
   "cell_type": "code",
   "execution_count": 70,
   "metadata": {},
   "outputs": [
    {
     "data": {
      "text/html": [
       "<div>\n",
       "<style scoped>\n",
       "    .dataframe tbody tr th:only-of-type {\n",
       "        vertical-align: middle;\n",
       "    }\n",
       "\n",
       "    .dataframe tbody tr th {\n",
       "        vertical-align: top;\n",
       "    }\n",
       "\n",
       "    .dataframe thead th {\n",
       "        text-align: right;\n",
       "    }\n",
       "</style>\n",
       "<table border=\"1\" class=\"dataframe\">\n",
       "  <thead>\n",
       "    <tr style=\"text-align: right;\">\n",
       "      <th></th>\n",
       "      <th>gender</th>\n",
       "      <th>age</th>\n",
       "      <th>category</th>\n",
       "      <th>total_price</th>\n",
       "    </tr>\n",
       "  </thead>\n",
       "  <tbody>\n",
       "    <tr>\n",
       "      <th>0</th>\n",
       "      <td>Female</td>\n",
       "      <td>28</td>\n",
       "      <td>Clothing</td>\n",
       "      <td>7502.00</td>\n",
       "    </tr>\n",
       "    <tr>\n",
       "      <th>2</th>\n",
       "      <td>Male</td>\n",
       "      <td>20</td>\n",
       "      <td>Clothing</td>\n",
       "      <td>300.08</td>\n",
       "    </tr>\n",
       "    <tr>\n",
       "      <th>5</th>\n",
       "      <td>Female</td>\n",
       "      <td>28</td>\n",
       "      <td>Clothing</td>\n",
       "      <td>7502.00</td>\n",
       "    </tr>\n",
       "    <tr>\n",
       "      <th>6</th>\n",
       "      <td>Female</td>\n",
       "      <td>49</td>\n",
       "      <td>Cosmetics</td>\n",
       "      <td>40.66</td>\n",
       "    </tr>\n",
       "    <tr>\n",
       "      <th>7</th>\n",
       "      <td>Female</td>\n",
       "      <td>32</td>\n",
       "      <td>Clothing</td>\n",
       "      <td>1200.32</td>\n",
       "    </tr>\n",
       "  </tbody>\n",
       "</table>\n",
       "</div>"
      ],
      "text/plain": [
       "   gender  age   category  total_price\n",
       "0  Female   28   Clothing      7502.00\n",
       "2    Male   20   Clothing       300.08\n",
       "5  Female   28   Clothing      7502.00\n",
       "6  Female   49  Cosmetics        40.66\n",
       "7  Female   32   Clothing      1200.32"
      ]
     },
     "execution_count": 70,
     "metadata": {},
     "output_type": "execute_result"
    }
   ],
   "source": [
    "# recalculating price column to include totals\n",
    "df['total_price'] = (df['price'] * df['quantity'])\n",
    "df.drop(['quantity', 'price'], axis=1, inplace=True)\n",
    "df.head()"
   ]
  },
  {
   "attachments": {},
   "cell_type": "markdown",
   "metadata": {},
   "source": [
    "### Visualizing the cleaned data "
   ]
  },
  {
   "attachments": {},
   "cell_type": "markdown",
   "metadata": {},
   "source": [
    "One of the first pieces we want to visualize and compare is the total amount of money spent by females vs. men."
   ]
  },
  {
   "attachments": {},
   "cell_type": "markdown",
   "metadata": {},
   "source": [
    "It is evident that the overall total amount of money spent by females is considerably higher. "
   ]
  },
  {
   "attachments": {},
   "cell_type": "markdown",
   "metadata": {},
   "source": [
    "Next, we want to comapare the amount of money spent per category by males vs. females "
   ]
  },
  {
   "cell_type": "code",
   "execution_count": 71,
   "metadata": {},
   "outputs": [
    {
     "name": "stdout",
     "output_type": "stream",
     "text": [
      "   gender         category   total_price\n",
      "0  Female         Clothing   3304.846775\n",
      "1  Female        Cosmetics    448.376245\n",
      "2  Female  Food & Beverage     57.396933\n",
      "3  Female       Technology  11630.308621\n",
      "4    Male         Clothing   3306.475999\n",
      "5    Male        Cosmetics    452.312985\n",
      "6    Male  Food & Beverage     57.637718\n",
      "7    Male       Technology  11509.875931\n",
      "\n",
      "    gender         category        age\n",
      "0  Female         Clothing  43.381948\n",
      "1  Female        Cosmetics  43.571665\n",
      "2  Female  Food & Beverage  43.489209\n",
      "3  Female       Technology  43.249581\n",
      "4    Male         Clothing  43.449946\n",
      "5    Male        Cosmetics  43.594160\n",
      "6    Male  Food & Beverage  43.155727\n",
      "7    Male       Technology  43.544417\n"
     ]
    }
   ],
   "source": [
    "# checking average price spent by gender per category\n",
    "avg_price_spent_per=df.groupby(['gender','category'], as_index=False)['total_price'].mean()\n",
    "avg_age_per=df.groupby(['gender','category'], as_index=False)['age'].mean()\n",
    "print(avg_price_spent_per)\n",
    "print(\"\\n\",avg_age_per)"
   ]
  },
  {
   "attachments": {},
   "cell_type": "markdown",
   "metadata": {},
   "source": [
    "We quickly find that although there is a lot of difference is total amount spent per category, there is very little difference in when comparing males vs. females within each category. For example, for the Technology category, Males spent an average of 11509.88 Lira wheras females spent 11630.31 Lira and in the Clothing category, males spent an average of 3306.48  Lira whereas females spent an average of 3304.85 Lira. "
   ]
  },
  {
   "attachments": {},
   "cell_type": "markdown",
   "metadata": {},
   "source": [
    "### Creating class labels for our dataset "
   ]
  },
  {
   "attachments": {},
   "cell_type": "markdown",
   "metadata": {},
   "source": [
    "After visualizing and understanding our dataset, we will now be creating class labels for our dataset. We want to have 3 labels - Yes, No, and Maybe which represent if we should market to this person based on their shopping habits - i.e amount of money spent in a particular category. \n",
    "\n",
    "Our cutoffs of creating each of these labels will be based on total cost percentiles per category - \n",
    "\n",
    "\n",
    "1. **Yes** - This person's total cost in a certain category is more than the 75 percentile of total money spent in that certain category, therfore, we will defintely want to market to these people. \n",
    "\n",
    "\n",
    "2. **Maybe** - This person's total cost in a certain category is less than the 75 percentile but more than the 25 percentile of total money spent in that certain category, therfore, we will may want to market to these people, but will want to give higher priority to people who have spent more money. \n",
    "\n",
    "\n",
    "3. **No** -  This person's total cost in a certain category is less than the 25 percentile but more than the median of total money spent in that certain category, therfore, we do not want to market to these people and conserve our resources instead. "
   ]
  },
  {
   "cell_type": "code",
   "execution_count": 72,
   "metadata": {},
   "outputs": [
    {
     "data": {
      "text/html": [
       "<div>\n",
       "<style scoped>\n",
       "    .dataframe tbody tr th:only-of-type {\n",
       "        vertical-align: middle;\n",
       "    }\n",
       "\n",
       "    .dataframe tbody tr th {\n",
       "        vertical-align: top;\n",
       "    }\n",
       "\n",
       "    .dataframe thead th {\n",
       "        text-align: right;\n",
       "    }\n",
       "</style>\n",
       "<table border=\"1\" class=\"dataframe\">\n",
       "  <thead>\n",
       "    <tr style=\"text-align: right;\">\n",
       "      <th></th>\n",
       "      <th>gender</th>\n",
       "      <th>category</th>\n",
       "      <th>count</th>\n",
       "      <th>mean</th>\n",
       "      <th>std</th>\n",
       "      <th>min</th>\n",
       "      <th>25%</th>\n",
       "      <th>50%</th>\n",
       "      <th>75%</th>\n",
       "      <th>max</th>\n",
       "    </tr>\n",
       "  </thead>\n",
       "  <tbody>\n",
       "    <tr>\n",
       "      <th>0</th>\n",
       "      <td>Female</td>\n",
       "      <td>Clothing</td>\n",
       "      <td>20652.0</td>\n",
       "      <td>3304.846775</td>\n",
       "      <td>2591.805146</td>\n",
       "      <td>300.08</td>\n",
       "      <td>1200.32</td>\n",
       "      <td>2700.72</td>\n",
       "      <td>4801.28</td>\n",
       "      <td>7502.00</td>\n",
       "    </tr>\n",
       "    <tr>\n",
       "      <th>1</th>\n",
       "      <td>Female</td>\n",
       "      <td>Cosmetics</td>\n",
       "      <td>9070.0</td>\n",
       "      <td>448.376245</td>\n",
       "      <td>351.210785</td>\n",
       "      <td>40.66</td>\n",
       "      <td>162.64</td>\n",
       "      <td>365.94</td>\n",
       "      <td>650.56</td>\n",
       "      <td>1016.50</td>\n",
       "    </tr>\n",
       "    <tr>\n",
       "      <th>2</th>\n",
       "      <td>Female</td>\n",
       "      <td>Food &amp; Beverage</td>\n",
       "      <td>8804.0</td>\n",
       "      <td>57.396933</td>\n",
       "      <td>45.211737</td>\n",
       "      <td>5.23</td>\n",
       "      <td>20.92</td>\n",
       "      <td>47.07</td>\n",
       "      <td>83.68</td>\n",
       "      <td>130.75</td>\n",
       "    </tr>\n",
       "    <tr>\n",
       "      <th>3</th>\n",
       "      <td>Female</td>\n",
       "      <td>Technology</td>\n",
       "      <td>2981.0</td>\n",
       "      <td>11630.308621</td>\n",
       "      <td>9126.822685</td>\n",
       "      <td>1050.00</td>\n",
       "      <td>4200.00</td>\n",
       "      <td>9450.00</td>\n",
       "      <td>16800.00</td>\n",
       "      <td>26250.00</td>\n",
       "    </tr>\n",
       "    <tr>\n",
       "      <th>4</th>\n",
       "      <td>Male</td>\n",
       "      <td>Clothing</td>\n",
       "      <td>13835.0</td>\n",
       "      <td>3306.475999</td>\n",
       "      <td>2605.834237</td>\n",
       "      <td>300.08</td>\n",
       "      <td>1200.32</td>\n",
       "      <td>2700.72</td>\n",
       "      <td>4801.28</td>\n",
       "      <td>7502.00</td>\n",
       "    </tr>\n",
       "    <tr>\n",
       "      <th>5</th>\n",
       "      <td>Male</td>\n",
       "      <td>Cosmetics</td>\n",
       "      <td>6027.0</td>\n",
       "      <td>452.312985</td>\n",
       "      <td>352.884728</td>\n",
       "      <td>40.66</td>\n",
       "      <td>162.64</td>\n",
       "      <td>365.94</td>\n",
       "      <td>650.56</td>\n",
       "      <td>1016.50</td>\n",
       "    </tr>\n",
       "    <tr>\n",
       "      <th>6</th>\n",
       "      <td>Male</td>\n",
       "      <td>Food &amp; Beverage</td>\n",
       "      <td>5972.0</td>\n",
       "      <td>57.637718</td>\n",
       "      <td>45.644014</td>\n",
       "      <td>5.23</td>\n",
       "      <td>20.92</td>\n",
       "      <td>47.07</td>\n",
       "      <td>83.68</td>\n",
       "      <td>130.75</td>\n",
       "    </tr>\n",
       "    <tr>\n",
       "      <th>7</th>\n",
       "      <td>Male</td>\n",
       "      <td>Technology</td>\n",
       "      <td>2015.0</td>\n",
       "      <td>11509.875931</td>\n",
       "      <td>8988.335801</td>\n",
       "      <td>1050.00</td>\n",
       "      <td>4200.00</td>\n",
       "      <td>9450.00</td>\n",
       "      <td>16800.00</td>\n",
       "      <td>26250.00</td>\n",
       "    </tr>\n",
       "  </tbody>\n",
       "</table>\n",
       "</div>"
      ],
      "text/plain": [
       "   gender         category    count          mean          std      min   \n",
       "0  Female         Clothing  20652.0   3304.846775  2591.805146   300.08  \\\n",
       "1  Female        Cosmetics   9070.0    448.376245   351.210785    40.66   \n",
       "2  Female  Food & Beverage   8804.0     57.396933    45.211737     5.23   \n",
       "3  Female       Technology   2981.0  11630.308621  9126.822685  1050.00   \n",
       "4    Male         Clothing  13835.0   3306.475999  2605.834237   300.08   \n",
       "5    Male        Cosmetics   6027.0    452.312985   352.884728    40.66   \n",
       "6    Male  Food & Beverage   5972.0     57.637718    45.644014     5.23   \n",
       "7    Male       Technology   2015.0  11509.875931  8988.335801  1050.00   \n",
       "\n",
       "       25%      50%       75%       max  \n",
       "0  1200.32  2700.72   4801.28   7502.00  \n",
       "1   162.64   365.94    650.56   1016.50  \n",
       "2    20.92    47.07     83.68    130.75  \n",
       "3  4200.00  9450.00  16800.00  26250.00  \n",
       "4  1200.32  2700.72   4801.28   7502.00  \n",
       "5   162.64   365.94    650.56   1016.50  \n",
       "6    20.92    47.07     83.68    130.75  \n",
       "7  4200.00  9450.00  16800.00  26250.00  "
      ]
     },
     "execution_count": 72,
     "metadata": {},
     "output_type": "execute_result"
    }
   ],
   "source": [
    "df.groupby(['gender','category'], as_index=False)['total_price'].describe()"
   ]
  },
  {
   "cell_type": "code",
   "execution_count": 73,
   "metadata": {},
   "outputs": [
    {
     "data": {
      "text/html": [
       "<div>\n",
       "<style scoped>\n",
       "    .dataframe tbody tr th:only-of-type {\n",
       "        vertical-align: middle;\n",
       "    }\n",
       "\n",
       "    .dataframe tbody tr th {\n",
       "        vertical-align: top;\n",
       "    }\n",
       "\n",
       "    .dataframe thead th {\n",
       "        text-align: right;\n",
       "    }\n",
       "</style>\n",
       "<table border=\"1\" class=\"dataframe\">\n",
       "  <thead>\n",
       "    <tr style=\"text-align: right;\">\n",
       "      <th></th>\n",
       "      <th>gender</th>\n",
       "      <th>category</th>\n",
       "      <th>count</th>\n",
       "      <th>mean</th>\n",
       "      <th>std</th>\n",
       "      <th>min</th>\n",
       "      <th>25%</th>\n",
       "      <th>50%</th>\n",
       "      <th>75%</th>\n",
       "      <th>max</th>\n",
       "    </tr>\n",
       "  </thead>\n",
       "  <tbody>\n",
       "    <tr>\n",
       "      <th>0</th>\n",
       "      <td>Female</td>\n",
       "      <td>Clothing</td>\n",
       "      <td>20652.0</td>\n",
       "      <td>43.381948</td>\n",
       "      <td>14.979862</td>\n",
       "      <td>18.0</td>\n",
       "      <td>30.0</td>\n",
       "      <td>43.0</td>\n",
       "      <td>56.0</td>\n",
       "      <td>69.0</td>\n",
       "    </tr>\n",
       "    <tr>\n",
       "      <th>1</th>\n",
       "      <td>Female</td>\n",
       "      <td>Cosmetics</td>\n",
       "      <td>9070.0</td>\n",
       "      <td>43.571665</td>\n",
       "      <td>14.966309</td>\n",
       "      <td>18.0</td>\n",
       "      <td>31.0</td>\n",
       "      <td>44.0</td>\n",
       "      <td>56.0</td>\n",
       "      <td>69.0</td>\n",
       "    </tr>\n",
       "    <tr>\n",
       "      <th>2</th>\n",
       "      <td>Female</td>\n",
       "      <td>Food &amp; Beverage</td>\n",
       "      <td>8804.0</td>\n",
       "      <td>43.489209</td>\n",
       "      <td>14.970409</td>\n",
       "      <td>18.0</td>\n",
       "      <td>31.0</td>\n",
       "      <td>43.0</td>\n",
       "      <td>56.0</td>\n",
       "      <td>69.0</td>\n",
       "    </tr>\n",
       "    <tr>\n",
       "      <th>3</th>\n",
       "      <td>Female</td>\n",
       "      <td>Technology</td>\n",
       "      <td>2981.0</td>\n",
       "      <td>43.249581</td>\n",
       "      <td>14.825544</td>\n",
       "      <td>18.0</td>\n",
       "      <td>30.0</td>\n",
       "      <td>43.0</td>\n",
       "      <td>56.0</td>\n",
       "      <td>69.0</td>\n",
       "    </tr>\n",
       "    <tr>\n",
       "      <th>4</th>\n",
       "      <td>Male</td>\n",
       "      <td>Clothing</td>\n",
       "      <td>13835.0</td>\n",
       "      <td>43.449946</td>\n",
       "      <td>15.025515</td>\n",
       "      <td>18.0</td>\n",
       "      <td>30.0</td>\n",
       "      <td>43.0</td>\n",
       "      <td>56.0</td>\n",
       "      <td>69.0</td>\n",
       "    </tr>\n",
       "    <tr>\n",
       "      <th>5</th>\n",
       "      <td>Male</td>\n",
       "      <td>Cosmetics</td>\n",
       "      <td>6027.0</td>\n",
       "      <td>43.594160</td>\n",
       "      <td>14.892899</td>\n",
       "      <td>18.0</td>\n",
       "      <td>31.0</td>\n",
       "      <td>44.0</td>\n",
       "      <td>57.0</td>\n",
       "      <td>69.0</td>\n",
       "    </tr>\n",
       "    <tr>\n",
       "      <th>6</th>\n",
       "      <td>Male</td>\n",
       "      <td>Food &amp; Beverage</td>\n",
       "      <td>5972.0</td>\n",
       "      <td>43.155727</td>\n",
       "      <td>14.996070</td>\n",
       "      <td>18.0</td>\n",
       "      <td>30.0</td>\n",
       "      <td>43.0</td>\n",
       "      <td>56.0</td>\n",
       "      <td>69.0</td>\n",
       "    </tr>\n",
       "    <tr>\n",
       "      <th>7</th>\n",
       "      <td>Male</td>\n",
       "      <td>Technology</td>\n",
       "      <td>2015.0</td>\n",
       "      <td>43.544417</td>\n",
       "      <td>14.851730</td>\n",
       "      <td>18.0</td>\n",
       "      <td>31.0</td>\n",
       "      <td>43.0</td>\n",
       "      <td>56.0</td>\n",
       "      <td>69.0</td>\n",
       "    </tr>\n",
       "  </tbody>\n",
       "</table>\n",
       "</div>"
      ],
      "text/plain": [
       "   gender         category    count       mean        std   min   25%   50%   \n",
       "0  Female         Clothing  20652.0  43.381948  14.979862  18.0  30.0  43.0  \\\n",
       "1  Female        Cosmetics   9070.0  43.571665  14.966309  18.0  31.0  44.0   \n",
       "2  Female  Food & Beverage   8804.0  43.489209  14.970409  18.0  31.0  43.0   \n",
       "3  Female       Technology   2981.0  43.249581  14.825544  18.0  30.0  43.0   \n",
       "4    Male         Clothing  13835.0  43.449946  15.025515  18.0  30.0  43.0   \n",
       "5    Male        Cosmetics   6027.0  43.594160  14.892899  18.0  31.0  44.0   \n",
       "6    Male  Food & Beverage   5972.0  43.155727  14.996070  18.0  30.0  43.0   \n",
       "7    Male       Technology   2015.0  43.544417  14.851730  18.0  31.0  43.0   \n",
       "\n",
       "    75%   max  \n",
       "0  56.0  69.0  \n",
       "1  56.0  69.0  \n",
       "2  56.0  69.0  \n",
       "3  56.0  69.0  \n",
       "4  56.0  69.0  \n",
       "5  57.0  69.0  \n",
       "6  56.0  69.0  \n",
       "7  56.0  69.0  "
      ]
     },
     "execution_count": 73,
     "metadata": {},
     "output_type": "execute_result"
    }
   ],
   "source": [
    "df.groupby(['gender','category'], as_index=False)['age'].describe()"
   ]
  },
  {
   "cell_type": "code",
   "execution_count": 74,
   "metadata": {},
   "outputs": [
    {
     "data": {
      "text/html": [
       "<div>\n",
       "<style scoped>\n",
       "    .dataframe tbody tr th:only-of-type {\n",
       "        vertical-align: middle;\n",
       "    }\n",
       "\n",
       "    .dataframe tbody tr th {\n",
       "        vertical-align: top;\n",
       "    }\n",
       "\n",
       "    .dataframe thead th {\n",
       "        text-align: right;\n",
       "    }\n",
       "</style>\n",
       "<table border=\"1\" class=\"dataframe\">\n",
       "  <thead>\n",
       "    <tr style=\"text-align: right;\">\n",
       "      <th></th>\n",
       "      <th>gender</th>\n",
       "      <th>age</th>\n",
       "      <th>category</th>\n",
       "      <th>total_price</th>\n",
       "    </tr>\n",
       "  </thead>\n",
       "  <tbody>\n",
       "    <tr>\n",
       "      <th>0</th>\n",
       "      <td>Female</td>\n",
       "      <td>28</td>\n",
       "      <td>Clothing</td>\n",
       "      <td>7502.00</td>\n",
       "    </tr>\n",
       "    <tr>\n",
       "      <th>2</th>\n",
       "      <td>Male</td>\n",
       "      <td>20</td>\n",
       "      <td>Clothing</td>\n",
       "      <td>300.08</td>\n",
       "    </tr>\n",
       "    <tr>\n",
       "      <th>5</th>\n",
       "      <td>Female</td>\n",
       "      <td>28</td>\n",
       "      <td>Clothing</td>\n",
       "      <td>7502.00</td>\n",
       "    </tr>\n",
       "    <tr>\n",
       "      <th>6</th>\n",
       "      <td>Female</td>\n",
       "      <td>49</td>\n",
       "      <td>Cosmetics</td>\n",
       "      <td>40.66</td>\n",
       "    </tr>\n",
       "    <tr>\n",
       "      <th>7</th>\n",
       "      <td>Female</td>\n",
       "      <td>32</td>\n",
       "      <td>Clothing</td>\n",
       "      <td>1200.32</td>\n",
       "    </tr>\n",
       "  </tbody>\n",
       "</table>\n",
       "</div>"
      ],
      "text/plain": [
       "   gender  age   category  total_price\n",
       "0  Female   28   Clothing      7502.00\n",
       "2    Male   20   Clothing       300.08\n",
       "5  Female   28   Clothing      7502.00\n",
       "6  Female   49  Cosmetics        40.66\n",
       "7  Female   32   Clothing      1200.32"
      ]
     },
     "execution_count": 74,
     "metadata": {},
     "output_type": "execute_result"
    }
   ],
   "source": [
    "df.head()"
   ]
  },
  {
   "attachments": {},
   "cell_type": "markdown",
   "metadata": {},
   "source": [
    "### Starting the Machine Learning Process "
   ]
  },
  {
   "attachments": {},
   "cell_type": "markdown",
   "metadata": {},
   "source": [
    "We are creating one hot encoded labels for each gender and category features as we are doing multilclass classification. "
   ]
  },
  {
   "cell_type": "code",
   "execution_count": 75,
   "metadata": {},
   "outputs": [
    {
     "data": {
      "text/html": [
       "<div>\n",
       "<style scoped>\n",
       "    .dataframe tbody tr th:only-of-type {\n",
       "        vertical-align: middle;\n",
       "    }\n",
       "\n",
       "    .dataframe tbody tr th {\n",
       "        vertical-align: top;\n",
       "    }\n",
       "\n",
       "    .dataframe thead th {\n",
       "        text-align: right;\n",
       "    }\n",
       "</style>\n",
       "<table border=\"1\" class=\"dataframe\">\n",
       "  <thead>\n",
       "    <tr style=\"text-align: right;\">\n",
       "      <th></th>\n",
       "      <th>age</th>\n",
       "      <th>total_price</th>\n",
       "      <th>gender_Female</th>\n",
       "      <th>gender_Male</th>\n",
       "    </tr>\n",
       "  </thead>\n",
       "  <tbody>\n",
       "    <tr>\n",
       "      <th>0</th>\n",
       "      <td>28</td>\n",
       "      <td>7502.00</td>\n",
       "      <td>True</td>\n",
       "      <td>False</td>\n",
       "    </tr>\n",
       "    <tr>\n",
       "      <th>2</th>\n",
       "      <td>20</td>\n",
       "      <td>300.08</td>\n",
       "      <td>False</td>\n",
       "      <td>True</td>\n",
       "    </tr>\n",
       "    <tr>\n",
       "      <th>5</th>\n",
       "      <td>28</td>\n",
       "      <td>7502.00</td>\n",
       "      <td>True</td>\n",
       "      <td>False</td>\n",
       "    </tr>\n",
       "    <tr>\n",
       "      <th>6</th>\n",
       "      <td>49</td>\n",
       "      <td>40.66</td>\n",
       "      <td>True</td>\n",
       "      <td>False</td>\n",
       "    </tr>\n",
       "    <tr>\n",
       "      <th>7</th>\n",
       "      <td>32</td>\n",
       "      <td>1200.32</td>\n",
       "      <td>True</td>\n",
       "      <td>False</td>\n",
       "    </tr>\n",
       "  </tbody>\n",
       "</table>\n",
       "</div>"
      ],
      "text/plain": [
       "   age  total_price  gender_Female  gender_Male\n",
       "0   28      7502.00           True        False\n",
       "2   20       300.08          False         True\n",
       "5   28      7502.00           True        False\n",
       "6   49        40.66           True        False\n",
       "7   32      1200.32           True        False"
      ]
     },
     "execution_count": 75,
     "metadata": {},
     "output_type": "execute_result"
    }
   ],
   "source": [
    "df_dummy = pd.get_dummies(df[['gender', 'age', 'total_price']])\n",
    "df_dummy.head()\n"
   ]
  },
  {
   "cell_type": "code",
   "execution_count": 76,
   "metadata": {},
   "outputs": [],
   "source": [
    "# Normalizing the ages\n",
    "min_age = df_dummy['age'].min()\n",
    "max_age = df_dummy['age'].max()\n",
    "\n",
    "# Apply min-max normalization to the 'age' column\n",
    "df_dummy['normalized_age'] = (df_dummy['age'] - min_age) / (max_age - min_age)"
   ]
  },
  {
   "cell_type": "code",
   "execution_count": 77,
   "metadata": {},
   "outputs": [
    {
     "data": {
      "text/html": [
       "<div>\n",
       "<style scoped>\n",
       "    .dataframe tbody tr th:only-of-type {\n",
       "        vertical-align: middle;\n",
       "    }\n",
       "\n",
       "    .dataframe tbody tr th {\n",
       "        vertical-align: top;\n",
       "    }\n",
       "\n",
       "    .dataframe thead th {\n",
       "        text-align: right;\n",
       "    }\n",
       "</style>\n",
       "<table border=\"1\" class=\"dataframe\">\n",
       "  <thead>\n",
       "    <tr style=\"text-align: right;\">\n",
       "      <th></th>\n",
       "      <th>age</th>\n",
       "      <th>gender_Female</th>\n",
       "      <th>gender_Male</th>\n",
       "      <th>normalized_age</th>\n",
       "      <th>normalized_price</th>\n",
       "    </tr>\n",
       "  </thead>\n",
       "  <tbody>\n",
       "    <tr>\n",
       "      <th>0</th>\n",
       "      <td>28</td>\n",
       "      <td>True</td>\n",
       "      <td>False</td>\n",
       "      <td>0.196078</td>\n",
       "      <td>0.285648</td>\n",
       "    </tr>\n",
       "    <tr>\n",
       "      <th>2</th>\n",
       "      <td>20</td>\n",
       "      <td>False</td>\n",
       "      <td>True</td>\n",
       "      <td>0.039216</td>\n",
       "      <td>0.011235</td>\n",
       "    </tr>\n",
       "    <tr>\n",
       "      <th>5</th>\n",
       "      <td>28</td>\n",
       "      <td>True</td>\n",
       "      <td>False</td>\n",
       "      <td>0.196078</td>\n",
       "      <td>0.285648</td>\n",
       "    </tr>\n",
       "    <tr>\n",
       "      <th>6</th>\n",
       "      <td>49</td>\n",
       "      <td>True</td>\n",
       "      <td>False</td>\n",
       "      <td>0.607843</td>\n",
       "      <td>0.001350</td>\n",
       "    </tr>\n",
       "    <tr>\n",
       "      <th>7</th>\n",
       "      <td>32</td>\n",
       "      <td>True</td>\n",
       "      <td>False</td>\n",
       "      <td>0.274510</td>\n",
       "      <td>0.045536</td>\n",
       "    </tr>\n",
       "  </tbody>\n",
       "</table>\n",
       "</div>"
      ],
      "text/plain": [
       "   age  gender_Female  gender_Male  normalized_age  normalized_price\n",
       "0   28           True        False        0.196078          0.285648\n",
       "2   20          False         True        0.039216          0.011235\n",
       "5   28           True        False        0.196078          0.285648\n",
       "6   49           True        False        0.607843          0.001350\n",
       "7   32           True        False        0.274510          0.045536"
      ]
     },
     "execution_count": 77,
     "metadata": {},
     "output_type": "execute_result"
    }
   ],
   "source": [
    "# Normalize the prices\n",
    "min_price = df_dummy['total_price'].min()\n",
    "max_price = df_dummy['total_price'].max()\n",
    "\n",
    "# Apply min-max normalization to the 'price' column\n",
    "df_dummy['normalized_price'] = (df_dummy['total_price'] - min_price) / (max_price - min_price)\n",
    "df_dummy.drop(['total_price'], axis=1, inplace=True)\n",
    "df_dummy.head()\n"
   ]
  },
  {
   "cell_type": "code",
   "execution_count": 78,
   "metadata": {},
   "outputs": [
    {
     "name": "stdout",
     "output_type": "stream",
     "text": [
      "(69356, 5) (69356,)\n"
     ]
    }
   ],
   "source": [
    "X = df_dummy\n",
    "y = df.category\n",
    "\n",
    "print(X.shape, y.shape)\n",
    "X_train, X_test, y_train, y_test = train_test_split(\n",
    "    X, y, test_size=0.25, random_state=125\n",
    ")"
   ]
  },
  {
   "attachments": {},
   "cell_type": "markdown",
   "metadata": {},
   "source": [
    "### Gaussian Naive Bayes "
   ]
  },
  {
   "cell_type": "code",
   "execution_count": 79,
   "metadata": {},
   "outputs": [
    {
     "name": "stdout",
     "output_type": "stream",
     "text": [
      "Accuracy: 0.8109464213622469\n",
      "F1 Score: 0.8126182098631298\n"
     ]
    },
    {
     "data": {
      "image/png": "[encoded data removed]",
      "text/plain": [
       "<Figure size 640x480 with 2 Axes>"
      ]
     },
     "metadata": {},
     "output_type": "display_data"
    }
   ],
   "source": [
    "# Build a Gaussian Classifier\n",
    "model = GaussianNB()\n",
    "\n",
    "# Model training\n",
    "model.fit(X_train, y_train)\n",
    "\n",
    "y_pred = model.predict(X_test)\n",
    "accuracy = accuracy_score(y_pred, y_test)\n",
    "f1 = f1_score(y_pred, y_test, average=\"weighted\")\n",
    "\n",
    "print(\"Accuracy:\", accuracy)\n",
    "print(\"F1 Score:\", f1)\n",
    "\n",
    "\n",
    "cm = confusion_matrix(y_test, y_pred, labels=[\"Clothing\", \"Cosmetics\", \"Food & Beverage\", \"Technology\"])\n",
    "disp = ConfusionMatrixDisplay(confusion_matrix=cm, display_labels=[\"Clothing\", \"Cosmetics\", \"Food & Beverage\", \"Technology\"])\n",
    "disp.plot();\n",
    "\n",
    "# interpret results in writeup using https://www.v7labs.com/blog/confusion-matrix-guide"
   ]
  },
  {
   "cell_type": "code",
   "execution_count": 80,
   "metadata": {},
   "outputs": [],
   "source": [
    "from collections import Counter\n",
    "from numpy import *\n",
    "import matplotlib.pyplot as plt"
   ]
  },
  {
   "cell_type": "code",
   "execution_count": 81,
   "metadata": {},
   "outputs": [
    {
     "name": "stdout",
     "output_type": "stream",
     "text": [
      "Counter({'Clothing': 34487, 'Cosmetics': 15097, 'Food & Beverage': 14776, 'Technology': 4996})\n"
     ]
    }
   ],
   "source": [
    "counter = Counter(y)\n",
    "print(counter)"
   ]
  },
  {
   "attachments": {},
   "cell_type": "markdown",
   "metadata": {},
   "source": [
    "### Random Forest Classifier"
   ]
  },
  {
   "cell_type": "code",
   "execution_count": 82,
   "metadata": {},
   "outputs": [
    {
     "name": "stdout",
     "output_type": "stream",
     "text": [
      "0.9997837370242214\n",
      "The F-scores for each class using Random Forest =\n",
      "[0.99978406 1.         1.         0.99848255]\n",
      "Feature ranking:\n",
      "1. Feature normalized_price (0.9975252441774027)\n",
      "2. Feature normalized_age (0.0011462350894325022)\n",
      "3. Feature age (0.0010870343418108433)\n",
      "4. Feature gender_Male (0.000123149997106206)\n",
      "5. Feature gender_Female (0.000118336394247726)\n"
     ]
    }
   ],
   "source": [
    "from sklearn.ensemble import RandomForestClassifier\n",
    "from sklearn.model_selection import train_test_split\n",
    "\n",
    "X = df_dummy\n",
    "y = df.category\n",
    "\n",
    "X_train, X_test, y_train, y_test = train_test_split(X, y, test_size=0.2, random_state=42)\n",
    "\n",
    "# Create a Random Forest classifier\n",
    "rf_classifier = RandomForestClassifier()\n",
    "\n",
    "rf_classifier.fit(X_train, y_train)\n",
    "Y_pred = rf_classifier.predict(X_test)\n",
    "acc2 = accuracy_score(y_test, Y_pred)\n",
    "print(acc2)\n",
    "\n",
    "\n",
    "fscore = f1_score(y_test, Y_pred, average=None)\n",
    "print(\"The F-scores for each class using Random Forest =\")\n",
    "print(fscore) \n",
    "\n",
    "\n",
    "# Get feature importances\n",
    "importances = rf_classifier.feature_importances_\n",
    "\n",
    "# Sort feature importances in descending order\n",
    "indices = importances.argsort()[::-1]\n",
    "print(\"Feature ranking:\")\n",
    "for f in range(X.shape[1]):\n",
    "    print(f\"{f + 1}. Feature {X.columns[indices[f]]} ({importances[indices[f]]})\")"
   ]
  },
  {
   "attachments": {},
   "cell_type": "markdown",
   "metadata": {},
   "source": [
    "### Stratified K-fold cross validation for Random Forest"
   ]
  },
  {
   "cell_type": "code",
   "execution_count": 85,
   "metadata": {},
   "outputs": [
    {
     "ename": "ValueError",
     "evalue": "Found input variables with inconsistent numbers of samples: [137948, 69356]",
     "output_type": "error",
     "traceback": [
      "\u001b[0;31m---------------------------------------------------------------------------\u001b[0m",
      "\u001b[0;31mValueError\u001b[0m                                Traceback (most recent call last)",
      "Cell \u001b[0;32mIn[85], line 6\u001b[0m\n\u001b[1;32m      2\u001b[0m accscore \u001b[39m=\u001b[39m []\n\u001b[1;32m      3\u001b[0m classifier2 \u001b[39m=\u001b[39m RandomForestClassifier(n_estimators \u001b[39m=\u001b[39m \u001b[39m10\u001b[39m, criterion \u001b[39m=\u001b[39m \u001b[39m'\u001b[39m\u001b[39mentropy\u001b[39m\u001b[39m'\u001b[39m, random_state \u001b[39m=\u001b[39m \u001b[39m40\u001b[39m)\n\u001b[0;32m----> 6\u001b[0m \u001b[39mfor\u001b[39;00m train_index , test_index \u001b[39min\u001b[39;00m kf\u001b[39m.\u001b[39msplit(X, y):\n\u001b[1;32m      7\u001b[0m     X_train , X_test \u001b[39m=\u001b[39m X\u001b[39m.\u001b[39miloc[train_index],X\u001b[39m.\u001b[39miloc[test_index]\n\u001b[1;32m      8\u001b[0m     y_train , y_test \u001b[39m=\u001b[39m y\u001b[39m.\u001b[39miloc[train_index] , y\u001b[39m.\u001b[39miloc[test_index]\n",
      "File \u001b[0;32m~/Library/Python/3.9/lib/python/site-packages/sklearn/model_selection/_split.py:342\u001b[0m, in \u001b[0;36m_BaseKFold.split\u001b[0;34m(self, X, y, groups)\u001b[0m\n\u001b[1;32m    318\u001b[0m \u001b[39mdef\u001b[39;00m \u001b[39msplit\u001b[39m(\u001b[39mself\u001b[39m, X, y\u001b[39m=\u001b[39m\u001b[39mNone\u001b[39;00m, groups\u001b[39m=\u001b[39m\u001b[39mNone\u001b[39;00m):\n\u001b[1;32m    319\u001b[0m \u001b[39m    \u001b[39m\u001b[39m\"\"\"Generate indices to split data into training and test set.\u001b[39;00m\n\u001b[1;32m    320\u001b[0m \n\u001b[1;32m    321\u001b[0m \u001b[39m    Parameters\u001b[39;00m\n\u001b[0;32m   (...)\u001b[0m\n\u001b[1;32m    340\u001b[0m \u001b[39m        The testing set indices for that split.\u001b[39;00m\n\u001b[1;32m    341\u001b[0m \u001b[39m    \"\"\"\u001b[39;00m\n\u001b[0;32m--> 342\u001b[0m     X, y, groups \u001b[39m=\u001b[39m indexable(X, y, groups)\n\u001b[1;32m    343\u001b[0m     n_samples \u001b[39m=\u001b[39m _num_samples(X)\n\u001b[1;32m    344\u001b[0m     \u001b[39mif\u001b[39;00m \u001b[39mself\u001b[39m\u001b[39m.\u001b[39mn_splits \u001b[39m>\u001b[39m n_samples:\n",
      "File \u001b[0;32m~/Library/Python/3.9/lib/python/site-packages/sklearn/utils/validation.py:443\u001b[0m, in \u001b[0;36mindexable\u001b[0;34m(*iterables)\u001b[0m\n\u001b[1;32m    424\u001b[0m \u001b[39m\u001b[39m\u001b[39m\"\"\"Make arrays indexable for cross-validation.\u001b[39;00m\n\u001b[1;32m    425\u001b[0m \n\u001b[1;32m    426\u001b[0m \u001b[39mChecks consistent length, passes through None, and ensures that everything\u001b[39;00m\n\u001b[0;32m   (...)\u001b[0m\n\u001b[1;32m    439\u001b[0m \u001b[39m    sparse matrix, or dataframe) or `None`.\u001b[39;00m\n\u001b[1;32m    440\u001b[0m \u001b[39m\"\"\"\u001b[39;00m\n\u001b[1;32m    442\u001b[0m result \u001b[39m=\u001b[39m [_make_indexable(X) \u001b[39mfor\u001b[39;00m X \u001b[39min\u001b[39;00m iterables]\n\u001b[0;32m--> 443\u001b[0m check_consistent_length(\u001b[39m*\u001b[39;49mresult)\n\u001b[1;32m    444\u001b[0m \u001b[39mreturn\u001b[39;00m result\n",
      "File \u001b[0;32m~/Library/Python/3.9/lib/python/site-packages/sklearn/utils/validation.py:397\u001b[0m, in \u001b[0;36mcheck_consistent_length\u001b[0;34m(*arrays)\u001b[0m\n\u001b[1;32m    395\u001b[0m uniques \u001b[39m=\u001b[39m np\u001b[39m.\u001b[39munique(lengths)\n\u001b[1;32m    396\u001b[0m \u001b[39mif\u001b[39;00m \u001b[39mlen\u001b[39m(uniques) \u001b[39m>\u001b[39m \u001b[39m1\u001b[39m:\n\u001b[0;32m--> 397\u001b[0m     \u001b[39mraise\u001b[39;00m \u001b[39mValueError\u001b[39;00m(\n\u001b[1;32m    398\u001b[0m         \u001b[39m\"\u001b[39m\u001b[39mFound input variables with inconsistent numbers of samples: \u001b[39m\u001b[39m%r\u001b[39;00m\u001b[39m\"\u001b[39m\n\u001b[1;32m    399\u001b[0m         \u001b[39m%\u001b[39m [\u001b[39mint\u001b[39m(l) \u001b[39mfor\u001b[39;00m l \u001b[39min\u001b[39;00m lengths]\n\u001b[1;32m    400\u001b[0m     )\n",
      "\u001b[0;31mValueError\u001b[0m: Found input variables with inconsistent numbers of samples: [137948, 69356]"
     ]
    }
   ],
   "source": [
    "kf = StratifiedKFold(n_splits=10, random_state=40, shuffle=True) \n",
    "accscore = []\n",
    "classifier2 = RandomForestClassifier(n_estimators = 10, criterion = 'entropy', random_state = 40)\n",
    "\n",
    "\n",
    "for train_index , test_index in kf.split(X, y):\n",
    "    X_train , X_test = X.iloc[train_index],X.iloc[test_index]\n",
    "    y_train , y_test = y.iloc[train_index] , y.iloc[test_index]\n",
    "     \n",
    "    classifier2.fit(X_train, y_train.values.ravel())\n",
    "    Y_pred = classifier2.predict(X_test)\n",
    "\n",
    "     \n",
    "    acc2 = accuracy_score(y_test, Y_pred)\n",
    "    accscore.append(acc2)\n",
    "     \n",
    "avgscore = sum(accscore)/10\n",
    " \n",
    "print(\"Accuracy from each fold using Random Forest = \" + str(accscore))\n",
    "print(\"Average accuracy using Random Forest = \" + str(avgscore))\n",
    "print()\n"
   ]
  },
  {
   "attachments": {},
   "cell_type": "markdown",
   "metadata": {},
   "source": [
    "Looks like Age and Gender don't do much for our model, lets retry without these features! (Still oversampling our original dataset)"
   ]
  },
  {
   "cell_type": "code",
   "execution_count": 84,
   "metadata": {},
   "outputs": [
    {
     "ename": "AttributeError",
     "evalue": "'DataFrame' object has no attribute 'Should_We_Market'",
     "output_type": "error",
     "traceback": [
      "\u001b[0;31m---------------------------------------------------------------------------\u001b[0m",
      "\u001b[0;31mAttributeError\u001b[0m                            Traceback (most recent call last)",
      "\u001b[0;32m/var/folders/yd/htnpjmxn2pv_rt2kmmzvm_g40000gp/T/ipykernel_19329/3998590116.py\u001b[0m in \u001b[0;36m?\u001b[0;34m()\u001b[0m\n\u001b[0;32m----> 5\u001b[0;31m \u001b[0mover_df_dummy\u001b[0m \u001b[0;34m=\u001b[0m \u001b[0mpd\u001b[0m\u001b[0;34m.\u001b[0m\u001b[0mget_dummies\u001b[0m\u001b[0;34m(\u001b[0m\u001b[0moversampled_df\u001b[0m\u001b[0;34m[\u001b[0m\u001b[0;34m[\u001b[0m\u001b[0;34m'total_price'\u001b[0m\u001b[0;34m,\u001b[0m \u001b[0;34m'category'\u001b[0m\u001b[0;34m]\u001b[0m\u001b[0;34m]\u001b[0m\u001b[0;34m)\u001b[0m\u001b[0;34m\u001b[0m\u001b[0;34m\u001b[0m\u001b[0m\n\u001b[0m\u001b[1;32m      6\u001b[0m \u001b[0;34m\u001b[0m\u001b[0m\n\u001b[1;32m      7\u001b[0m \u001b[0mX\u001b[0m \u001b[0;34m=\u001b[0m \u001b[0mover_df_dummy\u001b[0m\u001b[0;34m\u001b[0m\u001b[0;34m\u001b[0m\u001b[0m\n\u001b[1;32m      8\u001b[0m \u001b[0;31m#y = mlb.fit_transform(df.Should_We_Market)\u001b[0m\u001b[0;34m\u001b[0m\u001b[0;34m\u001b[0m\u001b[0;34m\u001b[0m\u001b[0m\n",
      "\u001b[0;32m~/Library/Python/3.9/lib/python/site-packages/pandas/core/generic.py\u001b[0m in \u001b[0;36m?\u001b[0;34m(self, name)\u001b[0m\n\u001b[1;32m   5985\u001b[0m             \u001b[0;32mand\u001b[0m \u001b[0mname\u001b[0m \u001b[0;32mnot\u001b[0m \u001b[0;32min\u001b[0m \u001b[0mself\u001b[0m\u001b[0;34m.\u001b[0m\u001b[0m_accessors\u001b[0m\u001b[0;34m\u001b[0m\u001b[0;34m\u001b[0m\u001b[0m\n\u001b[1;32m   5986\u001b[0m             \u001b[0;32mand\u001b[0m \u001b[0mself\u001b[0m\u001b[0;34m.\u001b[0m\u001b[0m_info_axis\u001b[0m\u001b[0;34m.\u001b[0m\u001b[0m_can_hold_identifiers_and_holds_name\u001b[0m\u001b[0;34m(\u001b[0m\u001b[0mname\u001b[0m\u001b[0;34m)\u001b[0m\u001b[0;34m\u001b[0m\u001b[0;34m\u001b[0m\u001b[0m\n\u001b[1;32m   5987\u001b[0m         ):\n\u001b[1;32m   5988\u001b[0m             \u001b[0;32mreturn\u001b[0m \u001b[0mself\u001b[0m\u001b[0;34m[\u001b[0m\u001b[0mname\u001b[0m\u001b[0;34m]\u001b[0m\u001b[0;34m\u001b[0m\u001b[0;34m\u001b[0m\u001b[0m\n\u001b[0;32m-> 5989\u001b[0;31m         \u001b[0;32mreturn\u001b[0m \u001b[0mobject\u001b[0m\u001b[0;34m.\u001b[0m\u001b[0m__getattribute__\u001b[0m\u001b[0;34m(\u001b[0m\u001b[0mself\u001b[0m\u001b[0;34m,\u001b[0m \u001b[0mname\u001b[0m\u001b[0;34m)\u001b[0m\u001b[0;34m\u001b[0m\u001b[0;34m\u001b[0m\u001b[0m\n\u001b[0m",
      "\u001b[0;31mAttributeError\u001b[0m: 'DataFrame' object has no attribute 'Should_We_Market'"
     ]
    }
   ],
   "source": [
    "over_df_dummy = pd.get_dummies(oversampled_df[['total_price', 'category']])\n",
    "\n",
    "X = over_df_dummy\n",
    "#y = mlb.fit_transform(df.Should_We_Market)\n",
    "y = oversampled_df.Should_We_Market\n",
    "\n",
    "print(X.shape, y.shape)\n",
    "X_train, X_test, y_train, y_test = train_test_split(\n",
    "    X, y, test_size=0.25, random_state=125\n",
    ")"
   ]
  },
  {
   "attachments": {},
   "cell_type": "markdown",
   "metadata": {},
   "source": [
    "### Gaussian Naive Bayes without unimportant features "
   ]
  },
  {
   "cell_type": "code",
   "execution_count": null,
   "metadata": {},
   "outputs": [
    {
     "name": "stdout",
     "output_type": "stream",
     "text": [
      "Accuracy: 0.6745539364209109\n",
      "F1 Score: 0.6767846316034999\n"
     ]
    },
    {
     "data": {
      "image/png": "[encoded data removed]",
      "text/plain": [
       "<Figure size 640x480 with 2 Axes>"
      ]
     },
     "metadata": {},
     "output_type": "display_data"
    }
   ],
   "source": [
    "# Build a Gaussian Classifier\n",
    "model = GaussianNB()\n",
    "\n",
    "# Model training\n",
    "model.fit(X_train, y_train)\n",
    "\n",
    "y_pred = model.predict(X_test)\n",
    "accuracy = accuracy_score(y_pred, y_test)\n",
    "f1 = f1_score(y_pred, y_test, average=\"weighted\")\n",
    "\n",
    "print(\"Accuracy:\", accuracy)\n",
    "print(\"F1 Score:\", f1)\n",
    "\n",
    "cm = confusion_matrix(y_test, y_pred, labels=[\"maybe\", \"no\", \"yes\"])\n",
    "disp = ConfusionMatrixDisplay(confusion_matrix=cm, display_labels=[\"maybe\", \"no\", \"yes\"])\n",
    "disp.plot();\n",
    "\n",
    "# interpret results in writeup using https://www.v7labs.com/blog/confusion-matrix-guide"
   ]
  },
  {
   "attachments": {},
   "cell_type": "markdown",
   "metadata": {},
   "source": [
    "### Stratified K-fold cross validation for oversampled Naive Bayes without Age and Gender features"
   ]
  },
  {
   "cell_type": "code",
   "execution_count": null,
   "metadata": {},
   "outputs": [
    {
     "name": "stdout",
     "output_type": "stream",
     "text": [
      "Accuracy from each fold using oversampled Naive Bayes without Age and Gender features = [0.6671074777590768, 0.6761240682856456, 0.6832992665624624, 0.6753637128772394, 0.6701935794156547, 0.678610075748467, 0.6814957316340027, 0.6754839485391367, 0.6816159672959, 0.6795719610436456]\n",
      "Average accuracy using oversampled Naive Bayes without Age and Gender features = 0.6768865789161231\n",
      "\n"
     ]
    }
   ],
   "source": [
    "kf = StratifiedKFold(n_splits=10, random_state=40, shuffle=True) \n",
    "accscore = []\n",
    "classifier2 = GaussianNB()\n",
    "\n",
    "\n",
    "for train_index , test_index in kf.split(X, y):\n",
    "    X_train , X_test = X.iloc[train_index],X.iloc[test_index]\n",
    "    y_train , y_test = y.iloc[train_index] , y.iloc[test_index]\n",
    "     \n",
    "    classifier2.fit(X_train, y_train.values.ravel())\n",
    "    Y_pred = classifier2.predict(X_test)\n",
    "\n",
    "     \n",
    "    acc2 = accuracy_score(y_test, Y_pred)\n",
    "    accscore.append(acc2)\n",
    "     \n",
    "avgscore = sum(accscore)/10\n",
    " \n",
    "print(\"Accuracy from each fold using oversampled Naive Bayes without Age and Gender features = \" + str(accscore))\n",
    "print(\"Average accuracy using oversampled Naive Bayes without Age and Gender features = \" + str(avgscore))\n",
    "print()\n"
   ]
  },
  {
   "attachments": {},
   "cell_type": "markdown",
   "metadata": {},
   "source": [
    "Hmmm, seems like the age and gender features really did not matter in the long run. Lets try another classification technique instead!"
   ]
  },
  {
   "attachments": {},
   "cell_type": "markdown",
   "metadata": {},
   "source": [
    "### Neural Networks:"
   ]
  },
  {
   "cell_type": "code",
   "execution_count": null,
   "metadata": {},
   "outputs": [],
   "source": [
    "from sklearn.neural_network import MLPClassifier"
   ]
  },
  {
   "attachments": {},
   "cell_type": "markdown",
   "metadata": {},
   "source": [
    "## Conclusion"
   ]
  },
  {
   "attachments": {},
   "cell_type": "markdown",
   "metadata": {},
   "source": [
    "## Policy Recommendation \n",
    "The performance of these models could be improved by: "
   ]
  }
 ],
 "metadata": {
  "kernelspec": {
   "display_name": "Python 3",
   "language": "python",
   "name": "python3"
  },
  "language_info": {
   "codemirror_mode": {
    "name": "ipython",
    "version": 3
   },
   "file_extension": ".py",
   "mimetype": "text/x-python",
   "name": "python",
   "nbconvert_exporter": "python",
   "pygments_lexer": "ipython3",
   "version": "3.9.6"
  },
  "orig_nbformat": 4
 },
 "nbformat": 4,
 "nbformat_minor": 2
}
